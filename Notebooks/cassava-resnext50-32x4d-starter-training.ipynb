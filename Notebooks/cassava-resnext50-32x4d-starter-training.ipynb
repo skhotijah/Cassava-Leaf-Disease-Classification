{
 "cells": [
  {
   "cell_type": "markdown",
   "metadata": {
    "papermill": {
     "duration": 0.026588,
     "end_time": "2021-02-14T03:01:19.565541",
     "exception": false,
     "start_time": "2021-02-14T03:01:19.538953",
     "status": "completed"
    },
    "tags": []
   },
   "source": [
    "# About this notebook  \n",
    "- PyTorch resnext50_32x4d starter code  \n",
    "- StratifiedKFold 5 folds  \n",
    "\n",
   ]
  },
  {
   "cell_type": "markdown",
   "metadata": {
    "papermill": {
     "duration": 0.02403,
     "end_time": "2021-02-14T03:01:19.613838",
     "exception": false,
     "start_time": "2021-02-14T03:01:19.589808",
     "status": "completed"
    },
    "tags": []
   },
   "source": [
    "# Data Loading"
   ]
  },
  {
   "cell_type": "code",
   "execution_count": 1,
   "metadata": {
    "execution": {
     "iopub.execute_input": "2021-02-14T03:01:19.669864Z",
     "iopub.status.busy": "2021-02-14T03:01:19.669019Z",
     "iopub.status.idle": "2021-02-14T03:01:20.418660Z",
     "shell.execute_reply": "2021-02-14T03:01:20.417279Z"
    },
    "papermill": {
     "duration": 0.780191,
     "end_time": "2021-02-14T03:01:20.418913",
     "exception": false,
     "start_time": "2021-02-14T03:01:19.638722",
     "status": "completed"
    },
    "tags": []
   },
   "outputs": [],
   "source": [
    "import os\n",
    "\n",
    "import pandas as pd\n",
    "\n",
    "from matplotlib import pyplot as plt\n",
    "import seaborn as sns"
   ]
  },
  {
   "cell_type": "code",
   "execution_count": 2,
   "metadata": {
    "execution": {
     "iopub.execute_input": "2021-02-14T03:01:20.473207Z",
     "iopub.status.busy": "2021-02-14T03:01:20.472077Z",
     "iopub.status.idle": "2021-02-14T03:01:20.480787Z",
     "shell.execute_reply": "2021-02-14T03:01:20.481326Z"
    },
    "papermill": {
     "duration": 0.038354,
     "end_time": "2021-02-14T03:01:20.481497",
     "exception": false,
     "start_time": "2021-02-14T03:01:20.443143",
     "status": "completed"
    },
    "tags": []
   },
   "outputs": [
    {
     "data": {
      "text/plain": [
       "['train_tfrecords',\n",
       " 'sample_submission.csv',\n",
       " 'test_tfrecords',\n",
       " 'label_num_to_disease_map.json',\n",
       " 'train_images',\n",
       " 'train.csv',\n",
       " 'test_images']"
      ]
     },
     "execution_count": 2,
     "metadata": {},
     "output_type": "execute_result"
    }
   ],
   "source": [
    "os.listdir('../input/cassava-leaf-disease-classification')"
   ]
  },
  {
   "cell_type": "code",
   "execution_count": 3,
   "metadata": {
    "execution": {
     "iopub.execute_input": "2021-02-14T03:01:20.539957Z",
     "iopub.status.busy": "2021-02-14T03:01:20.539229Z",
     "iopub.status.idle": "2021-02-14T03:01:20.869634Z",
     "shell.execute_reply": "2021-02-14T03:01:20.869086Z"
    },
    "papermill": {
     "duration": 0.363234,
     "end_time": "2021-02-14T03:01:20.869813",
     "exception": false,
     "start_time": "2021-02-14T03:01:20.506579",
     "status": "completed"
    },
    "tags": []
   },
   "outputs": [
    {
     "data": {
      "text/html": [
       "<div>\n",
       "<style scoped>\n",
       "    .dataframe tbody tr th:only-of-type {\n",
       "        vertical-align: middle;\n",
       "    }\n",
       "\n",
       "    .dataframe tbody tr th {\n",
       "        vertical-align: top;\n",
       "    }\n",
       "\n",
       "    .dataframe thead th {\n",
       "        text-align: right;\n",
       "    }\n",
       "</style>\n",
       "<table border=\"1\" class=\"dataframe\">\n",
       "  <thead>\n",
       "    <tr style=\"text-align: right;\">\n",
       "      <th></th>\n",
       "      <th>image_id</th>\n",
       "      <th>label</th>\n",
       "    </tr>\n",
       "  </thead>\n",
       "  <tbody>\n",
       "    <tr>\n",
       "      <th>0</th>\n",
       "      <td>1000015157.jpg</td>\n",
       "      <td>0</td>\n",
       "    </tr>\n",
       "    <tr>\n",
       "      <th>1</th>\n",
       "      <td>1000201771.jpg</td>\n",
       "      <td>3</td>\n",
       "    </tr>\n",
       "    <tr>\n",
       "      <th>2</th>\n",
       "      <td>100042118.jpg</td>\n",
       "      <td>1</td>\n",
       "    </tr>\n",
       "    <tr>\n",
       "      <th>3</th>\n",
       "      <td>1000723321.jpg</td>\n",
       "      <td>1</td>\n",
       "    </tr>\n",
       "    <tr>\n",
       "      <th>4</th>\n",
       "      <td>1000812911.jpg</td>\n",
       "      <td>3</td>\n",
       "    </tr>\n",
       "  </tbody>\n",
       "</table>\n",
       "</div>"
      ],
      "text/plain": [
       "         image_id  label\n",
       "0  1000015157.jpg      0\n",
       "1  1000201771.jpg      3\n",
       "2   100042118.jpg      1\n",
       "3  1000723321.jpg      1\n",
       "4  1000812911.jpg      3"
      ]
     },
     "metadata": {},
     "output_type": "display_data"
    },
    {
     "data": {
      "text/html": [
       "<div>\n",
       "<style scoped>\n",
       "    .dataframe tbody tr th:only-of-type {\n",
       "        vertical-align: middle;\n",
       "    }\n",
       "\n",
       "    .dataframe tbody tr th {\n",
       "        vertical-align: top;\n",
       "    }\n",
       "\n",
       "    .dataframe thead th {\n",
       "        text-align: right;\n",
       "    }\n",
       "</style>\n",
       "<table border=\"1\" class=\"dataframe\">\n",
       "  <thead>\n",
       "    <tr style=\"text-align: right;\">\n",
       "      <th></th>\n",
       "      <th>image_id</th>\n",
       "      <th>label</th>\n",
       "    </tr>\n",
       "  </thead>\n",
       "  <tbody>\n",
       "    <tr>\n",
       "      <th>0</th>\n",
       "      <td>2216849948.jpg</td>\n",
       "      <td>4</td>\n",
       "    </tr>\n",
       "  </tbody>\n",
       "</table>\n",
       "</div>"
      ],
      "text/plain": [
       "         image_id  label\n",
       "0  2216849948.jpg      4"
      ]
     },
     "metadata": {},
     "output_type": "display_data"
    },
    {
     "data": {
      "text/html": [
       "<div>\n",
       "<style scoped>\n",
       "    .dataframe tbody tr th:only-of-type {\n",
       "        vertical-align: middle;\n",
       "    }\n",
       "\n",
       "    .dataframe tbody tr th {\n",
       "        vertical-align: top;\n",
       "    }\n",
       "\n",
       "    .dataframe thead th {\n",
       "        text-align: right;\n",
       "    }\n",
       "</style>\n",
       "<table border=\"1\" class=\"dataframe\">\n",
       "  <thead>\n",
       "    <tr style=\"text-align: right;\">\n",
       "      <th></th>\n",
       "      <th>0</th>\n",
       "    </tr>\n",
       "  </thead>\n",
       "  <tbody>\n",
       "    <tr>\n",
       "      <th>0</th>\n",
       "      <td>Cassava Bacterial Blight (CBB)</td>\n",
       "    </tr>\n",
       "    <tr>\n",
       "      <th>1</th>\n",
       "      <td>Cassava Brown Streak Disease (CBSD)</td>\n",
       "    </tr>\n",
       "    <tr>\n",
       "      <th>2</th>\n",
       "      <td>Cassava Green Mottle (CGM)</td>\n",
       "    </tr>\n",
       "    <tr>\n",
       "      <th>3</th>\n",
       "      <td>Cassava Mosaic Disease (CMD)</td>\n",
       "    </tr>\n",
       "    <tr>\n",
       "      <th>4</th>\n",
       "      <td>Healthy</td>\n",
       "    </tr>\n",
       "  </tbody>\n",
       "</table>\n",
       "</div>"
      ],
      "text/plain": [
       "                                     0\n",
       "0       Cassava Bacterial Blight (CBB)\n",
       "1  Cassava Brown Streak Disease (CBSD)\n",
       "2           Cassava Green Mottle (CGM)\n",
       "3         Cassava Mosaic Disease (CMD)\n",
       "4                              Healthy"
      ]
     },
     "metadata": {},
     "output_type": "display_data"
    }
   ],
   "source": [
    "train = pd.read_csv('../input/cassava-leaf-disease-classification/train.csv')\n",
    "test = pd.read_csv('../input/cassava-leaf-disease-classification/sample_submission.csv')\n",
    "label_map = pd.read_json('../input/cassava-leaf-disease-classification/label_num_to_disease_map.json', \n",
    "                         orient='index')\n",
    "display(train.head())\n",
    "display(test.head())\n",
    "display(label_map)"
   ]
  },
  {
   "cell_type": "code",
   "execution_count": 4,
   "metadata": {
    "execution": {
     "iopub.execute_input": "2021-02-14T03:01:20.931563Z",
     "iopub.status.busy": "2021-02-14T03:01:20.930778Z",
     "iopub.status.idle": "2021-02-14T03:01:21.270131Z",
     "shell.execute_reply": "2021-02-14T03:01:21.269194Z"
    },
    "papermill": {
     "duration": 0.372192,
     "end_time": "2021-02-14T03:01:21.270285",
     "exception": false,
     "start_time": "2021-02-14T03:01:20.898093",
     "status": "completed"
    },
    "tags": []
   },
   "outputs": [
    {
     "name": "stderr",
     "output_type": "stream",
     "text": [
      "/opt/conda/lib/python3.7/site-packages/seaborn/distributions.py:2557: FutureWarning: `distplot` is a deprecated function and will be removed in a future version. Please adapt your code to use either `displot` (a figure-level function with similar flexibility) or `histplot` (an axes-level function for histograms).\n",
      "  warnings.warn(msg, FutureWarning)\n"
     ]
    },
    {
     "data": {
      "text/plain": [
       "<AxesSubplot:xlabel='label'>"
      ]
     },
     "execution_count": 4,
     "metadata": {},
     "output_type": "execute_result"
    },
    {
     "data": {
      "image/png": "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\n",
      "text/plain": [
       "<Figure size 432x288 with 1 Axes>"
      ]
     },
     "metadata": {
      "needs_background": "light"
     },
     "output_type": "display_data"
    }
   ],
   "source": [
    "sns.distplot(train['label'], kde=False)"
   ]
  },
  {
   "cell_type": "markdown",
   "metadata": {
    "papermill": {
     "duration": 0.028981,
     "end_time": "2021-02-14T03:01:21.329154",
     "exception": false,
     "start_time": "2021-02-14T03:01:21.300173",
     "status": "completed"
    },
    "tags": []
   },
   "source": [
    "# Directory settings"
   ]
  },
  {
   "cell_type": "code",
   "execution_count": 5,
   "metadata": {
    "execution": {
     "iopub.execute_input": "2021-02-14T03:01:21.393693Z",
     "iopub.status.busy": "2021-02-14T03:01:21.392138Z",
     "iopub.status.idle": "2021-02-14T03:01:21.396644Z",
     "shell.execute_reply": "2021-02-14T03:01:21.396011Z"
    },
    "papermill": {
     "duration": 0.039181,
     "end_time": "2021-02-14T03:01:21.396802",
     "exception": false,
     "start_time": "2021-02-14T03:01:21.357621",
     "status": "completed"
    },
    "tags": []
   },
   "outputs": [],
   "source": [
    "# ====================================================\n",
    "# Directory settings\n",
    "# ====================================================\n",
    "import os\n",
    "\n",
    "OUTPUT_DIR = './'\n",
    "if not os.path.exists(OUTPUT_DIR):\n",
    "    os.makedirs(OUTPUT_DIR)\n",
    "\n",
    "TRAIN_PATH = '../input/cassava-leaf-disease-classification/train_images'\n",
    "TEST_PATH = '../input/cassava-leaf-disease-classification/test_images'"
   ]
  },
  {
   "cell_type": "markdown",
   "metadata": {
    "papermill": {
     "duration": 0.027627,
     "end_time": "2021-02-14T03:01:21.452307",
     "exception": false,
     "start_time": "2021-02-14T03:01:21.424680",
     "status": "completed"
    },
    "tags": []
   },
   "source": [
    "# CFG"
   ]
  },
  {
   "cell_type": "code",
   "execution_count": 6,
   "metadata": {
    "execution": {
     "iopub.execute_input": "2021-02-14T03:01:21.519652Z",
     "iopub.status.busy": "2021-02-14T03:01:21.518966Z",
     "iopub.status.idle": "2021-02-14T03:01:21.523808Z",
     "shell.execute_reply": "2021-02-14T03:01:21.523251Z"
    },
    "papermill": {
     "duration": 0.04251,
     "end_time": "2021-02-14T03:01:21.523957",
     "exception": false,
     "start_time": "2021-02-14T03:01:21.481447",
     "status": "completed"
    },
    "tags": []
   },
   "outputs": [],
   "source": [
    "# ====================================================\n",
    "# CFG\n",
    "# ====================================================\n",
    "#https://www.kaggle.com/yasufuminakama/ranzcr-resnet200d-3-stage-training-step3/output?select=train.log\n",
    "class CFG:\n",
    "    debug=False\n",
    "    apex=False\n",
    "    print_freq=100\n",
    "    num_workers=4\n",
    "    model_name='resnext50_32x4d'\n",
    "    size=256\n",
    "    scheduler='CosineAnnealingWarmRestarts' # ['ReduceLROnPlateau', 'CosineAnnealingLR', 'CosineAnnealingWarmRestarts']\n",
    "    epochs=10\n",
    "    factor=0.2 # ReduceLROnPlateau\n",
    "    patience=4 # ReduceLROnPlateau\n",
    "    eps=1e-5 #1e-6 # ReduceLROnPlateau\n",
    "    T_max=5 # CosineAnnealingLR\n",
    "    T_0=5 # CosineAnnealingWarmRestarts\n",
    "    lr=5e-4 # 1e-4\n",
    "    min_lr=1e-6\n",
    "    batch_size=16 # 64\n",
    "    weight_decay=1e-6\n",
    "    gradient_accumulation_steps=1\n",
    "    max_grad_norm=1000\n",
    "    seed=416\n",
    "    target_size=5\n",
    "    target_col='label'\n",
    "    n_fold=5\n",
    "    trn_fold=[0, 1, 2, 3, 4]\n",
    "    train=True\n",
    "    inference=False\n",
    "    \n",
    "if CFG.debug:\n",
    "    CFG.epochs = 1\n",
    "    train = train.sample(n=1000, random_state=CFG.seed).reset_index(drop=True)"
   ]
  },
  {
   "cell_type": "markdown",
   "metadata": {
    "papermill": {
     "duration": 0.028395,
     "end_time": "2021-02-14T03:01:21.581381",
     "exception": false,
     "start_time": "2021-02-14T03:01:21.552986",
     "status": "completed"
    },
    "tags": []
   },
   "source": [
    "# Library"
   ]
  },
  {
   "cell_type": "code",
   "execution_count": 7,
   "metadata": {
    "execution": {
     "iopub.execute_input": "2021-02-14T03:01:21.650246Z",
     "iopub.status.busy": "2021-02-14T03:01:21.649396Z",
     "iopub.status.idle": "2021-02-14T03:01:25.860558Z",
     "shell.execute_reply": "2021-02-14T03:01:25.859421Z"
    },
    "papermill": {
     "duration": 4.250376,
     "end_time": "2021-02-14T03:01:25.860722",
     "exception": false,
     "start_time": "2021-02-14T03:01:21.610346",
     "status": "completed"
    },
    "tags": []
   },
   "outputs": [],
   "source": [
    "# ====================================================\n",
    "# Library\n",
    "# ====================================================\n",
    "import sys\n",
    "sys.path.append('../input/pytorch-image-models/pytorch-image-models-master')\n",
    "\n",
    "import os\n",
    "import math\n",
    "import time\n",
    "import random\n",
    "import shutil\n",
    "from pathlib import Path\n",
    "from contextlib import contextmanager\n",
    "from collections import defaultdict, Counter\n",
    "\n",
    "import scipy as sp\n",
    "import numpy as np\n",
    "import pandas as pd\n",
    "\n",
    "from sklearn import preprocessing\n",
    "from sklearn.metrics import accuracy_score\n",
    "from sklearn.model_selection import StratifiedKFold\n",
    "\n",
    "from tqdm.auto import tqdm\n",
    "from functools import partial\n",
    "\n",
    "import cv2\n",
    "from PIL import Image\n",
    "\n",
    "import torch\n",
    "import torch.nn as nn\n",
    "import torch.nn.functional as F\n",
    "from torch.optim import Adam, SGD\n",
    "import torchvision.models as models\n",
    "from torch.nn.parameter import Parameter\n",
    "from torch.utils.data import DataLoader, Dataset\n",
    "from torch.optim.lr_scheduler import CosineAnnealingWarmRestarts, CosineAnnealingLR, ReduceLROnPlateau\n",
    "\n",
    "from albumentations import (\n",
    "    Compose, OneOf, Normalize, Resize, RandomResizedCrop, RandomCrop, HorizontalFlip, VerticalFlip, \n",
    "    RandomBrightness, RandomContrast, RandomBrightnessContrast, Rotate, ShiftScaleRotate, Cutout, \n",
    "    IAAAdditiveGaussianNoise, Transpose\n",
    "    )\n",
    "from albumentations.pytorch import ToTensorV2\n",
    "from albumentations import ImageOnlyTransform\n",
    "\n",
    "import timm\n",
    "\n",
    "import warnings \n",
    "warnings.filterwarnings('ignore')\n",
    "\n",
    "if CFG.apex:\n",
    "    from apex import amp\n",
    "\n",
    "device = torch.device('cuda' if torch.cuda.is_available() else 'cpu')"
   ]
  },
  {
   "cell_type": "markdown",
   "metadata": {
    "papermill": {
     "duration": 0.026883,
     "end_time": "2021-02-14T03:01:25.914590",
     "exception": false,
     "start_time": "2021-02-14T03:01:25.887707",
     "status": "completed"
    },
    "tags": []
   },
   "source": [
    "# Utils"
   ]
  },
  {
   "cell_type": "code",
   "execution_count": 8,
   "metadata": {
    "execution": {
     "iopub.execute_input": "2021-02-14T03:01:25.980137Z",
     "iopub.status.busy": "2021-02-14T03:01:25.979255Z",
     "iopub.status.idle": "2021-02-14T03:01:25.986846Z",
     "shell.execute_reply": "2021-02-14T03:01:25.986243Z"
    },
    "papermill": {
     "duration": 0.045361,
     "end_time": "2021-02-14T03:01:25.986983",
     "exception": false,
     "start_time": "2021-02-14T03:01:25.941622",
     "status": "completed"
    },
    "tags": []
   },
   "outputs": [],
   "source": [
    "# ====================================================\n",
    "# Utils\n",
    "# ====================================================\n",
    "def get_score(y_true, y_pred):\n",
    "    return accuracy_score(y_true, y_pred)\n",
    "\n",
    "\n",
    "@contextmanager\n",
    "def timer(name):\n",
    "    t0 = time.time()\n",
    "    LOGGER.info(f'[{name}] start')\n",
    "    yield\n",
    "    LOGGER.info(f'[{name}] done in {time.time() - t0:.0f} s.')\n",
    "\n",
    "\n",
    "def init_logger(log_file=OUTPUT_DIR+'train.log'):\n",
    "    from logging import getLogger, INFO, FileHandler,  Formatter,  StreamHandler\n",
    "    logger = getLogger(__name__)\n",
    "    logger.setLevel(INFO)\n",
    "    handler1 = StreamHandler()\n",
    "    handler1.setFormatter(Formatter(\"%(message)s\"))\n",
    "    handler2 = FileHandler(filename=log_file)\n",
    "    handler2.setFormatter(Formatter(\"%(message)s\"))\n",
    "    logger.addHandler(handler1)\n",
    "    logger.addHandler(handler2)\n",
    "    return logger\n",
    "\n",
    "LOGGER = init_logger()\n",
    "\n",
    "\n",
    "def seed_torch(seed=42):\n",
    "    random.seed(seed)\n",
    "    os.environ['PYTHONHASHSEED'] = str(seed)\n",
    "    np.random.seed(seed)\n",
    "    torch.manual_seed(seed)\n",
    "    torch.cuda.manual_seed(seed)\n",
    "    torch.backends.cudnn.deterministic = True\n",
    "\n",
    "seed_torch(seed=CFG.seed)"
   ]
  },
  {
   "cell_type": "markdown",
   "metadata": {
    "papermill": {
     "duration": 0.026531,
     "end_time": "2021-02-14T03:01:26.040685",
     "exception": false,
     "start_time": "2021-02-14T03:01:26.014154",
     "status": "completed"
    },
    "tags": []
   },
   "source": [
    "# CV split"
   ]
  },
  {
   "cell_type": "code",
   "execution_count": 9,
   "metadata": {
    "execution": {
     "iopub.execute_input": "2021-02-14T03:01:26.105506Z",
     "iopub.status.busy": "2021-02-14T03:01:26.104469Z",
     "iopub.status.idle": "2021-02-14T03:01:26.129301Z",
     "shell.execute_reply": "2021-02-14T03:01:26.130094Z"
    },
    "papermill": {
     "duration": 0.062462,
     "end_time": "2021-02-14T03:01:26.130320",
     "exception": false,
     "start_time": "2021-02-14T03:01:26.067858",
     "status": "completed"
    },
    "tags": []
   },
   "outputs": [
    {
     "name": "stdout",
     "output_type": "stream",
     "text": [
      "fold  label\n",
      "0     0         218\n",
      "      1         438\n",
      "      2         477\n",
      "      3        2631\n",
      "      4         516\n",
      "1     0         218\n",
      "      1         438\n",
      "      2         477\n",
      "      3        2631\n",
      "      4         516\n",
      "2     0         217\n",
      "      1         438\n",
      "      2         477\n",
      "      3        2632\n",
      "      4         515\n",
      "3     0         217\n",
      "      1         438\n",
      "      2         477\n",
      "      3        2632\n",
      "      4         515\n",
      "4     0         217\n",
      "      1         437\n",
      "      2         478\n",
      "      3        2632\n",
      "      4         515\n",
      "dtype: int64\n"
     ]
    }
   ],
   "source": [
    "folds = train.copy()\n",
    "Fold = StratifiedKFold(n_splits=CFG.n_fold, shuffle=True, random_state=CFG.seed)\n",
    "for n, (train_index, val_index) in enumerate(Fold.split(folds, folds[CFG.target_col])):\n",
    "    folds.loc[val_index, 'fold'] = int(n)\n",
    "folds['fold'] = folds['fold'].astype(int)\n",
    "print(folds.groupby(['fold', CFG.target_col]).size())"
   ]
  },
  {
   "cell_type": "markdown",
   "metadata": {
    "papermill": {
     "duration": 0.029661,
     "end_time": "2021-02-14T03:01:26.189946",
     "exception": false,
     "start_time": "2021-02-14T03:01:26.160285",
     "status": "completed"
    },
    "tags": []
   },
   "source": [
    "# Dataset"
   ]
  },
  {
   "cell_type": "code",
   "execution_count": 10,
   "metadata": {
    "execution": {
     "iopub.execute_input": "2021-02-14T03:01:26.267157Z",
     "iopub.status.busy": "2021-02-14T03:01:26.265141Z",
     "iopub.status.idle": "2021-02-14T03:01:26.267904Z",
     "shell.execute_reply": "2021-02-14T03:01:26.268418Z"
    },
    "papermill": {
     "duration": 0.048621,
     "end_time": "2021-02-14T03:01:26.268587",
     "exception": false,
     "start_time": "2021-02-14T03:01:26.219966",
     "status": "completed"
    },
    "tags": []
   },
   "outputs": [],
   "source": [
    "# ====================================================\n",
    "# Dataset\n",
    "# ====================================================\n",
    "class TrainDataset(Dataset):\n",
    "    def __init__(self, df, transform=None):\n",
    "        self.df = df\n",
    "        self.file_names = df['image_id'].values\n",
    "        self.labels = df['label'].values\n",
    "        self.transform = transform\n",
    "        \n",
    "    def __len__(self):\n",
    "        return len(self.df)\n",
    "\n",
    "    def __getitem__(self, idx):\n",
    "        file_name = self.file_names[idx]\n",
    "        file_path = f'{TRAIN_PATH}/{file_name}'\n",
    "        image = cv2.imread(file_path)\n",
    "        image = cv2.cvtColor(image, cv2.COLOR_BGR2RGB)\n",
    "        if self.transform:\n",
    "            augmented = self.transform(image=image)\n",
    "            image = augmented['image']\n",
    "        label = torch.tensor(self.labels[idx]).long()\n",
    "        return image, label\n",
    "    \n",
    "\n",
    "class TestDataset(Dataset):\n",
    "    def __init__(self, df, transform=None):\n",
    "        self.df = df\n",
    "        self.file_names = df['image_id'].values\n",
    "        self.transform = transform\n",
    "        \n",
    "    def __len__(self):\n",
    "        return len(self.df)\n",
    "\n",
    "    def __getitem__(self, idx):\n",
    "        file_name = self.file_names[idx]\n",
    "        file_path = f'{TEST_PATH}/{file_name}'\n",
    "        image = cv2.imread(file_path)\n",
    "        image = cv2.cvtColor(image, cv2.COLOR_BGR2RGB)\n",
    "        if self.transform:\n",
    "            augmented = self.transform(image=image)\n",
    "            image = augmented['image']\n",
    "        return image"
   ]
  },
  {
   "cell_type": "code",
   "execution_count": 11,
   "metadata": {
    "execution": {
     "iopub.execute_input": "2021-02-14T03:01:26.334998Z",
     "iopub.status.busy": "2021-02-14T03:01:26.334182Z",
     "iopub.status.idle": "2021-02-14T03:01:26.684079Z",
     "shell.execute_reply": "2021-02-14T03:01:26.684653Z"
    },
    "papermill": {
     "duration": 0.386477,
     "end_time": "2021-02-14T03:01:26.684849",
     "exception": false,
     "start_time": "2021-02-14T03:01:26.298372",
     "status": "completed"
    },
    "tags": []
   },
   "outputs": [
    {
     "data": {
      "image/png": "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\n",
      "text/plain": [
       "<Figure size 432x288 with 1 Axes>"
      ]
     },
     "metadata": {
      "needs_background": "light"
     },
     "output_type": "display_data"
    }
   ],
   "source": [
    "train_dataset = TrainDataset(train, transform=None)\n",
    "\n",
    "for i in range(1):\n",
    "    image, label = train_dataset[i]\n",
    "    plt.imshow(image)\n",
    "    plt.title(f'label: {label}')\n",
    "    plt.show() "
   ]
  },
  {
   "cell_type": "markdown",
   "metadata": {
    "papermill": {
     "duration": 0.033117,
     "end_time": "2021-02-14T03:01:26.751250",
     "exception": false,
     "start_time": "2021-02-14T03:01:26.718133",
     "status": "completed"
    },
    "tags": []
   },
   "source": [
    "# Transforms"
   ]
  },
  {
   "cell_type": "code",
   "execution_count": 12,
   "metadata": {
    "execution": {
     "iopub.execute_input": "2021-02-14T03:01:26.826486Z",
     "iopub.status.busy": "2021-02-14T03:01:26.825585Z",
     "iopub.status.idle": "2021-02-14T03:01:26.830033Z",
     "shell.execute_reply": "2021-02-14T03:01:26.829450Z"
    },
    "papermill": {
     "duration": 0.045518,
     "end_time": "2021-02-14T03:01:26.830190",
     "exception": false,
     "start_time": "2021-02-14T03:01:26.784672",
     "status": "completed"
    },
    "tags": []
   },
   "outputs": [],
   "source": [
    "# ====================================================\n",
    "# Transforms\n",
    "# ====================================================\n",
    "def get_transforms(*, data):\n",
    "    \n",
    "    if data == 'train':\n",
    "        return Compose([\n",
    "            #Resize(CFG.size, CFG.size),\n",
    "            RandomResizedCrop(CFG.size, CFG.size),\n",
    "            Transpose(p=0.5),\n",
    "            HorizontalFlip(p=0.5),\n",
    "            VerticalFlip(p=0.5),\n",
    "            ShiftScaleRotate(p=0.5),\n",
    "            Normalize(\n",
    "                mean=[0.485, 0.456, 0.406],\n",
    "                std=[0.229, 0.224, 0.225],\n",
    "            ),\n",
    "            ToTensorV2(),\n",
    "        ])\n",
    "\n",
    "    elif data == 'valid':\n",
    "        return Compose([\n",
    "            Resize(CFG.size, CFG.size),\n",
    "            Normalize(\n",
    "                mean=[0.485, 0.456, 0.406],\n",
    "                std=[0.229, 0.224, 0.225],\n",
    "            ),\n",
    "            ToTensorV2(),\n",
    "        ])"
   ]
  },
  {
   "cell_type": "code",
   "execution_count": 13,
   "metadata": {
    "execution": {
     "iopub.execute_input": "2021-02-14T03:01:26.903663Z",
     "iopub.status.busy": "2021-02-14T03:01:26.902585Z",
     "iopub.status.idle": "2021-02-14T03:01:27.124606Z",
     "shell.execute_reply": "2021-02-14T03:01:27.125186Z"
    },
    "papermill": {
     "duration": 0.260612,
     "end_time": "2021-02-14T03:01:27.125372",
     "exception": false,
     "start_time": "2021-02-14T03:01:26.864760",
     "status": "completed"
    },
    "tags": []
   },
   "outputs": [
    {
     "data": {
      "image/png": "iVBORw0KGgoAAAANSUhEUgAAAQYAAAEICAYAAAC9P1pMAAAAOXRFWHRTb2Z0d2FyZQBNYXRwbG90bGliIHZlcnNpb24zLjMuMywgaHR0cHM6Ly9tYXRwbG90bGliLm9yZy/Il7ecAAAACXBIWXMAAAsTAAALEwEAmpwYAAEAAElEQVR4nOz9d7Rl2VXfi3/WWjuedM/Nt3LoUJ2TMhJICCySEAZENE74GezngON4vGf/7Peex8/h+fcbD/+G7WdjA05gkgEhIQmBhHK31OpWtzpXdVdXrlt184k7rbV+f8y9zy0JbNQYmWZQa4wa99a55+y9z95rzTXnd37ndyrvPTfHzXFz3Bw3Dv0HfQE3x81xc7z6xk3DcHPcHDfHbxs3DcPNcXPcHL9t3DQMN8fNcXP8tnHTMNwcN8fN8dvGTcNwc9wcN8dvGzcNwx+BoZQ6p5T6+i/zvV4pdevv8Ty/58/eHK+ucdMw3Bx/IEMpFSulflIpNVBKrSul/sYf9DXdHPsj+IO+gJvjj+z434HbgGPAGvBbSqlnvfcf/AO9qpsDuOkx/JEbSqnXK6UeVkrtKqWuKqX+uVIq+pK3fbNS6qxSalMp9U+VUvqGz/+gUuo5pdSOUurXlVLHfo+X8qeAf+C93/HePwf8G+DP/B6PdXP8Po+bhuGP3rDAXweWgDcBXwf8z1/ynm8HXgs8BHwb8IMASqk/DvxvwHcAy8AngP/8O51EKfX9Sqkv/Ff+Ng8cBJ684eUngbt/L1/o5vj9HzcNwx+x4b1/zHv/iPe+8t6fA/418NYveds/8d5ve+8vAD8GfF/9+g8D/8h7/5z3vgL+IfDA7+Q1eO9/xnt/33/lMjr1z70bXtsDur+nL3Vz/L6Pm4bhj9hQSt2ulHpfDfgNkMW99CVvu3jD7+eR3R0ED/hndRiyC2wDCjj0Ci9jVP/s3fBaDxi+wuPcHF+hcdMw/NEb/w/wPHCb976HhAbqS95z5IbfjwJX6t8vAj/sve/f8C/13n/6lVyA934HuArcf8PL9wPPvJLj3BxfuXHTMPzRG11gAIyUUncAf/F3eM/fVkrNK6WOAD8C/Fz9+r8C/lel1N0ASqk5pdR3/R6v4z8Af7c+zx3Anwf+3e/xWDfH7/O4aRj+6I2/BXw/4rb/G/YX/Y3jPcBjwBPArwE/AeC9/2XgnwA/W4chTwPf9DudRCn1J5RS/y0P4O8DLyGhyseAf3ozVfnqGeqmUMvNcXPcHF86bnoMN8fNcXP8tnHTMNwcN8fN8dvGV8wwKKW+USn1glLqRaXUj36lznNz3Bw3x+//+IpgDEopA5wG/hhwCXgU+D7v/bO/7ye7OW6Om+P3fXyliqheD7zovT8LoJT6WYRa+zsahiBt+7i9gLIAHpQC71EevK5T7B68BhuDDz0oUIVCV+AiaHczIl0xsRF5ZTDKY50mCUus11in0MqzGI0xynF1cwFVge06gsBhncIXBgBdgrLyDyXnBuR66stRDpT18mct1+m1/F35+mu4+jso+ZC8D7wBl3o5rvYspWMcilhVgOda1kPvGpQFXTlU5cA5qKxcTxhi04Cy59GBoxPllM6Q78Zy7l7FUjxmUCVM8wgzUpjS45XCBTC/MiRSFZkPUXi08nivmLqQbDtBFx7lwAcKp0Fb0IVch4uNfK/KyfX75stq+Wld/VANNg32n5mu7wtffI9MVt9L72f3uRleI3NBgTNf/DflwOQO6nuMv+HcWuGiAJuq+hrrD9XPx4XQ6WSMJjE6V7NnrKv6mEqeZZUofMeCV9y4f6ovZX1kuv4eXj7vPT405HOqvo8enSuCiUeXVp6l1nitKOYMQaekFZTsZSmUinAkc8Qm0O1NiGRhMLYR1msSUzLcbeFDT5yU5EVItAUulPM1C8Zr+W7N/Z5sXdr03i//TmvwS8dXyjAc4ovZc5eAN9z4BqXUDwE/BGAW+qz+r3+dhachGjm8kTtvCocLFG72/2aFIpOqcHiluPhuy1tOnWFSRewVKS+eOYAqFGq+4B+94Zf4P59+J0Ue4JzmO+/6PC8MVnlrPObRX7iPcOTZfqji2IkNbpvb4LNXjzLcSzl2cAuAUR6zealPejEg3oVwLItGV54g8+jC4wNwRmEjha8nsNeKaOjkAYfyepXUD87L5ByeBHPLiHsPXOF7Vh7ltug6P7vzet77M29h5bEcHyjia2P07giKEtIEnGN4/xqtH7nMt659gatFn1BZWibnX/3mH6NzXmOmHl3C/Lt2+MFbH8aiOD1Z48mtg1x9cRk9X/Bn7n2Y17de4uOjO7g1ucan9m7j0f90P91LFlPI7Mr6hrKtiAee/uMbuG5C1YsJNybo8bT+oh6yfPZcfVVBVVE8cAtX35QwPWRn9CkfW7AKlRnaFzXdi45w4tClnx3LhRLdKutxkcLGmqKtsPG+YcFDsutRToxJMHVEOwXB7gQfGtCaYjFl+1RMkHlZ5C1Flcrc8RqCKbSuObK+Jl+EYALphqd7IUdZz3Q1Yud2w/SODF/qfQqY8qhJAJUi2lPMvQjt9RJdOlTpUB6UdWw82GbntSVJL2d1bsj5i0us/lZA/5l9cufOvT3Kd29TOc14mJDmBhSsfCzEhjA5qCg7ngfffJq5MOPx64d4aOUyzis++Rv3kl5XTN48grNtFp+SzdLkHpPLnCxTTZXK3DM5fO7f/83zX+4C/koZhi+1qfAl+4H3/seBHwfo9g/7xaegbIHyGl3KwwQ926F15bGxkl3aQThxBNOKKjEc+LWAzz97D6MTFXqq0UB8dIQxjo/u3UkrLjg0t8d8MqFymvVxl/v7l7j6znNcet9xDv6m5vLrDnD0q7fRynPs4BZpUNIKCtKgJD1Rok96diYpG9c6BLsB4VATTJBdoJKFHkzBBfJNXQR4TbpVoSPFdMEQZB5nVG1UoHdGMRl2ebw4yqSKOJAOePz6IVrrHhdpwkGBKip8lqPCEKzFRyH5nGE8bnM5n2erbHN1OscL6yvMP6WYO5ejK4eNDdceWeDHhm/nzbe8hFGe7zz8BKduvcLDo9tYCQfcEe1gus9i8PyDM9/C6nWH8h4XKLxWVKnsOEHmUMMx9FLC7Sl6kkFZwZeEod46qCoAsqWQe9/5PKkp+egzp0B7qDTBbkD3HHSuVOjSoysvz1jJOZXzuFDhQi3eRsgNxla8r2jkCSYOFyn2ThhsZJh72dAONMo6zCCnmAtqL6nefSN5NspDMIZgKkYlHHtcrMDJe8pOgCkcyomh0GWCyWX3tjG40JNeU6RbTgyoh7Jj8MqgvHg2ykOy41n+eEjZibh0vEP/nMLklsnRNjbWuACyBYX7+CKmgLlCPB9dyHVqC50LnrKt+NzaMW45vMHumQU+Nk4o92LWnvNijD7ZIZ+HbF4RD2RTtQmyoQbyDHVVG9FXML5ShuESX0yrPcw+rfa3Da8Vmw94/GKBLwz9J0ImBz3JpiLdcIQTjzO1G18vLBcqijAExEjMv+DpXpDdxoaK6eUe+bznA7t3M784YlqFLOKJdcVKe8Sb2i8yqmLctyjWf+UYh36r5NPqbszRMbtXe+hOyf1HL2GdxnpFYQ1xWNFenlDMGbI8wFsNhUaVCh94Fj5vGB0BH4IqoX0ZgtyAr72LCnyMmE0lD3/urMNeSrg0d4KX27JztcYWk1vMKBdXOYpkERoDYUC6UXHh7AIfMbcznMYEn5xj6bKjfXFCsDdlfLKPixS98454N+HRF++h9ZpNAuWYMxPePfc5rtsOvzi4j5bOmbiYuU8mBLmVkEjBeM3gQpmonRd2II7Q01I8F2vFXS5KAFQguzTWyTWWYhwWogl/YfmjfPTZU5Abwl3D3Glor1fo6ot9cwkb6hDOgY0VNqq9rfpvLpRrq1Io25ogcwRjT5UoTOHReYWelKgsZ7qgMblsNi5UhGNPOAZvFC6EsqMYnARTQP8FRz6nURZsooh25frLVJFuOkzmQIFNNFWsZq7L7Npm30PmqLZixLT1xHue5HEJCbUFGylsKB5MtFeHbEb+qapZEIjRtBBkHvPJmMtrR/BrlioP6D8VEg0rbKQwmadKIXFy72wIXmuqVh2K+TokfoVQ4lfKMDwK3KaUOgFcBr4XYdv9jkNZj8kV9528wKVhH3dQMQfsjVLGVmPHIfOPB3SuiFtqI9lNTOHRpcdkFuU9wViLm19YOlcMNtHkvZCys8BeR3HxziUmpyIOpHskqqQT5Nza3eT613co1+c5+StTNu7v0LGe7Yc8t3Q2cV7x2NZRhlnMaJDic4NOKnTgcTh8CD4ANOzcp+gcHhAHls31HsWqYkeByjTti5q5s5ZoXLu2sUxyG4tLlGw7wqFgJgDT5QidW8KtAb7TAsCnEVUnQnnovaTJT6+wcMWSbE4l5tcKHxqKrqZsywIIx6AveabFEv13n6Frpnx0cooj4TaX8z5vn3uWv/xbf5KlXO5rmSo23mQ5cuIqGw8foPeSRw0nuMUeKCXeAoBzKKPxVYXPKtBKDIYTAxYNLM/urFEuaVbXdtn7zArdc5546L5oknp1A0ZjQOPr3U4WUWMUfG08dAFlW1F0FbrSVKks7nBQYbZHqMqCUuze4Vn5HORzGhfJfei/lGFDTTEXUHQ1NpHzoDztaxYX1lhQoHFGkW5WVC1DMWfQZeNJNZNWnjm+9mi82Atta+zJqRku0oRANhQPzBSeIJcXXSAhaBkBRj4voaZ4TyjxSlvroCpD0dco6+twyMGCJtoTbwEFVSrHc2G9PqwcwwW/kxP/Xx9fEcPgva+UUn8Z+HX5uvyk9/6/So9VHtYesTy2dIK33fs8F0bzHGgNOH5oi6kNeXTzGByFq1tzJJ9v0bns8DXQIlZREw5KlJGn5iKDNwpdetKNkva6uI2Lz2iuLZ7gzHHN428+wmJrzKXdPt7D8LWKA0XEgd/aYHDXAq2lCR+6cAffcuwZSqd5YPUy2/02z11aw1xKqFoOvVhgkoKqNHin8FqTTSNac2PuvOUKC/GETz13K63LhtGJCpMFdC5bnFH7k1DV4JurJ1Xt8jkD48Mpeu0IyXWJe11s0KUjPbtNuNchW43JuwavI8KRAFQ2Flwg7yu0hXjXkW5aqlbIr565lz//xk9ye3id3xjfxb3tS/zU1bew8GgACgbHNHf/8ef5wfkXeGx4nJ3JAfpnxhAGqFK8BJTCR6G8NpqAdfiqQgUyldw0Q0Uh4aDg/G6Xy1Wf6y8tcvAZK7tgjSfMwgdTT9p63laJlgUmOCwukEUik1u8BQAXg84ldlYWot1cUEHr8J0UDmZ4nciCDhuPwmImFeGgIO5GmCKkShT5nCYcW4qOIpjC+GBE52KOTQ1ZXzM6oph/QfAi5fef1wwgt3WI67nBZfdorWqMDGyqcfXCDzLQpUPfgJlFQ83mvYb8ZE6wHpGuK3SlCId+dm9a1zzJFsSD2mPuanbu9vROK6rayFWt2vhkfh9Ed/zOwf1/Y3zFpN289+8H3v9lvVfDdNFAadF43rT0Mr967h6yxYD5aEorLOjHU9baA/Qxz2c/dzvzz8oNiPfqhxNobCpIr43kLkRDC1phjTy4YFjSHZW0rgcUL8xz5cQS+aqn6lpCC62LY7h6nfBYH//EHKWHnz/zZgCuLCygxoZwT1O1PXPH9tjbaeM9JGlBkYdUkcNeTbHdKZMy4tqog9kNGB+taK+OGe/16L8oceDu7QHRnnx3k3vUSBFMBWwtU4kNTSE7aZkmuEDRvVgQnt/A9buc+XMht564yvCXjqArhYk0qpJtyxvIXzPm3Xd8nt/8sTeDgnTToT/aZuN1KYmq+OrWaU4Xqzx+9ijJqkI9sMdPPPgfuFzNs2tbnEg3+dwYgvVdfBxhOzHB9T3IC8kgKAVBgFIKMvBFgYqimRcRXB9QTBb5ax/6k6w+rAimFmVrD8EovFEo77GxnoGI3shCEkxA4SLJjHgthsBMxTsAsLXhSDc84VQyJqqyuPkOV9+6gNajL1oUVaoYH0oJpo5wXBHu5eS3R+ze6dCFwgWGdNNRthVVS6HLiHSzpLVhCXI9C3NM6WcZJ102maX9uWxjCTdcWHsjs0kun9WV4GV5z2Bqr6EJq/ovOjY7EW986zPE2vKRM7eTPJsSTCEceoquIsg841WNTaH71muoZ5bxATOQcWYUCjGuM2/lFa70V4XmYzEH8Xdf4w3dXV7YXWHaDUnCiqc+ehvViYx2JyNrheTWsDtqEaxMqc62iQYeXTh0ISkinTvKboC2AvJ5BeGwnKU8zaRAVQ6dB4S7kK4H5Isxk2WDLsFc24VOh3hjwuEPBygnKT5dOVyoqTpgI0/Z1mxN51EtjzeeIksI9xS9DQEVN9UC7bvX2d7sYg5knFrbILcB21fncKFi5/YA/eAee9faKKvoP61nkwbqHS6HqiWAZuNSb98VExw/Kl7G1PGutS/wY7ceInxSoXYlVeYiSZ31f73F6197ll858haSXUU4cZRtw5/97J/h19/0LzEKHpl2CJOKN7/zSb536RF2XYv3b9/Hbz12N9HyhIMv5IIb+Bq8atKuTWqwLMWLCAJUEKCiEIwWw+Ec/Uci4oEnmHrKtiEc2zrmrWerZt+DaDAk9SWxu6ee+OJFta94bCwp5bKjSHYtqvK1sdFkB7uMD3nCpzpUqccmglXkc4rxQQnm452QztUIZSHeNrQve6ZLEI0d+XyArqDoapQPCSZOwGUjC9tMHdreAJjWYU7Z1uL9mNoLMsw82lk2BShbSq7lEIRDTbrhCabMPKf2RcXjv3IP01XHkXvWueghfTolOwbJFkzW5Bmkr9lifb1PZ13P0uRoMV66uMFLaAxD+ioIJV7pSNOCymmWojFnyiUefuZWjh3fYDuBzudSBqdChrpDuB1QLpdQaOa3PeHEEe3kmN0JOEfQion2QjES01JAMOdQ01wQfeugLNBhBN5hgoDguYJWnqOCAB+FqDjGbI8wSsnnA4NPY/IjoimirCferTjwKfFY9o6FTA54qo5nHMPCs57OBc2l1T5HDm5zvLfFucEil06vsLTrufIWw2u/6nm+f+URsntCDJ6/3fkuDr0nINksMNMSlKDyw+MpW/cp7OGMuU8lRHsem8g9W/204l9sfwtzVz1b93m6v+bQ1pH1QgGsCs/T08Oz3TccSWwfPN2h/WbFU0WPUFn+zv3v51C4w0PRkB8+/608/vDtzJ+BvdvbhIOx4BZRiKocPolQlUWVJX7GXagzEUaD1qg4lgXTSuisW2y4HzbZSM+QfPQ+ci43Vq6zTBWmhGAsnk/ZBhdJ2OgiSQ2Go4rREckW6KJOd2pNdnKRvROS9YhGTngIBmzq5QR12FZ2YO+kId7yLD1pSbYLylbK6ICp8S6Iho5w5HChgIW6kuyMtl4MWw2GulhRxXpm2HTlKVLF6Og+b0VXEIwV4UhhU4i35TnmSxXhyGBymCxrqra8Nxp4dKm5vnOQ9kTuQbFs8aEhGEsKc++leeKBnFdPqDMPzAyqD8BpmC4rqranXChf0Zp8VRiGvAoYfnKF3/IrJNueY5cqXLjC0VFBOChYfiKUh1qW2FaA157kyg4qr1DjKb4sZccqK6isoOXOQhCA8/iymJ3LW4eiECMBs92OqpL4tChRSuHLErptJqeWGB0MwEFrS9xh8UbEFe6sW9Ltehc4qCjaEvvavYj7brtCP5zw+fXD6Exj373F37vtI/yx1jlCpZh4T+YVD5y8wHVzUtzTSYEPNOffNc+Db3+B//vAb3BrmPE9a9/H6N8fIhx74h1LenFI50rK9h0J3/O1n+ZDz76ZzuWKKhHQLJ8zdExG56Ls2PFWxnSpg7LwG5OjlN7wHZ3nKIGLVYtv+MKfZvTIMr0NiU1BQFycx7VCzM4YZV1tAMRA4BxgIK5nY1UJcWeuQ7nUwoaqdmedpCK9kG58IGFDEz5ISlK4Ci6AaOSJRgIG5j3x5hrgcfeWiHASEu852leFP1ElhnwxoehqwhEUc0KQmy3WQsISZzymUiRbnmTX07qWi7ehJH25c69j4QktsbkTHKDsBKRbVgheTkIfmxpsLHG9tuL1lLFm/McHjLdT0nMRxWqJaZd4q7CDCBdqgkzVxmjIzltDgssJwZQZKSm/e0rwUkLnoicaSOgwXRWDFm2ZOptSY1BzFVUVYrJ9fAYEvyhbcj+LHkyPlYTdHHaTV7QmXxWGIVxXHH3fNioXSF7lhbitWY53jkDrmctKWO/seSF/L+tZHAT4TDwDALQRhLwe3jqwVgxIkoiHkEQy2bMc72uX2WiIQtzaPPligo00wUSscZlqxgcl8+EV5Aue6niGUrDQH1GcXWCaGWzqWTu+xcF4lz2b0kszvvptZ3nX/Oc5GOxxtmrR1QW3BpoXK8czH7uVEy8P0MMMjMbHIeWRgn9+9L0smTbWp/ziqZ/lje/8C8y/t0XRMySxIdiaoqqE7+x/jl/+hvvp/LuE1rUSk8tC/Ne/8M0sDqwAl2lAkDnyBU3pDV+VvsyKafHPdm7lX37gG+hcULRHNVruEQwHIDBC3KmsMC+1kmcTBrNnhLXyHIIA5nvYdsR0KfoiF5qGAWr8jAmqnBfXVyuqUDI0suN5cFB0NNnSPmu0dW1/VxTA0GAmFT5QlC09I8YlW262W6NkF3YKTKYIJ9C9VJFeGqJHmRiQKASV0j48pDjXJ9rzBLlC55Z0w+Fq/MpG+oZsiWQN8jlFtqCpOh7jFOH1EJt6wo6A0q1Ozjg32EoR7cHiUyNUVtHqOKKXE0wh/BxdQvx0SjiGoldjMYHCZGIMyr5Yj2CoiXYVugyFxDTnsal4JMm2p0pg96ty2l9ICMeSEVs5MuK6v8F6fBnjVWEY1DRHXb4u+fo4qvPhGu8c5Dk+CITgA7heCz2YzPL6Kk1meXOcuLfKaJmkRkNe4H2ATgJ5LTD4wMg5G/aeMRIfa403Gt9OcHFAOBC3NfVCAdZZydyZgKoTEYxLXGSwiaHsGorOIouRIp+H6oExf/+29/FUdpg3p6d5R+8p3rv7IBfKRZbNkCPBhF8a3sP3/MI3M/+c49ilKTYNKeaTOvUK8w9HfN+R7+XFMwcIBgblIBgq0s2SqqUp5xLCnYz50xl/+4f/Z9TrI8LBFDSUrYDk+pTe2Q4uUDNDYWOFXSr4tvY5PpEt886H3030RIf+liccO8mLF77miRh27+rRf8aji0rumapTklkuhlYrMbCZEJ5Ut4MLDZNDkl4VopqaGYIbY95m4ktqbT+15zUUHYU3hrwnoF8+7zCFYnRYQgr90B7xByW0mxyI68+LpxRMLVXLMFkOxAuJ6vM62U3DgSfaKcCBDwN8EuLigHTTod43RzRyhGNZhMV8hKq88BfqNGBDhXchTFY1ZdcT37lLOUjo/6po2SrrydbbFG8d4D2k5yK6F4RVOTmYYuM28a+Jx5TNa1y4b8T27i5RiWxuvjBg9xe0zjSqFL5DOBRwMxpCtuRJtsQzbG1U9L5ri7/4xo/yo59+N96DVp7bD1znpVewJl8VhgHv8eMJaIOKPFQVflgvWqWFNJPEgh1c34EolDg2lXhWAX4i71d1Kq1Jq/l+RwxJ402E4nVgnUyMKJxdRpOjV5XDjHJsJ0aVslD13kRQ714LbxSTgyleS0rUTB3VomH7IcfyZzTBR9v8pat/FrWSEQSWd5x8nkuTPhfG8/yn6RvY/sgB2lc9rcTT/wsXeHF9mQM/ExPtlphxyfC2LkVX8XeO/xqnbhsQKsXTRZdz5RLv/6Z72fr7x3GRRllLvhgyXjEsPGfxRlGlRmoCAk2Q7afDlJXdmUrzHc9/H9c+eoj2Tp0RqdNvNhJEW1kv4UjfUPUTgp0pKgzwgUdlNdhIhS9LvJWQTYUhPgoZ3tajSpQwC9X+hG8A4MZtbkC62c5e/6xagFIUc0o8so7Haw+Z4uhbL/Dy9UXUcz3mN8XYBZmnUpLRERKSIZ8z+0zFGGE4DqF7yZFeL9ClxccGnwSMj7ZrUpKnc7XaTyPXhsq2tIQNsYQj02VJI45vK1haHfCXbv0ob03P8s83v4ZnfuxO8pWU8YGQsgv+Cz1UCUvPysY1XQ7rbIUYmdFRD0cnHFra5fuPfJYvjI6wGI34+dMPkW2l6KnGdSwqsvhxgKpA2/16iHzVkW4qwoGapU5V5bmlt8np7AC3H13nhRcPsr7TJV5u2FNf3nh1GAajUV2xtn5vID+tQ8U39EHJcjEISSz/L0pBv7UW45DEMwS92flVlqMGI/lcHOEDA1GI1xq32MVFRtJcHvQ4rz8rM8KHBp2VqMpRLLaoVlOqlmZ0UJMtetwtU+xOzMLjBpQhHniOvddh8pKiF7B3SnNwcQ+jHR84fTdcSFn9nMNkntaSZ/iuIe848TxnR0sEz7ZRrsRMCvQkp3Ut4trrY1bNiBK4UoW8VKxwOlujHRS8fDRi/vSU6eEuw0OBsPpGYhi09VB6yl6EriRT4RUU3RAbK3rPhgw/c5DUiEEwZWM0PMluXQMyrSjbAVWsJAWqa5AR5L4WXrgLicStfq5Dsdjm8ttSggm0r4gr76hTjTXIaMoaBISZUfgiD6LeHMtWzRWwCp0L3ZyTYxaTMaf3DnLgKalRKTvCVqwSRTWviIaSfckWhNQkhk4yGN2Lls75Cap0VP2YKjE1BXm/1qXqCR1f1VkFb8STaYxaMJXrHd9esLy6x+Zml48tnZK/acfg9i7Ky3mzFUmDrjzqKDoS5iQ7FmdhuqgEsF6sCJXnytYc/+TZdxFv1SCm9nSG4lFUbU22piB2+F5JAeQ7EeGexhSK4TEoFypan5aiO5tqPvn++/nNowWdhQlht2Du19uMp61XtCRfHYbBM8t/o7S4qGFtFLRCab3vJUQhapLJQjdaYt8mr17jC344lnAijvDtFOIIlwT40MhD9nJc3yDiVT3pAyMhjKktsJXjKucZHA3Yva+it7ZHWzsGwxYrDyvmTo8woxwfCDagxznDI4uoEi4/u0r7kubEw2OuvUEJgWW1IuhN0VbzwZfupJiGtDMkDTYtUeMp4VWPciucrRY4Huywbnv8w8e+ifbjKe11x+ILA6puzN6JEJNJGBAOStCKoh8S7lVMDgSYwhMOKoq5kKKnsTGEI1mJwXT/3msLeU/T2rSSlrT7pBqd1zUR1qGKUsDdPBcvzlr8fI/RbX02fmDK0YUL7PxHYcI31aYN/TvI3L63UKcjm+I4FzCjBYOwFEGMQ7Ilqds91+KJp+/klk9m7N4Wk/fMLM23cycsPeFJtwR0bchQygnvoX3FkWxVEvr1Iqr2DaWaNStQV3Xdhq6JQqmkASerNZ9Cgzee/FAheIlXMAz52KN38diRwxzt7zI6rAlHHhsplh8VANVrxeiQJt5pir7k+8S7imgvxKYheIgL4Wno0lN2JHvh7h3SSgrsJMaut9BboWRnQk95uIBRQLxp0NcNVQrxnhQVzr/gyK6HlN0+1WHL6Jii/8Kro1bilY2mGKcohVHX7chCL8p6twKMwbUSMGpWtgrU+adKwoPaeKjI45OYaqHNzp0tXAjdi5XElh5sK2BGOw010V4hMXJl8VoWeNUJUaVDFxaTVXQvV4yPGga+S3ItIM7Bhl7AOMBHAdlSQnGyzfxzIzqXImyqOf+dFYffucG98Xk+d+kIJxf2eMPiOQBOj1Y4u7OIyxOZrAe6mLmUYG/KD3zDx/iqeJtQaf7m2a/jwC9HtC8OMdsjqpUe44MRweSGBZxV2F4kWEIiqHm6UaJLy+Boijf7BV+wn5dvwggX1vz8oi47VoK4q9KipoVkfEC4CyCZm26ba1+zRO/dV/j2pZf52U++iZUbeAnAjNnZoPde1+Qlo6ToqDEKdYmwi6D7ghWyV6goOpoqURz+sCVZHzI91JZ6gwSqNgxOVbTPBVQJmKllejKkSvbZieFQUrc21ZQ92VVdqGYl9Q0dW2ogmHkwynohRd1WcOuJa5y9soTLDTq2xEnJ3ijB1BT86ek+57bnmT9ra5alnVGobSQ1ES6E6UJA0dvPvsS7XvS62adAe6MY3VnwulMv88y1NXZfniccKeKsNqaRxx/O0VcTYbZuiSG1UfOdPdHAoqymc8XTO6fJe1J38UrGq8Mw1Ei3aqVCnlEKn9S7vRa3HsAlIWZc1KmychZGoBXkBWiNm2uzd3efwXHN+JaSzvIe00kMH0voKpmc49WQsiOc+wbpjgdTXC9GTXJUXqKSgHxJvJZgZDG5Z/UzjmDiSC9t7dfUG0W+1iWYlLSfXafVSlCjKTt3HGH7m6Z826mnuat1hdck5/iRwfcyKUMGVcr7n7mHu45fYTBK6TSkHw9lL2R6IOE9/+qt/Ip+GybzdK5U9M5uScg1nmKTBXEzW4rWhhBwdu/qEg8c4ahCVTWeAJidCUHWxoXM6jRspG6I+2v2Xa250CxQUziU1Xit0dNcmI1aY4+soCcFjKdc+I41vuG7H+Gre6e5XvXwicMFQV167OuFL7tx0dYz7r8L1BeFEM7Irly1oHe2MSxKwiOt6F7KMeOS8YkONlIkO47pkqZsw6HfVEyWJRwYHo1JduvPa4XJPeFE0pY2FkqyuoF4RHPuZhXUaUthXyqSHc/Sp0OuP3WEdgAn3/US8/GET3ziHvxahk887cua0fGKzgWpygwmnqplKFsSPpUdJanHnhLvI4RwJEZBV9T1MrKgdx6o6K2OSB+d55kXTxFMoaMh3fRM1mr245zCXUronYXRMSE0BVNPuuWoUk0wdSjrCWv5gmDqiAYSHr6S8eowDKh9LkIUSVrMeXw7QGUVKreoLMdcnsyouAA+DvBpBNaz+fp5qZi71aJLOHLfZd7WX+exzcP80O2fYvOeDk/tHSTQDpO32P75w0wemDIqNcMXYxafWyTarTCdWFKY3hMOBOHW1mONJxo0223tsVQW2+8Qf+EcqtPG9Tvkyy3K3oLQXC+lvPfaa/nAWKGsojie0Z2b8onLJzlxeIPzO/O89eSLfObJ+4RYk1UoZ2qyikEXnnBYEQxzXC/FBZpAKWwi5dzhRDNdkMKaeEfSXjYOCYdWFnpumdw6P6s+lJTh/l13BrRXeOUJJqKF0BCQJisBykI5n2B7EWZSoScFepTho4Dn//YB/uU3/ASnwi1+eu+1/NK5+1ETg433w5SmGEp5VZcjq31cQcsPG6sZ8JhseHovZ6y/KSUceOZPW9oXRlz45jnsPRZ7Se5jtCNchNEbp+z6Ft0LEqPsndTYxNO5IASnRjej0cDQti5aaoqbGipLrWEQjC07pyKqVNG95Mj6iqKnGN+bsfjRmEv/8STJn32Br3vrE3zo8/dAy2IyTXpZCvyqRNdVlVIV6UJqzEHNyrzxUHZvrPORaxrc5ph/IiAazhGmXtKidRpzsqqkFN8APUivC5ZiJnp2/QDhyDJdlLR0OJkptpDNG1T/S5RufrcV+WqQj58LV/yb2t8KUYhqt2TReY9vcuWNF9GKpUAqNFSpoewG7N5mCEbww3/5PfyLF97K3SvrnB/M473i/qXLXBzP89D8RVbDAb+xeScvfPIEc2fESmcLimzZ4ToiILLyaSNsyj1Je6lS8vYu0LjYYCMtdOtAEW9mmPPXYGkeipJrX7tK2VXMnbW0rk7rlJYmX4ilJiDSs91y+w6NeWCPo/M7PPfiIZY/GdC5WhKMhL7tYiNpS9vUAEjs+IZ/9wTzwZif+HffTP9Fi8kdRddQdMTtj0aOvKdZeHbMdC3BTB1l17B3UkhCnctO4uekIRfVbn5Td7At3obXiulywMbbC3ypCbYCkm0BAruXLYMfGDC63MO3KtQgpHVF07nkZmXR4VTwGRdIirThfexnKOR8vtau0JXsfK3NChzEWxm7pzqMjogVC4eQbjlRRKpDAF3uH2PrdRXx1ZBwCL3aSDQFS8r6WS1CU0fTeEwukArEcOJn9HdvYP0NmsUvyP248D2WYwe2OPfyCoufCajairU/fp4Xzq/RfzSWBQ+EE0/7Ss74YIyu9kvBi44Yi3go7ys69Xeqy8VdKIVgQSY7fFlrYNhIDEOQedGMCOTell3xhILpfkYnnHiCqZuRxvKeGAyprpRSbBspHv/Jv/mY9/61X86afHV4DFqhFudnngLUO3IUUi60KPpSBTc8Yij6nv5pP0Ojx0cteqp5OV+mHRc8evaYVD8eKPitQYs0KbmwM890EnHrgY1Z0ZLU6MPkmEMlFj817N4Bwcgwf0YsvQ5UPVnkoehSahGKrqF1vmD6wFG27o6oUijmHXOntri2uMjx9yrMaApJRLJZL5KoJlxpRTCN2BnNcSGco2WgeylHF7VsWimuoNnL0JMMbzTjO5ZwoeI/fOrNKKtQBxzRnqa1UU/saa1BsajFRZ2WQILJ5VheGXHZA5lIs/iaOkWYirCIC5TUAzkR/jh6cIvYVFxf6ZB9foHsZMX0jTmR03znmz7Ln1x4mA3bZr3q897N+/ncI7cz94KicmpWRo2HoKpBXN9wAJo4u57kmSeb12weCAkHEK4EKAfd8/uApdCb1QynkGyHGLaFzwX4OstSthogkZm03kxBqtZI8FbK3ouuQjlF0fGYgpnak8lh6z5IN0KOrm0wH08ojm6xPlohva7Y/YkjLAeKdKuaGX3lPPlCuC80EyjxRAo/Y076QBFM9SxTo5zoROga98h7+56EaryqBgOpq0qnK5725fq+Tj3TRS3zuQ5/TOGIRo6yTrOqrBY2mv5hBB+VwnVT1ERKZ6cnF8gWA6pEsXcrmEIJyWV5gr+SzHa8qq1mBJDL0z5FZfC7EeFAEQ5jqjRi1PG4RNzjl9Qy0VgxWVHkC1C1PKZX4LZjktUJ5myX6arj6rKifSmmc8UR7VlcpAiHVuLUuoR3dNsc23cELHztVd5x4DkOhLtYNOUthp/7zDfRnhQoa9HDiqqfMjkQE0wdwVh2+v5LIrQR71TippeWqhNRtQNJmWU5PjBMbl1gvCaVfyd/0RIO5B6paUm51Ko1AgLyOSEKRYMKH4p3Y7KK7HCK8rJDNQU/s9te7+SNQIiNZEfWXth0obEUzrDaHXL3t55GK88vPvkQC+9L+a3WG/kv97yB+OCYP3bieZaiMbbtGNxqaF9UM6ERalf6Rle+bAnQZgpfi4uIHqLJ9+N/UTGqsxZhfZ3Wz3b7G+sVxPgJ5broSd5Tlx5Ta4KaWsPSBczAV2+g6IvnkS+I2x9vaxafsfReUmy+sWJ6sOLitXkuqnnUeszCs0rEYaZetDiteBphXol32DcSPoWy+ejSk45c7f15vBPQ1ddFccrXRjKSgjAbQzT0qKq+1prJX3TlO++dsvROG6KBWMvG6JVt8YJM6SUVH8ixVU0KbkDmVzJeHYahHte/do3d2wHtsT1L75mQcAS9r77GfDLl5Y8eR1WS51UWskV5sOrQlEfOHccOQ8xiTvJUSmvDMVnRDE8oot2AYApF1xBMYP5brnDx+jxRXBGGFeNrCd5D9ZohsfbMdybYx1fQlWd0KCCq3UBB70U1p+hqgjG848Bz/ND8Y6xbw8SFHA6m/H/f8c2c+n+81AYoRbA9prc9xhsDRlF1Y5Q1BHX5sW0FWALCQUG4U1H1E+xSF280unAsPTGqqzvDeifWBGWFTSRuzHu6zvvLLukiqWT0SqjCyWadjVD72YKmJFnAyHo3LesMgRcpsx89/n6+JikIleFqNeJj0yMcff02lx6Yp6ULEl1yMVvgvZ97kPbLAWsXpZ5g76Qi3q4fao1vzrQHC18L7Mg5g1wWu6odRVHpEmPlQmYUZJPvGwUAIgltmnqLhjdhY2opNkXVrr+v30+LNsVYLvRUqSc4NqIVVSKu0+1RvhzSXq9IPqgZryazjSCYyLU2mhINkArgA03VakLFOjSqn4euPcCyFwilOtwX6BGGZyMZJyxGXUpoIAxQeV848mx+XY4vNeFIwgRvFGUIxdv3MJ+akzlaUocZfnZPpEScGXHryx2vCsNQ9EMuvHOB+a9Z563963zmyjGs1YyOG3ShuP78MpMTeygr9ffFnIBaPvDYtoMsYHl1j41hXxSPNVx7vaZcrFCZ0Fn7j8jkzOfh/MvLLH0mYO92KAPZWcwTXfJ5z+GPVCTXPbgh2YEW22+TApb+mZol6KFqabSF9rrlF37q7Wz+QId/uPppQgWaFu9642M8/5OnIBdlKQA1GEuKL40xgWRTbKzxkSbcnGJbETjHy98xT3lyyskflxWcnN9BFSXu4AI4T9mPBYtIJWOS9w3ZovDkG95F1QooW5rWy1OqpEWQQdFTBBPqCkBmk7qRFsNLnOvqakibeJ7KjnCuyDgebXB/pOibCcfDTWJ9hM2yyw/1n2TDef7UN3ySbdvhL//yD3LwUxbQwhGpqcN5X8K2aOBrTMHfQC/eD23KlrjWjSvtnXg4ppBF2Fy3M/L7rLy+qeFqMavIlLCl9oZq5N8mcuxkU/QubOKpyoBivcXIK2hXVKlIuDX3oX+2pOjIszCFm2l22kSqKoPcUaaabEHTXrczGng0spipo+gH5F1NkAumYGPxDqp0H/z0CsKJqHgFmcdkomdZplLtuXOnqKD7z/QJJ2J8i65i+2sz/tStn+c/nn2rKHVVTbgo1wVqJhzTZKm+3PGqMAwuhsmtBT2vuDrt8V23fJ5BlfDZ//w69k5ohrdYBhsdUg/br6lAQff5kP6LDm0V4cCze+sSawOP1ynDowp7ZEorLZhstug/FZLNiyXuv1TRuWSYrChWHrXs3mY4+PEx4dVdcI7y0AIv/E9tvum1X+ADT9xLf2WPh157iY+s3kW0YUivK3H3rKT/Opcd7/3Ya/nqd57mG1rXATgQ7fHhr5vj4MdHmEEG1lEdWiS4sg2BaUiEmMySXBUFaLMzxocBx39lD9sOqdoB4bAUEdZWim0FmMyiC4sq5QBVSxSUgwzigZvpNlTdQAg9aYitQbB8XnaNdEMmt6t3b+UhmIorWnQkAyM5eM9/PPt6Xrt6kXuXLzLxnq6eUmA4FG5zd3yJ/9/2a9mpWvz9lY+zrbf44W/6EO+59378J9dmykvKSrqtAR+VFddX1bqIRUfNJnQw9bKb1260C/eFUUSngZmBaNK7LpJ/Ohe9TOVqklIMVQJV31MeKgjTknIjhV4JPkZbKVCqriQkJ4Zko5jekzHR0M04Be1rjryWdROhV/Hwyo6IsVSpYnxAsjfJdl2SnSNivIliuhjNPIgyVbVxklCj6DvCoVRyxrtiLJ1RgjWF+4I1KDj1xnNcGfTYua2geyGYicAc/KWIn7nwVvrnYFoXm4Wj/SxFI4rTkLdeyXhVGAaMg1Kxsd3juuvx4rUllvsjyp6mfcUxfxrizQJdZei9iVRYhgY1zoSN5zzpGTWjQi88HuJ+vSY7FSLX7UNZkD42qNIy94yFQNN7UnJrbq7N9GCbbN6w/Iji4+cfQh20TPOQRy4fg8jhQ8PoqCccSvooyGT3mn9G8bej7+NDr/8Cf23lw7yr+yTPf8caz1y/h8UnKggNZpRTHl1COU/VCrGJJhxWTI72SK+MUFsD1GSKDgyuFc6k3OyBJVwSEIxLYUYWFT4KcKnUeJgCgtzRPTNATXKq5S7FfMTmvTGdqyHtq5ayrSk7nmDclIszc2cbt9fGENQxPgrCkWZ7s0u1bEiUZU4bWuGUf3T9qzmSbJOokg+vn+L6XofXdV6m9Ib3XLqfqxtz6K4XUs62n5F5qKnCN44mjWhrgVydi4YA7JOevPezvgjuBsVoXaoZiSkYMSNHVekNtQ51GOOtQmuPWcixmzHKqdrFViSboNd79CeeaOBmCkuNToR4VPspzobebWPBNBoJNQEuFT6Sxe+1cAiqVFMlUsDlapzDGYj2xCiEA9mwTCEgbMP/sLEmWxSW5LkPnOBt736M92/fg1ci1xeOxXitPWwZHTQzybmmjL3xEGwkIjLR6JWBDK8Ow2AV0WZAfDrEZNC6bkm2Q+aubkkFpPP4ohBU3ztUGM40FLxz4LzUVViHqhQ4j5nWvQ6cExr1FEl9TpSUbFuHj0MRcalZlK2XClpmX6dLKNRaCm50SdmFbDEgn5MbH44FNQ9yzeqnFZ+69CD975nyvy0/zF9f+w3+5p/ssxEcJh54ypaQXbJF2SnTDUi2De0ror/QsDbJC8yeQhchNjb4UFKlKDBbI0B2RZOVTO5rE+95eqeHqKzEzbUo+hF7J0L+yV/5CX55+yGe/qf3id7ARHbphiHXKP7YmplYtUSWvUnvVansME9sHOQnw7fwzXNPcrZY4SOXbicrQvJJiLeak0ev86/PfQ0XLy0SXQ1Jh9IwRbQL9lNus3Ql+y50k7psAMTGgHhVazYEghvIsdSMQWljyJag7DpaVzVEzIBLk+/H7CaXcmRzNiJfClCVIsxkV228l3TTE+/t97bwhi+SoGvk4L1pBGpFDUlZCIb7Ai4N6NgYWmrtCQFZ65+5hEqqxjyiPQFcm4pWaXZTL4kIpgcc0a6m7DgCbVG7oeAclSeYWsquYbpo2PmqArUTEu0qbFdCxiY17gL5Pq8KMdhXOsxUsfqopX1uJNyBskLVbDs3mc5EXps6CowRJp5Ss34LhIGkO0HQs5pe7eMbREUaToT3+3oCN2gD4CoR9iwrMTaBwbcSvHOo0mIGOcll5O9GzwxHmARU3ZBooHmf+ip+5YH7+HsP/Bp/5eiH+eX/6TV89LnbRWY+MxB4sBIG5POa6WJCayNi7mmLnmSospKFkIaMjiR4U+8oucPMtzF7U7AW12+z8EKGGRXocUa11KHoR4TDir07NceCHb594XEe6z8ADuZedOR9Xetjsg/0BaJVUHShdV0WAKXHpo6kU7C9PsdngmPcll7j167dy+7VHsl6QBB5yqWK68MOk3M9Ole1gIH1Lu1CBSGzbIB0EpNdVle1l9DwGwx1zxD5riCoOlbeX/aU7LpTAUXz26ek7QLjwZybm+EIVVvOYx8cksYlk6fnawBQEe3Idw8mEO8IoSkaiTR806tEsAjBF3TlqWqRWteIyDQqzlORojd16lQyC/vzqNn1caIW3VSaKufxmZqpRIUTN6Mqew2qEu6LixR7t2rwDnPfHsvtCe8/fTf954QNqpyn7BrKVLP5Oscdx67yUrqEe7kjqtn5PlekCbuaJkJf7nhVGIZwWNF5YUd277Kqi6nqG92URSsFSu//33mIRF9BQotamLRRcUpjfCtGZeW+MfiSoSpbC6NEYiiKckamEmlwD5UVI+4lhahyyQH5NEZnBT4w6NygC8mDHT1nyR7v8A9f8z2svf0Sf//kr3J/9yK/ePEhLp9bqr+wpK6yFUe+IDGryefoNAXzDiaHUq59lSc5MObk0hbPff4Yt/20x7Vi9HBCORdTzAWofkg4SgiGBfG29KHwOiRRji3bIZh6ieNHMF2tc+AAuvYc6t9nhUdWylF82/KWo2d5snWQnWGLHz/9FkajBDMSdmHvDIzKkOpKn9ZYFhzUWYS0znQE0txFV4qm+1bTlKfZgaVL0r546Qw3qONor+VZBJngDlUKaj3BjlMBUmNwbfZZhomnGEfEUSXqzH1HuKNJNqVmIRrLPDC5m4HJ2nrRXUhNjebLDt+Q2Rr+h7Swg6hWd24wHVPWvJqWhDLR8IbQYsa5kGyEKbyQnXyN8VRSxzEDIg3s3mp4zTue5fJ4jrkoQyvHNd0l7yvcZdnMirZmuqT5l9/4E1woF/kXe2+twwzhZPi6tV8TnlTJvif85YxXhWHAeVRe4sdTyHOIY2jV1OQgEEMBIsrSaDcoLZ6CUlJD0HgFjTcQR+jhlKYy0CeRYA5lVYcWuYi2tFNUVsgCiUIxDo1nATPjQFOtWV+yquysGpOyQlfitajxlPSlnKNXY7LHVvibh/4ie7dBcNuQo78mkyTviWBt4/aODopgR7jSJrkimEh6ZUr/mQ5zdwz5vgOf5dCRX+cfvO/PSuOS0ZRgWKArJ1ywvBKWZOHxgaZ3OuDiN3T4Bz/33YQHFf0zlvRaRtFpfVG60iYNv2Bfzs1rSXEeOXydb134PLe31/ng+t28fGkZRgGmUuBguqKI6gKgZodyYd2LsvB1YdJ+OrRJlZamdsMnHlMiRqku4irbkmIMJlIFWrYVRV9c8IZrYQrQ25LlcCG4N+/RikoOdAc8deYwyaWI6HLEeDMiyBXRwJBsepJdRziuhWMDKSc3uZtljXzdClHStlJ7IXUHkoY0hehANs2O8q6ZAZ35nGA1VSrhROMdNezSsi3HDce1l5JLLxQbCwW9MUAmd2SLAWUb7u1e5kCyx3bR5szeMuW1FHf/hE3dolcTv+a/5Qrr1Rwjm1B+bp65DeFYjFe1SMb5GrC9waP5csergxKdrPmvWv4eWehxJKFCGKCyfH+Rmn2utx9PxJgYDWE4q3BEKaFRay3uftNGzdTFVrXqkI9CVC3UoibZzGvwoehGqkkmhqRe6NSLfkbRDowYkCicHRPnBc+II8EwQH53Dq81BJqqG+MijY0FeNSl3VehjowUiNWhlOsm2E7E4GhC8e4d/u19/4G/+r/8VdoXpzPugwvELU0vDWvZNIUeTsmPLrDxQCI7XOZJdhxB5mid3uLl71+jte7303iJmrnz0Z6QkiYrilu+VdyXxXjMXplwdmeRxfaEc9cWCZ5vEQ3304aNtHqDwFetGyjJ9U6oqjqmLtgvx0YyBy5UdK5Yui/sMT3WZbwakC2pGyoGAV9fXwnZsiLalRAj3vKMDwmCH46ZZXxcCMm2J6zl6sKhxQfqhgrS2u2vKeCiObm/qzYNlb0CF6uZVHzZMfX3FtxDgEhmpeTBxJNuu7p5rrAZm05Y6aatsQQ781BU5WfsybJr2HhA074E48MQ3DngLUfOcnE8TysouL1znU9vnOT6Jw7Sviwpy2/8M5/mvzz7IAd/Iaz1MT15X4rrqhqXKTuifnXm7/2NP2SUaOdnNf7KOnHfa1DRx7LQcU7c+PKGFmneCTegnYrH0Unks/XCJAxksdYLWsqqa9Q6DuV4RovSUxxINydrxSg0IYvWECDeAdTGx0BooOl23fxeVmLMjBGtxNqjUd7jK0cwFN2GINB1uk0+j/WYvJSdMw1RdTWpmVT0z4zZ/cV5vnvwwxye1Hx4pSi6Umy18fqQY++Vx1jOJehuTL4Q0r1oZ7n1aK9xBzz9M070AbbF/RU6LVgj/RSioSgYf+Gp4/jEcu9tlwAYjFJGzywQ7wpS3qD+rsk0hMx2fmUhKOrdvRRyUOOON56DgHaeaOQpW+IWZ/PzzL1c0DtfgI/IliSl6CLqjtmiUzD3kqSZReBVXGZdirfSiMbGAyfXkTWgnkLn+xTrG+eedNpWGJjNDxfpumTcY6biZdhYXotGkhpu4vdG9h9uZFaqL2JpxgPxTnRdpFa1DEFmqVJ5dlVL1y3nFINbPH4t48G1q4yrmFER8+cOfZJ746v8uYVP80P6+1nf65JNIz6zcZzOIylFxzE+oEi2hTeirHTaKuag6Hls/w+hSrT4XF4WZV1PoJzb11fIC9FurJq77mWHDozIijkv3YdgVhlJgzeAyJAFtUiLFkMw0xfQej/9aeswpNn9Q8Ev5CBKvA1jZilD5b0ApTeGHnEku7cGlDAdfaMd0WCoN/QlACDQUKm6tbyw1nDgYmmgM3d2SuenDDb25IsRwdTNSELdc57RiU6N+iuqJMKUnmSrQltfN3qpwQSl6J2dkPfalD2FuYE/38iqKQvzL1jST5ZkiyFnXzzJ+LaCcCMkHMqu2PR1aOJnUzBjUuqafjwrdqognAp3ougqwrGbVSA2XaLCicPkEssPj0Q1FuEJayZgnijKnq/Ti7JTBxPwtSEIJvJ+U+y3LWyKmxowsGns2tS+6MrhjEbXhs0rVdcv7GdKwmGFqhy2FTCdN2Lo7H6B1Ey/QTG7/8LN0LPwqeFWKCsSgE29RjgssUkg7+9K1imYeroXPJM1xcTEfKY6wZtuP8v/ddsv8mDs+Hye8LM7b+Dc+iJzvQmBcexMUoanLOOxpupVuCAABTv3OnzL0p6f0tKObpJz4RWsyFeHYQgCVKddF1HVakrtVEKCWp3YN+GE82CULEal8HHdLi0rmJVD130N1ERUgPdFXWo8IstnjDAfBpLbz+XcaiKEJN9KvnjB11LpypbSW2GSzcIb3/SfCIN9Q6DlfA2FWVk3i0lnoU9tBAFcHEC9KzYAmIu0GIt62FQTjAXGjgYVeydi2ler2g1WxDslVUf4+kFmSdbH+EhEUc0wh8EI1W+z8HzO+hsTVFXHxDSAnwCFwdQTX9gm3EkpOn2UiyRNl/hZuKCLG5iLVZ1NaIhbpcTj6fUcF+pZgxmzHBFvl+QLdSOXwol4Sh0umKKuPgzqnpM157/syMJLr4t4io2ldVuTvqxSkZyPd8VVb6Tq1OzZyYbhtULXHA65IPkb3qO9B6VnJCbpD6koGk2O6b5CdcMZmKU4tcKHiiB3VImeNZtpunI3KVCoQ5BQQyxhRNmWudkcLxxLCrbsKG596Ap/59D7ORzABybLvGfrQR6+cJz+3Jjty33Wjm0BsHbnZdphzvVJlytuGSrFsTvWmZYhh7u7JKYi1hWPvJIl+Qre+xUbNtZMb1shmFQEO6K54AONykpZuJ1EekgU5cwL8Ek0c9kpSlExtkpc/qaHYRRK+FAvTNeKUa5eoGEg4cMkF8OfhKiJiL/4JMb1Uqp2iC6s9Iws3Ixo4xWY3M7+Lxe0n7eehSuhhEa6qGbfCWrEWCsU+xWVVTtgsiKFY5M1Re+co3suq88fgPeMD0S0rgghyya1C9rWtC5nBFsjsqN9qlgTDesYti2TWucV2YEOYTvCjHKCytE/E7J3wsw6M5dtX4uIKIKJpVyb4+qb27Psggv3+zSoSno8zjoeeaEzRwNPa9MSbwk2ZPYy6MXoaYWPJTYX3Ym6nNzLLlr0zCxtF40cLoPRIZErq1pigFpXFC7wdC9X0qmqLjHWlSfZ8QQTK0j/VLCb2YbgPS4O5JkYBYXD1J3FzFRYtEJPN7LoHbhIUaWaoifXHA8cQelq+fi6dDtuaiaYVY2WqZ7VfbSvVpjcynGdiOC4SK7HFA7vYP0NMfmCJ91QpNellFpK/jXbdwe8c+ULjH3A37r8Nj760m2EUUUrKfBe0V4Zs35hgXAuZ30yz9ff/Rzfufo4/2DwzQDcO3+F04MVWkHBQjRhvkkbfZnjVWEYvFZUbVPHz21sYjDTCqOULNxpIe4wSHjRhApGC1AYhbhuIsCd9RDUHAOFuP/1P11JjwCTi66DizS6XWc/msUcaJlItfZjMRfhIjVzE5UXy27rbtUg8eSsUrGeJLqu+Gt2lVmzUw9NF6YGnTbTimha4VVKthDQPQ/jNU023yLddAS5p0wb+fSWAEptWRjxTkW+GJOtxHgjHP1gYim7IeGwRBcWm4YE40p0KaMAnZe01nOyfspkrQao5hw+8GTWsH1XzHQ5lmI1DzqXXVxVEA/VLDVpMj/TdOisy/OJt3LMpMS2I3waUnZDklFO0UvrcmtdU5Y1qlYbCqZ+xhbMu2pWS3Bj41q0oP7TBUM0dLSuFVQtQziqMOMSF4o7rotq5rkoa/GBRueV/N1KmOZUDUbXIYCLpTN6MLHYSEutRA3sBlUNLKp9mXtd+Vrc5QZvLpL6Gech3ahmDWp06bCxdNh2gaop6I7RQYMPILllQHVcszGKOPbzmnAkWMDBTyp+LP825l9/Da081TSgGoXkaci77/k8f2r+Yd75kb9C8mgHd9BReZEeOLm8RWJK1qIBvYWMhWBMx2SUTTrqyxyvCsMg4iGi+Ft2glqezAmgV+s+NuBfk03wrVi8iiiY8RR8AxSGRnbUmpyiKz8TOzG5ReUlZlpiNIIZ1HG9iwOKhYQq1ZQtNaMMdy/khNuT2vA4CStqXALkfD40uBuKo6D2Jvw+s6/5fwNkFV1FENaS70iRTut6ia4c3UuKyWokOgv1rrlYy5A3PPp00xJtToisZ3qkK+BW6Qi3J0xPzRFMFVk/wWtFenWCi6VrtRiHCuUgX3L40ENHurIUi3WRWCk4RzAVvCQcSZPdeNvTuVqSXB7WWZiQfCkVlavYkC/EpIVkAKwSY1/Np5QdkTsL6w3A5DXpp/H2jagl5f26X8Ke9DT1AbLj6roIC4nhqzQm3apwRmPqeQHQKFor6/efCbL4m9HUmrhQ14xFTTiqlbFbmmxOFrmpuRV2v8OAfL7eBGysZxhD04g4GnmKniHUCuWErNToVpoC4j1bi+lkTHZirhxqE/YzTCSZKZ2JAXeRNKgZ/8YqVQpLVzzTFcX4hOLnH30dz9x+gD//2k/wcwsPoSYxwzIm1iWvWziP9Zpbk3UMnqETJe+oyfd+meNVYRjQMFnRxLuKoGaGBYBrgbIJdi7FJgE6t+ImKlFVUt7P3HNVWnReziTkg8qKAQmD2cIXHoOd9ZSwnZhiPmK6ILnjfF4xvTPDl55wI6ScswRDQzgOCcZSvyDpSQ1Vfb6Z9qPGhAEuDgkG4irP0qUNwzKoDUgSYCYaH95Av9b7sa0L9GzSmULy/aYQyXQXiUR8NJLdOjvQkTDHKHRmCXcz9GDC3i0LDI+kTA540uuK1VFElZiZrsF0LWF8WOE6lUzusgZAS9lJbSr0cuuhfVHRvm5Jr9Wem1JUvWTWcg5gsiIFQ7K4O7NGsILeByLemiomK6YOxeoyZSOLv+kz2RBFyp78VLWmgy6Eitx4ZSbzZH2D7hjyhaDuDSHeXIMxSPGTR2eWYFTUnoqAyz7Q+zt4Zil6IaMDZtYyriE06Wqf46G8n2VBoL7m+hE2+pJFVzAGF0gthAvrzEm9KWzfGRBMIN00BFPH4mOGrTdEdJfGjNcSvO6iK8/O7Yb8vgn6pZS1z9g6s6FpXzEMjyqeS9fIbYBWnl53wvq4x28Wd3K8u0U/nHKpWOSd3aeYuIBYWaJXKMjwqjAM3kC+KA8+GEv2oHXdC4Wh38JHDaqvarnt+uGXVixsTVySvorCkPQ31Dy4JMBFAT7S5PMhuvBkC4bBCU22agmWxjx05BKTKuI1/QssBGN+/PSb0V/os/SUpfvSUCTmG2aklm5VvnL7PAXNzIPA1gYrjPczFIjxkgsShFxllnwpxkxtzfO3sx0uHFeE4xpP0UK+QSu8VbhI1Yy8OsaNZaaWvQBvUsIooPeyE0ByV/CBqmXwShSkr70+Jp/32E6FHhm88ehSSQn7XIn3Cl9qyLVgrlp2vWw+mS0E2N85vZZn1zAZy7aaeQKNSnRTBt0g+jahzgLUylEl6Ex+V+Pa4NSuvrL1oryB71/V53NRrepUk5NUtU/YEqain1UXhiNRUqq6Yc1ClGzJdCVi8wFF1XYsPKlraToxMrryM8PravzAI9dua3ZmsisiwWjRVBB6t5+lZAWTUAyPasr7RpQKRkfapBuKYAzdZyPGD1r8V+VUjyeSiZn3uGsJYaEYHAukOrL2TuI9cC8nnN04RLwt7fF21go6/QnzyYRhmUALLlY9rNcsmjHtRvXlyxyvDsMQesq2J95WpJuOZKtE15qHaIV3oNgH91wkOVodG1QrouwGFD1D3lPEe550syTvC7sQYLJksJEiWwabeqquw4eWI8eucfHyIm8+/jKRrrg26fLpzZNUXpM/N8fCaUfrqjSisV3RUfBGUp5VO8RklcioNf0nmvDHe3yoJaYPtBiwUQ7O4Xopo+NtTO5mu5s3Strc1btNozUATUpQ7QNjDR8AUE7VuoXMWHZ2RYMK67/LTqsLGBwJyOcV+YLB9kopkAB84NGZxqV1NmgSoEqFyfUMWJwuiyfQ5OhVtb+relOXSAeSHUAjbdQcs8XZEKD28ZZaBBbq+gl5z40VjU3aVlFzJpyaIfuzyskb0oTK+i9SopLiJ8liNG3ydGVmu39Q4yNlSzE+DJ27txk9u0C64+omPWomxuJC8U5VhfTeDPavOR564p2q1p8Ar3yNLfjZd1Iexgc1k+MlbCeE8zl2vqTIQ6JdmK7C2vIe155eQVvYO+VoHRlitGN6ICQvDXFaMt1LMLsiY2dWpyz2Juw8tUS0pzDTmOEBw2R+B4CqLlPNfMiZYpUNMwHWv+w1+aowDKpUdM+JLHijEQDMgCNda/epQlxzHRrQGhsbbCtg51RIPi/cgL1TYLKIcKgYnyxRU0O8rdCF6DKaiSLc0Rx8wzrb4xY4+PjDd/Oa151BK8+5h4/QfRlWt4VC67XCpSG6qMRbgdkDrxZjynZL1IRr8ZiiLwVI/ec07XVH5+Uhalrg4wDXkiY5rau5NGJtB+R1PAsSLlAz6LzbP0+z695Ywnxjw1hXL5Qgk1x/85qLRDy0SqHsesquA+MxA2k351KHjx22U2E2I1ziCJYyqsJgJwHKKrAKl3hspgimch91XfcAzCjWEvbIT68lPLC6JkB5MRAuVLNdTzkkjej5kuxO/Z3rY9wo5NJoFjS79o2syFkRU+2yo8HVtGTRUhAGI8j5clVXS8ZyjOFzC6w+6jBTV+st7suhuRhwanZdjTZEU11b1mSzG1OSjcFXFobHDeO7MyjkZpXjELMTEowV48OefLVi9IE15qZSft2+rJksRhxZ2eGth1/kQ2fvoJPmJFFJ61DJ5XNLtD7fZmzatKZyj6vIE20azu3Mc9fyNUpvGLqUgU3Ys20y/yVAye8y/rsMg1LqHDAELFB571+rlFoAfg44DpwDvtt7v/O7HatKwe+BydzMdTNjMe+6rAHIUFKRalqiXIkL0ln8ppxC3zNgtTtmd5owncT02xnH+juMq4gXzxwALS7+6i2bnL+8hM8M0YZBW8VTv3mKsu1ZOAPptiXaKTC5pexJC/Oin5J3NWVbMbjdcejOa3zt2mkAVsIBm2WXkY352NVbWesMeWHvBL1zjqoTYUyzozlsElDMBTOefLJryXsyYXTjMhuF1eJyN656kyqc3ftmJ3b7i7NK9rMjINkSF9YGou+IVycUWYAvYly/JEwq7HoKyxUcmuKnAXY9xacOAo8PHd3nIvovVTVLUlzvqq3Je5rpch0+1PG9XFhdO9GULtfXXoXM6iIaGTdTilfRlDk3IUdjTJTd/266aIyCl1AnhKr+fk3b+lmzmNqogpxf2s3t/90H++drKNqLZ/zsM43nYjJpICOSd2p2vEbfwOv6/tbZinhvn6vS9LwsW4ruJUs0iNm5C2yvQuUGlzgmx2qrpWF4myiVp+ua7kXH/OmQ7ZMHee8dy6hCszvsoCqYWkU7g/Fhi+9Ygo2QaE/RPSf3fXK3IjUlvSBjwYzQOIzyfyBZia/13m/e8P8fBT7svf/HSqkfrf//v/y3DuADicemS6KME04MZUcRjhPiHVsXHEluHufRaYh3wg+IdqH/kmLjgQDzmR57ZY9sxbP04HV2hi1O9a7xjt5TDI+mZC7kF6+/hsujOY4e3CKrAq6nPcx6jMlEgn26osiWAnQZEA08G19TQqHprA5548HzPLuzyrsOvMCZ0QoAsao4M11lakPOjxbYuDqHe2SJgxdLgnGFrhxVN2Zag3PcuNPXNNhGp7CqF5iy+8pFwQ1NZ5tFKJNVDtTswl7fUMSDTH5g1kxFZ4psFIETJWgdOGylcYnDrMdwIEcZ8SKUVaipxhvP6ISl6AUkW9C65ogGlmSzpH2hxLZDsoVwtjAa8lEjdOJNXUDVGA1f95xwUHVqo6HAh/vX2RgNUU6ujQ77C3Om+1iTjEyj+9jUX2hQBTMdBWCmFtWkVlUFxu6fX3sYHdboCpItPZOTN0VNoqtl55tmPUEmRqrBS6pUzTwi5STDJh2nRB90uqQxGaQbinFk8O0KKgGXVVWD55UUik0PWPJFRetKwMILJe2rhsFx6cWZbIGqPFVbkV41mMKAl+KsYCql5ElYcSDeYzUc0FYFGNi1LcJXqO32lQglvg14W/37vwc+yu9iGHQukyjve8aHPWaqKI8U+Imh/2xIOPJ4FRJknnjP7tNWI0WVaPKepNamaw6bCgi0fnGBuJ9xNetRdgPeklwj857negeZj6a8sLtCElS0ujnxwmhWB7W718aVGjUMCPc0amz4zjd/lj/We5pt2+GRK8fYq1K+c/kxPrR7N3tlypXRHJfW5+k/HHPL8zmoHBsbpquxKForZiXFADOBkrojkyDhNxgAI8rJjZs7q6t3NR/C170hqF3xZle1QpKJh24mWhpMJRzavTViT4UzLMKN9l1L23aonQjfrlBWEezpWjNBJnzZdRRLnr27PGZsaF0JaV+NiHcs4cgSZLXRpq4x0E06VlrlNZkHnMiY69Jjrsj3KNtaQLy694GvxVCaXd7XSni6Dpea+6EaY8B+qLG/49ef0/vhRuMZ2Hj/WXhDLS7MrAp0sqoIR4pkW9SXbvQiGqp2o42pvN7v0aFq4LWl2b5XoXMRrBm8ISOMK/yZDu1Lnv5zitHRkHK1xCQWVyl8pfFWSVbINa3o5Hu1rpXk/YjxYcgWFdGeIhhL/YmN1Q0bQt1RqzK0TIFFsWXbGOVo64K2zl/RIv7vNQwe+JBSygP/2nv/48Cq9/4qgPf+qlJq5Xf6oFLqh4AfAoha89hI6LhmV1y35MmYoittubQVTQGUIshEl394xJAteqq2xxyQVuLfuPYsAC9OVnhuZ5WtYZtPfu5Odu9r8W0rT/Dk+AgfPn872SRCGU+7lZNGJQvphNXWgHu7l/mliw9glCc8bNket/jLt32at7ZfIFEWh+Y7Tj5JSxd8dnySx68fYfN6j/hixMGnLMG4EiC0o2fAWHOX9t17Zik+aNB6/0UxtlB9Pa7GC9D7xUmmAc9yqQ0AWQjJtiUcFILJTAopJQ8Mrt9m79Y2eV9hpoCCsucI9wxVWzAGlUlWRe+E+MhjMkX3gtCfs0VF2fG1a69wiyXjVcfoWES8FdK66gknAfGuIxqW6NwS7GVU/XSWMtTWYUONTQ1lS9eUbU+8XZBc9/jamJhpRbaUMF005AsKJ0RBaSpb05dn1Zo31GOoG73k/YhA3ndDhWdTbOW1eClA3el63yNrKNaTVU04VKLf4Ou/lRDUYqy6plk7I/wbXcFkSTO41fPVb3maJ64dYpJFrM2NCLUjf2jCNisc+FTF/BnHzu0R44Mhdq1ifnVAHFbsjlpkuwnhTkB6zbPxQIiy0H/REo4123d58kVRdcpXLEGvoNqNiHYMZqIo5h1t4KXJMoeSXXbDFj2dYVHYL7orv/v47zUMb/beX6kX/28opZ7/cj9YG5EfB0gOHfHBFEoD2QFLsm5oX/V0LknOfHhY2oMHG35mGYs5KJbl5thrKVe051ftvdw1f43DyQ63HrrOxEV8qHMHl/bm+I/5Gzl/dgXdLlmYHxMFFdZpFtIJD81fZGpDujrjR05+hAUz4uOjOxjMJxyLNljWFRYovOGF0SpZFfJ1S8+TVwa9F7DyeCVgZEvPWJBQT9DaO5iBbG5/d5kBiYGa7WJK3YBm15PaNGFD/VpUS4nFuxXRdoYPNGZ7LMKxTU1JYChX5xkdScgWxFAFY0U550muGeJd6SQ9WQ0FnOzV0mqF9NsYHVYsPmtpbXi8CZgetKhCQRniehULJ3aojhoGp2KqLKB1JqJ3XotmQemwicEHiirUM26AqvxMPTkcSLYHrfHeky0ljA5FmNzTPz1hcjBBOSi60qNy1j2bfW9BBGdvCCNq46qVeAL7MmvMtBZduB+uefXbQy5nJHRphFurtsi3B1PZoGakLFdjHvXzmSxpdu6zpCsTAuX4rhOf55Nbt3B2Y5F3nHye04MVigsQDkqU87TXA9ItxWg7ZHJ1geyuIV9z7EWurszx/NYJ9m6DcrkEq8gXDd2zsPKY4/prNdUtGcdXtvm7J9+H9Zpz5TKbZZcreZ/PbRzhyniOpWhE6QNaOqfwhsvlwita2P9dhsF7f6X+eV0p9cvA64FrSqkDtbdwALj+ux4n9AzuzwnTEj+JsLGm+q4tNs8s4GNPMJRdLC/2achF36FKRTWICCeKciOlaGdcGM2zlbf4xuVnOBVcpVwzfHrjJEp5/u5bf5Vr5RylN6yGe/zy1QdxXnFPeok7onUsistVn89NTvKpjZNsjVsMq4RPxUMWAunNHumKSmve0HqRg3ft8Hef+AEmS4pkVzIqX9S9GXFnGy+gKTluXNcmpde4sdL3QM1EQUxRNyQJa9JRBHu3SBpx8RlLuJujB1PRjAiDWeEZSpEdmWNwIqLpNOXqsuhwoOoSZU/3QkbnIlz56pZgLEZWXNEXy7Z5j2HtsyVLX6jYnQQMTlWoOj7evtjn9lNXGCc5eRUwmQtZP9Jm+TMGSLFR3ZQ2VJQd6cPpjSLeKdBZic6qGXMSpwhHFVUrIu9p3PGUeGBrjco6bk/l+uOBm2UDXKjI+kKFLltSVyGZGJkjqm59J4pGNUBaG5dZz4Wq9h5u2FBd/YzQInnnayBY3eCNN9wSXXn2ThpGdxYsLA8oreFgsssjOycAsJVhPetx5skjrAw82UpcA5RCe5+siUjvdDfhN67dh08tcS59TsO4osoDqlbF9rwhuRqy/LhjejHl/O1rfHDxPv784id5SzLm41kXxwm68Qpz8RRdu6BrZozzmu3/UcxHpVQb0N77Yf37O4D/E/hV4E8D/7j++Z7f9WCVkirpnYRkPZC8+AeX6IQwWZP8cTCWdFyQibLPkbvXOX95keR8TLZWsXBol+X2COcVJ9pbPDs5yD967FuI5nJuW93g+w58lq9Oz9NSiveMbuFaOcf3Hfosb2+dZU4bNq3lqWKNs/kK7+w9yU7V4mPFrTxx7RBLnTGH27u8tLfEfQtXWI2H/F+XvonHnjnJ8jk/0/Rr+hTOEPEb+PhWMSu6gRpJb9SDUHXZcK0UXJN+yrYmn5PagdFRx9e98Qt8y8KT/I0P/gm6Lw5ReUm11KE8uUCyPkaNpqjKMj61zOhgIIBgW1rGgywAlTOTZm9YmUEGFYiKUShG2LaE0bl5b8iBT41Z+oLF65jxUS3hR6fi9Mtr9JbGdJOcKKhYvnXMzsGU8WfnWXymQpSSrRgG6/HOoyclylpcFOASYaXmCzFlxxAOLa0rJeVcSJVq8q6WlGXFDJBsMAPprWBIt6QuoeoYRgcMo2Woeo5k3QhOkjDrkWnZz0iYfD8Uac7hzQ3vjUU5ygfSqQo05rJF1QBjU/MwOBowur0kuhyyt73ArQ9d5OXJIq/pX+DffebNoD2PPnULZiXnnr92mg8/eg+tiwHdC45wKGraRc8zvyLKXTvrPfLlitXlAaMsZnFuzGCSMKlS8mXLZqJZe7giHBl+sf0awocszw4O8OTzR1k9ssNSa0ykLbkLaOucZa3Y1Tldnb2i9f3f4zGsAr+sRFMgAH7Ge/9BpdSjwM8rpf4ccAH4rt/tQCatiNsFuQ7J1gAFEwcYjx4bTC4y8t1LOVjP+HDCxWfXIHZULQ+hIwkrchuwvtfl3OYCaVzyJ17/CEvhkAUzYtGM2LARW7ZNokv+4vzniVVArFq8VE05aAIOt3Z4LtjiZ3dez0ev3AbA6w+cZzEc84W9Q5zqX+f13Zf47PAWnn/f7Rw471BWdvYGtW4Asoat1yw+F9RsuWg/tDC5YAXBtGHu1GKkgSLva4bHQd02YrE35q7uLre2rrNgRqzcskW+0icYlgTXB5hBLJLzcy2Gt3QFjFXUCkP1NdXl0cFEUGxdgZmUeCMlzC5QVNE+6NXwIYq+Z+PBNr3zFYvPFHgTMTkIzhhUbBlc75D3A1pJQZjkHOgNGH5NzuXlFeZOK7oXrdRLtDTplakUNkUBNg2FrVhTjMO6nNyHmtFaQLot95U6FRkNJERxYd0MJhDRlHzOULYCgtwzPgjde7bYOTfP3EuO9bc47r37AqevLZNvp5JtKZpQTzIFUIclqRfehq8NhVN1uCdEqOmaRxeG1qZD+mR69o4HjI844ishZc8xd8sOX7fyPL957U5uaW2SLkyZXm9x7Nbr/Kc7/hN9HfCZpUf4P158FzsfPiBqVGsWOiW7u22UrmMh49kdpRxZ3OVPHPoMv7l9F5/Jj+Mii52DjftTVh8tSS5E/Gf/elTgOXRsizetvMxm0QFgPpjQUjkWz6LOWYyvvKLF/Xs2DN77s8D9v8PrW8DXvZJjxcZyYmmL7WmL7bBNtZ0QbWnCkfRvSDdLEc2oNQ3aV3MO/VaIjUQ9eLoSsXdmjWEBdk5iy8G84xfzByimIfMLI77h8PN8Z/9z7LoW/+XaQ7zx2HkOB4oKS4hn11WcrRLO5Gs8OzhAJ85ZTkcsRyOeHaxxen2Z5eMjfurim1n/xCHmz0uhDkoJBbjZyZoU2SwDcYOP6muvp251BjXWECpsJM1jsmVB8fMlR3BkzMnlLTphzh9f+jxvSC5yxba4ff46Ly4s0RlXVCs9UIqiFzJZDaiSOh6vCU7AjBHYtD8zec1U7IpbG0ylu9cMpNNiHFzosYlndEyjnKF1XTF/RsRAJkcdvk615TsJVScgMA6lPKF2HLjzOtdWe0yfbzH/gnRY8qHBBtJqLxwUOK8pu6JsDWATw3RZhFqUk74dkg6s6yrC5qdisqTZvcuz+HlFtqSYrnr02hTnNPGmYecUhAsTnr28htuOoV2xurbLYJIwHcfYMia9vi8800iz+TrN6YzQtuU1AYenq8LhiLfrOpVFz5H7rnL+yiKMQr7xyHPsVS0eWLjETtWiqjRvf+hZ/v7BD5J7eLoI+dzkJOs7XcoTFcSOu09e5nXz5/npZ19HuRND6CHwlEXA8c42GkcvzGi1cla6IyZlSOvAJpvbR+ifcawfF2Hh3UlKqCxtU5CaglBZEl0SKo3GUv4PBh9/X0ZiSk52ttDKMy1CBmmIcoZozxMParLRMBepNOfRSYgZFOisEHGXKBTqca17gPe4VkTVjcnnQ7L+Iu858BZ+du1N+FjIOz/Xfw0/0H+MQ6bF4SDlmp3SUzl3x5e57cg6T2VHeG58kIc3T5BXAeUo4qPPnqJ1JqJzrSYeBfuhgrYe05RCGGYgZCPbHUzrv9XkmSbPX7Q1kwPiSVRtj21bzFjjIk++nfKSX+JP3/kZvql9hY5qcbYSOH3jIUXWT1l6asrmval0OGro0ewLsLqoztsX4qHoQvog2FjVBChhXvoavBNgVGonyp6FxOGXcna6EeVLwu3onXMoHzC5Q/opEjjcbsRekGJ6QqiJg4rDyzvsdaZstBY49HGpvtSlkKSypaRWNdpv46cLR9EOMLmkMZvu08F0v+8D7OM0LnaMjgb0zzjKrqIYhuxOAnRdQs5Giplqggr8KGL7ygpmqkgQfchkZ1+bsQEiq1RRthEGatAUUCmqlhc6fdtLK/qpon3Fc+HagqR6Q8/bus/x+elxTo9XeV3vZR544AIPxBf54Ph29mxK6QKeH69S7iagoLcw5rlLaxxvb/PNtz/Dp66exHmY5hFFHnIw2eUTe6eIdcXfuev9vJit8fjeEb528QV+9ds929MW3cqw2J5QWMPReIsLLLIUjmal1qV3tLXiYvU/kPn4+zUa8oVWnjisCNOSoh8QDjV2W6FLix7LyvJJJDUJxotqUyOvduMBlUJXlmhvQnRF0w2liMq2Q2kgG2t+6dNv56dXv47JkYo777jE3zn2Pu4KMzo6wFFyxDxHV0/57PWjbFzqE20EpNcU8a5M0FkevSEh+X2D4Gt6ssnc7H3Kikx4w5ybrCkmBwQyN1OZlDZ1BEONCz30SuK05MD8gFPJVVoqYuAy+roi1pZ3fd1neK99AzsPhUTXZKI32IEoQDND6k2B5L6nNe1aCXBmE0MwruQ1mKH6MzZhpVChJU0LgnbGZGueZEsov+k1T9mNKFZLVCjeQ7EXs2k1cVLSb03pxRm65RkenbJzqsXc2QrlRELPhQqtoIoMeRSQ9zSmqHkOTcGQlyIob6gzHZoqlVCrs26pWgEmg+FRjQ88wU6AtlB2PMl1w/R4QXhgzHxnwnI65smXjtD7QoQupau01DOItJw3UMWiZ5lsSWhYtRRltzb8paRtdaFmvJHBrZ52J2NhZYeLz6zxf7z4rVy5vEDczfmOhz7HvdEm7xnezWbV4dt7j/NEfoSXp0vEC1OK9RaH5vbQ/V0cil8/eydFHnD/0Us8c/UArXbGb149xWuWLnJp0ufns9cxKmP68ZSRTfj2A5/nQ5t38fSnb2XxzRvc3btKS+d0TI5FkbuQUFnK2uieDP4Qll2PbcylSR+A+WSKdYq9y+msjZpNAnQYoPJCRF+NFrn2Yr/Hg6p1EmZKzrVWY9PKTucFeqSIygofBrRPa+x8i7ITMokP8SMH/hKTA4pDb7vInzn8aR6IL/G21jkWT72Xf2i+mZ0La0QDL01FfVMZ2JBm1Kwc1+S+NhReuPleFlIxF1Cmir1bJTUou6XCxVLUFe5pbAJz926xealPGFcs9sbc2b/GXdE6L9/QezDWFe95/n5cx2H2ApQT1pxNxDj4QIRRXd3wRRdNQZOvm6QoRkcVu3cExNshnctO+j9WktJs6Mi6UARxRSfJiY1lfMuE6kqb9jUh+Cw8A+urCIaRVvjCoOtwYn27x+V8Hh04tKnbuE0dZdtgW3qWgi264hmkO9L8pUo1yXZJthASDaS9fKPOrOv+DcZ5bChGeucujz40RWlPNQ3xkeUtJ85yS2uTX3jpQfLTPXYHPUZT6NWciGxRjGTTK1OXXhT8YlU3jYVo7NDrAipPlwImq2qGQRR9j5/zqEoxPd1n79w8ixPP5KU1zAnHtz74GG9NdvnIdIWHd0/yo4c+wG+O7mLiImJdcc+Bqxy7ZZvchXzg+bu4vtAh24tZWB3wwsYKxU5C51DGYJrw+OYRRu9f4+h3nmUhnvDo+WNURzTXJ102P3GAv/C9H+Qjm6ewXvNTF9/M21bOYLyjZXJKb7BApF5ZGAGvEsPgAa0cgfIMXcxSa8JONC+55FBJg9fAQNXoKkrum1RiZGUdZJJLUo2EfGVFm3Hqce1U4uashLyAaYYKAoK8wLRTKCvSS9J3wn+wz091vo0qNSRXRZyleN08HScL3hu1z2r2fpYOU86JEKr1M4BMUoySbty+F1buu4bd7sFGQjBRFEsWlVh8qanmCwLj2Lwyx6Hjm1w+t0TZnbI+7fLTu28g0SVfGBziycuHOLy4yztuf44PPHEv4YZsX8WcoOiuTr01ad1wJF6CEKI8VazI52vgzSmqFuRz0vk5GDcK0AqvJZwoJhG+I7u/WXZcXWzjLyohVA1LikdTtt8o8YtpVRSTkFZSsLYwYH1rjqX3xyS7FlUVTJaDGVA7PKqp2hBvNU1SPDYytUCsJpiKhyBaDK72hjTJdoEzmulyWPNCFNX1FHWDqMynrt3F4+vyHaOWLOSyx6z2QtfpS5sItdxFiipWtcxd3WymLuYrW5rJqqKYEy8m3lXELyt2763Eo7KKwW2epccVo8Oe+173Ej+y9AleLEPOFivEpuKvnv5ezp9fJp7LSOOS1e6QI8k2P/3y63GlYWevTdrPGDyzyFve9jRvuPMsP/7iWyhLwx4JozsrnFc8cuYktx9d5+mrB8gHMRwr+dnzr2GlPeJnPvFV4BSHD38Gi67DiIDSQ1drzB9GjCGvAq5Nutwyt0kWhpxeXwYDVdeTzyvSHZEkQylcFKCsRZVKDEIjhuI93tcS7nkdYgS1bHzdro7A4DstCUFAel2OJvgkRu8JOcgnMWFpMdOAciGhahlaG3am/d+UCytX1/tnTmjHdafishMIir2gKeYE0OpdcCw/Du7zK6zUJcejQ0Jq8LfmlFWIupqgMoidYvv8Ghyp2B20sE7x1KVD2FLjpwF4OLuzxrnpQZFZmzZZDrVPpqo5E+Fov7FLAyyaEvA1ozSWNGm2qGqkXT6vC/ChAgtlqXFeUVhDOyxQD+xhn+2IvF1i6J0ryfsx41MFQVihjUIpT+U0dixCtEXX0D07xuSOfD7Ea2koEw6pKdyW0QFD2VW0rzi8FpWnaGDFOFvL9HCXcFixc3tC2ZE04nRZDHPngma66qk6Dh95gl1DvlB3h+o5sFIZ6gJINtUXUdBtLIrO4djPjERDt9eFJxpaOpcVg0CTLwhwW/TBjAy2V2F2A1zs2XzQo9Yyrk26vG90ioPhDokq+fr5Z/nJ0ZtRoSMfxKg5iIzlFy4+xEI6oX9syrQMuXP+Gg/r45zeXWYunPJnb3mET+3ewjPX1+gfHHD+fScIXjNmUkb4Mx3STBFvwfbeIhuLPdIDY6bDmMdGxzkc77AQjLAohj4gcRVzjRz2lzleFYahsoJub2YdplWIs2bmzrpI9PSquVr0BAh3Jc9k59voYTaTglczLUhTi7boWZ8J3yhIh4EIq3hP089SFeWscYwqSlRRogcKE4fE1uFbMTaV1vTKi+CJKZw0C6nLa22kmayGAqwtKPJFjz81othJGN9jYRjAXIk2XvQlmtLqaymdS1p26hvoufNPGlobCV4l9IZO2thlnsHRgPFRTzAU/oGkQfdZlTNMw8ni01WtAlVXatpI4uve2SlVRwCpuXOe898YEG/vsy2rGqtQhaaszEwtaKU34ur9PZafAJCUYbLtGVeKqjIkSckkiwjaGUGnZHg0ZOlpy97tban+tFK9Whaa9npRewOWdF0xOZgKKUorTGbJlkJGJzt0zo6YrARkd4ZULWYU7XAo4dzwNtm9402R2C/nLDrTGFsby05FGWlRzTKSyUo3xXMpU0U8dLN2eNm8pkpV3dtSQsd4x7KQefaOGxHMHUK27Am3A1zkUSsZ+lyKCS13zYtG49ClDF3CV7Ve4h2rz/GTW32q0tDvTHj65UN0+hNu72/w9OYBDnQHbOUt3nXiKa7mczyxdZjxXEygHO24oKgM46OW8KUW20+0MSHkd0zpfSAmelIxOhwzuUWhBwG/8ZEH+Uvv/ACtG2ojrtgI+EMo1IJXLKYTtqctAA4v73At6mKHHcJBTQyqPME4r8G9ujnqsO4t7r2oRTeGodH/A+HH6tpINO9p/tWNbHwUQhrj6w5WqqygqIk4813RhSgqoqIi2gG0xgUalxjKdlCn/CyFM2w9CPqwsCTn2hlFXFKUAbQL/tY9v8G3dl4i854Pjm/ngeQ8/5/L38jjK0ewWUDay/j64y/gvOaxzcNcObtEMNCgNMFIMT1cEW16ol0BOMt2w5cAmp/CxZF+Bn5fG0BAUodymiJUhC9cJuq2pcenUnTPLdBoJVi9z3swQ814EqOUZ6RjnIfw3j3av6wgkPvQvuxJtlO2vrcGkbVnME7otDPGd3suLacoD+lVaS03CQydSxVVYki3JuQrbSarIdmiJt1QxAPL1l0JQSZyaZuv7TE8DsWiyNAFeyI5Pz1ZoKYGM9aYiSIYyVwqVx2qX1BmAZQKHVnMRoiZKhafrti9NZjRpMPJfniVLYq3lGyLUcjnFKNDIsUWDT3tdUfZEt2QcCyanTZVZAcguWuXtx85w1I44t+efTPWKe5cvM6LkxVe2F3lh+/+JC2d84XxER73inZUECjHsbltLg37AATaUdiA64MOzivuW7jC9ZcWRW4v8BRLlmQrYLrqOLKyw7AjXIh8yRFfjsgPFbhK0zcTjkebdTih2bJt/tn61wM/+WUvyVeFYTATxZnry3zt8TPkNuCzV4+S7cW0BuLqBhMr4qWjKbrWdPSBkZ4TdW/Kxij4NALnZrLxJNEN/SrqvhRND8tWQrHSRpWOYCBeiOvEQCyU3bJCjTOU1vgkFMNhLaoqUXXDmaZHYbCbc/1bIn7km97P69KzfGR0Fx/fvJVJGfEttzzNnJnQNVOGzrNuW9wXX+T5/ACvmbvAzmqL7zr4GEfDLU6G27x/dDcfHt2Ons8pVYQuNO5IhrmSYHI163mpS2n2KpWJQB0KhCOZ8L7GOJo26zMgtKsoTx0iX5TaBOU886dLNu8JZ7RtXQAKWtcU7SdSylaLoiuekAtg5959z8TWgjA80yW7bYo2lioTbyROSjonMooqIF8Jcc+0SDdhdCggHHvCYUI4KMjuihkdFZm8bF4zPOHpnYXte2r3fwTlnGAftuPwkcPsBJLNmavQeUi24kWertDo9ZR0VzE+anHDkGQg9SjXXxvQPedn3JPRYWGGzr3kAM3oiKdqQzjSM5zG5B4bS5+IyapwpaOhp3XdSlXwlZTpUotfPfZaDp66zr2LV3Eo/uLqR3gqO8JG1mGz7NAyEevTLn/tlg/zK5sPcndHOgxP5mL+zWNvYfOZZVbvvca3nHyG85MFpjaEuZL0mYRoz7PzhoLJ6wr8Zswgi6X3aAK2bdEHpxinWZrf5bZonfujghdLKZ761Ph2Pn32lle0Jl8VhkFXUFxqc2F5np0sJc9C1DiY1RRULYMuY0LrhbtQNnyFWjG610LvjuqGNBIeoLW0oBtPIYnl9bqfBLUepJpkhDsGF4kiFCBSbbXBUZUIz3qtZynShiehSospLSq3VHMxw9skrzVxEZkPuZL3+X8dfy+fHJ+iYzL2bItEl7xUzgPwnzbexGo85Go2x4/d8vMkyvJ8ucQj02N8eucWqrMdgkxhVyv8QgEbMemmtGxrGp6g9wuxZroERuogmiyEVA1K3rIhPjVS9slGTlnrHwbTinwxIN7aJzp5BQvPlRRdoXQGU094HtIdx2jNkG47oj1RhC5HmmhXMdQJ+QHZ2XMbky6NaEUl860pu2HCoJuSbEExr6SFWi8l3pPrsXMWLmuma55kS9SNkg0JsyYHHapQmLIuCLtupF/lEGwcMb2lQA9E9izYMySbiuHdBZSaoFcw0RDuGnov7hdfSU9JUbcaH9SM7igINkOiXUXVgSrxzL0Ew+PQfVk818mqxz6Y46eGYyc2SIOSOzvbGOX59efvZH1rjjQsOdre4Rd2Xs98MGE5GQFwT3qJ7557jLPlAkvRmNIbDJ6WES0MfXjC9x55jHuTi/zj3W/CecXS4pCNk4bkcwF6LyS9GFPMeQ7P7fHskXk4mLE8N2bj4jxozw8+9Gn+78vv4CdOvJe4fpCXpvNSnPcKxqvCMKjSs/ik4ll9jO6xPbRx+NBRzknhlHIaXRq0jepOTwmqdKLS7GuZ8H5HpNFDaSFHIw5ron1jYS1NP0nXaUmmIi9nQiAuCaEVYkb5F0vFOwfVPk0Y58HWMnOVJSwtqnKsPprwb+3X8+OH38LbbzvNx0Z3MnER88GYy3mfUFkeiC/yWHaMzIZ86MIdeOD/7aVJyIXhPGkoKdhqzuK1kazFJCC9rgkmzLotq4r9rkqqYehJmjKc7NdlKLcvW6+cxyNFVDYxRLs56aUMKovrpUS7NW5RsyabCsNw4ig6skBRQspKtx3tqxLHOiOCM3PrBf2znqtvShkfrwi7BVo74TMoj255Fl53iZfNYbrnIFsCUEyXlJTPDwxFD/JlS248yaWQbNXhIoeZaIKpouw5+P9T999Bkm35fR/4Oea6tOWr2vfr1/28He8xwMCQBOhAiBQgiaKWJrjSUitpJZFaKWJjN4IhaoOB4MpQFCh6EiIBCiRAgGY4GD8YzHvzZp537X35yqp0151z9o/fzaweiRLmKSjGw43oqKqs7FuZN+/5nZ/5Gq+wE0W6J+/ZKVj4TszM1m94wTH9UEFsPMErqtySbFmybcGTlH3JEqKhsHRdGhidqLA7EUtvQNGHySlZVC4SwZqqo9hftMIrKTWq1tx+c4P2+UN+fP11frr3Jp/sXaYKhm8cXuILrzwBXnHy/C79JOcwztAq8PnBU2gCbVtwWLf4UPs6Z+w+j33iPl8dPsqlZJOfvfOj7E3aXH3jLMpDdmnI/qdj7L2E6QcnqJsZVz5/AfXkhHoc8fzFO7zoNBcW9/jW4QUW4yl/7fBx/lD3df6Le7+Db2+e4Scff5k//x7W5PsiMOja07+aE41jBpuL1EsBFYdmfi06DSoYuUkziynEpKVuiWK0GRVzaXcFxz2GWZkR2WOHKpBSIwRUI9CKD4Ruii5E018Yig3zb5Y1JI2/ZaP0HJJIvq89yjmivTHdcUXrXsTgkYy3VtYpvOHJzn1+d/tdUlVyp1zmi+PHWbIjaq852uqgMsc3dx+muzLmwuI+qa341tsXiHcMdTug9iOyXU26K1mAS0TmTNWq4WUclzMoyRZm+g7azXwkZ8atsqjTgUxS9LgQ3YYswSWGzh3PZEOLbgOgLew+ZTn1tSn+lJ3rDqgQyBcU3iSYSngO7dsT0YI4HHPCLbFdtBh/uKR2hkkVk9qKti3Zz1tsPL3FtlunWnBsnNsjMY7dUZu61gQg0wGtA9NRl/47gmOZrgfKExUmcfhBTLInKf7yG1OqjmX/sZhqAfI1J3qWTqE01KVBH0Tz0mhyQjE5XWMWSsYTixlYWvc15nqMnQZGp8RCIMkqeL3L4EMlamQ4elQwDdkdS3I3pm57XNdRlpbXxyf5TnKPnbrLF3Yep2VLon1p5t5jhXuRR0Web7mHoDDYQ0M4M+X/8tQ3+eW953m6c5eWLoi049uTh+hFOelCxUsn2ygNxnh+4onX+DX9FP3OlI2PbXPlm+eoj2JOnd/l17/2LEuP7fGDy+/wzcHD7OZtvvLrz/AjP/MW37xznulOi38wfRb4+9/3mnxfBAa8R1eOdL+mfU84EiCWZ9HUY6cyATCFn8NnvdWNYrRBpVHDkff42KLzGm3Nce8BZFSptfhe1h41LWRBRTFusQU+oCpZ5NTHPQsiKwGn8ZCcuVSHaEaTBLwStGVZo8uapTc9g59f52ufWGHypIyJrk1X2Cvaja38ee6PexCUSKwVhuFum1ePMhYWxkQ7Eem+Qm8KzmAGpw72mIOhqzAvteSFSYpsfcOVaLQjNceMThWgWNRw4Cn7EUG1Ub4l/hYukA4cRxf0HEEpfIvA0bmU5DDMJdurrqZOpcdR9BWpQUqQWhq5Jq9pbXrq11rkz3l2vWahNcVFmsg4KmfYeH4Toz1WeyLtONWvUSpQOIvzmnEZ0Xlsl6P9NbIdYdjG9yNcakkOtVDSY8X2B1tMVxvlby2Ll9Thp5bgFaEwmFJwGnWpKJa8jHaBzvKEYrfP0lsVLtHsPWHIH81pdQrqWlOcrIhaJaoNnVaO0YHJekz9bk+uuwlcWBX/yMvlBpFyfHr5CheTLV7sPYyZWFo3LZNzNaHU6E4Fg4jl1wJb/Zi/8sonCIcxly+usj9qkW+1Ca2ajY0Bm/cXyXo5F1b2ONs+YFwnPHv2Dv0454nOPR75sW0+3LkOwDeXL3Im3efJ5C4/t/0pjrY7qNMF/8PuZ8iSkrxuU++l72lJqhDeW+3xf8bRz06ED3/g38NllrplxAmpFkhxdCQ2a7qoxfHJamkMNgvV9RKpsSclwWpcJ2ZmSRcUmMqjp/U8G/CJxScGOyxReS2liT32oVBV4zUJjc2dkpKlOYL+XqObeeDRWrKHpoSpF1tM1xKOzhuOHq9QqUPpQJJWotaz10FHjhBk7m/upOiHR5TTCLOVEB3JrD7ZE3g1SIo/Ox4sGZUTLQI47i+YeSnRoDGnEuz2n4jp3hIdTd24QZnCo2tPvhQzOmXERFY3JrYx2KGicycwfEhRLgi7MN0ybLxQCuITca+KRmKM4hMNHooFw/CspnxuTF0ZlpdGLGRTjJKAoBu8AwgcflpHOC/Bo/Yaqz2jMuboa+uNr6PYycdHjjrTTFYMo7OKYr0xzUm86MDVGlWLvJrJJSjEA41LA+mu4ugZqemzt1L614SYt/MBjT83JctkrJdf7qPOjrHW08kK9t5ZpvfwgLXOiJt7i9S32px+ZpPTnQEf6N3i93dfxSjYdxF/5+Bj7JYdvvLSE7SvG8p+IH16wHiS4HdSOjc1xUdHmNc7TE/UrJ47YHDUIv12W/wkYoHHh8xhWjWLvQlHLy9TrtdcvLDJze0l/tQzXwZg4mNW7JDvjs5RBU3pLSvxiCdbdxm4FvfLBa6Pl7k76vObP/b/fSmE8KHvZ02+LzKGmbmIjyULiA9rbO4w40qagYV8WLp2YmffSgiJQU9K7N5YJhGNy5Tdm4KWVF8IQRrXiqgWEskKAtSZwcUaO64b1yLBMMycqEPl0JMcQkxoJ4Qg5rezpmUw6nt7ENY0TT1PyGIJJqUjGVSsfrdi4bLl4JGU4SM1SyuH3N/pA+AnFtOt+Mi5m6w8PmJYp3zlhSeIDxTTU47WbXOsfhwQ+z2jHsgWjmXWdSGTCDfDsTT9hxneTXmxTst2JKB6oyAWmHJQUkt3Lh8yXV4kX5EexoxZVXUDw3MKFwd8W+ai09OB7Srm5NfGFMuJoCpbBm9pfD0iyq5MUHq/3uLoh8ccHLXopTmZlXLMKoduqMalN1jlqYKh9prMVvigiLQnf2LK4ldE0Wm8YTi8YCgWBOnZuh9YfVkEU4q+5fCipup44kNNseTnfJaqHSQLK4FaY+9blt8U5a2tP1Dgak0YRhS3Mlwc0EDv19uMTivan7jLvod2UtJPpqz0Yu72UtZaQ05lA36g/TZnbYsi1Kxo+H0LL/FvffWP039DdCh8rKidRt/IcCs149NwamHILh2ixYLdvS5pq6T4yAjnNBc3dri2tQKA28rYHUcsPrPPs0u7vHb/JO1WwZ1ykcJbEl1zWGe8fnCC050BW9Mub+2vE51w/MKbH6TbmaJUYLn929DUtm4Z8tWEaOQayW6NPZiiphIQlA/ghBuhatk261ML+MRijgoxvp3ksnBn1vWzrz4Q0hjfbxG0ourNuMiKYiVGl5KZmMJRdSym9OhJOZ/vy5gTwToAvhWJjH0I6GmN8sdlh48iQiIkIbzHjCtU5YkGOfFhwtJblt1nNmh9bMDTa/e5N+7zp85/kTxELJsRXxo+zsrD+4x2Vkm3DNG4uUANeMnkEEyYazsIDDhQLChajYKUaDqoY3xDkFFl3ZIx4MLlAl15zLiUgNmL5wrMh08t0N50eGsoF2SnnSMpkf6CHhp8ryZZmpL3DHdNm6W3nDAgS2nylj3LdFnPJyTBQO+ftzn83JSDSYZte4z2lMGQmprcWUJQRMbhkfJnWkeMy5iqNpxd32c6OYG3imzHNyAjaSCOT8HhIxLQ7VDRvhtY2gc7qSl7mrIrpLViMaALwSOkdyK6NwJH5yzlZ47wtzuiCB2gWi+F33EzZfyjIxY7EypneOLDN/BBMaljNtpH2POevbzNudb+XE+x1aALP5lC1s1xaULVqHh7r/ERdFbH+OsL7A7bFI9MMTdbtB45Yryf0b4SUz1WUDhZlubtNunzBzyxusULlx/i9ReXUQGOHpuyXXSJdU3pLV/+lQ9QLHt2tk6ycMWR/vEt/sEvf4rQ8xxWGo4syaX3RqJ6X5QS6ckz4dR/8B9SL9dEO5beVejerUm2JuhJMQckzRGKIAux35GeQ1kdYxpAnmP0HOsQIis7eWTmvQLfmMfMJMZ8K8Ynhjo1c1syVXt0Xh8LrsDcCVvP+hAhoAonAWJurCo9h7np7QMWdj4x7D6dcfihAoaWJ56+xQ+tvMNP917lnarHn3jh30JdbdG+y9wNaa4wPatemjRgBt1VtUiezY1omq+zzGJWioxOGpbezlF1QBc1VT9B1zMEp6fsx+IdYRV7TyWUfekxzHENQezf677D9EvarYLYOg4O28RvZXTuSNCyuYCGAMoF+ZqvBqqVis7yhMXWlMg4tArzzECrwM6kzaSIcV5TVYYQoC4tUVLT+kqHbN/PbePqTFNlinJB+CEz0ZXRmYBbqqDSdC9bWpueaCrXoejpufJ2nSqOHq1BQ3ttPP973hmMdawvDOnEMnVJTUXpLbGusdqTmgofNAvRlD+28lUi5TlpAi0dUQVHoiKu1zm//y/9J7jnh5jvdgVK3RdlKHei4MT6gO1X12nfFjXw6iNDiv0M061wI0u8UNBKZaozLWI6WcHu9SWeevomH1m8wdClvDY4yeX7a7idlHRXRGnLXiCcneKOYsxYE9YKUPCTT7zMzz7/i7+9SolWP+fHPvcdHm/fY8Me8st7z/G1tx5h8YUe/esVyfZUFl5kUdNCJgV1jT4cEdKG/NSgGlUTFGZYhpnYp8orgS8rhcoL7HB6zLGII7TWssBLe+yAVTaNSKvnjctgtBjrzoKQB8xMlOE4GIjRrZoHA3NUYo5ydGRYeTmwcNkyWdO8MznP3jMtLl7cJFaOKK5hrBpV4mP+AjD3fzzWjhRcgp2EORp05uo0Y6YKcUgmF61tqcFntvB2XAmCM9b4yGInDrT0J1ZeK9h/NGF0Fua6Di6gHdihobYRvqnHu50p9mNjUIG8iAkBWkmF84qkQUFqFVhpFRRNxue8JolKSic/3z3sM77TJdkzZFuBLJe/W/YVZRfqNlRTRcQDvI8ykBzQBAoFHtr3FHkRUa44hhdrikWDrkTfwkwUq69K+bD/mCE6NJhcMalF9cgsFbhS0+1I4Kq8oRvlpEbsC/tJzno8xCrPQjTksew+j0SKIkhQEEmUmio4HrYZ9XMjPnv+Cl+sHyXczXC9GjuwhLFl98V1OveF9FW3EB5FKp+/WXB0WjkPL+5xULSo04LSGT71wbf4ocW3GfuEoUt555WzmI0Jyb6UTb5fQ62IVMDsGOpOwN5MqU6X/Nq1J4Ff/L7X5PsiMGS64vnOTS4lmyzrKenqC3xq4Qr/zeJnubHVYeG1PgtXSuLDEnqp7OIzrIJt0Izez4E7wPfCnkEyitrJ840h4ObZw4yirULAjAuCMdKpr70QskpFI2GHttKQxDbOWHgIap6BBKvnDD1o+icugFH4JCJEeq6g3LuRkx5EDO6t8x+d+cNE58aoV7okR1IiPDhxmDs4PXDMJhbKcex12QSNWW9i5l9RdjT9KzLeUHmNbeDkYbWLasa/xXIiKNPSY4uKpbdB+ZiDZx3RYJb9yHlVrhkPU+qsIktKEluT2JrFdCren7WdZwVG+3lWYBuR3FZUolVgVCaMy4jJjR4L70r/JB34eQA0pYiiTNfUHFeRHArrVrswB3ElA9+gPEE5JSjJxFN1A/EhJPuSWRyel7Grncj183EgOtRUPY/bF+OhQdWlXDakccWhTlnKvrc+T3TNw+k2T6e3SZSdlxAAfZVRBYcn8LMf/AV26h7RJc8L/bM8ubzJV158gvXf0Ow/Kc5VVVteV+ftmLIfcBdrXK1ZWM6FWj1q00pKfvTU27R0ya/uPMP2pMvOUYfWuSOqVxfIN2qUVzx/8SbXD5Y5t3DA7S9dIF9pjGo6BWu9Ee+8hzX5vggMYxcz9CnXyjVuK0dbF7w5OclPXniFndNdXjx9lltXlogHMbqA5CDQ2XQkB9V80dlBLuzKop5nDMHq+eIP/gH+RAN4CnEk38+EXhrcg7IBbyKwM2hh87vaQeEkSBSgGv5FMAqVz4KMgUg3mg3Hr6PuxtSZEYGSMmDHYtqbbU1JDgzluxF1u4W3fo5JmBF7Zo5JD3IhQqPWNPP6fFCWbWYNB1KOuESIXQtNYAmJQXmP7ySESMvUpnRkN0tcP8XHGjMWRmk8DHQvW4aXaqIDISmZUqFzDWVM3jWwCEoFAtCKKiLt0FHAB4UPitg4XFCUtcXoQNlgG2aBI7aOsFRSdVPsCPIF3egtKspeE9ySwOSEIt2FoCQgVB3xDI2GgXS/KWFSyHYCdWaYnhAIdbkU6N7QjE5LJqacXL9y1TVo1oBOHPZWii4UrXsaH/UJh4HhmmL3QsFj5+7Ti3O6NufR1iaXkk1iPHddQaoUidJUwdNSEZEyaBSnzCFjn9CzUw4O23z9tafoPjbAfLXH6nfC3DAmPlT0bzj2njB86sIVpi7iN7/xuDBeN3L+4yf+ORrPX3j3c4ynCeU4prs0ZvrOAssf3uZ3nnqTd0brtG3JZb/Kajri1ac9ya6hWHYspyWfWL3G197DmnxfBIa1aMh///pnaH+pzfgMXPrkDT69fIW//vbH+OCp21xa3OGdh6V0T2zNWmvId989R9qvOb00YFJFbL65RnwkHHxVN7ZdE5pdBbLtinh/KtMF20CgQwDM8XShySiOpw4Bn0Qo3+AY5mKdTanSZCEKGaMSArqsCZWaPw2lMCGIdLtRuFY8f+4McKWcJ5rUmFLPm691yzRqRRzjFZQs9Fnz0U4eMF41x8zKoOSGm2URLob4KDSOzIFgNL4Vo4+m+DTCtSN8bIhv7FAvpLhY401MuWBRHtr3PbqyDC94dNOkE+CUIowNuUqp2wbflkLfNKmNnzUUm6aIbbTvQlDUXujcRntWW2OSE47dbpvcaayVMS7AZJDJWPcoJmSOYCKisSI5FH/TOmNu8+cSYUVGY8/C1UC6rxmd1qS7jQy8geRArtHkVCC9b4kHUH5qSFUZ/ENTgvbk45iF78a4RJCgeYB3Xj5L56bmW4/VvPbwFn/s7IQPtUekKkGjqYLjngv8xvQsXz+8xEubp4mM4wNrd/FBUQ9iTn3bM769yNF56N2UXk7dcDYGFw3FhYK9okUnKtAOzPkxGwtHnIn2uF0tc7p/yLv5Ksp4zBcWSdqwfX2Z17on+f1r3+UHsptcW+2Qqop/43d9E608p8yIHZex59vvaU2+L5qPrfUz4cMf/FPoSsqBqm0ZbxhGZ+GTP/oaUxexX7R45+YGn338XfaKNp9evszv6rzOX977NN+4f4HnVu9yY7TElVtrKBNQOmCvp5SrjngxJ00q8tcXWH5NTE+iUT3fKeeBoOEfMOtvNhOHEBmCEdTjTHfye5iawMx0N0RGwFdNI3Je3rgg52u+R0OIpZ+BD/jMivKxUdIcdGLF7mMtmgGJjFO9hSpTzMxj54eS7GEWRLw93h3LBcXyGyXJN9+h+Pij2FHVvHdhkYYsRh+OCZOccGqV6ck2Rd8Iu7ERaq16lsFFw3TdY3KFqkXDwSXg00ZjMfEknYIkrkmiGqM9kZb3rFVAqTDvKSgQjYe4JARFYmo8kmEMi4SjcYp3GmM9aVxxZmHA3rTFvWsrLLwh2pM298Kz6YrMvsugdT8Qjz2uEXet2oqqqxg+JCawSgfQARs56qIpIY0nBEW7mxMZh1KB/d0u3dcSxqc9rBWc39jjA0u3uTxc45WrZyDXLJ0Z8OmT11iJRrw+PMmF1i59O+V0vM8n0pu8Uy3zH7/6U0zud0g3DfmKp3dFc/6nrnLnb1+gaimmG9Kw/cSn3uCVxqrgfGeflWTE/3P1m/gQ+MXRRX72tc/hr3SoNsTBPd411BenuKnhkYc2+bH1N/mVe8/wzNJdzqd7nI73OB/tkipHW9WsG0v/1J3fXs3HoGFwMZIPe+oxVaC95cj2FZc/uopWgdRW/MHnXqL2mm/fP8Onl+Gl/AwtXfLh9VtsTrvc3FkkyiqeOLHFYjLhjcUNdm4vUh6kPP3kPRZ/5BZfyp7G9QNqGpPdy8i2hWIbj1zj9+ixR82Kc3oOpFJOUutgDBiaMkOUooPVuLZMNYJqfARj3Wg9zshMYR74mHEYKidNQwLmqMSGcNywjOTvmMJhCjc3sKlTgyl1A4MW2ffvscODxgyFY1v2AsykRq8uYwqH3T6S56UJuqzgaIQ/sYJK4mYSIoY38WFFsRwRHTns2LH4TiAoy+S0w0wEIYluZNe9BIoQFElU04oqlApUzmCbHgNBie+sCuS15WicsphOZTRZxXTigsw6nNcMVYqNnGiAWscgz3Beo4Is+Omawk6EvyHGPVJa1BlUHXG/MkWYT2TMVOMWRA9DG0c7K/FZSQCG+22yXk4a1cS2pqwtp04ccLda5sNPXGNn2mHzsMvlaI3ftfYa/8mZf8IZO+FG3eFLwyd4+fA0kzrmzfoE5zt7dEzOi8Uphi6jLCzpPdPA1RWTU4FX3j7Lx//I27z4jceIjhTu6RGXB6usdMYsJhP+9Il/hguKV8qW9NxUyUJnynanRdQq+eQT1zmf7fF86wY/v/0xPtK/wUdbV/hi/Cifv/YYJxaPKJ3hw6u3eKJ1j1PRPgN/9J7W5PsiMADUqSj0Km/mhiAomLy0QbUku/nwQsL+sI0xnq/tXeKoSJlUESc7R8SmptvOOdM7ZDGZoAmc7R0wWYup3urx0uXzmMShTuRcWNvn4yvX+dbeeW7uLBK8pj6KsQNL/ypUnRQXS62a7TtBE5a+mQYcr0AfqWZsJim/LcLcnWiGLFIOoonIvrlYMgKXaqqWSL7FY5kkJIfS9JsdwarG9p1jLEGQ89qppKGzqYT0FBR19EDZAXPr99auIBt9NxNshfPU633M5TuQpqgoQh1NqE4sNCYxNar0Yn2XB5I7AyYXl9B1YOXVim0biTbEnkFXCqcbolauqVJLnth5thA15YNUVYFEe2qvSW1Ne/FIhHmCwgXFpIqJzZTE1LTSZlQY1ZimgWmDIl6dMB51SHcUyWFgstpIxO1Lk7FYUlTdQLInI+N4IKpL3RtwpBPcUkXcr3BBhGWKPCLajPCd4/TLB6i95tz5HQ6K1nx8+pHFG/xM9xqJihh5zdPRhKeXvo1eVuw6x8vFSRyKKliu5Btslj3+jSde5BeT56lrTRbXTCcJ0Y2Mb77zMGee3WRUxKx1Rtw76nGmO2AlGfNycZJUVbw+PcOSHdHSBftHLejVBK+5NVrk2e5tblfLvLu3ilWeH2i/zTv31nG7CdvGo17o88uXlhg/nXDYzhjHCWLz8v0d74vAMCPnuJT5jT7zJIyGimgorLbpa+ukSlG34WrUn0t677QW0Z0KXxmKKqKVlETGsd4acqp/yNWHItR+gt6MROx0bZ+7+QK/Z+NVtpZ7PJXdoaUL/pPv/BTjaYdi1XH60jZ33l6XUVcWsEOLqsAUirojN17QMD5Xg6nRU0N0pMi2ZWfUjXirrkSrUFeC6pypD7tIjF1HJ5tGWwS6OsY8e3schOZQ6CbYRGPJQFBq3mic/zPH13TmiN1+cyJ3O6DKGrfcperFmOVFyRCqGr+1gx1PqC+cEP+OACEEosMGep7oeWay8nrNfm0plkU+bW4u6xR+GDHyiqptSeOKVlJiVJhbpvmgsFpS99KZBy0nqbxmf9oisTUnukPGVTzPNmwDo26lJYOOh13DdEUs64slRbGkiI9EiyIoRdUTl27lNfogEI2gfwWG5yPy3BBiafLqkaHueVrWz6nJRRVRVPD0qftcGy4D8NTJ+5yO99j3NRHiZbpqEiwGT+CshbP2gCo4dn3Jh1NZhL8xfYgfPvcOfTvloGpxKhlw95EFCm8xKjAoM166c4ZyP+XlPOIPPvZddmoR0v3K1kXOdQ+41NkmihzWSv+jH095ZXiGrWmXje6Qb7x5kc8svkudW5KNCUUREdY9VJq9osUkTej9K3Si+pd2mDyw+E5FsIrpkqHOZMesW7IoZpLeugoEE0iOoFjQza4JujSEQ4NWkB9YJpGkt/ftKiEKkDguPHaff+3kSwx9ymHd4oe7b3C1XKPwlgvxNl8ZPwZX2jL62jbcceuE1PEf/sg/5S+982nWuiOu313BbSf4xFN3oXXbkN2z1O0gztENP2O63sjJWzGOjQcCdWAGWColzY2HnmLBiMJzrOYU6lkAmRnfBq2EgxCLBXrQkq3MxE2VAx0CqmTezZ9lDenA41qWeG8quplBiGdm6pg8vETr1hFhdx+VJiitsbtDMbFpehxoxfShRer0ONi5WLH4ruPwIcPkpG9KJiVlRakIzpI7he8ID8Qa4UVUTtOOq3mQMCrMG5OR9ozLSAxjrLiKJaZmZ9wmi2qOakvttHAohuJM5iPFZENKmLIv/pYmb3QwjXxfp6B6au5F0bkZKJYMphAYe51C/pC4njuvMFqx1J7QiQsKb4i04+5+n7PdA97NT/C727eIlG4mDxpPwOOxGIpQUyEZ0tcmD/NuvsE3ti6wlE14qnePD3Ru8p3RORJdcynbJg+Wv3bz45RHCcSefifnmdYtBq7NVtHjgyu3+eKtR+brZHqU8qNPvcE37lygLCwPre1xdWsFfWT5+dsfQVnPTz3yMi8PTvPG9BTPXrwNwHcHZxqLhje+7zX5vggMiCgOrpHvjscSLEYnpTbTlYBrBAYsX4OS/zMzH5Wfw1w5GEUjGKvwKjAsEt6enuAb9y+wd3WJo0+mXBmucrG7w+Vyg//hn/4I2YGid9OhvMBoq5864h9tPsNGb8i1V07BSkmIAtl9Q7of2H+2Jrsnc/H+O4ZoFKja4FqB3qUD3JeW0UUjgd+Ystq86ejXgaoli9tOQ+PMHBpNQhkxzs1sqsDcZi7MhFeQUVsz2hRx2oBHCadCCyho8SsH1P1UdCr3hoTIohKLb8WgLdVSi6haFFQpoKoauzvC9TNCrCkXZxByyepm09uyo2ltecan5XcooYL7VNBVamooXYKrjZDErCNLKqZVNJ9OzI7aGca5oPtiW1HUFqs93TSnrPvzKUZVWYzxTWYk1y45CLhUYQVfxdJbNYfnLeleYHxKpPrrjsjiz7QqUIHhedG8UE4RZRXDSUKWVIDDNOjG2huWkgk3WOKlu2eIzjgG3hMpT1cHDIp7zrHvUq5Wq/zNOx/nIM/IK8tHT9ziswtv8217lne+/hD3n+3xD/NnSOOKEBQf2rjNXtGinZZcuLTH3cM+S9mEWDleH58C4KXdM3TSgm++/TBmYPlvf+9f50a5yjudddbWhrz41gWefeQWr209xM0ra1x4ZJMT8YDvhDP8Z5/4x3xh73E2xz1aUcn/+PIngV/7vpfk+2Iq0e2fDs9/+t+naus5oUpXYjs+uGDnJQZ+pgcgI8mqCz4KcxHVYJpuv2nS5loR4kBoGmShGTeqlsPEjh+6+A6v75/g/pVV+m9KFz49EJr3/uMRR4/UorfXr1D7Mb2rmvamIyg4fFgEa9PdQLGsSPYCyTAwuKgpnprQ/UaLqitQ4vjoeGadHEoZYEqwE8/dz2qWX1VzDYWgoexIA3N+NAHC5kI/1o55/q1rCSZ2euwAPYMj2zyw+K17uNU+LrVzTEfdjbCjirIfY3NHfGcgUnftjHohw24fEZKY0aU+yUHFZCNGV6HxhRCMRt04WY1PKCZnpQc0m1Sgm+91IGQe06qJkwprHVZ7kqies0pnY0mlAkYFrBYeReUMWgU6ccGN/SW0FocrpQIHd/ssvWzEh3PqBeoci+lOnQmZTHkxopmuSyCJB5poKJ9FsajIn50QRY58PyXZsuIvcWFEllR004JWVLKQTMlMxbBKeGd3jTSqeWblHg+3djioW3z53iV2t3pQac48tMO/ffab/N7OVVZMmyo4/sLBI/z81Q/zHz76BV4Zn+WlvbP88MbbfP7+49y+s8yf/MhXWLRj/twXfzfJtiH9wD7WeCZFxB9/7Bv81y/9EGsrRzy7cpeFaMrp+IAXj87x9Xcu8aGLN9gc9/jBjXf5W1//FA8/do+rb57kocfvMywSDkcZ9f0Wai1nY+mI2mte/J1/7rffVAIlN7xXzOthXQX5ILX0FYIVKvDMkXhmDuttwPUcOquFTptWrHTGPNTb42y2z6n4gPPRDuejASeNIVGCaX+3CvyZ0U+yPdbkq+JLkK8YMWwN0LplxRxmmJDsC+R2siKOSd5KkEJBPJDFsPusolypWP+1dA5DntX90ThgisB0RZSYbO4bTwwZK4ZIzZ2Yfdwslub84sQk/4I6VpLWrrlmhOPriOAXbB5IDmqK8yt4qxrRFrGkM1OHTwzxUYVLDCGJKU8tiHhNHXDLHabrKboKjE7H0iSdj3Dlmqf7DlN4urcC96KU6elaMgenmhFvM30pNM5LaRElNSRChBM6ScD54wCoFdi4nAeFyDhGZcJ6b8j2sENeWQGzdirKntwE8Vg+BxlNNhuHk6CY7gbGlwQmXKx7dGk5utAgXI3He4UeG+JDYYGOdIfDtZKya9DdQB0V3C967IzbVJVhPEz50vUn+XKl8Kmnd3LI3/7Bn+MjSUCj8ASqEFGEitfLwJlon993/lV+Zec5tidd1lpDXND8m2e/xd2NRf7SN36QH/3Aa/zIh1/li198jjMLA966u8EHz93CEMjaBT4orhyt8pnVK9wv+zzc2uVr+WP8wNK7bHd77JUdcDAsEpRTOK85OGzT60449fw2P7TyNv/o/jOE+r0t9fdFYPCxouiZxvADYGY2Kt1+FWTn9cksRfaopZKNlUNWszGnWwM+1L3OmWiPDTPitIWOSjBKgCca1bSLJC2ehJIvTNb5i7c+y/U3T5AOBUqrG88FpY9fm92WGzcocFnT2GrSauVlbOZSoSabQtG6EZEvy/PLRTlfdAfKnqK1FYhGMvsvO3pukuJtmDtGBQOoMCdQySELO8yCp53xJsI8c/CRTDFs7skGnumKobs3xceGqLGexwfRiljIKJYT0m1hWqqiRJcJdScipMdNz6qtpXlq5J9LRCCl6GmUV7hMdDmX33Rsdgz1gpRhwTalDwo9VYTK4L2i8gqtA95rtPbzxqMCjJaIM6kiaqeJrZsDoKzyjIcp9p5AluPmPRcLiqpj5sK4uoZaQ76siIYwOieYBdNxaO3Js5owtahCEyYRygRCv2ZkDa17htZ9xVhHlJsxd6Iut6JA6NZQGJRTJGsTVtcP6CU5hbO0bclr+Rku2HdYMRnX65xzNmbfFfzm9HG+cXCROmje/QeP0PvRTZ7r38EFza9uP0PtNR9/+jLL0Vgyo8cP+Kn1b/Pfjn6QpXjCqj3igydvMyhb/MTaq7x49BA+KB7r3Ke7McTg2Sx6HFYZaxf3eHblLi9Ulh/eeJtfyp8li2oW4gktLYH2XPeA33wPa/J9ERhEwm0WDNSxd2JDIJpBWO2zAz504jYf6t3gseQeF+whS8aQKosLs4bW8VuqwnEtqxtq4n035X86fJ6/9BufJbsV0S5ksakmPX+QZiy9APneR/IaZn2NoB8UFZVGVzSUMmi6KgtDlwo7gYOnA+m2Qt8V9KHLFOWC+GWYabPjqePdWCzsRTNBfB7C/HeCOOQYfTgLDM1iFl0ETbbr0EcTVJaIQE0UEyLdnCvQuj2mWMkwhSckMXZniMsWqTsC2y66QhOOR4Fo2ljqFX6Op3APlDoqwNKbMDxjjzOHGZOraajqXOMVFCrCJjXWSpDQTenwoFhp0owoQTAPhbMY6+m/I6UDgbmalLdSttQNsE/MZCSImwL8YYRrOUJWE6U1veURe/sd4kQ+2FoZ0oUpU9ele12T7GnpS3TFJazXm0rQAnppQeEM9456lLXl/NI+v7r9DLt1l9/ZfZXL5Wn2o13+2u6P8OXrlwTQNYnhYcdoe4F8I6LwlnEV82h/m4vZNltVj69vPcSp/iEb9pCNzhAXFL8xvMi7B2tkUcVfvvop/siFb/Lto/PcnK7wI2feoQqWjeSIC9kuj3a2WLRjfs+T3+WVyTkGNxdwZ4742r1HqB81fHztOivRkL/3Hpbk+yIwKA/ZrtSC+ZKmbm6oqgPTJ6f8vide4cf6r/FEfMCCtkRqNr9LcCHgQqDCYVBUQZpCutn2dTPjG/mCbxWL/Llrf4B73znB0jXZcU0lN1fdoAlni24mbTY7tBMTFm/ke7FIP9YrkEmB7Prpriz8YtWRvanJNjXREew8r2ltKhbfqcSgNVVUHXG6Dlrh4zBnRNo8zD0MZk1K3QhJqXDchJw1LF0CnXs10aim6kg/oVrvC7MzrwVMZTRVTz5ycalymEkpI5M4YrIekQwcPlK0dh1VS2MLcaeeUbzrVEaEs2mJqRp5/zpQp4ZiWROWS3HNQq5laJqkyilCbqhqjeqUGDPDKIT54vNBUTsDDY9iXMZMy4isVVBnLWweGq/Q2XVXoOXalP3AdD3Quq/nTWhdgm+BLwzOBA5HqSzYgxRiT3thSn6tS7arOXy6QsUOm9SoBhU5mSRo46l2Mg5L6Vm1Tw2Jbc2oTEhMzS9ce55/kj4BwL07S8SbEY9++jpFbXn0whbXRisUznJUp/im3iuc5fPbj3P53hr/wfNf5Ofe/STxGcfzC7dxQbNftTHaMy5jjPZs2EOe7d7mleEZ/unlx/E7KZ/72GvcGi3iUZxuD3h3ssHFbJs/8MkXWIuPuDld4fcvfZs91+GRaJs/8x7W5PsjMDgRS0FB545n5/mIj/ye1/hPN/4Z56y8xERZjOo0zDXflAiapMkQkgfeiicQKYMLnmkoeaWM+R+2fgdfe+MRspsx7X2a+gTcgwFgRlJqsAE+bpp+E6EiRzUUizICC1pKgpl0WOu+onNPFrGuA8mhYvWVwHQR+rtOeguPHxFd7rH9gYj2vTB3i6pbinQvkO3V89cRjWoRsFkWDMesZFAhSCOmyW6qlgSFlVcnTE6keBvhI0V7r6Dqxag6MF1PiYaCoLTjmrptBVmpwXVi7N6Ug2cW6dwtGJ1M6N7K8ZHGJdEcCRm0ZE8zlKFLNNHIi619rCk7mmgc6NzWjIgJbYcZyUgwZLO0SxCSVIq6MmgtQU1rj+G4AVk3sOkZfLqVCBNz8+NT6lcy7ETKypnhjo8lU9C1gqlkW+WCNGpdEoh3LFXf46eGlYf3UCqw5fuEqWU8yLAnc8bdCD0yhEVPvZ1hJxpdKMHKqEBrV1N1AvbckDQSJqkPisMixXvN/c1Fsm7ORx+/xuhiwno65Bu/8iz93znFB8Wl3g51MNwaLzKYpjx94g5f/8LTcD5nt+7wnz/xT7hRrfBwssVrkzN8rHuF/bLF1YMVSqd5ONohUjVRz8EFcA8pfv2dR1lYGM/Vmf691S/xH13913i0v8XN6QqJrvj1oyd5d7RGrB3wl7/vNfm+CAzeKkYnxTxkuqIwHxrwn534pzxkjwUszfdkAJpEaTRq/viDhwFc8Gy7CX/z8Hn+9pUPM7nZIx5L9lD2GuXpRhVJoNAyBnXpMbgqGOTGSBUMGkGNfqB9S1B3VUcx2YDV7wamy4rpsiIazTr2UHQNex/yZHcMy5+9TzluiT/jXQkK6aEj3Srm0nI+EgKXmVT4zJIviUO2LUTHcca4FONXNQdGde86yn5MnSqyXUc0Erh1sj2hWkhJd0T41qWGqmtwkcJbGQ1HI0e12iKaeHaeyVi4IshI1xW7PaVEgwGlMKXDTpxMV/YKgtVUXTvHTQSjMHlg5WXF4JLFtcQ23jmF6cg4yZeGUGj82JJXGpM4XEOcim1N7Qy10ziX4L3CGGkULrUn9HpTijSbYxKi4YxRqfAxmCkYJaVoPGiMeqdS4iV7hnw1sHV7kWx5ysOnd7h6Z5W0XTLdy1CFJhoq4juJSNLHSDBuyX0wXRPORKylYapVYFpFHI5StA603ko49aNbfHbxHZ5I7/IX7/8Q1ZMTVpIxP7D0LgDfHDzMUjJmb9riv/n878Cv1fzhp1+gpUteHD3ED/Te5ny0zz/ee4axS3i8s8mnFy/z87c+zLvVGi+OLrBoJ7yxt8HO3QWibsnvPvc6Lx2c5c54gX/zlX+HwU6Hq4en6V1WFIuK6tkRF9d3uZtn72lNvi8CQzAiyDFzah7f7fJ3LnyEP738XYxSWI5zeqP0Az9JAJg9Pvu+xrHjCv7S/sf5xXeep9xLMU3n2qXi4hw08+mCt2reK3Dp8TjUR1AtOUyvpNxNCHHAjGQq4RLF+KRi8W1P59aU5CAiWEU0qqVB2bHoOtC6FTF+rKD+9gZ2rGjfd6T7FUfnEknRY42eeHxTu6sgY8vxRkK+pMWUtmTukTnvR7hAMgmke1XTo7EiXdcxRGNPiAzTEynJfoGPTSPGIiWJIWAaJSTX6GxOl2RcW/YMysdM1uzc83LWJazacuWjYU0wimh3hI97TFcsZU+ymGQgn0HntmJ0TvwisIE4qXBOo5NArQ2h1FBpXG6gJzWS9wrnNHVtcBOLKowIdqeeEKAoIiIN3dtSds6QncmhlHTT1eO+QzSVz9U4yR7qlm9s7CVbuXp3FWVmPPQGYWol25jxL5SHbEt6QlUnUE8s44OYkHjC+pC8jDi3esAPrF7mf/7yD3H7y2f5kT/2d/nHoyf5Uye+wL9z69/hW5tn+SebT5Mu5JS5pdUpmFzv4VPP84/d4G9+++O0rsTYHH7pmef585/8RXxQPJTtcCnZ4tf2n2Vzp8//e/wTVJXhY+du8DPnX+SX7PMcTlO+tXeea9vL1KWFgxgiT/8dRdxkouGNDu9stlCrDzLufuvjtwwMSqm/CvwEsB1CeKp5bAn4e8B54AbwB0MIB83v/jPgjwIO+PdDCP/st3wV4bhuVg6iQ80vXXuWP7n4LdZMa/40FzyeMM8UHgwEI1+QKsvEV3xxusHfuv9xXr15CoYRZqLnhKJ5uTD7sdl9ZkpPJm/GgM2Uwk4tVduQHUkvQLACMjVo35WFMz6d4SKIpoE6lcmHpNyCLTCJw0wUK6+JmvHoZEy26yj6mqplMeOqqcVFRHb4UJvpskwAQG5Y4yQTmZU5APZAKNow65cEyq5MO6pOJpoF3Yi6WdBm6uVm0arxtGzet1JEk0DZU+SLijoVq7oHsRGzrGB8UhOUYf2FCeV6d25HHx/JtYjG8plEU4Vymr2POZT19NtTxkVMUUQCRU7kA/GlweUGrT1RVmNMA8E2ghMxUw1jTXHUbdCVzLUtTSnBwZQzjIWlWGLuIYGCuh3wURASVeaJFnKqcYyOHewkFCuQbto5xqXOQsNwZW7waycCza8Hje5nYjicLqAruHDuCh9qXecXUmjfDXxjep6+GTP0GdVRzMFOiikVuUpE/j7P6O8Fkt+7x8uvXSBanjJ5JKCtJ76R8vnBkxwWGev2kDN2n8uHq6ytHLG13eeRM1tkpuLbh+fZaB/x757/Mn/h6ueoS8vJtQF3qyXWTwwoX12l6CmqDuQnxfD3xPIh13/LhXh8fD8Zw18H/lvgbz7w2J8Bfj2E8OeUUn+m+flPK6WeAP514EngJPAFpdQjITwwHvgXHAoayTGZZQetGO22eaVc5kPJvohfIOIXk1ASITdNpAyTUHKvDnxtepHP7z7BtYNlBoM2ai8mHop8+Bwl2ZCKZh/47I/rCqiOg4MdC/FG1xAfzcaD4XuajEE1u9SKnk8vXKzm55S+hSYaBfxrLZJBIF80pAeOdF8k1KKpMC5dO6JOxRBndComX9bYaWh2LtFPdJFickLRvSUEqvTAUbc0daKIR/LYbGHO0noXa9npM0U0DZjS42ot49Eg5yYo6kyEXGZqUCoIGnMWOGZaD94i0vN14N5nWiy95SjbQvSKjzymmMHW5TO0RaD/WsT0kwXjQoRZnNU4KydUAIkjOEU1jagrIyzN3GBGmmjUMDgDUsoU0pNJ9mu0E1uAcilleMZS9I3gXgbHXhzlQsAlQWTYCysj1spgsho3iGlta/wgw9uAnSgm52rswAg+xYIq5R6w4yDZbBAXr2IR2nc1uoAv//Pn+GL0HFFLmrO/uvssZ7IDXtw9hxkZsi1h2ZZlNM9AywVN91fXUR+bEr3awS970oeGRPczvrtzmryy5CHmgq351NpVnmnd4udbH+NSd5tv7Zzn9r0lknbJf3H61/ihE+/ydfMwP7jxLitnRiS64md/6HO42qCvZqhK0T1zxN1rK9/HUj8+fsvAEEL4qlLq/P/i4d8LfLb5/m8AXwb+dPP43w0hFMB1pdQV4CPAN3+rvyPAlGaHjBXmyHDkU/o65dDn3KkCfV1x0iYA7LsCBxQBvpVf4M+/8sPUWy2SA017AnbcNMlSqReDhdD0wI4t22RBz+p31wCntJNdSbtmsTfIQ0k1j/sQ0Owmjd38zD5OpgzHo8/4sME/tALxSGGrIAbdYwdaHQeFk5ZiQTAVDUsZl0qZc/C0Y/G1Y3k1bxXJQU3+kChDVR1Fa8uTFL7pmB6/Hmiyjb4Vq7kyEB3WTNaaCcVEnJzrTMqBGeS8WNBz2rLN/ZyYFR/WuNSQL+oHNCfl2hQ9PVeVstNA/1qNLtuMf3AMCVjjqbQXLIN1KA0OgbWGUqNHFjtRAmGepfQPfF6CJ9HokWd6MpMSaCqvMV/Uc8u5uiP9oXigCUNFueQg9tj7Ka7t50E+P1nRuhFRtwPZbUvx2BQuCx2/zo7LW5D7IliIh83PlYyh0VB/6pDiSo8XX3+Yw0v3uLe7gJk0fJ8o4BPx4SzQ1Oslg75msT9h+FSg1SoY3e4RbwR8ZZmMU3arLn/j6AmmLuKRaJs/e+4f8h9c/YPcvraKGRnqxPGT3/i/8sjJLXaHbf7m1U+ivGL94V381Q6txwccnbB8+sl3+c2b5+le+VcDcFoPIdwHCCHcV0qtNY+fgu/BUdxpHvtfHUqpPwH8CYCouzgnTs18E30S+KWdD/LWdBOPomNyHk3uE6ltTtsOa8aw56f89cEH+SsvfIp4MyIby65npw1gqBlFKovYxM8QNc3ixwuZSdcN5XuGZ0B2vNDYuunquORANf2HlGOuRpBFaBpV5mgiAWVmDzcLFAB5XxOWhKk4G32aHPKl5ibUUFswWglQquGCLL1iiMaBwwua3g2ZfkzWYuwEJuvSDPWRouwaTGMk442i6Ku5wW3VEug0iM5D71pFsZwQtBjcjs5kzesOc06EKaS517o7ld5G5clPtMi2G38LJerLM51G3WROM5ftqq2JR4HyOx0mz0wxVpqNqkndvTPyuZiA0o4wNc0oGFRQc7NeH8ln42LF4UMRdmKZmfjWiTBWy74EkfhQUfUC7Tua+CgwPqkgFps4l3nMSBMfCgiqGlgmZ2vaN6w0c4eRTDoiRTQO5EuK8Wkl0vNHM8wKjUu43F+TE4H2r/dJQiBfsdzcOotbq0mfPKJ+vSfs2AD1B4as98bc21zk7Pkdft+pl/nLb3+SPI/onjli2G2RfHkRf8lx6DI+0b7MF3Ye54/e+7covr7C+JGSP/mpL/Gtg/N0ooLaG751/TxhEHPq4g7bgw4/c/bb/Hcv/DhH2x3WTx9QekunVTD80P+6Sf+/d/zLbj6qf8Fj/0IyRgjh54CfA8hOnAl1S8hHLpWbjU7NoMj4jfwCSgU+tHSLXpaTKsXEl+z6kp/d+Sy/8psfpHXHEI2OX8GMBuyS5oZqmonHdWOYczLmAJwqQAM7tsWxZBpwzHJs+BrGBdSRTClmIKdQzliNag5Wkv/buEc3V2bmsjzrfLukyWZMmFPO7VQx2fBceu42kypm/4snMIU09kwh/hDxMGByETRtbYmakaTbwmew04A3omBkp4FoHBpVJ4V2UCzKKHI2jZlupHM5uGNxGXGpGq9FtFKLjzSj0zF12mQJRtib3grpy9ZhThE31XH2pGtFchDQL2WMLjjsck41iVBZjbFurnKndcCtOqpxTJga8lhhp+IoNcM/BS0cmfhQFm6xIJ/jbDxpJ7I5RENRzVYOqk5ATQ12JxI5fCuZZDSSiYU7UeMjS77h6Fy3RMMggdYqkkFgatVcFkCLMDZVV81h8e1bEgQPL0HnFrR2PMUdw+hMj1OfuMu9r53GPnfImYUBvTjnbPeA//rsr/Kf3/9hvNdwvc3odE779YR8VRjE39o5zztH6+xO2nz65DXMH7zC71p4hW+OL/G5lbdZNiP+i1/9Q/QuDsivZNy1K/zJT36Jy9M1ohGoOxGHixkvvvsIf/KH/zmrdsgffQ8L+f9oYNhSSp1osoUTwHbz+B3gzAPPOw3c+61OFpSkfSEK2KGkZtVC4MbuEtZ6Ylvzbc7ig2KzdRutPL+69yxff+EJutcEcKPLJhA0zEPljndkXNOcKxpEZWh28VmKWIOtpXlm8zDfibxVhAz8zAw3HAcVFWjO10wN/OxfOA5ONOdoxoreyljNW5rMRoKWi6V8Co3giS7BL1ZMKgG38NFDxi/2qTqWYkm0IPS+2LX5SNiYZVeCQVQGWqOq0UO0jT2dZEDJoZvDzMu2fgCCfjxiJYCpj3sQ3ig692omGzEuVlQtyeyyPQcKkoOaYBXFgiU+rEnvjkTCrrlmriuln48MxVJEumcYn2xTn3DUpcb0S+K4Rjcgpzhz1FnJYKeDqi1VJxCWHERe8M4AsQclOb4pIF8OmKkEBDzoUsSCq5ZoPpo8EI0NdRbwcSDeN7TvBZJDkamDlOQAejcUxQJkexLV0wNH0RckKEEyWRXEuyI+lGAxo9BrB0uvS9ngYrk3lt4IbB+dJv7UAWcWBnSigsc7m/zyzaf5r7JP8dWbF8kHKdmlIeFql/wDE+KkYrU9ZaN9xL++9gIfSDa5V2fcqpf40vAJ/u6bH8TvJmT3DetXPfejPiYNPP34LfbrNtdGKzz8E1d5/e4J/HYLXSn+0d1nyGwF/Mb3vcD/jwaGXwH+beDPNV9/+YHHf14p9bNI8/ES8MJvdTKpw2V3iA8lmo90gjMJLsA0Chwsdtiftni9c5I7h32Gby3RvaeIRkHYdIFmwTYLu+EVBB/mSMJ47OfEpBm1WdfywZpyZrwiUm0ehTLMUX8zXMOsO2+KgG7gyTPFpge9JecgqQZVWbebXkcEqprJvgeiIeiGDekj6SQXywE9iNi6s0FrU6HakK97koGifVs1btWyhRY9zcLlKflKjCkCye4UHxlcy5IcOqKJmus5ECA+qjm8IEKn2a6fB4BQw2TJkAx8o6QFdarp3Syx44pioYVLFO3tphTJ/TwQmpH0K6arlmiYYI6KhmHpMUc5VDW6laCcJ9nXJMOYfEuTryjy50q0DsS2xuiA6M8ETObwhUGVCkpNsIFT53cpnSEExd5kEV2JlkW6p5ophQiyJEOHHTmmiwZvIBnI7+sWqFoEXWZgLeVg9ZVauCsBoqEE/mynoli0Qhjb81QdRbY7Q3xqqg7zslU3vavkyEkp1jR8070KWxjunu7z4R98hT+88AIeKLzl69sPU1/tkOaKYmg48/x9IuPIbEXpDLeHC0TrNUMvvbYXRxf4+y99iMWX7Fy5a7KmUd7jWh6rxO/zx1bf5Fc3n8bvJyTbho1P3+X2yyeJB/+iZP5/+/h+xpX/E9JoXFFK3QH+X0hA+AWl1B9F9KL+NYAQwhtKqV8A3gRq4N/7rSYSIIt2Zi4K4EpFtq3nqZqPFPUg4WB7hQNWSA4U3cMw362DATeD7RqOSVDNBMKUMgGwE7mpg1ZELmBz9b0ajM3IUFyehb48KyFmvQRThOYczZw8hPkYUXnmI8aZ3JpLxIEoX/VNf6LBIkSKbEteX3wkYKlgpLEVjaXzaIrGVGUQSA4UrW1HnYrhr25Gk+nAUfYiEZjZy9HjAtKYcjGmasmF8JGifb9CF45yIaZzVzw7q65huqgxFY3pLfNgOQtqhxdidBnjI9lJp0ua1W8PGDzRp32/lLHmYErvumLvqYytj7Y59U8nUAVwDlVUhLxAT3L0MMb3Wpiupb3laW/CYNri8KmK7NThnGkZgiLNGpv6odyidaLYOeyQJJXAqJcK1N3WXBC3c9/Pr7uuAsWilc1gKOes2hAdKeoOFEuBbAeikaNO7HySEo08ySBgx7LSZ/ogPtNke56yo6lakO57kfTrQNkVUJsEUkNyFBp5gMB0NcKUgfZtzU8vvMgkGDZdh2dat2EN/uHwBOWiR2/k3H35BD/5I9/kTy59nb+492n+/osf4s+bH8N5zWfWr/DLn/8Y2fA4+9Sl3LPt25piKfDWr1/i3fwS+TNT/H5MsmdId2HzG6dQjTnxezm+n6nET/9v/Opz/xvP/7PAn30vL0KXns6dnKpjGxFV8QqQsaDg3e0Y2FNNMAjzOn4ml+4NzJSTZ/ydB3ftKlO4qGkwGdVMHUIjta7mIJ6ZJoKLRFh0RmoC5nXurEnpZzS/+ZuXL7OswkdSi+ZrnhAH4dzvCfJyuu6pupDsatI92YlmDEvVSN67VFF2FZM1xcJVTzKoyM+ngMLawOiMpn9NMiJTeHxsoBWjJyXRUYSdaqarMfHQY6YzvoS4g8eDkslaRNkXureZGvo3aqqWpuzIrmcbNTDROhCOgi0CIbaMT2iSgcCqWetQLEbYiYxx7/yuVda+k5Pc3AdrUO0M32mhh2NmXpou0egq0N50ZHuGyfoKwwuO7OQIYzxlYVHThukSwIw0pUooTQy1RrcrTAlL71QPWPnJ+DdfikApqpYiGXiKBT3HNLTuNlnm2M/p7XkD7ppNZIrliDoV7IuLmh5GW/gX0RjGJ0TbQXlBxbpMoPW9m4HxuhZ1rpH0aA4eMWTbgT/wnT/Or3zg59hzHT6a3uad/ATJR/ZRv7mEH7YIGn7j//NRfoOPMl7XZCuKG2qNqFvyd3c/xMJl6XFUncaOTwvxMB4IkCkawtFTJU+fvs/1Vy6QbQkupVh1LJ49oPryv+Rx5b+SIwTs7gh8G9eyzdjSNPJmx0FgtniUkzp43tAzgnCbHTb3QnpKFVVbOtZ1u9mNZmpPSs1HYMDczUk9UHfPAsRsXBbmPQbJLFDgQ4CmlzGTK58d01VFvia1ePeyYf2FMT42uNSw+3TE+JxjetpRLOl5s08XSgxWkX5InckNvf1hiI4yFi57qkxx9JBmfLGkc1sQlnZYYcayfVYrHaLNQ46eXSUZ1AJtrhzlcjb3syyWE/pXJ2S7MWVfjHjLrtz8rV3pRURjx9EZK820fpPBVbD1kS6tLc/wrJ3X48pLII+H0suxRwUhiZi5hOnBEL/UxWcRdlwT71T4VkTRT0kOXRPsDe5+n9qA7wWIBbFIaCY8hSbEAawnDGLGZzwLVxrAVgV2VM41MPJFNc8mZqjWWUA3lYwik8HxPVQninQqPRsXqfn4FSVgsFn22rlXkg4MoxNGelsDuZ5Vphid1kSjhmQXSZPXTmB4Aao7Xf7+pWdZt4f8lYOPs1+1KWtD+fQEc7lF92bgzo87Nn7dEk3A3Au41FKPDCsvK4Zn5X5b+dR9TncGXD5Y5V8/911+7p9/jvYdxfgjE+ydjNfePEv7Y4ccVoYkqQh7baK/t0Ra/JaJ+/cc74vAEIwmRBYzKcUsthdjI0U0ll2zyhp032w3jwEar8ZmCgDH48RK6/lUom5JNhHs8Y0xGznOkJYi7S7n0DPJ9Vp2kNmocTZPnwnVurQ5l2kaU0q62FVHmlQuC3gTiI40dqxYfLeiWEoEluwDi5drXGIpln0jIMvxTKfZrb2B1qZMFOKRJxjP8LRleC7AySnZmxnRtKZ9Y4TLIlxXuCW6qBk9sYKLFGXPEA0dxar0CKKR+GgED3XLUjXjzRneYXxCo29LkJysCoGrzlQjr8ec+CXmLiJcAxqbQ+9myeBiLNdFa1w/Q08rpqc6ZPfGsrO7QNm3qLYlX7SUHYWuNUVXoObBQnCQ7UjKp+rj4CjXXOFbzagz9QzPWLp3avEj6UaUPSMM1cYI2MVNOTgbVevjjLHqSLDzRtS6i56hztS8HDTNOFbXzIFjLtXo0rP4bk3VtaKFWUnJZwvJUqpW81gh+hvBKlRt+Pn//scYnQ189rOvcvlwleXOhHs31tGl6HosfzMiX5bX273jsBNDuewYnrN0PrbD/psr3L6xwqPPbZPYmqFLOf/MPW5wEns1o3cNoqlm5/dEdDtTRuOUU6f22Xx2XW6uX/j+1+T7IjD4WFOttMRktdEM0KXoBsRDR6pUU/uruR6AZBEy55IxXyOYmjSNpkxMWuw4kC8rpicc6ZahWJEPWFeQ7GuynUDRP54W+DiQbSmyvYCdBtKBk3NFIrfmGucjHzf4hiZYhQcEWHWjJm0KCSzFYuDuD1jqnkPVkN2z9K97kn1ZAP2rBXY6k4zLaG/V6Mpz+FDMyisj9CinXmwRtGK8bmjfUdT7AsIpO5qkm5CvxngjzbA6U8RDjy4dyV5OvpY1vAhFUoqD03Q1on2vwk0a0JQBF2laW/K8MpYmZ9nRjY+mBOHZzquLhpMwlpGkj2DwcDy30ju81IYg0vneKoq1FlXbNPRs+QxFzUqEXwRZ2IyLxxKo6pZcW1OBGjagp0p4NS4JeODwwzllL2XpLdc4UsnrsblMVAQkJp9ruqtob7o5QzQYmC5ZOptOxGfcLDMViLgp/HzjmAUVXc3qSeGM2IkgTKcrdg4CU6HRi2ikCONDifplT5Sqv1Y8g51IqWoavsbS2zVFz+AyET62U0+xrEhXpvidDjv3Fjj59Bb3bi3z8s4p9q4v8mtFzOHtPqYShO/woUDVhQvre1y5fILuxpDBlzbwZx0fe+7df+mQ6P/TD5lNW5HcmtTC81fCG4g2D1FFJVhp56GuBXg0UzfyDqxFtTJCGjM5v8DReduAYiT6uyyAhmLZc/ap+1TOsJRN2Ju22H1xnepMwacevczXXn8UFTuqxYjoJUHwuVhuGBNCo8ismqYWDVAqzNNTXcvNaIpGo6CSRTg6HZMvadxuA8qxsP+EbGHrLzgGl2LKniLdlXoxHmmiMfSvl+hJSbXSER5F4YiHM7NbxfACdG4q7n0qY+kdh6kaYxunBMuQe4qVFJco4mGFncp1tlNH+25OvpbMG6qVkXImHok5bDSFbLfExYl8jbQY9hooO+Y4u2kCATXoWUYVN+NPLQ25aBKYrtg5ZsJHTa8ol2tqyiYrMwE7bsht0QyKLoEo3ZexazSRaUjZ0VL6GEPVgdEJQ7bnJcvadZK9tVSjrQkENS9FZxR/VUtDtWwLrH3mYDWHizPLHCUomgYc5lKNi20DF1eNV4j0KmTCJdd0pvStq4ARP2GqlqJ7PVB1JKPNtiXLPLhkaW0G4sPA9icd5/4R9C4dMBqn1MsCzkptTbqY47zCrk6ZvLpIWHV0bsrfUUGRHCgGlzKUU0wnCaYFOPjW9fPvaU2+LwKDHde0rx0C4FOLHR3XQ7OutvzSicO1fmD0ojQ4R4gjNj8r+obpvme6qjl6psTuREQjRbJrWP/EPX5k/W3+xlsfZeeww++8+Ca/fGIJdRjx2t96irO3a+xYEazDTAp07al68RwbER96TNWM68aV2NrNjsalqlhvoWpPdJijj6ao2hHfNVQbfcp+hI8ls6lTjYsVkzUzh2SbUvojnZtjiuWU6KjEtWOGZxO2PuVprRXUbyu612C6Kl32/Q8Ivr9OFcmBNNSqlgQnk0vTMT4AXTnqbiyN3YOc6ck2h+etAHTuO6KJJxjYfcaSHMDSmwWqDmQ7FXVmSTfH1J0YHxtspEh2S3xsqFuG8boECjtpgmOTPc0WRtX4M85GyDYPjNf0vHnsYjUv9UTFi2ZKIMzJ2Shy5ham6oDJNXYqjNGqLaYzZSElgS4bRXEXGpuBZuceSoaVFR5diI5E505OuRBRtTRm6glKz9296kxTZ/KZmKnHJRo7dZhcvg9WUbW0pP+zkjPI94KePMa3iJw9FAugnUyrZuK0dabIVwLxZ/bw/2yFTz7zLrd/9RGmRUySVvz+T7yCwfOLn/8kpoDDh3J6vSkLHztk8A9PgYbFyxVH5yyDpxzmnSXa9zXqWos6g+y+IWy/N9r1+0Ilup9uhI9f+mP4VoxLLSavpXt9NBVZ87wg1DUqiiR3t7ZxjAXfbxMiwzv/txR9GIm4RtfxyefeZVJHHJYZPihubS7hK0Pv1Rg7CXTuOUzuiEYVelKijyZy7pl9fZbg2ymuI3MeM5Hdm6oW/YRpDsZAHBEiS0ilxp+uJSgfSHcK7M5QAkaa4HoJ5UKMcoH4sETnNaqsCVpm0fVCRt2SOG1yGSsGA9HQUXUNWx8ylBs1Z87ucvhPT5AcBI4uQPsOdO/WTJcsRw8rsg/ssdEdsvfXztG7maMbS7oQWXwroV5I0LkjX0uE+5AJGtLmYf66zbikWG/jYk372oDp2T7pnSEhiyj7MT7WxIMSO5jieilVJ2J8IhZ37JFnsmxIhqERu5XdfcbbSI4c43VDsaDIdoIgM3Op5U0pOypIJjYzJY6Hvikz/Fwkpm4JArS160i3C4bnM+pEzWXoXNIAv/qyCOOB2M7POBwml2wuPqwo+xFlVzM8K7JuBJpUP7D6sj8eUTfbaJ0e2w8KglXEe6rusX+Fbjg4dSMpMoO7q0oyKl1LJiM9KQFoJQMYPFuh05qTvxRz7wcEpp9ua7q3pKFuCtmYyq5MP8rOcT8tGsH2Z2owgT/ywd/gb772Udb+cSJ6FRG8/Jf+H7+9VKIJQFVjdnNMXohlfV2DD4RGwUlZC9bi+x18RwKIcoG6ZYhGNWY3xi1XhKnBLJR8+84ZWl+SFHzx3ZJL+zmqnKJqj5oWhDQmRAY1Kea9CpEgVqC1/KzBTCv0tJKAUNVI4aghiSWI1A6lFDiLqhx22vQwSidBzQfQGlVHUl4UTs7XEMaUb6zgRoUAg6zGx4bWjSMGTy/gYiEmPfzzu0zPLXD/Ext0hoGDx2D9RY/NPfc+Ld4Wn/nhV1iNh/z9d54jW1ZkO5a4DtQrXXxmKbvC/KpXY6Kxa6ThEDDPknAE7MFk3sSMDyuq1TZ2WnP0xALJvvSAdB1wmcWlXeyopOpaejdyglGCkMwUk1TRv1FhJw4fxXgL7c2KyZolX1LEQ8EAKE+jeiVjXJtLTW6Lmc6kfLW5o24ZqlRTZ5qyrWhvOTHOOZlSdhWtHd9kJWHeb/BWRsA2lzF3uiealPlyRJ0qpsuGYkkxPhl46AO3GUwzsqhi8PkTTC5WuLcs2gXKtmxExxRvGesGQyPoo+YANl0cg91mjNX5rW4g5BIoyr7UXq27Cp/A4EnBT/hRRDKoWPlOgksEgekiaaLrptk9Gx/PSqBZA3n5W5ZiSfGl048QJzVbn4hZeF1RLvxLBjj9KzmCh80dfF0TmlJBZylEMarbbmzbE9l9Y5ElKxcsugwcPBqR7Vge+uUpZlyJg3OzgFVxIK7U0xxSgeZSlLKom0PVDvLi+DGlCNbI/L32qLKWxV/PxhUzDLGTINEErqBU4/XosKMSfThpni8BR08qdF4JsnIGsVbq+HsQo9wQxIE7MrS2KqJhSdaJQGuy20csvblIvqBI9xXTZY3NNd1rcPho4CvXH4agiF5t09ryckMvRHgbk+6W0vjLNKZodt5YNzW3o3utoOon+HaCa0diiNOzc+GZ7uUhIdLU3RhdeqquxRSeusmoglXYYUn/rSnm4R75gqZqCVahdS8XtaeOJV+SkV7ciKtU7eOaPt1rejUN4Eo1ZsAALjHUqfQVvBW8Sr5gcOtmDkk3hQcPVVfk/2fMyGgkWUc08phCNCyqTEbZLoPReUc00NzaXaTaymjfMQQLC9+JGW9Ig3WuIN6A4JSDZNjMsJHH6kTN5QBnNHhTSKCaGQp5I6Ve2ZNmat0S7ofyEB0aqp4ju2sx4ylBJ+hKssbyRMR0TRqWdiyBYXwKutdhvGZQIdDa8TItmsLBr53EnQjYptcmDdDv/3h/BIba4YsCZS26ncHKEvV6X262gymqqOcO0CHW0gjTimhccerX9lHTpgdR18fnNIZQlKg4kpS/qo93+qZkUFVDucxSeHCBKiWBpfQSAKDJJmThUjsJOBjQmpAlhMSgixp7MAHnG7m2mYiKl4BkjdjENdkCIUjGoA145G82N5oC4r0JKIUdSNobkoj40GGninGzJdUZjM7C0mN77B+20Tcz0v0w754HrbBjh0sl0Hkr2oyzef/c2KZx+gpWoyoPkW7qaoMuRTNCeB0yrouGNXZYUC4dMzJdO8JMFNFRjS4NphRV6aoXEbQiXzTYxgxmBh6bsVuVn5kCH6NHtWsmIVZRdXRjehPmuhezlN3FUqvPJwZBgl6dCSMyHs7k6WSU66O40eUMVE6x+JoWqv+tdsOvObYB9JFkAyCZgEwcjke3pjiW+TdlaODv4nqV7X9vM3M22Qq6eb0O0gMJhPmiICgPnoH8pEOXbt4sBSj60ocw50fktWG8m3D60W1ur6yS3rd0P7LLwTdWmZ5wJHsCFdcl9K4JYO7owm/HjEEp9LnTVOs9qp7FxXqOOW/XAeumqMphyho1cMTTggwI46lMKZyDOJJyozkf1qBUkyXUNaF2KGvAxIRWEwiqWrIDLTgKAFWUkgnMFmhVSw8hljRc1Q4iSzBaFr41+NRK/0FrmZyEcHy+WflhpIOupk2AsDOk1QOHRnSvmnJF1SLRhlEE2yglDQTrkW5rwXEoRTTOGI5XaU9kJ0kOA53bU4rFZA7i0qVjupEI4rP0+ETPtSaApoTRTDdS0u0C6kCIFWbqKBciss0pdSfCJ4pKWeJBKaWYP1ZtqlpN0NOK5KCU+X3lGVwSFS7txHsjaHmrs/m/6Dc0TuGBOd+lzqS5mO5VJHuOuhvhEvG0UEF4Ip17NXtPRGT7jbT9rGcWJKvI9ry4dc0g6qkVhG1jKjzDr9RtmKyDu5DzOx55E608Z9J9vrD1ONd3lgg323M5wEc/dZ23f+MhVp/f4v47ayy9ptj7eAWlJr1vmYn/yLRDlMhdLCjWoCRQiVtW0yiNZRIFsPFVzcFjGpdFMmnwUCxaercc2Z7Cvd2ZY17uqDWefuYmb0zPc76/z61PBaqjFv6wjdLQuSl0/uGjFSr97QhwShOq9R5mWhHtjqSeL6rjDxlk5y/lsZAlskC1gljmWmpWCjgnC90alNYwzQm1g+AJlUcZg+ummMPpPAvwrUQoutPyuGQACR5NkAmR7LjBmuPXpRQhMui8bpqWXjKJBnehak8IBpQlJFaygsg2GQuSxSh1XJ4oRbAKGnn8oBQhMXgrv5/5QpRtC1phCkdQouC0cOUY1SlcgYRgmo59plBN5yw+qkXYpW2apqNH1558LW3Qj4YkEii1bRZ8ujXFpZayZ6kTTVzIjjYrK1p3RozPdWQBWt1oTzYalF0j2P4Z4Cg7rvl11WhYKDVHs5Y9KUFaOzVVWwLPdCUi3VPoyoMPJPsOQiAaSrA2BXNKOUo1kwrZtU3ZcGRC4+nRsnPvkq1n4YMffpe3fvlR8uXAH/vxL9A3E+5XC/yB/kucs4Gv7D7CyaUj6oUR/79H/y5/6Jt/gh9bfYPHf8cmDyU7/Fd3fyeEiPh+JEAqK3gJ4Z3IeFsWuLiqxSOPLj11ywhmoiHQxSO51vFhTTKQe2qmTh4PBYnqYlHbcinkqwG7OmVz1OXMk5tsjnv0k5xHzm3zratPCthpIkGp+njOueV9br6HNfm+CAwqL4jeviM/FDKBCN7P8QqhrlA2avoOVjIAHyQYRHae+s+I/SFLZGoxySVdn6X9xoDRmMFEdnKlCJFGT46FMmcLX0AtgWCN7PS1NAlV7Qmm2cUjA07KAYwmxFbGq1FTMmhHyCJ8bKX3AYSmHAlaoRIJOEEpfGrQDWw1GN3UsQHlvHAnyppQSmAInZhywTBdtlRtEf7Mdiq8VaLvqKTeFix/JISrjhZJuWa3UT6Q7TtcrDl8uEXv+nRuYJsvxSQH8nrLnsUlWgLGoMZOBbBUd2LMtGmWpUK5nv39eCDb8OHDmUwEho08XdwgAqvwPWCimYu2j4W0lE08oxMR7U3pyaAV2klGYAovwbNhte48l9C/Lu9LGoFS67sU2ve9XIeZZ2fLULUVkzUtmhInx3zn1hnijx7hRglaef5Q9zL/6b0f4W/Un+DTvXf5xNI13hyd4InOfRZ0yR956jf5C7/yE8SXjnh24x4//YEX+EdLT5F+eYHOPTfXoKgzZLpRNEC5/VJKNKU4vJARTT31A3qds2sg8G6PLmvyFUW6J9doeNow+cSIh1b3MdrjgyhVOy9M4MoZRlXMlasPo87nDHSKmQortZxEvDtZf09r8n0RGELwhOFQFu6smeO87PI+gNLSe/CBUFYwzVFZKtnBLBAELbu9mfUHKkIcSdbQZAbB6AcCgpWSIDJQ+3njb3YTBQDvCUl0PFasHMEYQtr4MgBEsjAAyWCyCLSSvkI4Numd9SdUWc8bmrMAFCI7n4YIB2OG8RZsBDTptQaXWkanYw4eVZSnKig0Ky8aoszIwho5okGBLmqqpYx4IDJsra0KFaDsi9y7i5QI0ZaBdN/J7t4ShGe676gz2a3T3ZK6ZcRXYySj2nwlxeR1cz0dPhODG2VEu2B8KhV0YzhW0zLVbArTAJcahGB8UBMd5OiyxqeWaiFF1x4fR7hMkxyIv6Y3GlM4lPPokZjkqM0c+8gGAKaUxqNLpVSxUylRzPTY+2Lmw2HHYmyr3u6QDWHtd9zh1tVT/I9vfJJvbFzk+sESa90Rj7Y22Sx7/LH1rzIOMV+eXOSvfPtTxDWcXDji27fO8q2tR0WV+UhGobqa0fxnNHABuqnKEyLN+ESC/pltzH+3LNZ69azfM+tjzIQ8PHUK25+pULHnsTN3qLxhXMVcWtihbUq2iw65iyidIYlrKmcw1uGd4dxH7nB7bwGtA8tpydH42Irh+zneF4FBGYteXYGqwh8N8TNAU/ASFGIh4wQnF01ZK5iGWQoeAiGJCQnHHo2uWeBpM1YMQfoBWSy7uZK0Eo84NRXN7jTLOowCa5tegJnjDZT3qHGBnp0/jiTYhCDZSyW7qGoWPjP2ZpOtEIKUSjO8hNGglQSAGV28GZ3OspOQGJwVvYCqH7H12ZpsISd5o0frvjD5TO7QlfQEdOmoF1LqlpQLuhJ4b90WwpUpAt4a8mXFwmWHSzXBCpCrc78iPihwiaHqR41kfSAe1OhJhWuLgnTQShq4AWnSKhoZO1mA6b5rmI4yvYiPgtDCJyWum1AsJkSjmmhvLEHSaHxsSe4dUS+26N6qJDOYXZLQZE+Fw3dighJ07LG1oJpfP6Gvh0ac9piOHTSkg1nWZOYktRuvnRRD3Zc7vHIpxiSOO5Xlz+/8MGsLI17eO03pDNMyQk0M5XrNpIpIsxJ9tU1y6EUeoEFbRuNANPJEoxpdOFxmObqQzZGY46+usxoqVGjus6avIptI8z60pnfTo13M6NGSrVGHhxf3iHTC/UkPqz2r6YjcSTlVOUNkHBfW9rh72OfKzXXMXkSwgd6ju1Sbx2rr38/xvggMaEXotlDTApXn6AcnBFpLyVDXKBPLeFArQr97DJO2sotLQ1FLzZpYCRy1R/laFmVzXpXXsuM0fgsuMUSTEjWazPsY81dgm/OaBzTzwnHgmQcA7wneS5BocBDzsqRuglUxo3Kq44DRTDmU8/NMJhglpUpscamd3/DONHj+sWVatugMZU4ejR0+kSkCITA53WmQdh7tIRpWuNQIbfiopliOiCYevIxXgzEUfVHCmgG8ooOpjOasAi/Q3/xECzt1JHsFxVJCuj1FjwuU1RRrbXQd6F4bEaxGTyvUOMdlq6S7JfhAsZSge9KXiA9LiqWEcmGBbHMqILO8Rh0cUT60QLKbY0YFapJTnVhE57WMSxcSVCU8EAm8QDMeVA1sXdeSMdhJ8xyjpBypQTfenqaQoBaNYe3F5jMl0LkbEXQ0R2nWrnXspxopOjHUbcPBrY1Gbq8pgxoRn1mpFA8rzKRmdK7F5scVbBS0XsoojeAXZiCpoMWwGDcj+zV3npeRcrIXKNolBzcWeXGrx+qJQ2LjcEGxPe7QiioWkil10Pig6EQFl5Z3eMevMck1xAKlPvfE/d9+PQaUwicROgRUu328KB8EE81KjKan4FsJqnLHmPZpBWUlC7PZgTBGyo3mCHkhQadJz/VhM20wWpqds138wbFn4xKlrD3OUGaR3XsJJCABoFncspICanZ5myCgqqYPYmZs0eNgE6yRjMNqfGbxiaFqN91/Jeg237Ale1d00++A1naNnboGDWhQDWy3bsm40ExrfGTwkSYaVk2/ImCnjvVvl81Oqyj6hmS/bNy4LMVy2rynQDwoGJ9tiy9FaohzR7Y1perGcm1qT3RUootapi6z7CmSsmWG31BOUmpVSUYjVG3F4NE2vaua6PomfjhqIMRa7ontPaLbjlBVqHYLnafUixnTkxmtu9O5BqO4iXm0Vdixb6DLdYOCNPPPtuqY+aKfKVDN4NqieXl8vhmAaDYWVWM/F+OZcSFm8G/5QOU80yVN3hcNzaOHQZ8a4++0GD8/JXs9E0WpGcekmRpJUNPz8bDQvaGzWXNQGX7ww2/w9ZsX2L2+RLQ6ZX1hSFkb9sYt8trSjksi7RhVCYWznF44pO4PeXrxHu8ezSzqvv/j/REYQpAGoHPHQaBJz0NdQ1F8z4QCpTDjtNm5nfQjvAPn8M5DVYExqMjKDWEMKokFoZgmsnjLCopmCmH0HLAUvJfA4R/4e85JrwNkIShFqKomk2imH7O34r0EEaXk/ThpTM7wCTRjztk4c/a8kMXUvRTXskxXLFs/VtJ+3RINDelBEC6DFrDL8m5F1ZXg5hNFmciI15SesmfQtQSFeHuMjy2+FQmoqZR+gJ049p5KWf/moZQyIdC+F8hXIuzUU7elY05QREXNdKOFnXjqlibdKbGHU+p+hikcLrXYcSVTHqPx7VSyHa3wsfkebIGeVNLL0RBf3STyTZq/sczkbBd7tIAKATutCVZTrLdI/RpqMIKsA7VDH47RaUTiAvtPdEiG0mCcCe6I+a+UNj4xx0I8CGjKVw0GomlUzmT6YYYZmE2cmHNa5iY/QaF9QwRrFMN0HebBZIa0NAUNb0LYs/6gQ9kLlOOI6dNTOi9m86A0myKpENCmsUOk6Uc15UXaKvnyN5/Ctx2PP3mbt2+e4O7ddfoXD8inMUVh2Q9tup0pRgfacYnRnke7W9wYLXN9d5liEr2nJfn+CAw+wP4hIc/nTT9lDH6aSwPSfW+0U8YAh6C0LP7m/4QmvRexgVr+P6C0gmHTm+h2ZfSZxLJLz/6eD4SikIlHUw4oo+fIRilbnMz3/5evPwRCCCilJEjMgkLzO8pqjnmYBQXJVBSuHVO3LAePJYxPBqKhQn9kALd6TNc9+bKibmuSA0V7q25AQzBTto5Gkt3kSzEu1iQDIfnUbcP+c4ukBw47ddhRBbXH5lNCZKjaKWb3iJDEGO/hxII0zcai1wAcayc0JKB0p6RciKhbPVqXdwlZQt2T87iFDjovhffRS+e9m+y+lAk0+A8mFRhN9ZB0yc2oQA+nxEcpxUaHpCgxo5J8vcXohMUUGcn2gUyY0gS0wu4Ocf02i2858vVM5O6cjFseREsG1WiAeuSCzeT7mpJypvIlP9AwOWcALE3RPVanFjUxCLlqFrKUVyrQTKaarKWW88/IZNFIQFvxIYS7BhUMugzkC3qOxkQ3o2kNdaTFzCgy1M2IsrjRhbUCs52wP21x7tQuNybrTF5egotTqmGCKjX7RzGmW+G6io+cvskPdt/iqJeycGrC+WjA4+9hSb4/AkPwUJWEspRFGSQwhAd37Qcyhnmqr438XwBj0FkqI86qIjiPjhsQkjGSLUQWlQq0mqJEhUiCgzFgPardEtTigziFbusYNdkEEJqdbk4Dn2EqokjS515LIMD9pEnNpTeQL0kgiiaefFEzXZlxBAL+4QncziiennCmM6Yc9ek8s8fBjUVyNNNVqLOIZOBpbVW4SAxkXaTnNORsvxmJWiXIxLESQVMPdlCgc8m7QxKx8qoEK1WUgq48yklD4OhCRvd2gc6laWZyea/CjzBkd8a4Tsz4sVVaV/axRzlupYcejPH9lkxrvJDOZr0Z189QlRO8R9Nfie4dzMuxkMREm0PyM33K04tEg5zs1hBUF5cYJs+ekUnDjGvSTI58Zsk2pxw83hEhm0aaX9UelxnsxFH0orksvm4QlSqEBhl4DGeeScPNtDBd1Jj9WAE/zSYp8VBYksozR2EK7V6k1nTZjGNDownhOM4uHhABUl4AWi6RZqU8DmXaaEh0ElSAyQnFQ8/doXKGu2aBD6ze4au3H4bUUy4o9P2UqFLUHU+8a1FbFv2BCZ/rvsFzyYC+lhF0otrvaUm+LwJD8AE/Gh8/0Ki5qhm9WkWSGTRgoFCWxzuykp1dpQlEMTqOCJ0Wvp9Rt6KG/y/pq66kubbzXEK2KwIuwUA8CFRdwaH7OKC8gGOEfShf0z0ByJg8kA48kxXRTMgaUo5oJWpaOw6XKiarmsmGOCCFlsPuRNRLNarUtO5InTs5U9N/2xIujakPUpJc4VXg9qsncOsVZW2JBhrz+JAn1je5+vceYf9JRdWO5w02rGG6bIjHkk7bXBaOCL9KYKpbGtuJMQdDUIrdT66w/s/vCGw8lumOPpoQ1Z7WlsVMa9nlAV1KSRBvj6mXM1wnRleOspsQHlkm25xgdo/w7QyUjGmDlaxJ1dJPmHNcWlIm6nEhQbeZ6KiiBGNIbx8SIku9kGKPcnTR9C7ySpi3maXqxzJSnvl3lH6usuUbIV+wRGPXlAIiWjODNwtQaFY2zLIu3wQOKUHc3AA4MD0F6RMDFtICHxQ7+z38IKZ72TA+rUSlayQakMEyh3y7SGEbZTA1J3UxB115I/qZVVtKHZsHorHDFtKQLhdi7NQTDxRXrm3QvhLhHi/Yzjt8/NQNrvWWuXZ1nfRuhCmhnBp8LIbNR+OUb44v0dOv8WhUECnNxFfvaU2+LwKDimP0ubNN997P6/JZ2u17GVUnFnv42FB3omMkW6Lx5kEruWNl55mdnIuZeyZMT9Vka0fsHIrs1U+d+Q7fOTrL09273M6XOJPuc2Wyxs3REivpmMxUFN7w3c3TFHlENY5I7kXoUlEswviUdLAnFyrUFEZ7lmy7SSltIBpoXKnwaUBVGj3VjM/XLL5iqPqG8elAJysZ3WxjpzA+irEncqKbGSPdQp0t+JlL3+HFg3MMnqqJ9gWv0LknKk/Fgm0EZVSjSt3It7UtZc/MvTVGpxOi5Q2SvYrRGcVaHOEX2oKq1GouwguiB8lSgp02wCGrqJczVB0YnUmpE+mk+0hRrGSkeY2e5LjIQCKTHjMJMhEqSogj9P5IGooLbdGC1LqBe2spteJIplJlReQc+ake07VIaviJNIZ16Yn2JvP/G4yibkUkR2Fuq+eNIhrX2HFN2YvQTaZmygb+HKTkeLBpeO8zlmSvcZ5aVtRPjTBvd8jXauxCyXCnQ71ouLi6SwiKndClzsTzslr02IlgPnQuAapqphhlXzwtTOO/OStdZq91pmIuE0dFUA3EfCKBTNci3LP4HUvQsPrFmLfefYTpCUe8b+gdHJsq6VKo4kFDfbXN5/uPsR4dkqprdHXFPxo9xfdh8TI/3heBwWWG4VOrpPulkKbyas4twCh80ozwGhhw1Y1wLUPZFqKMiHvI/FfVQlBJhoLQKzuNGGyrcRIqNOv9IZ+8+AqDqoUPmj+0+gKGwJd2HuXz1x7DO00U1yxsTPFB8frOCSLjaPdL1EJgeGUdAkxOO3ShRC3aBM7+E8+dzyniI020F2jfgez3brH59hq6VLTOHzJ5dwFiz3TVsvqS494PBmqvqfvC+kuXcs4uHXD31bOYPGbhY1u8NDjLO/fWeeTSPe7/47MkB57pikF5A0Fm8zM4c4jE/EXXgfjISRC5fAhlxdEzq0L0msLw6VXSPannAXQOZn+EW+hIqj2aCjlNa4qH1wSrAMSHDtXRFD1N+35Fem2X8tQiUQiY/SPcSg9v43lfQdVO0KNpDGU170dgFGqcCwW+IbuFLGEGM48HBflyRNW1xDtC0FKVx6dNE+0BUFA0dkyXLN7CwrUcMyo5utRF1wIwKvq2sRloxsNh1kyUjKF3TVSUglaUC552WmHvBbofPkCrwNbhEuqlHpfjHtGoaXXUEB8plJPy8OhhaN9tsoIizL0fiiU152MEBeUC4EUoNh4cT0RcLFJ3xVJA1wZvZfcv1ma9Ksjuyued7AgGw6XS6DTT0NgQSqCwU8X9y6v8z9EHGK6nfGPvIm99/QLwhe97Tb4vAoMuPZ2rh6i8QjUwZkC6/0WJrWuscw1E2tOKrPQFlJKyQysBPMl/kqyjmS6ENCZ0Mlw7puqI+Gn+4gl+4ZmTcH7Mcv80D/fP8nB7hytbK1SDlGTbcPKTd/jYwjUWzIQvvvEYVBozNKAC/vEcdRCTnRxRXO+S7BryxHPz94EqAnUGZUcxeKZmsLUASyXPPnSLg6LF7XoBfWjJz5XcXzXE+4b4TE2yJVbsxSTi2tUz+A1PcnrEYNSirA2Pn9qkF+VslZIdxWMxyRmvG3JlZGxZeOzIER2VFCsp6U5zLe9to5KY/ks1o6c3WH6jpvPGNkfPrVOeTVl6dYAa55KdpZKup/eEIVqcW8aOSlReo/ICM0mJOwndazKCLE8vEV+5z+SZ07TezdF3dlDLZ2FnH9VuEVqpBJgZaa3XlqCQC2rVL3RligHowUj6HkcTQhLTvhex92RKfNSSceu4kpEv4FsRLjGN0KqoOHfu18S39qlOLNC9NiZfyzC5n/txEAQNqWsRUPFWzfU848PAwROBT3/qDf7jjc/z9x/6IH/nrQ/R/3wb/YM5PrEsvOMbToaIshDAfnKfJ1c3udTe5q9/+xNEOxHm4RGu1pxb2+fK9XXUxJDuGLFA8EIDn66JkIxPoGqHpgwI+DSgp5p4oOaWiMEGSB2TcwFVKsxEmtEz2btgFNRhrhhFgN5lw1V1kr94c53eazHt/H/VMv/fPd4XgUFVDr19IAtfqePm4oPajpGVxp9W86ZjmObHz5397oHew/zQCmMM1lqySARfFv9JJROHfoetUw/x5hOPk2aK+iEHQXHl1hpvdE7xSHuT9FZM77qIo9RtCLXmkWdu8+6tDULHs/yqIj+pQAfRhBzDdB0euXSP9dYRj7S3+dv/4Idof2CX+LEjyrd7mI2K2gS6L8cc2WW6dyUdPjof6F2D9Z++xe9ZfwWH5vJ0nUTX/OLXPkq3manL+FEUpLOdumk4urlxjks1+mAk5Vm7Rei18UlE0dd0bxaE8YTeb9zAry+x/8wC01XFxjfH6MphxzXVUouw0iY6yDGHY6n913qCGE0M9t271JdOYiYlfn2J1ttb1OsL2C1PvDMljMYNKM1IMza2AoYaTzHDCaGTySZwOBSIeyuDRAxpQiTAMF3U9K9XqNLjW1bwEHmFKkpU1cZYaQgXa20RnLmyC1WNSy0u03Re36Q8vQTKEI9cI2arGs1HTdl4hxx+LOfs3zVM1yKe6Nyjrx0HdYssrRidVmSvZ4SPHDLM+wJg+sw+CviB01f41Xee4tL5bT7evoz5sOevfvUHcLllY/WQ3VGbaDviD//ElwRK3S4pjxLiXkH3822ma4rP/fhL/NpLzxINDNVSLSzIPG7IdGDHGpcEglcEK70VnwSKZbm1Zw5Tum4mSTVzT9P2TUM00vMpzXs53heBQUaSDTeiwSYABNdgApwjlMKaVEqBkecoY2R6McswjD4eNVp7fN7ZvNw5KJvO/Gy8WBREwzEnrjR/JwSU1vi1Ra4vPcoN/winVM50LW7AQAGdOHpxzocu3uCoTLkyPEuybWjdg+mGpKXlsmNcxRgV+MrOJYr1mmKnB5Ui9tD6RpvxycDwAthRIxl+r2ZsPfsfrDm8t87fKj7Kajbm6v4yl5Z3OPlVqFqiXC2K1TOH7tBAlz16Ws+FQsaPr9K+OoBahF/M5h5HP95n+dfv486syeKbViy9OkDvDxk/c4LRSStw4jLQfX2XkMW4xTb6SGjXLtGSiSx0ia5vCWy8k+GWepibW4R+F7N7CCvLwkXRCnV/DyYTgtaCRlYKkojQzlCjQIgjQr+LygvU3W10r9vcF4FgF6h6EXVbM7zUp/fWASFqUS+kRHtj6kXJJnq3Cogs1XqfaFgy2WgTn1wEZPrgG+MYbxWkkiXoKhB5OP1LltEJw/TJKe+ON/hnZsx+2WKxNeVnfvor/Jdf+QlaL/XJVzwf+8Tb3Bou8qMn3mK77PLvPvNVTkYHfHN8iZYpCLbBI3hNNy0YnCi5Olnl//7RLzByKV/YfIzNQZfpuqLsBb69cwY91USHCrzFR5ZgA/npCj1ssCq9GjU2KCf0WVUr6oWan/zgS+xXbVbiEXenCwzKjHfvreMOI3SpMVM1V+l60KT5+zneJ4EBATEZw4NCryqOZFcvGviZc3P7hdDQq2dEKplaaME4PCgWO/8bQYJFg3o8Dj4ONW3wE83vgnOoTU+82byOLCW+H9O9muDTiKpjuXzxUYKGyalAe1PEV6drivxUhUoceEU7Ktkr2lx59wSPPHKP5XTMlcEKu9US1dCQHCh6NxwHjxgmpwI+stjXLZGH5c/u0opKBkXGaK/FG29e5OxWTqahWBBZMlM0japYQDiq9ASjqbuR0HwHFcWJLtFREww7LZG8X+iiKodrxdTdBHtYUDy8RuvyPvGgO9etPHxWxHV710WNyo4q6laCtxpbO0I7w3dbkvGNc1jqC6clS6R8qGpUrSCJpYdQ1/PsIOwNYG0Zd3IZc3sbxlP5HGe4kaZsjG7vYZZ7KJdRdwzjhxdI9goR481Los0Ku2tQRYlb6gmpK9J0buXo0lH1hX4+a+apRoSFBv3olegmjE8rPnnxKi/vnOJb98+y1JpyZ3eBw5MZf/CjL/DypdNcf+EMpTd8YOU2//P15/ih0+/y1vgEVcuwHh3yt299lI1ze5xoH9GJCo7KjB//0Ov81Tc/ztNP3uX14UluXltDTzWhFWhtKqb312hFDR29UgQbCCsFVIZoKOxIPYjJN2pMv8LvxWinsJuWf/jVj2DHCn9hyoX1XX5o7R3OtA8Y1wlJY6j5wv2zjLY6YN9bZHh/BAatBUPQEI3CA6NJVVZyQz2gXRAatqQy+liSbZZpzAKDPy5DZsFCpWlTqjhULXgJlD7mQczKDyOZySx7EC5DjqlqtFbYfUuyHUutXHt8anGZZbIfk29bUNIsvXH3DFXPo7o1f/TM13h5fI5v3z6DGYl/w+iUEiu0placnArNDNsxubtM5+2Y6XMTkrsx8SHCbFxOsBNRKZ5J1yvXAHdiLXP+ytO+VWC3D6lOLOJjgxnm1Gs9lt4WNSxV1tiyxnVTQqSZbMTUrSX+/9T9d5SlWVqfiT57f/b4c8Kb9FmZWd67rrZUexrTgFpCQggQCNmBGYRGEnO15O8Sd3SRdEcGuBLDwAhBA41RN21o39VdXV3eZVVWZlb6DB9x/Of3vn+83zmRjQxdunPvKp21cmVmZETkiXO+/X6v+b3Pr/bKJt51kZ7vPjBPVlNs3lcn6FVpvTaidnFIXvdlNTwUctXU3bow0mx0NKZVR/eG2PEYVa1i43IFvtmQz41j1DimWGigm/WpjFrt9af7KtPdlmtb4ph1fIHRckD1SoYal30LawWmEwY43SGANFBvcNxOG5pgrxAxUmkUtO90rhiuaLx79tiMGmxvNnnrzeeEGVpN2MtqHPD3+M0r9+EfH3J+b5annrmJR+4/w++8dDf1F0K+sGTxu4qZt6+z06vx0MIltpM614dNBq2QdOzxLz//XoJth/Y2U0JUVhMwLLYsAXI4+a4LuKrgzCdP4A8kwxEDY5f541tsBzWKVxri7j0q8fTPVrkSHOIXFlbRcwlBkPEDJ57imd5BxhebdF4TPsYbebw5AoOjsfXqVB1ofNkZKAJH+Il5mRUEgSxMjeP9oFAYbJIiqppyNyKb9CIUSpWBwr0h2PhaAC9ltjHdfARIUqxV+yrKSaviBtEThcHpjTDVUKSsuUHHOc1hRhPIGr7IhV9xSNou0azP37n6Z8hahs6RPZKTBb2iSX4oYuZVH53KFiQHxjgXKqwc26L/8WUq24bqegVlDEHX4O6MyA9Vpnj9wlMEwxwnLjC+w+BgQNA11M7uouKE9NAc/oVNzFwLleTs3Vdh5uUhRU2cp51Rirs9YHTLPOFEHBX6qO4A26jQvCh+okWoGS84DI7W6B3THPjCENOuoaMM99ouplXHVnxZTy/l5SrNMLNNVLMGvSEqDOV9cjTFXBMnyzA7uzhzLdjchoU5rO9i59tC7C5H1SpJUU4IeYG7E1FxhW7krm2z8R3HWfj6LulCTfZKysWlInTx1rrkiy1RH44M8azIo8O9QkagnpqqD40L40FIdWabn3740yTGY+74kG9vPc9PPPP9mPN1HAVZ6BEfNISbDltRneMHtrhabeM/1+Cm973OhY8fIz9geLJ9iPvmrrB19QQfe/ztzGxZ/IGl8O10zXpwSJqXuqD0K4V4wTIbjPjSk7fSHEoJpFMBrtSuQWY0lSClV5G/T0rJvCLLYOFpjZNW0HmF//Pwu3FHML8hwGC7/caO5JsiMFhHY2shRcWb4spM6KDjMt2vVyDwJAiUcmbje6iiQA2jsumITCbK6cRkf0L5ZUahJypILcKavJAg0G5gfBdnq1sqHWv7i1iTu5YS3uI3LXM5WkapuuQlZIXsAVCyGguLjh104uGOPYKewEyTc3OM7ko5+fAVXjuzwsJPvk7/905Qv2Lp3gz2+Igr5+fhthzvGw7VrUJMXhoadaxD+5kthrfOUnjgJpTiLYVODc0LsXTqKz7s9vCeP09x6jDOZhcbJ4yXF5h7tqCoOVglWoDxoXkqlwaoLMfUA0bHO1QvO7KglhWEazHWcahdsvRPNGifK0g6AZv3eiw+lVI5n2LqviDqA0+ykbKvo3f64DqM7lyherGH6llsnOCs75EfWkCZeZETNxrCxNztktx5hHB3AL40Fk2rxnQNHggu75EtNonvOsTClze4/L1LHP71K3iNGslSDaouWdXFc+RnMOX7P3GX0pkR4nTFJ6vLXkLQtQwzh5ceu4lz2ydovm+dU+1Njnt7JLsVKicGmJebtF+DH33fF/mn8ftY//1DMjJ8x5DwgT02R3UKHxZObLP7tSUe21xkNiuXo9S+j2o8ty+zrmzImDGrKbKG+IR88YWbab8qjl06p3Q7N+iaZrtb5+6DV3HfssWTK4dpfEW8Ihw9cUq31K+nKGNpnStRd+XeisrfWAPyzeEr4S/Ytxz/UbKFxvQCcEcZ1lE4fdl3sJNFJUfJnzWirIszaUTGwlKcHuYJ/alemXooWq3Rw0gOfrk1aRo1uSsNRpJVTKCvMMW0YQymXpXV7vJhfEckw+McJ5JBdVHxBCQSZ6LPL+9uWdObyqKNp9i+0yFeycCzhJd8JvZn4T27dHdr/NSDn+XXLt/P9osLIsPtKrK6pX1WyobqRolxz4xAXq30E3ScUVR90Sqs7UkwQ0oQ63t075mj8foId3tAerBD0vEINxKcQQIaTNXHBBLonGHJdCwsRVWaiDouMIGQptx+TDZXpXckpHk5wduLyRsB/rk1UaYqKd3saIyqVckOzWE9jbc5RPVHkq1VQkyziopSTC1EJxnDk22qV8f7yP40kyCtFIP7Vqif2SObq5PMeKJmdBT1K9FUYm09l3y2Lu+JMRSNkPFSMIWwBnvi05FVVKn/kKCbVRVBX7wbrr9d8dsf/hd8cXyKf/kHH8QbKcJN6N6T4dQyln8zIK1rsjokbcX8t13n2rPL5LMZc1/18Ef2m3CexpPxdbQo1npBV+GOIdgzOCUI1omhdxOE20KXVgXiTrZjqa/lWAeuvNfhlrsv8c651zjo7fJz595D/Ll5vKHQqMNeQfXqWGBAJXHMeiUlTCs+99W/89+Zr4SxqN4ArwSrmtAra0eBoer+WGrXSiBKOhCNQnnhC5z1BhbjhGmghGlgHS1BIS5Xgq3FVkNMPUAPk3LDsmxKBv5UmTflLtxQRhhXS+mQFlMJMCAd/lQmItaXg2QCl7wqb4rfk1Q9rzgsPWHI6pqtuzV51VLUDOHSiNE4gMThk5u38Tdv+jR/ffsj6Osho6M5lWsuWVXs54YHfIGDZOYGjb+8VnnVoZjx8Oo+uhBptPEcujeFVLcL0k7A8EitNGO12OUQtzkJIBZ/TwJx2glltdvYKTdCpMIax5dt0WjOp76WgYV0poIuDOnxJZEz7w2lLDyygh6VbIXCiiy6KgIo6ziks1VQVdxBiuomRB2H+mNrKNcVxJ/SqFoF065jHAW7PZxagBs5pK4z9ZUc3LUkzdiBBE1nlMjYE3GSIka8IUNx9A5KmXReF2kyYxgvihLVBAV/7/J3caDaxT08JO6GqNsj3nXgEt/4vTvYvF8OvhsJ2fn608vMP2+xyhWnMovcwJQEhYnjus4kyAfdkgUxFp7E8IDCHyjqVwUDl7QVytmfJIiBsMXf1WyO6pwOV7hj7irff/hpfqHzfpqXDOFuhjsoTZHKa1blhQSIMki8kcebIjDY0IdqBTa2cVwXp/ShVL2h9ALiBBtFkpYNh9g4QVUq8m95Lt6VE5eqyep2uQNAYXGHsYzsAh9blcbZZLZrqgF6gm2fIN9KxJqwA8r1b9+byodlXVcOiTZWBCjlPj0gqPvAKWlGimAvAWPJ6/70IFc2cg59GuJ5v7y71ER/4CkuXT7C/3TTCo2XfbyBJau71NYNft8QdxxR16Vil6eLkjYc5+SNgGAzwnqCsXMGCdlcFetMDEccgoEqUeVi5ltE+27hTmoZNeqkDU08o6hsGzHI7VuCbk7acnHHQmUqfHmNdCZMxbzlkbliVxd2QyqbVfyNATpOyRYaeOs97MY2qijQ87MU8y2cjS5BnGDXNqVBaQq8qCzVCjOVSgNEqzXqF4dkJ1Zk4rKXkNWqVNcTmTCklmjWmYqC8tUGlWsDnKxg96Eqcy+lBN1C3LB9uStPzHWtlomFE0kTsXbV5dqTx3jhXkPrVYf8mOHH3/oY/+Lr70EtGaprGp0yVd3OvFQa45Sqyon9YBGI05cwOEuz2tL4xkkkgOzc7jH/wDobLyzid5k6XE14DVNH9tzQuGzZnp/hudzhyet/guKFFu3XLUGJx1PDaP8GB9O+mXX1fhb8LT7eFIEha2jW3r+MN1omD2Hha3vonS5mOBJtwgSGMhpPfSxtFKGKQjYyrZXJww1gFhUEQn4qZHMTx0F7nqSvtYpAWl0NPuDWROugZGHIGSb7wBErTMaiGZA1PNy4AHS5Ry8BxQRuyYPU0+WewtdTGo91NO4gwhkmFHUxdEnbkgpPmIQ6L3mTSlG7DsVTDnlVAKvhHuyddKhflXTXjmUZKK0HeCNDsJNgXS0LQkGIkxk2766w+KSQmADqV13C3Zx4xsUbWurXUopQsizjafqHRUatUwj6hsq2QEmMpwh202mGZDUE3YJgOyJv+CQdj7SmGS/KvNwdW7KKYnRHiHMywI2kC9/Zi7CnDqN7Y+xuF8dYycw8Fz3TwczICNWNjZQg1RDre+idLjaKSRsO1W9solbm0LsDcDRVR6HjnPGBOu64oLYmnqHpbAWvm9C/uU3r5T2RC6eG3smA6paZ2uBNrPFsGewnBrjVTcNwVbPyRfB7CVkj4F89/y60X9A454sfRRWCrgRTf1RmCZM9CEekyVmjNKbpSkC40dfTSQy9Iz4Hv/0iF7ZnaZ5n6nfpjsWfwh1Zgr4g4txRRiszBH2fwm9TNRDs7rukfxOvpBQBToRi/y2PPzYwKKV+CfgOYNNae3v5sb8H/AVgq/y0n7HW/kH5b38b+FHEIeEnrLWf/uP+D6thtFpu8t02ZPfuJktHM/YG89Q/XWfhS+vQ7ZdQFJHWUuLkzSRogIyoQBqQRYHpD/bFTRNB0zhCl85TTslnxHWwgS/9hEZIUQuEJ5iL4MpUfUG3W8rm3kRlZvD3simUxPhS7ztRLt3nwmJ8TTznE7gKZ5yTtQPyqvQb3HEZFCYAUHmi8pRGOf5eQdb0ieY8lr+e0D3ukzY0zdcjspaHE0FR0YxXQnFc9sEfGPzrKTNnspIaVTA+0sLvF/QP++ShYumre0SrddKGQzSvaV7M6ZxJMIHGHRfkodx1spqmspGI3V6S4SReqR7U6AvX8edm8Dc0eatCZcfHiQ3B+oCiGdI9UaN9diQAl7wgW2kJfbrhM3xwAS+yDFecErFeotgiuRaqyzPToFyszqEHMZ3HrogeYrsnr5MxOGevwmyH6kVhGvRvbhOs9QmSgqIVsnuLpnt8FhSMl3wWP78u7/Ht86DA7xdTYxpVumFXNwzVjYTOX1lnmAbkVvGDKy/xb198K+859SqfGd5B8zUJrjqX555V5UahLCVot1zBTsR0xo32NQRBqcDMKw7RguLCF46Ik1ZRuqlb2YGYZBl+L8fbHaMHEdrROOM6aav0U42lQVzU5dq1tZCi5ovIrbQaML6Usm9U/fitZAy/DPxL4Ff+yMf/mbX2n974AaXUrcD3A7cBK8BnlVInrbX/Va7UtJaqWszlGvVNRW9tkcY1SbvO/9AS7niZ6rqlfS7GW+/JNt44xq1VhaYE+4DYEsCiJv2BG5SUE8s4O4okk3BdyB0YjVFhiNYKneXfRKxWcY4DYtvWkP1+r59NF7xUbtBWGpI6Ee6AU05WjGIfDe6UsNZMVqQnaTjlpt1Ef2Ed+d24Gmec0zyfUFQ85l4YsXV3DXeQgKNIOh46nZjHSi+gsjZCPBcy3M2+MBNrHQYHHSrblsXHe+SNgKymqW6kNM9LozCve3g7iXiCGtnDmIBLsFaCZZTj9GNMLUD5PsZz0aMI58oatVaT7PA89tI1nDBg5oUYvTjP8PZFaue7qNRQ2UzoHw3FWyGzZDUHbwhLj+2JJL5WoZipS39ic0fALsaS3n0U47XLEkYOns7lAIV7ltanTqNm2jRfhe6ds/SOaWbOFBz9zW1MxePC9zYli5tr0D9WFSjsjlwTblSgrC4VgjJCXH+oQv75ozzwwZe4rb7GWtrib9zzGf4fz76P9ksuTmzxR5a0oUSJWPZhJgEBK8+vuiVZlpNY3FEJADYWEzhc+VDAn3//5/jNn393OXkSvL5komC1pbqV4+3G09V1NYqgXWNw0CeZUaRNSFZTKBS119vUrxrxkkjM1FQoq2rZEwH46rdw2svHHxsYrLVfVkod+Ra/33cDv26tTYALSqlzwIPA4/+1L9IpVK8r4nlQviWes5jAMvuSJZrReENFZVOWRMbLAc7sHAAqb+0/TxfG86U1V06pL5ALW/wQrUwKJsKW1ODEhfhdjhNpahZGphvWQiwHxo7HKO2gfQ9HKdxmjWSpIWk4YENn+qY7SYEzzr6p0aMzi1PyB60SqpHxNLZkREwafNJsFeCLjnJM6MmdOSmgsDjDFBO6zL4UYcoyyImM7ERkYvo6OBDgJBXRfowz0tW2qBpbmtbFgsare+StCvF8QOPimCJwxF18lJG0PTxPiyhMKZxRNvXjVCXwVeWGZKmBTgt0rYLuDuR9CENss0YROriOgz0oSHebZHgDwbTFiwHhVkr7zAg9jLn+3nkWn0oIX10D3yO5eYX1B0P8vqW+VqHxRIRZ6KBGMd7OmGShRvtz5zHdHs5sh2J1DpUU6OGY5N6biGc9escc2ucKDv/SOYYPH5HmcFIQ7CqqGylpy8dJLOFOJm5UgJsJdn4CbRkvOIwOFQRbDs9+7Haefvggvlvwe9fvZfGrGuOWfYLE4lsZQ06AruMljd+DoGtKdLwpr4vSYtBROHHOzq0hxUzKL3/8UeZ2jAiYlMWNpawRlqRcP0XNkwmc52CDltx8ckjaFu+2Pnns0ajFPHr/a3x96wg7wyreY02al2VvRpf+G2nzP6MG/q88/r/pMfw1pdSfA54C/rq1dg9YBb5+w+dcLT/2nzyUUj8O/DiAX+3gD8WqK2solGfJG4a9Uy7Ni4baZkE04zD70pjtO6v4Q42TgqmAdWQHHwXRnCKvSgDZx5NJ7QhMOQ0Tmo5OFN5A1rQrOwZ/IAg0Z5SKK1WWoyoVbJYJ9g0gywh3e9hGrUTWO9Oxnmj7NcZzyGsuxhO7eB3n4lEZlLZ1psTDFRZnlImIapJtavYVfyUFeZIW6rg0eKm4eP1UhDyl14PKDUFPxqJFEFK5PgQFeSsoLdcNyXKDItTULg6l7AqkSWoCoR1ZrVCA10vLn0NRBC7eRgZVH+MJsMVUSzQeSIbWqpdbsQ2ohKXXhAfWlR5H+fMUgUNWd9ENn+XP78Kla6R3HUcZizvMOPTxESpKyJbbpCeX2bivQm3dUNnMcMc5o4ePUn/2GmZ7BzUao+dmSA/MCAHbUcw/n0pvZ3mO+tcvQqtBttJC5WI2E25GBDt23ymrZDd6w7x0hpKmbO2SgzewFBVFkjlEa3Xarzjo3Ex9NcVXUqzm0romqWvcEVS2RVCkU1sqU62oVHMhQ23fFvKdf+JrfPSJB2mdA7c0BhKjGoHI7ANnoKhKBqfLsblO5bpY+WrB4HIT9e09fva23+Zzg9v4yWOf419f/DYu3x3gRtILEadwO9VOfKuP/9bA8G+Af4gkwP8Q+H8Cf57p/fibHv/Zp2St/UXgFwGq8wetKbHfKgdchbKqxHMX6NSQHHMZHK5gfDUl9ky66cbfB7WAPAvr2imIw7oifbXlv6GsAC5cO924S5ulW5Xy0VkNbyRqNTcyBDsp3s5IFIF5gcVOMwuVyFh0IgW2tRBdWPysKJ+bIzUgciGpJEeXhCRVmttOxmq2FFMVoYuTFJCKgKmolVZsUY6OMnQiY1Gd5DiDGAqDaYrYReeSokcrdfxeyvBgBW9UEozcMgB4msL30LmUC1nDQ2eGvKJL8pGsXJuZgLShqSICLp0V0+eKtaJ+7Eeo3hBbk0yFXMRhztUuNkllXBmnBDtZeQBc/O0RehxjqxX8q7tY3yNdbeFFGeNT8wR7Cc4wY+aMS9wR5+q07eNEAu61txwnXq7i9TN0WhBsZDhxIMSmihC/+287SmVTzHLc2JK0NcqEBNsxu7fVS3S8Iat5uLERGzuEieD3ZO/FagieqbPweoHV5QjQyhU9LX99gbJ4QzmA/qCQVD4vy8W0QJfTgb2TAd/7ka/wubWTtF52CXrF1LvSuHJdT5aenMiWzWBDXnXxoxydlNmohbTpEHQNu9cb/NLC27nU73CpOcO1Z5bRjnhWAtQ2jJypN5Yw/LcFBmvtxuTPSqn/N/Dx8q9XgYM3fOoBvgVsjDPxMIzB9YS65Aw1aROiOQc30tSvlzXh2NI/BsGuRHdvbLG5QjkWd6zkRVZlUHAszljSP+NI7aZyZFpQ9iyVkZ34vGanURoLkZKDqnBwoio6rWKCeTqvGlqv9lH9sfQwUhHSYEvLPGtlhFn6WGiQef5Ec6EptRVlCprkUOLDlRGDmYmoSCcyh9blc5pMLXQpqDKBJ/V+LCPVyrURylrCNJ/+f5Vt4SaY0qV6IhybNKPczT7OwCedr1HZiKZNP2e7j56r4GSCYMtaITotSjZDJuVM4KIdjdndQ1UCwcf7vjSHXRe7OAOuJpuryyZku0KwHaH7YwHiLs5IMCws/pU9VJJRG0WMTy3glqIcN5IRYPXxc+B72KJABz7hpsLZ6JIvd9h4a4vqpqH13BaqqDO4ZUaWppKcwS0h4a4p32vYuq9OVlPU1o0Ehrr8P3lVM55zaFwt6B1zqF+xZHVF87KUiYWvJeNUTE14hJoFQV9uIE4iB3nSO9Ll9mreDukeD6m9axNHGdavd5jvS/9sAptRpuybSKJFZaeYlqCAGCmVPFJ/aBgcdKmtFXh7Gl/n9EYVGjPrfPA9T/H5yyfRJwy98y2sdui8llLcYFXwrTz+mwKDUmrZWrtW/vV7gJfKP/8+8GtKqZ9Dmo8ngG/8cd9Pj1I6L/XpnWqStvYBFEVg2XirYeZAF/uJWcKuZXgI8sMx6axH45yQeXQBxWQWH0lTaoI/LwI7je7y4ivIQScymppQb9K2vCETZyPjg/EspmLI2kBQENRSos0Go3e2qV9v0HppF0JfoCSB0IdU2ZtQpnwjSgGUMy5nyr5X7mwoEfsoBQ4Uviv6g5Js7IzzKbVK5WaffOxqyPU0kJjAg4qHSjKRIJdZh9J19HCMs9uXhmY1BGPI5xrTFW2nH8vuSJLjb42EwaAVwVof06pJ/yKXJSWvn5DXfUzoihuU70onvjuAagUbCIuxWJmV0slaRkcb1M718Te7FDNNkpmAynohWhFrZezoe5h6KAtZtRA1TqRnUwgWfvsOn6UnclS7KVqUXh97bR11DYokwTWG+WfEpTs+0qF/2MM40Lyco5OchW/02L6nRdpS1NYUrQs5M7aG+wAAr25JREFUg4OuWNjFZnowja+o7BiKQDZelYFgILRonZVakVyyUpUZkoaIq4K+NPpAYLUqNyVsVr533g5JOh79o9A0mqf3DqF7cuzyUK71ydTAOJQjTzEGmkjLVW5KJW3ph5Jahgcs3XsKwssOT376duKlnM9u3caxE+sEXsb9i1d4vTHHxeIAyvjTG+u3+vhWxpX/AXgXMKeUugr8XeBdSqm75QhxEfiLANbal5VSHwVOAznwV/+4icT0/7m0RvvqBq3VBbq3tRgc1GRNqbEX60NeubuNyhTWMfzkvV/gV84/xHBvBr+P+Lt4paBk4sQ12c9GygqdlheAZ3GHisq2nfL/raNK6KnMtZWRwKFTRWHEMcibiXjroQsc+ou7fHnrJrpRyMZrsxz6ZEZYGNH6g4hKJpZ4sL8CPplwpJmQqV0flRRTSrO+4WttaTxTVIPp62PLfQiM1K6TO/skizChh6qG0B1AlqKiSFSDJXKd7V2U5+EVhqJTkymGJ+PVvFMFpXBHGaa8w7u9CHdUiMdEf4gzHKNrFZIDbYrZgOqFHlZrsiOLQopuBnjX99A2lIwhy/F7Anq1tYr4RZQHJ1tpoaMcZyTlWNEI0WNpAuN7eBt98vkG/lbE4d8bYHyXtfevMPdihHsuhXGEGY1x6jVsHKOMpf6Hp1GOJvwG2DRDVUJ2P3CybLxmWO1K83repXU+lV5M2a0PdhOipbC0kNu/kRhHfk36CpM9nrglDMmgJwtZ7lA8RnQimVvekPdNFZZ4xifuaNyxojeoUBhFsKsxvqXI1RTNb1w9DQzVLVOSqRCxnQZlCyxq2q9ZesJwx8+8xNefvAcngXgJnKFDzUv5B8d+lwLNz2ffxm3vfpLfX7gLvuZ/K8dw/zy+GXYlmnrGPuy+f7rwpCoh2S2H2LyvynjZUiwntNpjvu/ocxzyt/m7X/0wOiiwuSY8FxB0ma6xFhWhKOVViztSZA2LCQxOJBeB8aXkCHbLhpgPed1OycHuWBqSOpM3TFiRlvymCM8r+JMnn+FXnnmYpaUuO70aReYw94chndMDnK3ePkkK9ulTE7DtJG0shJuA5+6vKpemtlM0ne99kxTbOrLINZFkyxh20qPQ5Qxdo1PpQ6jBmGKuJdCUPIeKGPTEx+amLtU6M+jeWMaVM7WpG5JVkMz51F7vC+Blu49p1NDdAdGty1N/hvBlIU0XCx2Kpo+3Pd6nL+30ZfzYqeJe2yU+uYjXS9CDWNSmoxI7V2YPZPm+k1eaMbx7lSJU1C+NcTa7mK0dsgdvJul41K6OZaTpuVKmrPem7Eim9C8jitgwJDs4x86dVQZHYenrBeFGQv94Rca72znRrCumvaOy5CgsWU1GmLpg2lsoStiLzkr1Ymxwx2W6n4uWQhUSGPKqbNZ6Y8PuKZfxXRGVWkp8oUHj9RISm0ngmYCKvUhK4ObrUWlGI9njpB9llQJXk8xVyBouox/pcs/CNbaSOk0v5qmrB7lpYZv7Opd5sHaex4cn+I8Xb8d1CrrdGhf/7P/y39muxI2dEaWwozHeSxdY3V1k764Z+v2Q5N6U/3D2PtJzTVpXFaMDlnw2I14WU9bqmng0+BvSo8grZd/Ak0AxcQYCUZclbVv6ENjpaEgVkxJicgEw3d1fmulz7doMX968iXfd8hqFVYRuzmJ1wCvfu8i1pQ4rX9a4Gz3JCCYH/Jt+TDWVTitjIZFewdT4xu5nGioqFZ5aGpu4si049fWcaDKUwuiSuuxqDG5JsBITXhv6qIE4hJvZtqTEqexPWEdhGuH0ayfzcicp0KlH0QhxRimm0yCv+/jDMe4oF6Wgq6SE0Ao9TjBVT1y/lULFuZQuuz0cK+AWZ5xLENJaFKvVQHoNezuyF9EQ3wPruRD6GE9R2UinOy96poN/vUfw6hDbqGE6dSakcFsNYGMbgqD0KC3LuDzHbO/gFQXz2RxZvUllPWbvVK2cKkDccXBjgzc2UkbC1P9SDqwtX2PJHNyxmV5HU7Xq5H1WokNIWx4bDzrUr0D3pEt0NKXxXIU8rNDallEnlNxJT97PCVLei0w5Zs1F3uJpKSOMEUZISWMqfIVSli+dP8G33fQan3vidprnHPofGnI16vAnW3uc9QZ84PArDPIQluAX3sCJfFMEBlVCXW2JawMwowh9dZ2Z3pDmhTnWR036d6RU+grnfduYbg3XsTjXfFrnLbu3CRHHiWX046SSDagCwfRoAWkGA9G5Gw+yoGxSaitNQSTTmGC+nVgWX97/wac401skbCYcaeyyGnZ5dbBIJxjTT0P+9i2f4gsrN/OZk7dx6t/UGR2qU7syki23SaSf/KylG7fVN5QbrjPdHlUluciWkw5gur8B7G+Zag1uGQx8B5UbuXOVegjrOJJJ+C60qlOfCHcg6bszSMjbIabqTZexVFKgrQisvEFOETpkjRrBjixWZSsdjK8ZL/i0Xu0JjyKR7+d2pXFpy+eFdaHdAGPIlts4Q9lgNYszqCjFhp5kTTPtfdanK+wM65bajEFS9lk0eOXkpy7mx85gRLE6x3jRp6IUvjog/qPbXdGehAFYg/J9bCTmu1ZBtBhS28ipnN+hf+d8ea3Y/aCgy2Bc6mBM2aj1xiL60pMlqfK9kgmOnRKoh8fqbP+pMY5jyHZakrlueegMwpGUKcYRloK4kEu5jIG0pQj6lrzm4pRKWZlAIYwRa1CI2nX0p3tEL81SLGZ89tnbqGw4ZHW4+toCdz58nX987dv58Pwz7OU1Ht89ytW1mTd0Jt8UgQGt0bUKNk6wWS4GMp6LLQrM5jZ6Z5cDV2YYn1ll51b4rkMv8Vj1OLe01vnk5fvJK3Dg3ut0f2eVeK7cT1AS8d1RedgdmUhUNmUfIG0p8hpolMCe6qUCLpC7kE4VWbvAGTp0vDFHGjtc7bbIjEM/D3n6laN4jZSHj1zgc91bORDuUT/jEy/JWvX2XU10AvVrspfgRPm+FmFyhzHIXX0yAqSMFcopCddeeWD0dHVW9jn0VDlZVBwwlqzhUrsywngORSuQn9/V4oVoAarTetbv5bh9ISDpdF/kNVl7d4cpTpShjIs7SMXHA6QnYizVzRSrNU5vIAtu1kKjJstrpZCnqIQ4IyVbrxr09S1sq4HVWvLDko8x2Za1vif9F6XYfniO+a9tSTZTSKAkTqQcCoKpw7kep7Re6Qn7YjgmPj6PM1NDP/UKSoWlB2mOmulAnMr4ezdj95YQ68yijODwxZ9ElcRl6TmZ8ncnkYmDTidNxbK3MzHpnfSTlCZrBvSOOXznTS/xSn+JV442hPLsWbDiB2JLxoJVZfO72A8Wk30KVf6yjpQOKiv9VcuFvsGqi/PpNv57+8xWYiGJN1zuPXyZJ08fo+2NGRU+z40Oc7q/zKn2Jj92+Cv8yBs4km+OwKAUqtWEIJE7aukuZbPS8zHLyNc2CHd2OfBsky+efitrj7is9w8yd83QP6J5dPYyv3NsWdyARgpnrCgqpTvTSA68LiSj0IXFG8o6rLIysswiYR7gS4pe1Ay6nvGB+59nwesDEI0Cnrl+AKUseIb5zoCvvHAKFRj+ySO/xbf9qSf5gy/cj12OaD0WUl8vSGua3jEfb+ShM0u4k09djtyxaBqKuk/WlFXtYCfBGSb7Iqc0R8WWolXZX4qx4CQ5bjfCj1PyhSZ+V4x/nZEsVHkbfdLVFu6w3BVxtfhQ5hDPeKiOR+3KWA6dBht6OHFOMhMAPu4gIW15FGGAkxj83ZSs6ZE2y8bbhW3sKMKOx9g0Q0cx5tRhnG15rVSzKtg4rfBOXxURVJKiKj6mVUV3R4JkG0WoelXgMtZiKz7BwGA9d+qtaX3hXJAXsLmLndgS7nZlGqSFLO51G8RLVdIP30P7uW3UcIydEdvCbLlD52yGf3mbGT3HcCWQQ1gGBJ3acowLYFFa4fVK+XopoNMT5L0vdelk5b6oB3RvqmAdGJ5KeXL7MJcuzzFzfJfda+3SdkB6E5NlrUlDU2d2OplqXE6mUw2MnTYzMex7f1pLXlPwzj0eWLrK1z91B9nJMT959+cBeL61ykdfvYfvPPESL/VXeHTuVe4Ir3AxnX9DR/LNERi0khRRa+w4Ej/I0r16cndVWmHSDD0YUn3uMseutNl8ZIaNt1psLeGFvVWKusHbcwS3rUX1qCyl4Ud5ARR2au9W2ZJSY2JQmtUtKhW3qMbJPUaRz2fO3UxwMuNIuIMdu/hPhoxWLUt3bRL97iLcVTA33+eTu3fyYwtf4tOHbsFeqFHZMfQOu+RV2a6rrmfkVYeLP2KY+ULI/Fe3RC2YZey+/xjdW+DwxyN2b6vSeaX0Uiw9FCbINOvKurcsXomQyLoOaTugcrlHNlvDGaYUgcazFv/FS9ileeIDDeFAXhxgKh6qXNqyQZmZaFGbArhxQeFJg8sdiyFu0vZIZgPccUHj4hgVZdjeQDZbS0WoTVPymoe+METVqmXtbdGFwRxaQMc5RaNK1gkJLu9KWXDDgdf9MdbRrL+tw/KvvSIMUEAVsazl52WZ5GhwfbmDNrT8W8nl1MOE6hPrhIMhHFolObmEtyvKy2jBp35pJD4XmQBZnMxOywI7caYqty3dyExbX06yr02wjha5uOfI+NbXdI97pI/2mK2P+RPzF8msw7XtNjPViGEnxL1cL70vVWl8W6onHRE2uYm9IVAU+5AVLc3k6SKg1uSdCli4a/EaX3ryVr7jO57k46fv4KN/5wNEs5pD33+Vt82d5+xogSR38VTBi/FBPrN5K/DYt3wk3xyBwdhSVZjv+0Jk+RT6yiT9LAw2y6X7vL7Fwu9ss/hxj94jh7l68hCtIfRuy+ms9Ai8nJ1ejXS7gjvQqBxUrsiqCjeSiO2NyzrSlQtD52CtwlQNceqxOtujO67wyd95mP/5z/4WXjvGSWrk7YLdpxbI7jA4I43+tVm+dvMce++okqcO/lix9g5w50bcvnqd1z5xgu4Jn+7NpT+AQoJhmqJcV3wzawXdkxXyULH+SJVgV8ofdwydVwZix1Zx0KncwYp66eFY7AcQNJjQJby4S3xkhqAaoAcR4XWIVhv7OxaFRffGqN1U7sihhw08CUBa4QCFdkq3a4+gKzAWq5XYzhWFLLGVkxSlFLYoSNsuXulDqZTCLXkKk90R62m8frIP1imKfeqWtdhayPyzI+yhJVQJdsVxsLUQ9nrYKJYelO8J2Bdga1d+t1YYHfUaThhCnBK8tk5ycom05VJdl0W0ouYRz/jT3o+iLDNLBoLO9kuFqY7EGinNfGkq5zWXrOnSO+KQtmDuoXU+uHiO3/jSI9x95MvcG1zh3Mo8O1GV4nKNIJ4Y4ZawX092K5xMtAtJQ1Nfy6RHVNhS3WhL2IuaLgPa0GXtkQrF/QNe21vAnY/4/G8+QLtnGc+LLuLc5QVONTe5t3mZM+4iifH+m47kmyMwWLO/i+A4kCQlY6FstBm7T2gqCuE0hIH8ORvQ/FJG65k6yZFZjBfSDeu899bTHFzd4wubJ7n0/Ao2BCcplZG5xU2Y7lCkDUURlo3I2YSV+R4L1QGb4wahnzGuWP79tYewl2tkdYUqFOl8gdNMWfhKWN4BFGc/dRxzPKX6wDaHqmPOnl7l0hduor1bsHWXRqeKfOQSzynSxQa+1hS+S9KCmRc0aUsxvC/ip+79LM8NDvHVK0dJIg9UA38gd7C8osV2rePiNTyCvVQaips7MFsTM9SeJyVSbsT2TWucxJDMBPh7KWknwM4EeP1MEGjWoqJMICqupnB83GGGdTTeKMffGIrC03Fkwy/PMeNI7mRFgfU8lOPgDgXCYppVbG6kfzLB7KUZ7jjG1CoycSmMuJLXqyIKczTRgTq1565JMJnQv11HglGzIc5WcSIZZSScCTsay7Uy8R/J8v2G4/IiOi6oX9nD1kLSuSpJR4RZumAKVlEGVC4TB10Kk6xSkNv9zcnQIZ4R5/Cspti93WLdgoWbdtDK8utffQvf/86vcbO/Rk0brnTbWEShOwk6lBoZq4EC3MiQ1jVB34jcm7LnNBlbK1Xu0UjgHx2qMTqe8SdvepFQZ9x50xV+OvoI6bpPNpfz0K3nOVzdJdQZt4bXeKh6jq6p8vu79+DqPzIh+2Meb47AcGPXXpUNq8IwsZ/D5Dd8bnn3SVPhK4TSjLL9Af5LYw6eC0ifnOfr993DZ27NuO+WC2xsiZFsvGCJVi3Bpku4I2ld2lTkNUu+ktBoRQy6Va69Psd6tIBeifiBW5/kl9c6XPv8QWxbRFHNMw7m0T3sYx06T1xj+20r6EwxPp6yuNLlOw68xJe2TuD1NY1rAltZfLog2MkYrQZEs5C2XLonZqhuFTQuW9zEknQUNy1v8UTvKBvjJvFaTYJQXVR5E2akk8pikRPn4kS9NYCFWbztIVm9TbLcwN8eky7U8K/3wRMrt7Th4HeZLmDlNRfryzhMFQZ3sw/Gx4kydHdEfGSG8Ppgn9GoNXY0wsYJJklQrocKA3StKstTBjGnGQgafvp+loeZTkuajXGCGQyxSYLjOCJSajXxd0sX87ScVFHq1ExWwndL35BxJFljIbBfNaF8l85XqlqR6yLN8C6XyJDBCLtYExfq2E7FSjqXaYOsw5ewnTKDBAHuFBXN3kmXzrvX2BtXUI+1ueXei7x8+iA3tbcZZgFXgXOjeX7NPMyPzT7GcBjiXAmpxGUQMnLtTCcaRkhPAnvNptmEKrOVvO7tf43jUHSqbDygue+W8xir+L7W07R1zk89+Fn++R9+ED10iHOPP7xyCt8tOHpsC1z4Yv8W3tI8z0xnyCfewJF8cwQG2EezTf7sut8sFirvChOPCJtmMt4EuSisBVNgowjvtWscuFYle7LN2QdP4mWAb1CRS/Ocw8zphMsf9PiOdz3FV9eOkReak+0uJ+qbfNm9ibzQdNeaOOeqfOzr78Jdlc5x65x0jwdHDPZKk8MvZWy/fYXd2yRVrM1EvH/1Fa4nba5/9iB+Bpv3eqRNS/M8XH2PwvoFKkJYBhlkFU3aVKRKES1IVG97ESfnN0lvdrh0bQ5/6DNacGleToFy0zIrShNWF6vbU8m0k8jClMoNTpSTz8m8P22U8JWmj78bl5JqYVjK12pUYShqHu4gwbSqEhT2+vJehAG2L2vWeB6O78uEAKb6DG8vJpsJCcai5iTLxE0s8IXGXfFR1zYphqP9ktEYlOeRHJrBv7qHTVJsnk8Ptyq9QkRnUXqLTKC9eKhKOJ1SECfYXHpTNo5RnbaMfnt98HzSxsT12pY/c1kylPsPxsrotwi0wHSsvJ5WKdwhjD62hHlfn2TZEOUe+IbVSpdPbd6C1ZYnXz5GfPMV/nnxbo4tb3PtlYO4IxmfT4KQzu1+1qBkEiEIwWJ/A9IYWaLLjQTj0KN/rMrRB68wG4w4O1jg19WDfLj9NHdVLnHk9utc2W5TdVPiJ2cxPfgHN30P3/HIMxwJd7iazrBU7b2h8/jmCAzaEYGLERUgtnzj8hxrDGgH5UhdOwkYOgyn1nQYqceU1mVNWpG7xbVdVr6Qsn1Pi5n5PvmLcyw8Pebsj7j8lYf/kH93+hG+98TzVJ2US9EsZ4cL9F6aJa9Y5m/aoduq0j/gohREgdTK4balc1qR1TVXH9UUVYOeSbCvV6j4Ilj6+r+7h/pI1JSDDrz7nc/x/HN3YR2L30qwDYW9XIMU7A9u8+ji63zsyftpvOYyut3n6xtHWKn3ubI5g7PhU9nJyWrOdFYujEKDNpbqNYF8OAOBn+reSNB1nrAWdFrgXd6mdaHAthsMbpkh2LZ422PyVkja9kWzERnRETiK0ZEGha8I9nL0Qh13lIm4KhdexI0AHFsYoUKPxjhZTryyum9MrBQkCWY0QtVqKLeNHY1xOm0AaTS7LrZRlWDUrkHpV6FGkeyVlK7nRbPcRckKaR6muZQk4wibZSjPk+8XBKVPiENxdQ1ntiOeFRUff1CIf4fgD0q9ijQAja+nCkQ3ErjqhIqdh5rhIcuJhy5x5toi3khzcW2WuaU+n716kv5Gne996Ck+9sI9hE7GV68eI00dXMCNoSjsftZQLk4pIwtTqmR22snNzRNNyuQxMTN64Kee5p3NMzR0xMBUcJThk/27OD+eI85d8tTl1Z0Fko7hPd/9NN/Rfo71vMWL44N87upJPlc5Bbz8LR/JN0VgkHmtg/UDGCeowWgfQe66WGROPNHg47kysnJkhq9cR2boJapNJamIgjxhMXbOjBn/codgL+Hsj7r8wL1P8It/8D7y+ZSvbR3jw6vPcXfjMmfdRV5eXabeiNneaWBjh+YrHtGCxYmlVty7N8fdcXESaL8Kw0MOZq8CCvbOzPArm2+Buwu8XYdsIaMxN+JYZZsv3qq449bL3Nm6xgF/l19qPkL/6TnGz8zz1XuBoMAfOFx/bR4bGLZsB5UqGmviCeAN5aLWuRVKVFqUQiZVAm4VequLHQxRO3uM334KJzI4/bJ3ozWmHhLsZhQ1QbQVFXdK+jG+xtQrcugyS/XamLzhY1xFtFShsjYWp2pk9Gl9eW3VONn34fBc0rpDrRRmmeFomjXoWoWsXcXxPHGlct2p7Nt6Ds7OALO1Iw3ogyvY3a78+0wbnWTs3tNh7rMXpBltDHY0xuQ5eqYjZYfviU6o25v2o3QlxLZEZGUqHnlFALYTpB5WSjORO2uKQFHZzKYToaLiUgRSutauK0In40fufJxLJ2b5vtmn+JdXH+X05WV0NWdYBChtGWYBi80B1762SrgjNy4vstOJ2GQcmtY1YbcQg10rpZyy7K/gO7Jk1zsSMvfDl/hr81/kbDbLVtEkVBn3Bus8Pz5EN62y069xeHmHt8xd4NX2Ik035nSyyjF/kw+1nueFvVUemL3El9/AmXxTBAZlrOwMlHAUtBZASpJO3YtwJv2GyXxJ7lhYK4a3eSF17MQNWyu5i1QCnJGmuq6I53woLL/+h2/DPTKkiDwGic/X9o5zbncO3y146NhFrg7bDC+1CLoyzTj5lotc/ORRjAc4lnwx5cihTXgbqDikPwqxVjHfHOEoyyAO6Ps13nrzOb5x6TCx8bjrna/xZxafoK3H/POr78XRhrkHN7i21uF/v/VX+LnZ9/KVy3fReVmzd6vCVgv0XEq6W8VJzPQCVYWlCF2BqwxLpF1uKGoBuufIHdMaak9fZnj/YbzAESeqi9fIa0uSHZRfN+k1FKGDNka4ESUcpqh5GEfhZCV6vOzi63F8g6WfwtRkOuDsDSDN8PvFPrwXwPPQFbc0CyonGGkm77fvidQ7SrGug6rXUFHpI2Kt+FzudrHzMzSuJNKrmDialyWmHY2xeY5uNYX1WQYFm6aoRp18toZ1tABiMouOjDRWtYi7VGFwdoeYRoXNt3TwB3qqglRGyFgoaJ81vPqZE7zt+8/zzKawh85tznHywAY3tzb4vefvptqKuLdzhWf2DpKsZlQ2/VIZeWNQkKmEPzT7TcnyYRXlEp2DcTXjxYC990d8cOYSr2czhCqjoSNeig5yPeswNj5/aulJPuHeyYfnn+GLvVvYjWt4rYJ3Vc/wcrrC9azDO+fPkk2ZAt/a400RGACxOEuysoZ0xJ7MWrmDWCt9hxs/P983jQHAlO9mMdE/WMw4Qo1cdL0G1lJNC47+hk/vOARP1/B7BTu3zfHyWzwalYTtvQabmy0WFnqomYTgQoX2uYy1QUM8Hx3FWsvDLCRcfOoAJrAE25pszhAcGLKx2cK7EnDXu15j2Ar46eVP8z0v/zV+8/w9/NydH+UPencxygPO7czRqMT82JHH+MfPfR+/P7iLc/050pkCJ5Ex4YFD2zSDmNdfOToFunhDkSlbV6GyybZmWXcHLsVCG90dyesDBDuJ6BHiAr9eR6fSl3B2h8RHZ/F3IrxhTF5tyWunIQ/lAEEpigodgr1UqE3GlXKlhNRMsgbdGwlD0xqq53fBCqdCXK33N0RVKtMF+gMxJS5Ey8BeX/ibIFmesWUfoTxJW7v4gLnpAPrs5amDuS0KMUNWCjscyriydDpXRw6Qd6qkLQ8shOtjdJxK+ZEX2GpI0Zat0mJW/DSd+JuvyckY2EWAOZVNS6+o0D89y1eigHY94lhjh447RvsF2WtNvto8xrsWzvLKa6u4Y1uu+u/3FgpfEfQKvH5G1vT2dRQTwni5h7J7KmD0bSNCP2fOHfKL19/BdlTneGub5zZWed+hV7mneonH+idZCAc0dcyz26v85aNfwlcFWlnmnT6r7h6fiO/iU5duQagI39rjzREYJrxDkHl6AipO9+880y1FR5pMhWjGrc2m5YOkpVLzThtbMAXFamuxoU+QhixsR0SrNbbu9kjvGFMMA6JhgNrxYSZj8NgC7W1L41pG9WKXrdSnPSxImy6mYmDoYR2LszSmdWrEA/OXOVVd55fOv4Xuns9fW/kcW3mTL45P4fQdTEdxNl1i2e/xYrLKcqvPzqjKP/7976NxCf7tJ96DCSxOqijuHvBTt3+RVW+Pf/jqtxPsiPeEOzbkNemvOJE4Qak0l9fGGLzukHyhha0Gop7ri+PUeHWevOrgDNtl+mwpOjW8biwHOiw3WguLcaSkCHYSYVdqBVaj4+ybZNtFIxQoS5ShRxF2OJYMTXsQJUR3HyF89kLZlDQyStQKnRVlGSgBX5Ubn3Y0wmaS7ekjB2Ey0ajVpMkcx+j+CNuqYE4cQl+4ji0zC1FuakwUo+dmpHxwHUzVxxnEBCVH09nuCcsBJPhYi64GwpcoRUXNSwnJjIc3LLkKJTLPKpneVHYNv/F778Acjan4Ob5TUFhF1Ul4y7ELcAxqbsLlaIbaBSFDOZkVwxsjkw43MgKgNQJ1kV0dVZZ2DmnD4fo7FN/ztic4Udngf336fQQ644VvHEfliu7NIXnucGf1Cg+EV3glXuFq1CG2HifaW7y9cpHn0yWu5y3OJksc9rd4YusIs7XxGzqSb47AYKyMxECaTbWKpJhFuY5cmsrgS22sVCEH/o9MLTCCiKe0Up94TlBqJFSeS1biOlSAVqNJ31RJ2xLN65ehuulSBEL3sVphPYfaf2wyXIXRsuKd979Iw415ubvMKPX5M4eeYt7t03AirFV859ufIjYeP/Psh0l3Q97y8Bn+1uonMVbx51/8c4xjnw8df5mtap3HT89InXsgplaPmalGrNR6vLVyju9/8sfIrteoNCHrC61Ktu8k/bVaY6siclJRClrjbvYw7TqkmegXAG9QoDNZBfa25eLI2yHe7ph8vikHvLBTCz2dGnQkajudFDhRPmVaqpJGpHPpopPeEJhBPEXrohWoNOqYelX6PUpN+z3kBZTvnY1iWJmfCqKwluRAi/BMJNnESK4JFfjYVn16gFmYRa1tTb1EbJLImDLLxXIwy0VOXQ2lUZqxf52UfSkK6Y+ki1XC9REqKwjOb6LyOQH9KoV1tBC/k0L2Tiqa+mWw94xIvjrH2p1jHpq/yF3hZR6qnucvPv2DJGMPeh6zmxZvLP0DnYhHR6E0TmxQWUniKsuztOWhDGzf4cEjXX7u9t/n3mCdwsLPRt/Odtbgex59gj+4cCvm8Q62AqPbAgIF50fzHKnuEKqM2+prvJgu8FCwzs9c/yCXhx0+tPQSP3n0c/z8lXe+oSP5puAxtNx5+5bO98r0wZe+gGlVsZ6Du9GT1C/0sbUQE7rCPeyPZbHG2v3pxCTDmGDYkxuWssIAPH+anirXxXaarL9rjr27CpyBg5NAupTRnBvR363RetanumXIA8X2vZbWa5rezQXOSFO7rujfVNA63OM9B8+wGuxxd3iZ2Hr85vYDfOEbt+EONVmnoL40JI583nviVZ7ZOsDfO/kf+WeX3str55apXfBI25abHrpE24/YTaocru9yaTjD9q8dorIr23vesCCrO/j9fMpTwFiS2RC/m+LuDKVpawzMtmGni6qEFLMN0k5IUXGoXhmikoy8U50annpbI4p6UPoZuOgkF+9NoKgFIhF2NM44LQ9K2dcoSobCOMYmqWDtgMH9qwQ7Ge7TZ6SH4PnynlbD6cSJOJHxp++RrrQILsreBYBdmUNd25QJA6AX5ijmW1KybOxijUFVK9PRtq2G2EvXUJ4rZctkJRup2fU4o2gEuN2xPN84lVFmEMiNxvcwzQrOZlek0ycXREdQdSgCRbidCVym4TFadhkeUIQ7sPiNAVZBvFihd8QlWhAH6qQjzczW6wZvUJBXxZVKFxB08ylez3i6LBs0o2Wf/lHNt/+Jx1n2e7QcCeBLXpdf3XiEU/UNfvXZh7GJ5uCRbeYqQ943d5qxCfh3Z96CMZqfvO3z/M7aPRxp7DDvD1n2u9wWXONiNsdvrd/H9yw+y4/f/Nh/ZzyGEtSBX0psy4ZQPt/E1CrowQgVp5LajbQo5Uogx8TVGtf95rrUdUQ5OSErgXxeqY7Dc1F9h8XHPZJ2m7xqcW4Z8NO3fol/e/ateOseyQwkHU1RtXzX257iM6s30/pCk/nnxuhxRuNqncX/aZsPtZ7n77/+nfxHdScPzV5kL63gjjR5y/A/vP2z/PbVuzk1t8lnzt6M1oaffuFPYJ9qsXzekLSFHXj2G4fJW6KmPHi8S1K4eGNxLsIBHWixQStt1I3v4A4SKteHsnlZ8VFpJiVWXsBcB/ojnN0hPmCHDnkjwHE1E8ctv9wjmAJSNKULV0IxU8fdFvSaVUrEUjtywZrQQ8cZCldeZ+thR2NwXbx+gbfRh2oFMxhKMzmTFWy7tSN3+ChGxTH2wDLB5V2Ka+voZh3VbJDXfLx6TZrPjSrpfE3WvJ/dlCxRyV6EbVSn24b5PSdQxpJXXSpnNtCvXxPfi/k2RSskrzgoW5GMoxaid5VkpqGP9d2pXiBd7chh1eK+NQ0+nsaNCmoboIxL9xTsDusEA8POrQ553RJuKbq3GMLVAcfntzn3mWM0LsvOS15RVLcKWeF2FPF8SFZ3GM9pug8kzM3vMr7e4nc/+zB//Tt+nzvCK2wVDV6KDhLnHqv+Hg+feJ3AyfnK+Zu4MpindXfMTlIjzx3SvZBPbd3O2asLPHz3BX7l8bfyAw8/zuvRPB1vzMMzF1j19t7QkXxzBIbJozBiPed54Hu413elJvVcCQbjcuc/z0ttQ7mFOelUw7SkwJajy5KvKH2KUnYaBhJEigK93WP58ZCtu0L4SpN/672V7nqDyskB8TDAXfdp3b7D5VGHqBfS2ZLloKLmcfV9llnj8Bd++y9iPIuzFPGRlaf5cPtpxn8y4GI2x78+/07+4rGv8J318zy33Ob5+BC/ffkeNlcKdO6QtizpfIZbz1C5puj7PHb5GNnlGkuJ3QfMKChC2fPIqh5FRSYDTlwyH3xX4Ch5IQ7RSYrp1Mlblf3P0yJg8rbH6NBFJRmmFpDXfby9CP/KEDsYgaPRfQk2JhT9hjvOKGo+acsn2EuwjkOyEKJsneB6H5JE0Gpn1rDNGnZ1AV4dSqCv1SgqHk5FnstE6apHEXZnD+W50jhUCndvTHxsHp0ZMaeNc5EhL7XwPBc1EJtClYsbWVGvoCwi9+5lcr0sL6C6A/RWl+jAQaFJR1m5jOZIUCkMJizx/1qB28S/tI3bqZPO1UoEvgB5yYXXITZ4lq23g76ri++nfOfsZRwMp/vL/JXVz3PE63Ixa/OXVg7jjRzcsThKWUeRdDTDAx7DYzkP3fEap+obnB0u4OqCtUrElZ025+MFAM7HCxwJt3nr7Dk2sybLYY+6m+C4BQUeL+8sldMwmD+4x4nGJq+Ei9xXvUDvgQoz7ohfOPM2Hjl8gR+a/yq/uvUI/93pGKYPa8ApaURxIun+UKAbNvRRmZaLviI9CLJcgsQftd/SCnCmi1hKOeCU39+U6paikBLEWoLLuywUHYqKw4VbGziNjGirSvWyizeE+JTLDyw9waubi/SONbGqIpjxLcvVp44xG1s23lmw1Bnwi+fexi/d8Tptd8B63mJrvUV21OEr0TIAT3aPELo533b/y3yxfQKl4B/dL93iT+7cQaBzPv/KKRwLvWMOzYsFbmSmdzKVywjNScx0WlEEE/y89BX0WJqCamMXO3NAfCetkJvyQMZ5eSNAVWW9Omu4BGf2pNavhvtZRJTiJDk29CiqPjozgnbvRVjPwd+JiVeqmKovvYQoRrdbUxfrcHVZArnryLgzy7BRjE0SdKeDHUeicCw9Rk2zSl73sRqKisNo0aN1Lqeyne4zKj237CM52MFQjG9i8dYsQpdsscV4NaR6LcAZJSU3wUqjNstlqzPwUVmOHkYYpzrFp9lUCNjeQMxpKF/vSS9rYn574OMuw5UF9lYsFw7O4YcZf+OOP6SmE2Lr8BvbDxGuO9PNXTcWO77uXRlvv/00AA80L9FyRjzbPcjbZ8/iKMuJ5hZ1J+FyMsvLvWW0snyw+QJPRke5Frd5cX2ZA7Ndio7mVHuDLz11D/lMwd6lGr+10YJU8+z4CO9qvkpVJbzjyHnOdBf4X7ofZmuv8YaO4psrMIDc+dV+jwCQLCLPMfNtVJKLeMlR6G653DMpH/7o94FyTbf8MU2BzRJpPNVr8rV5DuMIZ1wjbdW47dQVRpnP7pOrdM5kdI973L98hUvpHEdmd3nlUJXkzpTKU1WyGcPe0RTHLfjRW7/BXlblStThB5/7Eephwg8d/joPnLrA/3n5IX7i2Od4YXyIV7cXGF1s0b4n4sjSDu9bfIXfWH+A7118hvfMnKbtjPm8vRmdKbI6pA1NZStjcDCgfj2VWjsVvwqAvObh9VNUkpHO1URmqxW6rNmDC1vExxdQucHd6GKCWbL52pTPqJJMOAEzLfl7KmNglWbCOyjv8ipwZUTouphagHN1C5tlVActstU23vIC9tq6TAlcoVibaoje3kMBTmEoegOU70l9D6Wy1aLCQOztFOJNgV/W6Tne2p6UDqNxSXcqA8OU7SgwW+to/Nc3sGlGs9uesjSDHZFPj4538Ea5aD9ygx5k2DhB94flyLPUypRWANYRj06VOyJPhqnsPOhmBHsZjasuW0lI1vS5emqGH25eZ63IeWF7RUafShrW3vdushjE3BaOuLm2QWJdZtwhnsr5oeWvEVuPYSXkV772VvyZmEcOX+BYfYdL4xk+q27jyZ3DXOu1aFQS+nHIo6uv0XBi6pct2Z5D/84U/7qH31dcv7fFst9kM2vSy0JOtLZwdcHs4jl+9g0cwzdHYNBluj/pMk/6Bjc8bCZ49GJ5RurrbiRpammTPuUpTla3HUfkpb63/2bDFJEGyIVQUoN0lLF3yuX9M6/zpa0T9G/NmPn2Td4/d4m31M9xMZ3D1Ya/++jvojF848Rx3td+kfW8ze+u342nCu6qXeZ3vv4Aeqzp3LnOxzfvZHNU54eOfp1ZZ0hiXH7mlk/x7OHDvK/5Ilt5k0erV4mNx0fX7qfuJTx5+hgAjYsQ7kqQzKsC+gjWBmTzwlwwvle6K8VitFvzpk1J62iiE/NUzm5BnBBc62EDF+t7uBs9xifm8LYtec1DZQX+bizq09yIFNlzZYzpdTAVHxO4gpAL3LLZq7F5LhlCo463NZKejeOA1uStAH9zJCNOb6JudCUoVKsSrAMfWw0x9RDdHeGtdSlmZK/DW9/X9UcnF6i8cIVir6yRtYOuhPJ9alXMpWu42zXoNAVKW/Pwr+3JXke9RjxfIdwcizP0zkh6In3hMthOQ0A4pbaBPKfo1GWfZC8hb/jiIlWOeVUuJYHODGnbY+N+h8UH13C04WrcIafgl7v3M3xyDj8D573b/N9Ofo4j3hYH3TGxVcTWYWw8fn3vIRa8AQ/VztHWEXcHV/n3rQdIxx5z/pCPffkh1HzCLbev0woi+pWA22fWGeU+VZ1S1SlJR9G4asgrPsGeYOIuDWf4vpmnuJzM8tzVVXi9Rr6a8OBNF9/QkXxzBIbCiGbBMf+pYY52JCMoZDXb2erBQlsQYbksy8hevzvdvJTfDcot9yZKMKtKs/1+w+SOMyE17/Wxeg5P53hOwYfufoG2N8ZTBV/pnyQyPoeqe3SLKlWd8qkv30P3LRU+OPsib5s9z6AI+czGI2Cguq645ixyJTT4Ow7/8snvxLgW5+YBH773aXTNUFjNCX+Dv7f+blaCLq9vzWKt4j13neYrn75Ttu8qWjrkcy7Vjaz0zNQYR4MSwRPG4A5y1PoOzHUoGgF6kOC93pUMy3Oh2yc/uYo/iDDNKk5qSBbr6MIQHW7g75U+nYGmCJoitfYEPltU/ak6z3gCizGFRR1dwbm+I8E5TrGDEfbICsZx8DaHkrYnYIcjmJ/BVAOcmQ44mmKuiYpzkqUa4TfOYpIEp9NGb5dshQNLskZeGPxGCWwJZM1eV2WTk2adbKFJfmKB4PFX0a6D3tpF+x52to1t1VDbPaqXetgra6hbjqD6Q2y7gW1UUb3h9O9Fu46OU6zjkNc8yRZ8R4hXxsLACpnbWAmORprCzi0D/trRz/PE4DhLQY9XUsMnr99K1jD84Pd9gb/ceZYXsyovxgf5RDLLudE8tzTWeWWwxEIwJLMOz0eHeXG4yqHKLj98+9e5Enf4/LUTmEqB3gj42tIx+mnArZ0NntlcpV2JCZwcjWV4PGfuRUPDdUmaWvwzM59f3ngbL25K6VpULdq1fO/80/zmGziSb55xZfO7ZRPP9/b1CfoGGWeeTwnAytGYuY7s02+Xd5I/im03crdVYSid9dIZSiJ/OU+f8ASyDIqC4uQhgv91i81Rnfvnr1BxUn7riQdor/T5R7f9Lg0dczZZ4tHqOXaNz8f7d3M17nBl1ObMq6sE247Y5R2IuevQVUInZ23c5MpzKxStnP/wnp9ns2gwNgGpdfgnL32Atx68wJdev4m3Hz3PzfU1Xh0u8+RH76SyLVt/E7JP0CsIdsWN2hnvS46d7nhfoowIxEzoCnJ8bWf6WunugPzA7HSbUKcFeSugKDvuzjCRhlsgMJNJ+mxVWbY4CgwlnFRhAkd8N62dEqGiww3ccYG3I0j6dK5KeGEHs7WDueUIzu6QYqZOvFCh/vx1KU3yXARQgOkP4PCqTFfGMTaKKI6v4l7Zwux1RV4904ZERo4TTUJx4oD0VQYj7GhMdvNB8ppL5ZlL0mgGirkWehSX05tSz2JkGmN9D1vxyes+TlKQzAQUFV3axikaF6Np1mB8B1sKwdbeElDcMeTI3C6dcMxH5p9iYEJW3D3azpjX0wV+7tx7mKmMWa322Igb3NTYIjUun3v9JOZCjcqWKC67d2d86O4X+PylE6inm2R3jvCDnEcPvUbFyfjdP3gLjdehezMUMxk6KLjt4BrXf+UoRaiIZyGZL7COJdhySyMb8VM5+G2X+a7l5/mJW77w39m4UqlS5KL34RSlam46ZbgBC24Lg97ri4inWRdPgSwTNJwpZdK2LC3K/oRynH1EljH/ScPSFgb32g6vfP0o73/0GV4fztJLQvxdh/TyDH9t58/yUw/9IT/aOgv4nMka/Ob5exh1Kzg7Hl4OWdOiY0UQZry2vcB8Y0haOBjf0nzZ4yuPnGQ7a7Dsd3l+cJAfuflx9rIa/+i+3+WIt82VbJZf37qvlNIKlDavKMKuwetnqKTAzQ16lJR7CqL3cLbFgcpqBZ6D049lSrE6D8MIW/FI5hbx9qRpaAKXrOkLiyAxGF+jAhd3u4du1rCBMwW32MDbZw8qNaVAO/10yjQoGgHJXCDU41GGDeSuqwpL0aphltukTY8AMBWX6uW+BIWk9IKoltOKLEMPx9hRhIljlOvijFJsvYouVa+2VkFpPX0/rTG4W31MsyreF0m63xMoNTEAzlaX/MAsRejiX+tiR2PxMXE0uA7DYw1UYaldGuLvJZjYJau6OKU3KeXGozIiBnNi4WhsnXTJrdjEzTpDVt09no6PMO/2Sa3DRw4/w2ujJa6NBST81NYhrp+dxxlpzIGYNA1pPrqNen2GT5+9hcaXKyQdWOgMONXe5GC4y88/9w68AoaHFH4fnE0fncGrziKzYyuBYTmntjhivFZHGahdt+zdZrGu4eG5C5wZL72hI/nmCAyTFV3f3W8+3pjJTNWNZZOxhHsQx6hmA9sStR9R8k0E4okc2lopHZRS8mdj94NO2ehUvgdFweFPJXxi4XZuObLG4cYe3Adrr83jrXv8syffw+MnjnFP6zK/cvYh0tRBjRyKuRQzcln4unStd4oG0UrK+w+/gqsNv/eNRYoKvDhY5dn1Azy8coleGtLLq/yV2a/x+fER1vMW55JFdrcbLPVk9q0KxG69m+P2Y5HVakdm79ZCbkTS26rJDkM/Ets3WypASxWpHsa4uSGbke1JHEXWcHFigzfOhUpswbYb5K1QMpLStVtw90jGoEQUpVIJFKbql8AXB6vBjfLSJVuWrlT5/IYHQupXY4HUrg/KBqUDsRXoy2iM0gpbujoXO7sibU4SdHeAmWuV+zNlBuk6otcoRVC2P0DHCfnBedRMC90d4RRCrzLNUr8wjksSmEw0ppMNzyWbqRLupFBYioqHTnPyiks849B5sYsJPYq6XwZqp9yItDQvxfDZEP4cHKrscdDts2MCMutwNZ3lldEygzzgVH2Da+MWLT/C0wVruaJyc5dmmLDt5+y9OIdrIbhcRReW6FSC/coSVx9NeXv7NfTVEOOCG8HcCznbd7qoArwXa2w8IkrY6mWXfKtJvatIZiyNyxmq8Ei/q8eDtfPM6hH/6g0cyTdHYICpLNYqLYf2xjJi8ihXrSeMQZSWcSZgWjV5w8sLAFNq9CdNycJM3a+lz6Bh4p5XavltnuNf7VJ7dQmOwMtbS/zVU18iPJLyBzt3sjFu8Hpvlpe3lqgFKa1KzLVuCEbhzsZEszUWvzFi7d0+P/3QZ3g9mud3PvUWqlsKv2/52tduZebmHU7vLfKhlZcxKL4UHea24DrX8javjpaonQmwjsGN9pdurKuIVhuE29IkVEkhGLZBhHZFCjzxg6Rsxk72+9UokpS76uN2E/J2QBE4BHsZScfDSeXuhzGo3hCaobARq/uXhjMWL8rp2+AKvt76pVtTYvB64qLtRDlqWEyx8VkrpHluICIspTDVEr6yvUfR6+83mXXZvIxinJm24OOiGNPtwXwbFaeYmhjfqKIiuyKhL43D8rm5lzfLXpOS8fZwjPZcoVXPtymqHl4vEWHUDWWlt9ZF5QWmXScvncmtFvJSUQ/I654QnpICz1j0JACWxkGLlQE/0H6CqoKLJuThynnOZwustPf42Na9XI/bHKvvUHMTPFXwvvedZi+vcXa4wPpOCxtYZp9TRIuwc1+B6rs0LxnOnl5lsFQhn8tY+bRD0tJ0j7tEBzKapz3cMcw8r6ltFKi8YOMBD39gcRLFtW/z8HqK/+Hkl1l1egTqm5v5f9zjzREYSiagnfQVJqDQyWr1JO339p+u9CMcGUGOI/HkWOmgGiFOL5JG40SCO2ECwv6qtgYo1ZFO6RylhflQu27ZGtVxnYKPrd3DHe3rfPvsCxxZ3iazDv/b1fdwpd9i43qbmdUuf+WmL/Od9fM8cvWnKb5zj8NG8x/X7+T8+jzhntCHq5s59mWXmx7e5n2zL/ONwTEy49ByIp4sjnI+XuBLr55kdkPcjLOKYL+UpRxHFjKiHWaiJiyEEI3nYgJ/Op4kTqajPRwHGnXSVTGKwYK/OcINHNLZCt5IGA9enJHOVqhs93HGKUXVxxnneBs9yHLMTEOakbmZWrFJRqYhLBt0SmERsIhOAQNF1cfrxTh7I4qZOjrOpQSsiXbBmWnLvoTW07GyHUeouRnsaCy4wyjG+g7KlRLIv9bFBr4Y5SA9FetqVJyjdQk7SVJUDLZZR41jnLzANCtiSd8dYesVCTT1KiqWkbgpsy6AvBngjXLyiqZ7osrWQwVLj7nUryRCWzJCXbKOwUlhN6myZar4asjFdJ47wivcG1zh9wd30XDl+z+9fYCbO5u8p3OaC8k8nip4/MUTNM66WAe23p7i1VMePfI6X3z8dkbLmvZpy89V38t9py6y9bvHaJ7ZAwNnjrbwhhbrwvyTXaKVOhsPelQ2LZ1XInbuqLDwlGH7DocCzS/vvpWXu8vAP/uWj6T+4z/l/w8PrfbLBHtD/T9ZiPI9CQoTDmBh9kGxIJ8fxXjXduUNm9w9J9ZvxkhZkeflGNOT1dzSSs7meYkUK2S8NyjY3auR5i7Xei0+c/lmfnfzHgCeiY5wfdhkOA6pzUTsbjT52effx09c/k7+ygc/zUa/Qfc/rnDh8UOY0oK7/XpOEQoh6NKgw4orDdPDlR16RYVnh4f4+PnbaT4TYB2IZhz8gSFu69K1yMVUyi3AsmGqRpG8Ljtd9PYedq8rwXUSFJSGToui00Anudz1jSU+0CCZq+DvRLgD0TCorCC8Npg6VjtRRtrxiW6ao1jqyFsUyVhXIDgORU3KCByF9TRpy8MZZfSPVdD9iGShIr4UVZ90pS1vZyZTFJWkEPioIEA36uh2S0xhZjvYPBeHq0oIczPoZhN3qz/ds7DVAFvudBT1gKwtgixT9SjmmtJIzAvsYIDqDWQk2qpKUErlzqp7I8xcS0RgsWhAdH8sY9O9CG9njEoNle0U68CRExuMF6ThOLkurRLUe/V6zJXPHma3qPN7gzsZmJAvjW7mpBcy5w44Wdug5iZ85OCzZMbhtXiJqk75P156GIKC8b0RxYN9lG/IIo8vvHoKUy0YrxiGh2D2cY/3zZ1m75RkPtlcFSfSZE1F/yj0T7XoHfdYfCqj81oqRC5gPKdZeHiNX734EOtxk4b3R3bK/5jHmyNjQO2PG6355vp/MoJ01DR7UI7GGmd/lEnZRxhFcneYbWLadVm0uuFhrZ0yBKcZwsQTUDPdzIw6DkFlzHCnivIM337ry7S9MS/GB3lxsMpKvU+Uehyd2eXVM0dZObRNPw15qneYdx08x/yPDVj0enxx7xQvnLmZtC6LNP1Hx/zA8qtczzvM+wN6eYVlv8fz26vEQ58wh8qOIW1oRksOTgqNyzHOIL7xh9h3P5oQkSvB/pjXkz6NajUoWtVpMAXhC7ijDD1KSJYbZA2H6qURehAJvVkp2N5DzXWoXBvK2FJr8tmKTCBKpaW+ugWHFjG+Q1Zx0ZlY1m8+2KAIQD2wQNAVT4rp+1hYcdZyWyUlupBtzKqAXtTk5zm4AmlGttIR3UGnKWVRYXB7MXm7QhE4eIMUZ5Siy7u8nkxqHI2qhtgx5aKWXOLZTFWI2Ekq4NpIlsIYSJPThgJVscZgGhXpRRiY8E3Stw7ILlSkVMqK6ettqx6zL+f8i4vv5q6Za6wGexz2t4lsynF/k+28wWqwx6c3bmVrVGOYBTz/ymFUpjh2yxpbwxqD3RrVVsS7D7/Gy91lru60cecKolFA1A/5D1cfYHikID7vE24k5PMpceaDhu07FLMvGeKOg9Uu4wVFtGQo6ob72pu8srfI85+5WcyU3sDjzREYbmwuTgJBkYMkp/L3KUq+YPojlp+v/NLKLZZNP707wDaqmEYFvZ3KFALZqMR19kebhdkPDiDfoxIwXlL88n3/O7+x+xD9vMKPz3+Jf7v9drbSA3zl+Zs5cnyDLHN48dwBmMmpeimvvniQ6oEhrWrEyfYWW2mDJy8cppqKsUk8owkrKVfjDn+4djPrLy3gxIoigMYlRUtB2DUkLV2ak8gGozNKS4pzMVUqAoKyK2vp6eFXCubEo9CU9nZFzZvaqgEl7LQqeLhQFIrkBWjEuakoZBxYrU8NT7xrIj4yNRmFup4r5jKZgGe7NwVgYObDV7nyjVVUofHGBidGGBLl8zOeFku8qi+TldIrQeUGay16nGOaVdn2zAqy+TreXiSH2XPLSYdBGU0ROGhHoLfGc2T3I9+/oUwzysKio6g0iym9PACVuYIPzHMIQ2w1IGsEU2SeU5KyqpsFFTfjT558hj+YeQfhFmXWU2Y/oYsbGaLcxcEw44x4OLzGucwjth4/0HqWl9JZ5lcHXEjmebm/jL/tULtzl24U4ijLh+54kZqbMOOOeJllapWEJHPBQjxvGP6HFR75sVd46eyt+N2c2cd88UDRiPNabHC6Bm+Ys3dzBbuY8NCxSwzygLWtFuZQSrUdvaEj+aYIDCb0xHlooi0AYTpOMgjHkVFkXkBebkuWoiY10Sfk+VTjQJahdnuiwQ986WCnJR2qpAhPm5KTDr5S2LxAZTlzL+X84K/9BDpTxMsZ1062OLu2gLpcYeUZS3zYxX+iQeUdu3Q3Glz40hEqKYzqFephwpeeuA01m8BWQFa3xG1N81LO7mMdvrjQZunrhpMvb8POHqpSwbTqrL9jhsJTJfFH9PVOajGhizMQH4YJOUmCWdk7yXLpK8QxrCyStyoCRCkDgY5ymURoML4g4VQ5MQivj4XlMJneVAJo1qbfu2j66K1MavLMQCCNx7xdEelyYfE8DUbAJ69fXiBMFXkF1h5x6LzsUF/LMC4UgfAWldXkrsY2fJwoxxkl8vNMmptWrNlUmuN0x9PmYrbYQo8zee6lGYtxRK6si9L4NTcSRAoDnjf1wwTQO31Mq45qNWVRrETCqVoN26pT1HzGywHeyIh0eifC641xBwGXP3WEV06scKBrhILlu0KvivMS6GLZeX6BygdeY9YVo5wUzYrb43oR0DchR7xtXouW2I7qPPTulzle3cZTBVUnwVhNyxlzxN/ixeoqFTdjMRzw1PpB+kaB9dHKkNUgq7v4I0vvqObgZ3oMj9bRuSWad4lnXG596+v4Ts57Z07zs8+/j9mZIY42bGy23tCZfFMEhrSlGN+yROXCnqjRyvVaFfj7DccbggbaEZ7j5GLK831xFIgsGqSWdRwxNUnFCl7+4Qb5tJK5PJR7FYUh2E1ZfNJH5YJ/f0Wv4tQygq7CSQrWXpun865toifmWHnbOsUBTf/xBbwNj414Bn+gOPD7muD6DtmCSIZHx9uEO5b551IqZzYkcylxdZc+PIMTiwGOcSHcs2Q1cWGOlkJCpcQfwZipklNZZ7/BGvjQaQJIEJmUwlM3JS3THoUo9qwlXgxovNCb1vNqXB5QpbCBgx4lYsFWjiTdgfgqZk0P6whE1h3neLtjsmZIcd8QuiHxasbBQ9vsfn6ZeA68yKWyKXb2QixSJehFHJfyZijbm4Nk2gAsqi7xoRq1yyOcUYRNErzX1yEMZPpk3JKAJNMZFaX7QbIw4GhMo0Y+W0Gl0jMxjbBcxHKnkxBV8jFN1cd6WjDvuix7gnI8qmHlyyN4TKGyRFyzg/I6C5zpzkrjdfiNT72NH/3Tj6OBW72Cx+IWqXX4XPdWvnD+JPcfusyHV5/DwfJvfv1DkhneOuCO5es8de4IndkBv3XnL/FMskKBQivLl1+6k8EHhxyq7PHV2yKSKwFuZMlalnipKlZ6FgYHNd/+kcf5rWfv4y03n2e3qBE8U2d3sUr1moY7kzd0Jt8UgcFJoHfERZk24RW1r12fZANFSf25MStwHGnEWSt/LnX6wL7QKQzkgokTcTZya7K+PSktJim4UxaShejl3a0BlayKCVziFSBXFAMP9VCXBz7yKj/ZOMe5ZJGnO4dYqfT4vafvYaZ00faHCjDEMy7uIEQnBabisXmfS2W99C3Mc+xwhAp8ae4paF0sUAVEMxons+i+JdjLSJuuOGR75Vp1uSE4eWSH54XjOExlajGIp+Yw8kPKroiOUrQxOKUjdTzrY0MfPSgpSdZCkclr7rmoLMfbcxnc1BR7t3qA241wtwfsPbDAzOObpAdmiA42qL59i70X52hsKQYncn7m+B/w2OJJfuPTb6N50Yq1XibCM3eUTdWX6Uwod/ykwPguaVuWp7xeSrCbkTUDYGa6sEWzTrxYFUDrxP+x6kPoCWl6VL63BhFhjTIB2RqDHqVEx2aoPLWOCkNsJ8DWQiFhlVZwYuJTCLHJ0eBAUfXIa5MmtkdlnJG1Q1lC8z1ULqSrxtWcvTs0Hx/exp9tvsIzachOUadbVHlL8zyf2buDr2dHOXbnNolxSduGYFvTrI+5s3mN++67zEcv3sOH/9n/jNUwuDXlB+5/gqxtCF9o8Jtn38bf+b7fhvvh519/B+rZeQarLnu3G6xrqV2CF/ZWefS2V/kLC1/iX298G37XohNNMmupnd5nb34rjz82MCilDgK/AiwhL/kvWmv/hVJqBvgN4AhwEfiT1tq98mv+NvCjCADhJ6y1n/6vPomxofNais4M46NtvFEOBrydkXTfixu2JycS5jyfAmInbEg1mULo/S25qWv0OMZWAmFKRsn+v8P+BGMyHnU0zjBhcLRGuKbJTkaYXHGw3WUrrVOg+NOtZ6k7MRfjOfxWwuCwS+scZD+8S5y5xKfbrL2thg0L6uc9Zl4uaFwY4aztSklkDTZJcdb3OPRJSd0HxxsYD7KKorqR4e2M0WkoZcAEkxb42ApyZ3elpMgbcoFmLZ9AKanfb3wPy5EtpeaBQlHZKKGo9aqAWwsjABXfR+WSvuudPpVmiLs3ZgJ/xQupbOcUM3WGBwJ6xzXp6TmKmZxH3/ssd1SvslPU+Z3zd4pzlqtK7YU8l6zplxZwsuthPC0y76Qg2Ilx1/aE9lRmeLYwmJU5opU6fjcVWXjVJW94uINMcPDDVHQqrsZqZ1o6icTblR7NcEzliisS+YndgFLoJCMPpRQKtqQXYXwXUxP3b50UZPMeo2WHIoBgtUP7vCDz9RhM3UenBZXrKaufb/Bz3vv5VzPv4J1HzjHvDzkU7JBaF1XLqdYTPrd2kuVaH5ZjOJKhlWU9afGlq8fh8TbByGJcCK75/Jr3AI/ce4YXP3or1TWYd/v8/u49jBKf6u177DVaLH5dsXurZnQi5epnD8F74J9eez/nPnoSPxG8nDdU9E7+X998zIG/bq19RinVAJ5WSv0h8MPA56y1/0Qp9beAvwX8TaXUrcD3A7cBK8BnlVInrbXFf+H7Y1xFPOeRBzIdSE55qBxaFz102sTfE2t41R9hs8F0pdqW2YPyvf075ES3MOknaD1tbqookb2JiX/i5DGZ+RdGZumOQ96psH23wvgG1gIqRwecee4Q1y5qHl+5DXsgZmWuS5R5hEHG6EhE9wiYvTpm4FG/pYd6uUXnSYdoDvZOOqSNBh3fwd0b7///1kqwqFVQRR2diz5flX1XneTfZECCW97hHHFKsq4uTVkN/m6JXtdaDkYhgBFrlDRXSz5jNt+SHsFkrKuUoNqVEu+IMlDkC010VpC3KjiRHMK0E+LvROTNgPV35/z0I5/m5dEq8/6AceFT0wlvq1zhE0vXeepMUwAzgQLlCEMityhlceIS3R7nwkJwFCrOpCEYiRENjoNd6GC1JtyOyRq+WAUYcIcZOs4xFVdESZMbQG5kn8HVEjAU00mUipKpRNoqhRrFZfmEZBdag4vQpI2RkqLiEXc0RQjxjOXwhy6y968P4/aDUmgm5VpeF4n58V/P2bq7wR9u3ok70Pin+jja4FcyktgjjnwCp8BuhKSLsJW6fCU+xnCrhjtjCXYlg/ZGwMWQF1vLND6wzu5jS5xNlnhlb4nimTZxw1I/2WWDJrWrmuq6T/zOAZu/fYjstYTqrAj68lBRBIrWuf+LA4O1dg1YK/88UEq9AqwC3w28q/y0/wP4IvA3y4//urU2AS4opc4BDwKP/xf/E6UYLWkGD0b4ZysUoaXzCvQPucTzEB+AyoUGC8+2qF7soQZjMTKZ3PEnuPlJc650SJoO6gylnHe/ySV26DfsADh6SntSxpA1XMyhmE5rxPb1FuONGtUtTbhnqa9Zqh+HvDrL4BGft3/geTbiBi9fWSZ8uUIyZ4heb1Is5mzMKJxWgnYKxvcWdE81CXdq+D1LdctQuzRE9yPpitc0OkcszByp9VFKxq5lwDP1CsZ3y/FeIXsMxpXG3MQQdeJYVfpBqDSTfkthsI0q0WJAPSlETp0baaKF4vRkPZFcKyOW7zrJKRo+JnSm5q7pbIXRksfhQ2ucjRZZ9Pssej0ebb/GelHj06Ob+EvLX+CH2idkC9YKZNYdZlhPo3JpMBrPQWFR4zIoaQUzLZEulxmdijOUZzGu3JkBCXZak5dcB3dYMhQdXWLqNCoppvW/9d399Xzfk+sky2VxqlNBJ0VJ3AZT9VCuFq+ORiBGPJ7csGrXFOc258g/HKM+Vqdxto9KMmzVR+cGv5uRVx2CrsV9UZNXFEWvRf9ESnjZx89gfCinVw9p37RLknmkZ5qkSQ3fEcViVpORNVZhPMv4TJsx4BfwG5fvw1GWvGpRB8eMxwG1qw5WwfCARRWKyq4hmvfIaopoXpWBGbLG/w/HlUqpI8A9wBPAYhk0sNauKaUWyk9bBb5+w5ddLT/2X3wUHoxXLLcdXOOW29aJCo9PF/dTXYN4JeMvPPgVzt6+wFfrt5N/oEPjwhwzp1MqVwdQdq1VSf6ltKlTE63CBO02+TNlUxL2UWi53L0mI1HruziJIayk9J+dhfmCYNshbVv02zeJMhfvF5rEbQedg7EKYxXO1RDrgr+ncVIYzWYcOrzDQ/MX2U1raGUwBzTn+nNcuj7LbuJw07/3ZevQl1TV70sfItgs+YoOgmfPc1iex4Qi3yaTbrgJtNTcroYol2A4CYQTPchkJOm5kBdUNlNUlAmvwlrxjHDUVPmnsoK8EaBzIywGLeWAM85xgbzi0D0Bu9ttZsIRX9g9wXsOnuGd1bMYq5l1hzwxPo6/IxMQncmvInSxGhwMpNKEzOsexm1L05TyYGYCe9FjOcBqt4cThWhXFqlMRTLErCEr4cZ3UIVBZ3lJry5Esh04mEACnZncCJSS71kUmHqAM85xru9ImVkVKG7eCHDGGXnDY7js4UYWbwRbb8353uMvcy1uc/rPLlL/x4LHc/oxpuLh5JIBRfMug0OaypZl9ECMdymkcckSzSnmDnS5fW4NgC+dOUFtV+ENLFlDkTYt0eGc9IpQo40H7dcACzsPp+RPLWAdmVolI4/gumDi8A3fe9czPLF1hHG7xvAQ5C2Dv6NJlnPCKx7H7rrGxTdw1r/lwKCUqgO/DfyP1tr+tHH3n/nU/8zH/pNwpZT6ceDHAbxmh/m7N6i7CfdUL3FXcI3dR2t84/IhfuH+/4CjDLdXrvDQd7/OEX+bvgn5+y9+B/npGeZetITbGf7mCBoVsUyb9CRuXMSaAGet7FHgiCbABgI7xRiULZ96bti6K0CpiPpV8O7bpfI7ba4+6rF+YZabTq1x9YFZshMRZsdnJ6lxpLbLxe5RivsG+F9rEC1a6u0xP3zoaxRWs+G0uJ60CZyExeqA2uGU088fJg8tnu/JDkCOXJih9A+yVoC/NRKe4twM1lrc3RFFRxgFtpzjaxCNw9juN21vMONRk1GttdhaiLsXSUPWqwqkJsmnkmfrKIqaP6UVGU+TV0qpcEX6AwDZ4QQbu4yygA8ffYGn9w7x4XN/iTx1+MI7/zeeHx/CjRS6fC/yqgQhJypTdAVZO5heHTp2sIFD0gnwxrmk9o5CbXSxaSZ4+CiGSohWSg5iLAd94mdpAwfruBhXy+QjKXCTAqc3EqervNTAGIMtsw1nbVdem4E0g60xOON992mdWwyK3glAWX7n6w9w++2XaFdidm9donU+KuG3/rTkG61o7nr/q5yqb/CbZ+/BxhW6HxhSZA7D9SZffm2G2rEetWZM2gwAxei2BBs5NF/2yCtgArCOZbSsSWYN3rZH67zcKNKWonZPn/72LPgGcsWJygZnKwtsvCPC83Pykc93P/IMv3PmTpzUY2NQ/y+d1//s41sKDEopDwkK/95a+7HywxtKqeUyW1gGNsuPXwUO3vDlB4Drf/R7Wmt/EfhFgODgQdsJI07UN5lxhsw7lp87+AkGqxZPwetZk1/bfJgHWxc5mywxNj4Pr17iOX+F/u0u66OAVtPSP9um/Yqifj0n3CqpRJOxVpJJjVnKoCfjLdVPp6XIdHXZ1dIEPN1i5lqBdQqStovxLH//0Y/xld4prt/R5AOHzhEVHu9sv8pndm9n7tHr7H1ihXv/9Iuc783xwNwl2s6YzbxJYl3urF/hi7un2Irq4k58XcAnWIu/OWJ2LxZruEAgKV6/FGtVQmyvLyrHRg1ndzQV/GAkmOix/BxMJhaTiU6SSmpeKgzHB+rUT29K6WVKfwhryToVvN0xKgd8V3Ym6gE6M/iDjKzuYlHozNI94WLHlp96+6fZzuscDbYYNgJ+bPUrnPC2+Hd7D6Gx6BycWDIgnRpx0DJW7uJl41Tn4hOJI87bbixeIsZzcOIcuzIvP+NIiNbm+jqqVsVpNlC1Cqbq4YzSaVlktYyUBR2fCJEqy/ZXrMtFMzWK0Nu7MsZ1NCoIxPovlJKj8CR79IeiRHXHmnfc8QpPrB3iwieOsfqBS0RaehP43rQczOs+c8+nvPyWJW5vXOd/vO3zfGzmHq5++jB5zYJVZMcjjNGcnNvkzK2K6EKD+gsBowOG+C1DmrWYndc7qEKx8ljC7s0B3bsyvJEm7mjCXcso9QhP9Rj1Ktx98yV+9okP0HgxgPvHfPDoaY6EO8y4QzgFj3eOMlcZvgEU7Lc2lVDAvwNesdb+3A3/9PvADwH/pPz99274+K8ppX4OaT6eAL7xX/s/avWYU40Nlr0uu0WdraLH2LrE1qWhU2acMceq22xndb6wfoIPrb7Mezsv849WPsU/3HgPUeFxorrJQ7edo/huzW/uPMjZ3jxKWVxteO3sMuGaS7gDlS1D0M3xe6ksW5X1Jr4qqUU5RCnhjiW/b8jOoIH+zDKDd2c4tZyPb99FzU35xXt+lRfjg/z22r386ugtfNfSCwyzm/kHP/mv+fm1b2MQB/zuK3fxh/VTNMKErHD4yZs+z1s753hcHefC9jIzVw2VSwPpAZQbkiqT2TxZjoo0Nopk0UgpubiVwlbKDUCnvFumuaydT4RCeSFBovyYbdYwvivwU1/t60FAPkcp3F6CisWMB62E3GQsKKnnVQG6ZERg4Labr7Cd1/m2+iuc8vp0iyqvJwt0iyq/e+FO+usNVi4alN1nS+iy/JHfDQ7CrEwrHt5QnKomz0xnQrtWaUa+0MJUPdztAarRwPT7Jcylgp6fkWZpqUUR+wHpvUxdt0F6UqkVsVslkH5SJGpA0+3hzM2ih4lAWAJ3uhfhRuIbGu5YvnrlKO86fI4vuR2ufuYwjdgQL1cJNyN0XpDXffKaizfIKJ5uo49btrMGN7c22Hpbjej8DOGGwqmkLDYHPH/pAMFrFYIcsia4q2PuWLnO+d05rG+xWPpHfJpXcpR1iWegd0IMlu1rTbJOQbju8pw+SOVcwOiQwXUMn750C4c6e2wM68zXRmz161TcG/xEv4XHt5IxvBX4QeBFpdRz5cd+BgkIH1VK/ShwGfgIgLX2ZaXUR4HTyETjr/7XJhIAVSfluzvP4GDIrDylUBU4WHaLKpezGY6Hm7wWL1EYTWYdGk7E9cLnh+e+wrxO8NRUPM1HZr/BS7WDvK12hprKKY5LD+CL41N8ZvNWLu12GG/V6Dxfo3kpF8OWXiwlhaOxWlPdKuhmLvaeIc6LdRa/7JCHLk+9/TBBNcPXOWtRi2t7LZrVmH99+h287dDr1FTKjD/mYLvLsQPnMFaxUHbsPZXT0BEz/ggaGU4mB3yqXHRddK263w/J8v0yp1aV8icTkpV1tXhMGsHeiTxaGI7iuyELYbYUPk0sAKvXJdCoomQiKAWeix7Fkmo7Wjr5WkqMrBlgPDXds0g6AdUtw8vnVnnZWeELKyf584e/yolgnSvpLP/35z5A8Eydg6/lcrjLbEGeBKBlr2GSdjtKYVyPouKIB0NN6EOqsOgy63GvSQ8gX2jiVAKcaogtbez09p6AXiYUaGRCQ5rJGNtMJlhqf0dmApc1Fpsn6GpVVJCjCB16GN+ZPmediGkMOETbVY7evMWzFw29o5qduxT1Sy7KVAizAm9nhLersL7LoU/0+OX6o5x8+CIAvltgfEO8APUvt9imhT1ZEB1JUZ6BnofdCTntLJEmHv6Og84Ue7cahkOXeDVDBQVq10enCm8E4S0DRuMW9D2WnkhkOlKrEM1oXnlriLfh03NnMHMZZ68f+BaO+v7jW5lKPMZ/vm8A8O7/wtf8Y+Aff6tPIi48/l/X3kNuHD6y9BRVnXDQSXCUwStGfHT3Qc735zhU3+O7Dr7IPdWLAPzq7iNcj1r82NKXOej2aGhDZqFrqjxUPUdDZbyYLnN3cJ22Az/WepU/1XiJ6gmHz44X+fjdd/HVC8ewl6pU12t0zmb4u2Js4/dzvNcqJAsFnUc2qX6jTTzjord89NGEvbTKifomB6pdPvncHahI82JtmY+88pfRWz7hjuL0HcugLJ3mmL9x8tM4WDLrsuT3QSEHW1NesLr0eNT7Jc04ko9PDFgqQTl1kR0PmToolFKSak+2D7XoAKaLSXmBimLi2w4Qnr4m5CRjRf48GVkaScNN6WWpU5GNu2Oxk5ssbg1XXEYHFTgWvedx1elwfbnDMX+Tn3vh3dQeq9O4muNEYuuuMyNXz0QyopUY1kyR9jnuuLSn3xrgjGRjUk1+xkoggqsowV3vSnZnZLvWlopX8hw6LQmaE+ybkZJB+hNa9AuVUCYXaVZ6k6ipIxVFIbSvKMTLDVmngjKWrCmj83DP/n/a+/MoybL7vhP73Pv2F2tG7llrV3VV9b439pUgwCEGJEgOR4IkipTEGcky5ZHtsWWtQx2PPT6jGQ1H5/hYFimJoiiLlCiQIgiCIAASO4gGGr3vtS9ZlXtGxvrWe/3H70VkNjZ2WyC7cFz3nDqVFRUReePFu7/7u7/fd0GlGgdL2lKU9w3It0PyDwy4/kKL47/t4iS5dIQQVOThz2SczY/TemiL2MvRqSbY0SQLlmy25NiJDR6YvcalwSxPv3QUPEuROxye32VVtVFnY6wLyaEctEU7Fj1SpIslZleTbdZxDKhEsXsmwBtaou0S44EX5fi7AeNFiy0V3ug71gS/7bgpkI/9cchTXz2FLuEf3dHhzvl1ztTXyY3Dp1fvYPt8h8axPd49f5ZjwRazekhiPfbyiK8/d5Jnrq/wrx75Vxxxc/pGevUNnZFah5EJ+Pd7D/MXWo+jdUlDu7yca15Olnlz8wLlccXyHT0+eflOLt9dR3kux35NLmK0YQkf2uNHDz/Lr7zrB2hcBjOfkox9fnLhcb7UO827mi/zxKHDbO02KI3m9NE17r3vOr/5hTcTvBThDmHsx/zBwl389NyXcZRhr6wETiegIVN1RCaem54r/+609rMB19ln/AXOFMSls2waKCZeEHiu6DSEHro/ZkItH6z4BFfER8H0+uhhJO8bBuiBpNWqbqv+v9RadFJQRh7WgaztM1pWpHMl/9tHP8da2iLQBR+9fD//5rH30Vyz1K/nEgSmdRyZvzJWiE9ZifGEwmwnXSJrwSKw5bTEv9GDbk8CUhhIxyAKYHNnajtIZTKkfF8o9IMRZq83RcqaLMdp1lGBL0G1WdsPqmkukHoQBbA4FJEa3xND3MiTrKUwuEOha5exR+uVkF+//WGGK7DY7hPM7fJo5zKf8c+Qf7Y5JWBRSd45ScnyVwru+c+usJY06Dx8nmevHaLo+iwe3eG/OPQkN7IWj8xc5q1vu8Arw0X6RcDasInZCGldtdjrivGcR7JcUhYKL1UUBpxE4fQcnPGEgCjEuyJU9N45xjlfo37NMDxmWDm0w/Vy9nWtyZsiMHg9xeHPFZS+ZnSxzUv+DM/W70CXEG5ZeMBwsrPFM/1DGBQOhrYz4u8v/x5/Y/EP+MtP/wxXig6H3VVCpXhnuMqz2QyX8nkW3B7zcQ+Ay4XH7V7JR7uP0CsiTgQbPHHjCKNrdf7WD36ctz1wHmMVf7H1l7GPtdE5/MDhc8ROyt/7yd/g5z//46i+R7A05MXxIU5Em/yDb3yYd5w4z11Hn+Sh6BI/f/bD/NYfvpnbH7zGxa8dITmZ8d++6VOc8tdwsIQqJ9YpGCX07m2P9P4jeL0Mp5cKfqCiCk8k1KzvCbCpaifaalfSuRWg1KTjUOkXThZcWQuEBQjYpXmCvhwzbKshdIo0Q+lQsoU4lE6Fo+Ss3QglpYYp8aqMNDoHGjkfbjxDuwVPpW0++tTbWXxOfo+TyJl8otVpXS0EKlfm5O+MRSGqomsDko1UXRDdHzIRfbH9PuX2Dk6zDkGAHY+ngDWbVp87y1C1miAZHQfyHFN5jdgkRSYMNGIhmCUFzl4f0x9giwLHF/MZkGxGDcdoKxJvVGa+xncEAdmAYT/i7e9/jq985h7e9oPPsZ42edPCFT7x4w9w5p8ZAU5lBSpwyWZCnMTw5X/1MCc/8go/uvA0wzzgRtzg9MwG826Px/ZuQytD3c14YXeR9c0W9D3aLymGhxX56RHx47GA3eKCvOHQfl5TRpCeScl3fWxgiDY9lLGM5h1uW9xm9FsrWEfh7zpcv9b5Nn3B7z5uisDgJCXRtQFWa2rXKs1Ai6gRexp37HPh7CnKCJ63d5DMWuzRMUfmd3n/4kv8lVN/xO/t3Mfs/IC2HtPRGR/deYQT0Rbvic+y4jgEKqJhEq4Vmm4R03AT/uPWg/yduz9J+74h/2HrUf5fr7yLTzz0S/zs6a/wuc4Z9rKQ9zRf4pFgjeeyWX74oWf5+vpR/szxb/DB+nMAfPDtz/NCtshz48Pk1uVf3vmr/HX3z3G41uUv/PhXeXp4lFDljGyAYw2hymk4CTbT+ANDMu+LYW1DFoszlhacrnrxynP24c9F1ZJTQj+2rmg6lo1AdqixmKmoRBaNa+207mBDl/pzm9i9HvT72PlZyTJ6A9RoLLySKXdEFvak2o+CtCPI1MX3X+OhzlX+xxs/xM+vfJJf23oLjSvgDqoykoJgO5GCo1ZknVCcpXyN1TBerqFzU0m0u4KANMKYtJ5DvtLBu7olb1WL0V6OGQyxvQE6DCSIZZkQ6RwHFQZiE+C56GZDdCLHCWY0kmOGFREfvTfAnQLi3MqTxJfMqVHH1mNsGGDrkfiW9BJM4IrqU2+EiUMaVyJ+4qe+zL/4zQ+QH09ZDvb4jRcfouj5LJ3YYvUHF1n+ykDs8Cx4wwLjaOrXSy7szvIJdS+D3OfPnHiSq8kMnir5b5Y/jYPlatHh+qjFf/Xol/n1649yffUIyXKOCwRdS77jkHgerlGkHUUyb7A9HxsZdN+Z6kbs3VUyfOwwc9oyWNEEO+AOfVoXDFdex5q8KQIDRlSE0ILmc1LkfOkodKpons9pXBZkm3WUyHpHPoP5Ff7NyiHSWYOTKJ648zBz9SGRm/PK2jzRqZydMiRUY3JbcD6f4de23sL1YYtx4fFnjzzOTlEnMR4/3HmG9XGDp7M5vrB9isWox//u8Gfom4j10udKPsui3+OtSxeZd/sk1uFSPsf1fIatos43do/yXH+Fjyx8jZ85/BVu5DPcEdzg/3n+vXzsuTdz8tEr/N3jv8vZdAlHGVRQktdcamvFFBtgHShiF13up926ovVKT92IYKqVf0/ckjEWRQUFn5DKhmNM4EvwcDW92+vMPCatTxVHQh4KXKjHosNQiyDL0b0xqihxkkwwHhWmwR0besdcZpyCF3tLVTH3OJ974k6O3ihJZ1zSlmbhCxuYVoxKCvAc0rYIxdauZ5ShU2kIVFqRVf2hDB2UqY4WCpx2A73bg1oMWonnw3A0tRXUk2NUuyWZQiX+i+9JxjUYyhHDcbBliS0Kyq1tdJKg6jXseIxuNUVE2FpxRB8l0hmqRdiaTzITSOszM7ihLJPa9YzfWb2PaF2x/NZtPvrKA8zN9HnvnWd5oHaZ35u5j5dX76b5SiV4W1p0WeLvwc5XZ3ninoj5mT79MmQpkE7OKX+DhioIvU3+6W0f5dd69wGQ3Dnm//LwpzifLPDF9knub+3wtSdPYRUUscVEhuiqi/EdirpheNgwOAL+tkPnBUPaUuhc7qlwWwBmr2fcHIGBqkh2AJ2I66AyO02Tp0SqiQCHUsRXNLPPOJShSxm7jJ9tsdOeIW9CmMHHth7mdzv3MDfTRyvLKPVJc5cfPP4yf2vhszyRLuCrkreGXXbKkjtu+03+r1c/xDAPeEfnPF8Y3MFn104zSH0W6gMubMxyYmGbZ3YOsdGrM96KUZmCVs5DJ67wcOsyjw9v47cv3svwSpP4BzPeu3KWL2jDW2cv8sm9+zgZbpAYD+0ZQTVOakJVgU6bKrWuEH0ohdKmAtxUHAorrtcTaLCyFYR6ajEnICe93ZWuRGnwBjV5r0m9InDl+aUHjiMsRd/FWdsW39CZ1pSxmC7EuMOCrOkTOjkXd2dRyvI/772fpS9p8rrMfeHz6/JZjKGYiegdD+ndpjj8+TF6XMhnchS6FL+DMpRgYFw17bJ4vQqVOkEijgWfoWqxqEHXYlGHjkJx1K6H+8elKID+AOX78jxj0K4rdYnBUHwzs3wfHl1R+W18gHlYGvQoJ0hy0a2s+yKRHwtuZOuLy9TGlkuX5zl+bJO722vETkZbj/jLC1/kZz5whmAvJtgcVVLzoqLtd2G8FZA1RlwcznJnY40beZuzzgJLbpfcuuRW6jwX12f5gdOvsOTtEeuUhaM9Xhos486N4VKNom45ctsmH3jbizwSX+S3dh7iU0/fw/yXhI7uZBZdKBEUtpbXqQMry+/1v+RPYFiESjypxisljU7Yd46qzEEmRCAAPZZUUbsOnucSrFfwV1/w450XPYpaQB5H5AEUbcX4ZMHn3Nvp5hFva53noegSe6YkR3Ep7/DmmYt0nCENZ8ze+DALcZ/7On3uqV0jWfTYyJqUaFpLYzgNHXfAEX+bj+08yA/UXiRUJeHJHE7C/dFl1vMmf/22zzMyAc8ND/P57mnqbkazPsa6kXQlJsFcKXRZTpF7WLCuwjpCW1bsF7ckWFavm5CE8n3h3KlISQUDrl3cE7eo4RAdRyJqYqCs+Th5KMeNqqWn2k3RHFCK8XINr5+Tzvikd4y5uDtL9G/bJDMK21AMl6DzUk50XezfTOiTzYSsPxrgZLK77d0W0nm6h7c9oqxXJCZHkzcd3LFYq9lCINLO9mBKdlJ5Cd2+6CssdoRdOtPEdvckG+h4UmA1SJ0gL1DNBmQ5pt1Ab3clqBhPVKutxQxHOH5LMoOg4orkAou3FTtXJPPFQ8Ptp1IzsCFFzaN50dA9rcFIRH+5t8D8XJ/HRye4ls6wuNxl7c0LHPs4OIOUMnJJ2g5pB6I1B56b5YWZOdZ+oMmfPfI4DwTXiZV8lTvGZc7tcfvSJj+38IfEuuAr49t4cu8o57pzuM/X8XowPGq5dnaBT1rF49ExZoIRnaU9krk53JEV3oiGpKNQRuEN7NS46LWOmyMwTIa1FVtN77P+JsKwB1V+qHrVEyZlISmmygvUOJP+N+B2K7GNyuugjFxaF12SmTZPzszwxRN30F7ucaTd5cMLT/H+2jnu9TfwFKQWHCz/ResbeBja2tDQLrk11LXc3AOT0q80J//PV04yLj3ubazyl9qPk1r4enKEP9P+OjVVsFrWeTS6iIPlc6MzfPLK/cwlSFA08tl1IVnBRNFOHawYTVSLqgxh/7Mb1ChFTyTklZoKlth6LGi8doi7l6LrsZClSnHiUp6qfCbk2upxNtU+LFsRGEt8Vs77yfwCRxd3WN9r0O4WRJuWvOkQbmZ413cpO3XGt7VRBlbf5WIdS9EpaD7vMZ4DPUwwrQrKrRVl5KAzOz0+GFfhdTNUfyjkuCQR3YRWHVsFPXNsEZWIg7kOfBinpLe18Xc1OnHQ/RGMxhTHF4WxORyBCaV7EYXSvajVhLLfG2Bn25ig8pGYb4psXFpOJeJ0kmFaNcp6QNqR73w8p8lmSm4/ucZi1OfNrYt03AH/7NK72PyjZbK2YfFlgx7nmNhHpyU790K5kKJ2PcJtRe2GZfXFRX5h+318+djtLId7/NnOY1zK5/j41v28b+ElNso6X9i7g8+tnWLt2UX04RFBCu7YUr8kgLPr5QJr8wllxZto7FiKmiLeLPB3M5G9T0QJfCqf+BrHzRMYDnAvJG3e11KY7pDW7vMgzKSXfwDiPAkWOVOmnTIGaxycXM60Xi8jvuFQRA6t8y5Je4azhzv8D7cv82+Xt7m7fYMPtZ/iUj7PN/rHKNuKH4iuY1AEyuNcXhDrhGOuT4mlUWlULjQH/Pn5x3hvNCBQdQYmYcnd459vvRNjNStBF4B311/koegS737kBV78o7sFvWhstdhl0eiJnkAmfIdJFmUn6L4JDdtIS00VpRjRTmTki1JMWko7FXAdHq9T/6MtmG2L3Po4E9Sj71K0Y0zgEFyudBcqXcyy5uHsTL4U8HXJf3fv7/Lz7/oIt//iNcLSUM63sVGAs9Xjyk83qK1q3vSeF7g2aHOqtckfhqcJX4jo3TtH/4hD45oI0kyQMRIMESKYAduoSXCACoWpJdANc5z+CFuPwPex1mJmG8SXe6huX+oFWktGcP4Gxe0ruFGImuBCikLwDUpqEfie1BQijzIIBJ6dSNYxURe3vkc6F5E3XPy9QiwHFKhCAHOXeh1O1TbolyGjf7/EofOJZBi5IFd1N8csNJm5e4t3L5/jPzz9EDtvUtRmxjSdkrx0ePrjd/LSruVTzbeQdASZefGeWX7Xv5dR7rFS77G7q7A9YeTmDUX25j7pXkh02WMcebQX+/T32iiraF3I2T3lsfBUjs6MCPUmhnT2eyzU8qc6JgFgUnWfZA1KTTMGS5UtTIlPB+oQk7epbqiDgUUMTyTo6LTAy0uc1BB0NfU1Tf6CT69xiE8fOczvrDzA6dtv8KGlZ7nbXyO3lpb2GdmMOafEAXbKlMfSJdp6xCPBiJ1RxKVsjif1iEVnwKdHp/ln595BknmUpeZfP/ovSaxHW6d4yvChztN87p13cujTVS+/ELShKvY5BZO5qwlwsJQ0Ueel0KnLymGpgkmrsqKQ1+OqflCAI+pO8SCD2bagIgNPFK0ckV3HWrxuBR9OUuzcjNjKb4gHQzoXMZrT2Nznv/voRzj2yYSy0xRh2O2BQLTrMSf/Q8ruHSFJ6dIJh/yXs1+jffeIz/3hWyj/qy16l2cJtx28kRH2oFvVHHIj3ISmj84K0emMowoWnu5b0w1GqN4QVa+B6+Js9+XCuA7c2ETNtETYNUlwX7yEqtc5qAeKOwFzVde2LIVlWhUXMUaOMaGPKkry5TbWUYSbKU5F4w52LbU1uPfd13lpb5HzozkcZWlfSPG2RuRzMd5OpU7uuVhHs/fkHL+5W6feHpNlLvcs3uDt7fNcSmb5nZffDAit299TpHOGwdfmMGsWb2TZSjrMUOL1S6yj6B928T9Vp1nAcAXC6x6jzRnssYTRZkQZuARd+XyqKurrUU6Yfz8azsCrsoKD2cN0wU8eO1ignDx/MrSuTGuqfn7ls2g9ZyrftQ+clgCjs+oClqLm7I002XWXa5eP8gsrh/ilw2/jrSuXeG/rJY57klYfdsf0jeaH410SWzCyBmM0uXXJcPj06DTvi1/hR+5/hZb28ZTDVpmyaUpCVTIRH4/nh5R+A3dscDIjNGdXVwpHgtewnq6KjhaDnJNVIqavUxZlVUwzvguRJ0EjL+U1Wo5TTj/FxD6mHVUApOoSajm6qFEqeInAr4qOqfhchi7uqMDJfLqfW+LQkxlF7NA91aR1McXUQplj3eHyB0Oa5+GJp0/yf3jvJwl1jqdK7vyrz7MY9PmiVWRPz+NV60ZZQFMJuAh/wjoKahGqP8KORqg4lqOlloAHCG1e632F7KKUx7JcdEK1kmxosvPvjTBpKlwTYwQ05XuYdq06QlVYhwomrvJCsq+sJNgQMRiVFTjjnPYrlsHRiN954V7MyGX1rMfsiznR7hBcjbc1QldqYUUzJGt7FDXLzz3weX6g9iINndM1Ps+nK6RmiTvedpFzm3OMtwSrgGjrUsYKd6hFlCYBZ+zgJhZ3TMU/geZFUWgyrkJ/3WPrHih+uEvjl+oYR4sITlbui/a8jnGTBIYDk56Iphw0nZkIfR4cSlUMQbsfDEACwjQY6OlNRYWuA6bp+URnwOqqMq7EiNUbgpNAvKYpXpzhcyttPrV4NzMLfd6yfJk3NS5wb3CNa4VoCGRWo5S8+R3eELhOoKBvFaMy43cG93BXsMpDQZe+gcwqPFXw4PIqzy7ehTcSSzqrRPLMyQ1F6OAODOSygExYiZpMrovrSGZULQRVWkRa36l2iQQTh5RNn7zuEo2yV10DVUj13dR9irhSVLaiSq1Kuy8O6wsdun4to3XRCNlqnOHvSr/fehrjOyTzAXmrZPshqF9y+YVvvI9HTlzm4dYVPrIsHLqtrM5XDs0TbasqKkhtoYgd3KEF7Ug7dntH8AWtJrYRT7NDG0p2g+vs28wd0MC0w5F0L0ZjgZdPKOhBgLIWPT8r94PnYgJvWqOhUgeX+0FPA62zM6Bs1QR4VjlWecMx7a0+jYs1jG9xxuLsLfdOOb3vTOiSzfiM5hzCoz0eiS9wr+9hcHlqOMMnt+/lTH2dM/EaP7E4pl9GeKpgZALW8yaF0WxmdW6MWgwyn71hxCBzKVJHCp+ZhsCghk5VpIYTp69xeX2W9M0u4ZYi2PUF1FYIVuj1jJskMLDfdaiyAXugWKImXQmo8A36wPOQnyvIsHX2i40SFJAd1FbQ22o3npzZJ60y63Dg3Fth/BPwRopwF4rzHllzls8sdPjkyt2cOrLOmdY6j9Qv8kB4jXqYopXheuFywh1ggL7xOJst8k+++AF++f3/nI8Pb+OuYJWdsk7fRJyqbfC1hTuZOSvBTZV2+gW6o+omc5VoE/hVzaSQYuFUoqxiE2JtJd9WTjkSuj9Exx624YkScnVUESt3aUXqpIDYE8u3tKgUpa04Sg/HuP0hRCGDuxcYLXp0NgawvomzDm4YCg3cc/F2xyw0Opz8ay/x1fgE/sWQK3MzrER7dHRBamE52CM/mpJeDgj2hLmoCrv/XU8ywMBHHV2hrBCg/VMNGuf70jnxHGygUeOqyLq9i3VdOS5YcRzTzcY+9yEMUbUIFYfky23JSrQAyFRSoJJUajR+FSiyXH5WCtOM0WkuPJQDArzKGNyt/n7GYq2IxxjF6FgNrxeiS4Px5YjQiEQi/nwxZLOMyK1D5OQ82T2Cq0taXoJBETk549IjcnLujG9wPNxmryZO4Ll1CFTByPh4qmRkfE6GG1xK5sitg7EKVxtmwyHnGnPsbjTQfRd/t4LZuw58+rUvx5sjMFimst8TXP2rsgCo6gTuNAhMH3YcUR/SWlLaajFN0nFVVful0m8rNScRIDkYFCRzkA7BBLsvC0x2NjdR+ANFvA75eZ9rC0c5t3iYPzx6mkdXrrC128Ac1STWpaZKAuVS2owj3jbt5R7/67X386aZS7SdEZ/q3sNWWuOZ6yvknXIqmqot4Em2ZKrg5ndTQdIVZt9zo5IemxYj7YRQZUWrECgXWujeGLTC72b718vVVS0CsvmaICw1VRalSTsBZaTx93z8VShm63RPx4TdEm9kOf/n5zj6qTr+1W0RPxlU5wLXpfOE4pmP3cmpD1zhcjzDPzj9cf7Gp36aH/uhJ3g+PcRT3cNoV7Ijv1dOaz5ONqFjl6KHMNuYZnJUWVT/ZIPatbFgPZJiek8oz8OOxtiyFMCTUtPOyiTIWK1QgxHuZh/TjHB6Y0GEZjm26tKoNN8/xlorx5Ks2nziEDUYS/ABUBVkfZRMNyqtBMkZr44r7ILLaN7B/fFNOtGIzw/u4L2NF+ibkN/fvQdfF7z4xRPkM4baJQd3LJtc/zaD9S2fXzrJmfkNfKek44+IdAYuxDrDUYbcOgzKEE+XjAqfQBf0i5C5YMiRQ7vsLNQA+PxLpzl9dI1HOlf4f/yD174klT14Rn+DRitYtG9b+vP74iKw322AV2ULeO6UC0CVLVhXkG8iAqowVbtSmaqdVwUFOcNqTOBgXFVlFQpbFcHkNdUZrmA/ba+GIA3lb+OA8RR5LBDVtGMpVlJOH17nrbMXeUf9ZTxVsla0WM/bfHT1Qf7vt/8mDpZ5Z0yJYrOM+Fuv/CTZv1sk3iwrBiM4FeXXKnCHBUXNlQDRT6YCKzLZVxdXKfehxYDoA9Q9oit7wr+oSFsTMVnpgJQUsUf4wjWGDx1FlZZgY4xO80qfQnbKdKnBhZ9S3HvyGhe2Z8leanLql65L5lKl7NZzSJfqXPopw5HfcAl2MtzumHwm4txfcvnpR/+If/3EW1j5hEvr+d39rC3yMK6cictQcCi6FN5BGYqylJMbEUVRIuiikwI9GEsHoyiEKBX6sLsHMy1BX+biOaFSoaHbogLRuSLFX3ZqWEfjbgpScRocoPo8rgSOCTelN5LNya0AYUqh90b72a7rkM/KghweCtm9U+MkkMxaykaJ10opC82dR9a49pu3kcyCvydyfk5a1RZCyOtyPwU71WZlIV6TY+RoQTay0ofx4QKdaOxMzuJil9uaO3SziJ1xTF5qIq9gnLv80OGX+NnOVzh9dO0b1tpHXsuavHkCw+G/uA9wgld3FUB2tOqYAEy/wGlQ8PYh0/vGggeKLtVuIIFDYQLJGFD7xxZV7ncADg6rX/1vZfaDRumLpRxKkTYUWVsxOGpQsynt1pD+MKQep8zEY/7rI1/EUyVD45NYHwfD//Ts+2l9vE68nuOkZtqunCxYb68Saal8JJWt4OPGSHEw9kX4NKp2MWOreoMAmHpnGrSe61b6h2J7VkauFKZyI7t2bijrPs44p2gI7dq/3sMGLtl8jb3jYonWPQNF0+BvOxQ1w8oXDZsPuLTOGbxRhdZ0IG1r6qsFwVYigil5KWSqRohOcvSeqGTbosAuz0kAGgtlWRVG2I1VhqTycv+ImVUL1xExGdWvRHLLUpCQSonLlFaoKMQ0Y5KVBuHaEL2+gzVG2pdVcRqnUu6aWAlsbAvAKwyEon1gc5pwTib3kvUrzMgolc6JI63zYrGFdRUbD0aVzaAUtbt3WPShEcV2RHzVoXnRkMeKIhabQm9oGS8IjNnvWryRbAzdM5DPF4SrHs3zlnBXjopOYtBZVbS1VnAbvkvWCRktuIwWNIMTJV5X85Ef+QJraZN//uivvubAcHMcJbTGVGepqQfC5AupoL7TQmIFHYaqballB7Gell3/m4EcB3Z9yQ4OFBsPLHhdBZBJr3oCvLF6UrnfxxroogogVirqOldY1xLtKLyxItpQGC+kCCO8NmSmzoXjBf9r9j5aQcLJ5ha5cWi6Y7KNGG9opgHMGRciix57eP0KHlzxHcrIReWmMkSZIEKlbanz/Q8jGohidBN0y8pRaZ+Y5iQF1tGkTR+rINhNyesu7t4YZyjXcIIKtApGK4p01hAcHvA37/o8//jx9wOw9tYAjg/YmI9w58a4rsFxDMPrDWprVSY3slApdjv9RFSiQBZVGJDNhHi7iTh2V21FJwzke0wzecxa0VOoTISs1lIcLUtZ7FVQwFrRbawUsVVa4KSlkM/aDdjZk+f7AgO3FXV7Gng8V7xKKn0GNXEuC/ypCW8+E+FUqtIqzff9SJTC1iOKyCFru2Styb1jCbcUjYuK0aiGEwgaNK9JNyjclaPVYNmhiC21awo3gTyGIlYUhxLeefocXw5PMhpGRDuWcG0kASErULs9MQdu1DCew2jBpX9EM/dsQW1NWvwX3zdL5HzvFZz+xIfVmrKxD8BQFZ992j2odnmgKh5OnseU2mu1pPYoidITbsG3/K798oRwDCbZuFLCPZi8RMnPk6wCq6pjhnSVpP25/zxb1S6UAW0tbgpBzxBvynO9gUv/8gLdEM7OHUI1M1BQu+JQ+gYTaJy8qNSqFc4gpWgEuL39heQO8ooLYdHGTAtiKssx7br4JMAU7DW6vUX9pR1MHEwfU5mhjP0KeShejOlsgE4NNvAwkYu31kclKfmhjvh93DXk5+79IntlxEl/g7/2oGQ+5UOKI94O/3HrQa7126SFS1Fqbjtzg70nD+ENHGgG6NybtosdEI0Ia0FXWAnPgTBA5c6rfEBsnguLshaSHZkVfMB2V9qNo0QEWKp2pY2qHbyqK2EtajgmuJBOtStsZVJkK72Kg/iXshHiVPciWqF2exJgHF2pQrmYMBBdzFGC9T1s5JMs1egdm2Xhq7vk7ZAydNi+xyE5kuFue8TX5b5wUkvjihwXxvOK7Xcn1J4PiW9IodsbWZrnZNMpIhF8TTuW+46v8qHZp7k6mOHGhUO4oxJnvTu9J+xIrqWuXMmNq/AGMDjkTDOWJ24cIRn7r2tN3hSBgar4BdUiUxWYydtn3E2HEWiwcPbt9PwHclHlOVXQUJLeTrMMyz7qrmqXfcv7I8HDKlUlLVXHwDKtAUAl665VtSscDAy28oaoQCZWukvhjsHfUxgPyjWN8SJxHNq1WAfyWGO1h6q5+LsZ2lrZmfIS6zhY7wCBalJjqOTgretISltJs02EXbonXeovVkePHHQlry9GNAHOMKeseYI4dJSc7x1NMVvDBE2ylksRKPK+zztqL9PWGR6WU942f+fqh/n7h3+XF9JlfmzuSf7AvQtjFe9uv8R/3HiQrQ912fn9NuGupXYtkSzFd6risDPVXrSes19UrdSaMBaVZgJkMlJ0zpseThqgs5pkA2GwL/fvOlMlqrIWovtquptPjgoqSSUbiCPJCKoWKIANPMYrEV7Dx98ey2uVqmpeVfvSWPRwjA194Vl4kilYR7HzSMFoqcPi4zkbD7skx1LU0MU70Sd8roHOrcjm57DxkOInfugrAPwH50HcYUTYFdFZLPvOXQaKdsGbZi7RLyOsVXh9yFou3mwTvd3Djkb7ayJJ8Va7dIY1umfqbD2gqF0T/1P79RaN3utbkjdFYFCFERu0SSUZpniEb+ZIHBx20rWYZNGTjgKSfk/67EBVsd/HRljFq4LKAdzTq+oUQkipjh2T4KAOZAuOwjoHipfVr9C5BBHjKdmwXPDGhsJKFqSMJeiCk0lNQJcSYLx+Sdb2CbaFUWniCtGYm1fP8+A1cQ6kQZP/29imtrYg1zF0cW7sYObboi0Q1qAUyHMRSTEy3EqmVO+s5Qu9verU3HlqlbbO+O3+fTR0whF/m29cPMqPX/zr/MJb/h3/eu1tnKxv8fF//zbSH3H5wNwLnDq0xh+dOMWMO+SXf+FDtM5nIvSSujhVxuKMS/HcDDzKmQZ6mFQLUk0t+VReYMNABFeHaRU4cilCTxzEKvq5Ki0mctEDyQSmNQLPxXZaU7wCuXiBqjSXI0N/RH0oyE+VF5SdJrpZx9QDObvnRaXupNG7A2wcUnRi3L2x1FEGNepXLd3bPbwHd1GFQ+oazPNNBofBHStmXsnZvtsjXoez/XnWRw3sjk9trUTnFndYUkZiblNEDumMBd9wfjTPHwzOsNGrE4xg3HHw+jF+aaHdQN3YEFCX67D34AIbj2gWv2Y48pkCr5dX9/K3Zs5/3Lg5io/egn1r88de/aBWoKsik1JM5jn5+VUUbZCz45Sy7coXGQirblq3mHgt6CoTcb7LBatAK5PsxHgHOibqwDGkkj23qgpGlWuR8SagKaky57GijCCvW8rQEm5qWhcNXl+g2QLVliLdBLY9taabpMZpUe2CznRXs1pPHaimJr+lITk+Q3R2Uyr1m0J4sEvz1bWVYJzP18hrLuFmQt70KUONTg3BxpB8NiZruoxnHXFltrD9aMEPP/gsb2pc4JS/xl976i9iH2/ROm9Y+2DG6SPr/NOT/44945GhOeMVfCmZ4c3BNr+8dx+/+ss/RBFDUbO0X4R4o5Dg52ucdD8yh5e7+/dAxboVXkNAMRPj7gz3rQAmRWpd0c4TUZYGpq/FmP3swat0NSegJkeLHkWWicxbFKB6Q5GJM0ZAUb6HjYOpI1ix2MJ4DlnLowwVqoT1Pztm9mMxSVuzd8bQuCi2duMFQ7ipcceAheFRg8oVxVxO83mf2WdT/L2M8WLEaN4h3iwxnqJ31KF3ZwGuwdlziU70CL2C/ijAvlJn+SsF0fUhujuYyvMNTrfk+m2kcuyaQAAqUtxnHvv577Pi46SyfHCUgFMBkmCfTjw5cgC47n7QqEQ8MFbYcxO2paP38RAHz+UgF+2bAFPyn9XuX91waI2qYNWAtDwjt2pbVuhJR1EGmrSlyeuKrAEmAJXD+FhObW5EKx7jacPWoEY5aElrcDcFY0WyvGqj+nvZfjDIhQ9h+wPsOEHPtKEey2fxRFPB4qCTCqtQibZu3+lz6FK1K0ZVYXdYyaW3apR1j9KTBVnUPdx+hnEDdGmxgYe/PmC02KF9PqF3LGS4rFj+Q4fHHn+Q33/nnfzy238Z+/UWQdey+eEE/2zMI/df4dOj0/iq4Ii3zW8PZsity++XNVrOmN//m/+IEngum2VoAn5j8xGe+cQdNC8b/IGYGzvjCSHMYeJarQcJFAryQjJLEBCS51K0QjGIGYzBcRid6hBf6EqnwMq9gOvuFxhLUx1HNZbK1cv3pItRD8U/M82kQGms3C9RIMVOoOzUKUOXnTsChkcg3FCMlyynlza58mfa9HdqOEHJeLFkaabP7h8sM1402F2N1wdVKvw9Reu8R7xZ4A2k0+Lv5ZSBYjzrUESgS5h5yqF7l5KuFzDOPPJrNdRtCZujiMUiJhyMyZfbpB2P3hGHcMcSV0K+Ksulk+O5OLvfpt32XcbNERgUEsm/5fGD7Urki5pyJkS56FWtRO1U+gZGNAGrFHuaSUzxD7oKEpWT0aSFNQFVfTP/IhBUm7S3HIznkHR8qUVoRdIW49DJbujd22Wl2Wd7GDNOfVYaQ35w+WV285gz8Rq/cvEtZDuC/CtqnljDVzgLZTUT+rkqDGpvQLm1jXIcdGdGgt7EudutsgQlrVzJGOQGaF4VjQHKsgog+2053RuRH+vgjkvxQajEUUYLHvVVoetqV+OODcPlgK0PJLiXQm6821C75GL6HlfzWSlyHYV6LaF/u6LjDnlhtEKsM4Ym4NHoAitOSkM7/Ivu3Zwt6rR1QkOPOeHtsN15iceO3M7sCwqdWpxxidtL0N0+5Xxbgnt3KDe4seAGkin43rRdO/1OA7/KhCzjoy3iVzZls6jHch2q48ME+j1FOXquSM2bVGowZdX5SFJsMhLpuFEyDSZoTdrxGC0rnDM9+q0as09ozp2co10fEy91SXOXTm3E5qBG8WgffbYOCvy+JXwWRoti9KtK2WQmgK3SV+zcK5gHf8slWlPoVDN/zwb9cUhRaNRSgr4SEa1b+oc9vF6DrO2xd5tLOgPeQAR+VO6iUy0O8HkxhXS/1nFzBIYKwjt1nZ5Uiw8SqLQjJf8pO646FlCdr9Wk3qDA6OkCkbffP4ZM3x9k0diq51+JnVBhEqAqavkeZT2grHmkbY88loKO8RTd2zXJSkF7ucdKs8e1vRbpZh1dat47/wqf5xQzs5uMCp/bgk2WPY++CdnaarCwY3BSg1u1JFGC/CMXSbDp53cddBSCV8Fv40huZq1kR50USl2NtVKRLxshjZd294t8QaVYVF2SfKmFM8zFQTyvOhZJQdAv0bnBeIKX8PolRaip1RNuf9c1nru+TOOLMcGuw9/3fxz3kKVYkLT9fade4kbW4mS4iacKlrw9QlWSW1gvDfdHl+mWMQ6G7bJOW6csuFIROwhHB7BphrOxi9neocxytO+hoghVFEKk6vagUROFK2vRu32K5RmcfipgLseRAFAZ9djAl3pFUYI/0YAQ82L2+thmHXoDyrUNdCAYBtID7dAsl03BdXA29wgDB2VjoiAjqQdsvcmBnYg9BUk3RI01vbKN39XkTYOby4dLZhWNq4bmZUO4XVCGgr8x7RDja9zUojONrRVkCoznUtZK0tzlrYcu0XTH/OZjj7DwpLTOa6sJWTsgaTsYD9wxlFF1/J1smJWDt63HlTX1axs3SWAAW0r1TSm9/6Fe9Zxvkwp9h6KKcjQ43v7/Txb/5EgxKVBOahVQFbG0nCcDcUEeL/gkMxp3bOkf1RQ1i3WhcfcOc/GI981eJrcOHXfIYX+HJ5rHCI4VbGYNQp3zcOcKc94AgFDloOFa1sGOXVQJbj/DvbFLOdeaEr0EO1A5TI3lmIHnS38+EA0BZUxViXcqgEtZeVdKa27vdI3Ok9l+YDUSYCbfdhG7hFe6IgQbzE2t3KLrojTsDKxwBHI57ybacKqxyXq7wcb9NYrZnPfc8zIA31g7zKnZTX688wShykmsx5V8lreF63gohhY6WvNCFpEYj9y69E3Iv1l/K0kpHZFkRlNLK0p5b4S1BrPbxZZGgmIlVWcWZtBbe9PgqJMcvTsQlylV+Vmu7UKvL7RtV/wobBzKd5+kkoVURD2bpKgolI2jWZfbLvumfn+jBgMhSqnSiEze2euE991O/9lZ/FxhHeksma06qm1onnOo3SgpA0PpKbp3WhovAgqGS5qZszlOWoqfZ2EqSL+i9BS1VUXWl6OfzsG55pKszvLZzgz+jqYxBl2UuIlh90xE60JK2FUoo8maitqawdsaUTRDSZ67PUF6tv8EvCv/VEdZAs6rgUoHqdgHuRJVYfJVQ1XHgYN1har+MNVuqP5v/whRMe7ikHwuZrTo0z+qGS0Liql+RTM+XFJb6fOzp6XV9EB4ha6J0RheTpfZLBrs5DUeaV7ilcECeezQcsd03AEr7i5rRYtYpwzKALfrCIOy7uMk6ZQijRGgk7IWE3g4fYHbqsBnqlTluagkk+ePmBbflKqs67Q4bU+um60coinE8q33wBKNV7pyHGnUKkGYHBxNNhMQ7KToCYXZdylDTV46XB51uGtmnff+0NlpMLyRtXjHoYvUnJRPdO/j9/7wEeqXFHkD0p/+XX669RId5WMw3O+v8UI+x6+uv42vPXEKd6BxR4pQQbBXcSWyUhbxQD63btZhYVaASfMd9N5QuA9Vt0HlJabTQA0TnJF8aNNuoPJ8XxcSwPgClMpy+c49V+otriv2f00ReVGuK4+lVfejKGBrB+v5qEDuM7O5BZ5H63JO3vSkuNyCw5/JGBzymXlxxO6dddK2prZWCu4g89h8BOqXNX7P0j/ksvOThtaTLsGuQ7RT4CSGYE+Adk4i3qnRtsEbiRy/v1eIGlOVzRWRS+1GQfdUgDu2BF1D++WR8GOMQZV+ZQ3oikDNuSuvaxnefIHhYEBQSo4I3y5bgFcHhYPHj0oZGJCe+ERANvDlfAoSCCLRDCwDB+NrilhThIoiVPg9SxlovAHMfega/9Px36OpE746PsmSu8eXhqcprWbZ73LM3+L58WHub1xlt6jxw3PPMesO6JYxHWeAQZNYn5CcvTxCl1JocwcZtOpTduREQ8A6VTGxqqZPdju715dC2mRhFCV2cvTJLdYXbYTGhcH+zufoClpcYFo1ovVkH1rcG0A9krR7MCJ+eUNwEc0axXwT62pGCw6nZjdZCPocCrqUVvPrv/I+/D3LX/4/fhxPlZz21+iamJ/5L7/MPb5Co8ltycgarpVwPp+lW8ZcTBdICo8PvfUJzvXnWYz6PLO5zKA3R/OKxd8DtbOHSZKpVB9bXZhrYyMPm7rYyJ9yOCZQa1V9/2Xk4YxzUcGe1CXyTP5dlqh2cz+L0lqeo6si3QEIvvIEGTlxs6IsxRw4DNCL8+A4+DsZ7XOatTdr5u7epPnWPoNBk2uJz3iQ0ngqxDownvNwE8vC1xSjJQE3DU/mnD66zvV2k+QLbazj4qSCuUlmNL2TBncspL365QRlIe0EBLsj0dTwHbw8Q6cF8QU58kycwvLlNs4wwxlm9O9doPQVRagpYuD//dqX4c0RGA7WE775cQ7UFSZCsQeCx6vqB5NswAgEF9edFt6s71HWfbKWT9Z0yOqaZFYxXjaUkUGVSirGu5pkJSeaHZOfa5AsGn5m6TkS63EhWSC3DloZWk5V4beK9bzN9aTNQqPHRtZgxh0CMO/26JcRjjNmye0SqpzSKoJthTsq90FQFUuPqiU3+ZJtPd63sI9CzM6ufM56Tarmk89r7VTp2HoOTne8f7OX+8zKrBMRXtiUSntZQiFEJKzFpilKa8rFNmXsV7b1ks5e6nb4yNLX+KWr7+JobZfB8RIs/JNn3otScHxuh/tmVpnzBgxrZzniDAgVXC0D8gpq+tJ4hS9tnGSp1uP+2lXOxGsc8baJnPv4zMIsjasV43W2jRqO5BjQbIgeQ1Giu8MKaAQqnegeiCGMDaVr4I4zrOcKvL5VE2BXKq5aKggqhGRVwByNpUUZBlB602BpG7Wp96WKI9lkJvdSaSDPIfDRSUHa0JjIUPMznr26Qu3JiNGdGV4tZ/DQmP79mqA2pjgvaXwxn6H3XLxGxkptj7R0uf5ml/GlGtGapnbDUMRgfSud9aLC6OUlTmYYH23hjgtULohVZ0cwFTb0GK3UMYG4kSe3Rcw82yVeHZHOhoTbBcFa/3UtyZsjMFRFQTXJEL6dcOU3PTbJFqYBYVJUdDQ28LGhR9EOSdsexlNkNQkEybwlnynxWiOUthye6RE4Bde6LUY7MdlsyrHFXfbGIdze59HlVe4JrwLQcARy/OL4EJ1q8V9M53lT7QKnZtfIrMNSc49uGdMrQ5pOQsMZ42DpmohEeVzqzYpvhkJuxFooGgoTu3bPpfL1lexGK6k1VFqXut2aZkPTNqsrSktOL6GsCfxYTTovVfAoO3W83SoA+VqoxCNha5rYR3tupe1gcUYZynhkTY8ygNjPGZmAH1t+iqf6R9GdDLMVUGxE2MAwbPk8210hdjP2ioj74qu8ObxKQ+Wsm4AL2QIv9JYZ5x5Prx7imesrvPXoJV52l8iNQ7GSkZz3cVIXt++IinWe79OcPXfKDlXjTAhN1dHLekKGmvp0liU28NDdAVMKdipW9eQF7HQrqr4WK7u9HtpYQVkWxbQmoUbj/ZvNVh0Jp0JpphmqLHETi7erufjCMjYwDI6X+I2MNx+9xIvbS+z1I/LcYf4Zy3BZM1iy6KWE2faAfh7QCYecum2TC3OzrO012Hu8hc5BFQqvr/H7eYV8Vbi9lHIuIpn1CTczkgWfwNXoQQalZfeMR+/eDH/NI9hR6KJNuFvgpIZ0xsPrfT9ComFKkMF1q178vgo0psI56CpwFAU2COTmd12BqUY+RUuEOwcrLuN5cetxlsfMz/SZCxLqXopWlodblznmb/HM6Ch3RteZdQb8Au/n3MjHWQ25nM8RXvapP7rF22fO4auSV7IlVrMZAlWwW8RcGXd4oHGVO6PrNLTcREfdHpeKWe4Nr9ItY3IcHCwNPSZUOZfyOXZHEeHIThGUKAHmUI8hDjGOM7V/p9sXHEchaD0dx5SH53FWt/azhbKk6NRwt/rgOjjD6mZyHWyFX7COtFi97e6+OpYxAhhqRbjdUUU6yoEAqNJoJUCtM+0NYp1yOZ3jqc1DcCMg6GuKyFIEBgv4juBD/mjrNrZbNVa8Xfom5OnRMXaLmH4e0B8F5GMPmzh8xd5GEOTc3tlCOWYKXTehhxOFKMeZytHjToKcxvqx8EWqz6WKfUs/HF3BxyuNyFEiGpeVwKvZ62GzTAqajgOeNw24NsuqrlX1u6IQkvTVOpHa7ten8hJvZKhfcxhoTeNZTdZQDEyMc8xSD1KKUpN9tUMeCa3alooHj17lWLzD566fwnVK5sMBD3Wu8lvrD+BrYVm2X1R4A4O/KwVknQghDiBpabbui2hcsqw/6qEzoWQXMei+iyoUo4fGRJshXi/DuJr6hZ6As17HuCkCwxSglOVy3j7YUpwMzxVCjaOlVhD4lM2I8VLMYMWRQLBUYusFtVaPw6093jl/jvfWX2DJGdE1PiWKeZ2So5jXiuv5DNfzNonxONXc5Nyzh3FGCueyjyqhGSY8EF7mP3Yf5otrJ1moDThe2+bCYI47m2s0nDGxTumbiHm3x9B6bBRNma4qpkHhaj7LhXSBY4FoRuoSjKPRWoGrxbXJmEp1aSTkIaXAlJAW0rHRGl2Lpeo+BT8V2DgUDwotuA6dipeErVWFN6WwnpbAYfddq5UBG7h417anilBlLZxCykG6w6qwjEuPu/01nhoeIy0cjC96FdYBPMuDs6scCXf47OZpWn5C00045AxYBfbKiI+fv4c8E/ikHTm4PYc8jyjawkQ8c3idy/PHaVytdB+jQJy+41DEYVMpxprQkc9aoRl1WWlPTDo5INTtrJja9+kK1GV9T4RcigJblGCNFBtDptmDtVacuYoS2x+g4kpj0t0Xi50eu/qKYKdOGWiCPfB7JXsnPOqXNc+cWGY4DkgHAXrREK8pug+nHFreZcYf4amS++au89lXTvOpy7OoQhEsjog2LY2rBd5IjgtTSbnAZ7wcM+449E5CuA2bbyqJbrgYD/ZOQRkZaldE/yEfRTiZaI84wxx1ZY1yMHxda/KmCAxKKxHqlH/I+dLzpumbDX1MLcD4DlnTY7DikrUV43lLWTNEKz3qYcYjnXXe3LrIIW+X+/01ns6WuJTPs1bkvDO6QUv7uMR8LvFYCYa8LT7LhWyBWKdcGc0QVNDVcMeyexdc3Zzhp87+b2ick/biK2+LSGddTja3uDe+ysgEeKokB2nF4bDkdlkr2hzydvBUwXZZJ7MOHXdAaRXJ2Kc5Fgg0WkRldKW8pCbS5VEgxbfSiPtSHEmwrBiJROFUMCSfi/FWu1NtgcnCVpmAt0wtwEQu7maFLJ2AeGxVszHVudl1IBTXJWXMVEauiBU3Rk0+MbiH1LjM14cMOyFsRljXcub4DR6sX+bh8DL3R1f40uA0rwwW+HJ8nPWixe9dvpPyXB0bWNAQ7GnCbciaDmol4/mLK7hBSVginYlxLrt8GIhm7UiOb7rqKk3Qp6owU91HBdLGzXLx04gDOU7ZimA24Ug4GhvXZbGlGdbm+9fDdcGK6S9VhjaFZLuOvG+S7Rd1yxJ/dRd/FUwzJl2IKULQ79jloYVVPnvuNE5YwK7Lzv2Wufk+q1dmWb0wh8o1uJbGOYfOizlWW8owZuNBmH8ykRYsyFysxW7tUCtK4tCjfdaniF1mXtGsvtsy/w1LsCcqXFkTBoc0s88X1C50mQj42CzDFt+HtGuU3OzK97H1iLIVkbUDjKvIGprxnNigGR+SQzlLRza4d2aD+xtXaTsjfjC+wLwT8FgqAKJ7/S3mtM8PRlvkVUejBNbLFA94yNdoXHwMoc7ZLJo0vYTkVErthYDRkqJoFtSfrBGPIa/D7HtuELgF75w/h8ZyMV3gnugam0WDtjOaOmtvFE0OeTt0yxqeKmjrEUe9HbQyvJSuUCSuqEf5GmUl9QfhWRBW1PPKfcsGvuyCE3TjxGchy4XsUwtxeqKYjFNpP5bVrusBSpHMhcTnd+Q9HEeq6xUrc0IimiBE9WAsNyOgGrJbegOfce5xNemwldY5Wt/lXfee49ljK9zdvMGPNp+kROEpwzF3l2Ptx3ghXgJgI2tijMbrK4JdESEpIrmeRd2in2sRllC7YdGZ3WfYhr4szN4A/Er1uaxEWwpVOUXZiilaQdwnYsHWik5BXoiKUyGFRIy4X08l36prYSfBxRpsXkinIs9FVHYwlCz1YPbquoImrLg4JvS58e4Wfs/ivWub3fUmL4SLNBsj/tyJx/n1xsP0Xpxl9+UO7fOa5tWCaG3IaCUi3BpR1FzcYUmwVXDilZxssUa4bWGcSOY4GRvbKMDVCufwInqnz23dOcrAIbiygzKW2NG0vwF2dQ21tIDd60nB2vfRcQyD174kb4rAYEOP4sQy4+WQ3lGHZNaStwzKKJhNObTQZZD6uI7hLxx5ljm3z3F/i2PuLi/nC3xieJqfqJ/luJuSWEmZnsxcPFXSUIYcjbGKWBd0rcOKU3K5KMjwWHL2eG58mEAXhPWUdMbHeJY333uOxxvHePfJs2ymdZ67tIItNKeam9wZ32CnqJFYj4aTkFiPUGV4Sm7OblmjplOGJqBvIhxlyKxDajzItAi9FFZcoEAk7icydVrLAnAQIFMUVPh+sy+H7glJzIQubk9YgRNRWFVV11Wakx7tEG4lgvir6hHAfleC6ndGgUCKq64IgNUaXYmqhG7BsAhYCPsYq5jz+pyub/DeusihP5Wu0NSysw9NMJXHf7m/SPZSk8a2JdwRib2sJj36eE1o8vF6jiotRU1s+MqayLY7WxVqcTCcaiJQlIJWnMCbPVeYbBPAV8UPmLiBAwJ66h84X+e5ZAcgdawJqS5JXw14qzIG5XnTjtnBn1GKoh1TNDxUCbUbBdeHIc35AevbLUzX5/PN0+xsNKltK5a/PKaoe6ImtbVHLW9BYXCGWhzKS8lWgqv5PmJ14rXpuSjXrUCAFi5cwxw7RNb0KGJNGc4RbCU43RHsdOW6DUeimu04Evy+Sabwjxs3RWDIGprLH4rJ5gtmlrrc39mil4W0gzHvnDlLajxeHi2yFPR4U3yetjMitw6+Mhx3t3lhfIg9Y4kV5Fj6xsFTJbM6ZWhdjFUk1mVYetRUjgFG1qWtMxLrUHcS9vKQVm3MWisGz9JwUw7P7/LV1WM044SVxS6r1zo8vb3CoPD5YOdZLmdzLHp7gmoENosmI+Mz6wzQGBp6zGbRxFGGjjNgZHxUoXCTCnnpaKxrpyzKCccft+JrWLWf8usDdRetp0FBjZKq8p5J5b0CcZUdwec7WxURf0IgOoDxUK4r52rfk1ae70mQcvU0DVUlFEbzI7NPAfDc+DChytHK8sT4OI3aSzwQXGezjHg+PcwLoxVe6S3waOcyL64uEW0p8hqkbYfmZUP77IgydEGBTkvcfooJXPw9pgxVSsmW8MSNG4Q0p4ZjbLshn7X6TDb0plJ29sBxynqu2MRF3lRuXh3kwSglCtJJKhmCX2VnnivXqDSQFSI9PwHITQLKBFJtJcDPnM0JtsbYyw0GhzRm6OEONS99/TgLz0qK720P8dZL6A0w/QFqPMYeWhBHsLKUQGbEVQxrBTMBmF5fBGaCADXpzLkuRTOYqlBjoYw9nL6mOH0Y76rUjZhtSya1u4fp7r2uNfnHBgal1BHgXwNLCNr+F621/0Qp9Q+B/xrYrJ76d621n6he83eAn0Uy+P/GWvv73/WXRAZ1asDts10emLmGVpZGM+EdtVfQyvBscoS6k3JfdJUj7h6+MqyWdTKrmXNyHoov8VI+x0P+Fi2tWFSKxGaAYlHB1aKkoXP6xiNQJZ8eHeVu/zoAO2XMCX+Dx53jbO428LcdFt+0xrDweXj2Cqu1No+9chtKW1TqcGOjjbGKzzp3kBmXDa+Bqw0NJ6G0moaTMDQ+hpBQ5Xy1d5LFoMedkezQOqnO8FUNYUKWErWpSlRFU7E+hWgzvZkn1XGnElupFrNKc2ld5oUcFaKQ3sk67W+sV9qPr94tVBBUGYgr/IPJ0aQVoYwVEdnYYTznknYU25fm+AfjH6UZJRyq73H7/DqP1C5yNZvl+XSFvomYdQYMypAPtp7mjmiBr/duoxh6FBEkZxJspsnrHk4WEm5mqNLQPx4xnouprYnhjtUKr1cQ9MR9CqP28QoTcZqilPpD5bc56UqoSdbtauE3lBX/JnQrg9xC6jBJpbugFHgeyvcx46QqXFbB13VRJoegyp4mnYuiCi6+h3UdjKvJGw7usMTZ7hPfaGK2I5J5i7+rqF23dJ7YpX9Hi2ypQXBu46CDCnpjF9usY2shaq8qDlaZnK0Yn8oYVJpKsbTqMuG6uN0x9e54ek+okXwutzoqlfMtBseEBj7zUhPvRQtb33UVvmq8loyhAP5ba+0TSqkG8A2l1ESh/hestf/zq246pe4CPgLcDawAn1FKnbbWfkfHC9cpUQrOXVng3OVFVlZ2+CvHvkKJ4uujk1wcz9PxhlMnqFjBbNUiXC997vG3eSxZ4YW8xf1+j+tlSWIdGqqgT0GooK01LV2wXmpKq3gpW6LhjHkhOUTLGbOV1NBXIsJtxSD12fFiXtpeoHu5Tf2KQ9qxeD1FEWvWRrNYq/Cdks2gTt1LORbvMOf12crrtJwRNZ2SWYf3tF+qOAIOT/aOEG5qMOVUIl+0G6uCWmkrFinTs/PkWGC1kt2s8s+gMHIzuI7AfzstKZBZS364Q2012ff5RNpxGIvp9aQ6X5YwlBRbAWaxQzoXinJQrMljRf+IIjmT8BN3P4WrDQ6GZX+Pd0dXGVn42uAEQZhXArcBHXfAC+kh5t0+i0GPmcUe+ZxDbBX6yy3M2/dYnakTXY9oXDaMFzRFCKN5jdUaJ7WEroeThKJJkRvUOEeXVTHQcYRAFQaU803xhkjzqRITrt7vTuTS6dHjXODlcnOKXJsxUK9BJpqStsixtsoMKlauCvx9Yp6VVqnSej94VFodSdshLsSIuXdngb/pEN9QOIkl3irQW7s0X7Ssv71Dp5gna3tE14aoq2uY4QgWZhgfquNXLuDuuetS/JzrsPvwAu7Y0HjqhmRzkyOlqrAtRrgbdjCgHCcox2F8393Unl7F2dyjDoRbHk5STDssr3X8sYHBWnuDipdlre0rpV4EDn2Xl3wY+HVrbQpcVEqdA94E/NF3ekHdzbh3+br4LFyvsbGxyP/tyo9w5vbrHKvvsJnUubu2KsYaquRsUWenrBOrlJEN6Joxnio4my7hKVlQPiV9fM5nC9wdXOd66ZJYj6GRL+Dnn/oRyis1jj24yvH6DqXVFA3D8GiK98QsZ5szOIkiGigGtxXoVGM8i11MaTfHdKIRa/0GW/0aP3byGea8AZ4qmfMGOMrQdkaUKPplxJLXZbuo08tCwh2Lm5RVjaGcZg1TzIbWAnebtDCt3QcylZIuoxR6NMY2YlR/hNIa4ziCYqzFoME/v7m/+xgD4wQcB91uSWEt9KcWfqbSmvD3ZNv1epa4MHjDmGtHHU5EmwzKkMP+Dg6GJ7I5Djl7/KXOH7FZRlzK57met9nImqTG5Uvj2zFWcbi1R1q47P7qEZIf28VTFj2TkY1Cekpcu8dLJUVNozOR5vcHUIaOcAZGQjwjN/t8D1/4IMpYaVMGot5sJ8I6GslTrd3XddQIB2O3Nw2QqiwFF5FlgpmYiN24wlxVQVV3mSBPHWeKFrW9PvgenlLMjAtBINYjUJaiZmFHMfNKRvjKuhwbRmPmn/DQowzv2XVUGDJ80wm55rsZfjdj566YmZcTEbaVtUbpKdY+WNBePszS57fk2Oe402IzUHl7ulJcdF1qz6+RnVjEGec4N3ZQO7vYvKD8k3S7VkodBx4EHgPeDvwNpdRPA48jWcUuEjS+euBl1/g2gUQp9VeBvwowv+LxkwuPsxSexjtZcnawwKXdGS5vd7i4OQvATlIjXfE4EWxw3N0GR7KGvvFJrLD22s6ItaLFHf76tNi4El0iR9EmY2hdSqs56u3w1+/5Ar8av4kLZ5eI7sy5r71KcVqz9alDeH2LcUV3L2tbcCzuyog8cbnj8DoPtK/RKyIubXcYb8b8nncXHznxDQKds+L22C7rXMlnCVXGetEiLjPazojlqMeFI9A6r6qAIBLvE1nyqbemQW7O3FQFNjvVc5z0ta0jKkRTDQlXgF/54Vm8tf5+cTHwZaeLo303pap1p6u0c+INocbC2TetOsVshC4swZrHM4PD/GjnSS6ki7w8WuID7Wf5RnKMt0QX6ZuImk5ZdPd4Z/wKH9t7kKT02BjWKY2i//ws6iSYl9qY0BKua6JNSzoD7jt2sLlLMWoQrjFV49alxe2m+8jN6d1aEcKMQXeHknVNTIom5LIkq4q4CpVkondgquyqFqHTFDNOpMtRj/YX/KT24rpgNSTJviIW7GclUNVkRBfDHSVS0PQ9wusexrU4Y0sy6+G36uQnF/C+/jIqLxkdbxHf2MT0B8Rfell+98oCu/fNYB1YfU9E1lrBOoJ+tJ7Fjh2cD23z8tvrNB+LmHtqJNL/o0zqMVGAub4mBUZAdR28vR4sL8ixCdC1CA4twXOvfa2/5sCglKoDHwX+99banlLqnwL/PVIX+u+Bfwz8FfhmaVWonvPqB6z9ReAXAW67p243iyZva5zjDn+N1VaLxpGEs+kSv73xAC+vLVAYzee2T/OUf5hHm5f5cON5Sgstd0xqxyTWo2dCruczhCpnwekLpde6lChCVRCrAl+VhCrngfAKd925yv8Q/OcMc5/UeFy6Os/iDaHK5i2DtzCm6AaoQGTRw9aY080N7o5XSYwHx+DafJuZYIRWkmo/OTrGnNen5YzJK2zzoAyp6ZS5YEA6V1LUHEnvqiPDREJOfBTtVILuVWYuFbbATgxbK6GRSVfBKoWdaYqaVODCTHPyxQmEdzDGJgm2rCTwxp58KU5VAXedfTHWyiHbL60gJpXhajbLei7v+W833sKo8Pm0excaS8NL8JThcXUbs96Q9UGDrWttdKKpr4uaVTZfEHTGjPyIouZQW7Wkj3VI5wy1TUW0ZfCGgvYTpmXFhpwU4ybMWGuxSQp7Payx0uaeMGQPLF7le1NvU5IM26qLa1YQoDIp+NkokKr9pLioFDbLhXA1VlX2cOB9HQdVCQrZvIC9nvA5SoPa2eP4b7tcf0+baLskr2n6Z1pEWxk2y9FX1giiI1IQDHxUT/wv7MYOna+MsKMEuzwr2WOldTnhdqz+58s0S2ify9FZyXg5JmvUqa+meM/vsyaVVtP5sbqOajVFdt/3GB9qfO8Dg1LKQ4LC/8da+5vVwl4/8P+/BHy8+uc14MiBlx8Grn+39++XIXtFzEl/g66JOOVtk1uNE1zn2fph3nP3KwQ658u7t7MxbvCcs8JWUWfZ6/JQdIlQlbS1nJfXsVzPZ9gsmoRaUuNrWYdA59wR3KBbxoQ6Z97pcT5b4Ghjh6uDGZ7ZWYGsYldGClsvsBaWju6wGA9YifcYVFZgXx/cBkBqXBajHsZq1tIWe07MnNfHUyWDMiTWKbHOGBmfWKcc9ndR9YKs4ePvSj9ejatuQmH3d3RjwFaqTJOLpGUXo1kToxX5EuTpMw2c7oByThauKq3snFk+7YUf7ETgS9GNopBFpqpF4LkYv3LLLkvcwtC8EPGp82d4vHmEe2dv8HDjEjf8Nv/u5YdQzzcwriU/mnLy8CbH6zuMnJxONKK/McvMi5a8bnFHED7c41h7F71kePL8UZoXfKLNyoqvugvdUSmtyu4I9vqQ5ZgJXyLfZ0DaoqhEVKyoLk2wDkrt+0Jovd+mrTIGO0pQjRp2OBRodJqB62KSFO0qbGkECGStIPKNfTX4DqaFXDUR4C1LyDNsKjyOxrWS2rUxu3fUaL6wgzl3GV2vYdOUrOVDe07ASI0Z4o2M4NwGZqcrhK2LqzJ318XOtiu0p8vSYwOuvbcuoslbfeKsxJmLyGMXv1HH8byq5ZpUga0KZOMxqiEEruiZq99tCX7LeC1dCQX8C+BFa+3/cuDx5ar+APDj7MejjwH/Vin1vyDFx1PA177b74icjB+ov0BiPTxVsFOGNHRG30QcD7d4KLqEg+HIwjbn0iVGxmc3j1mnxVlnibYjFd21ygpufa/BfHPAmfYGni65NmpzZ3ONtiMLqq0EkPQbNx7m5ZcOoaxCJ4poV2Nci84t8SsBo5OK+eUN7mreIHYy9pyIO6Pr9MuIvTLCwRBoEWYBCRSjUtCQe2VEqHPqToKxmsvZHA6WIMoxbrBfwLIH6guwr8xkrdipu44UwSbiMr4rO3ySynHDdeUYUaWS/tVt6ckbMV85qFo1TdvKUl4/+bk0KMdWpC3kNBN7YhVXgLkWs14PcbWh6Y45P5jHXKjTvC7Q6J26z+ztQ97SPM8vX34bG08tsvCMIb6RopOcZCHm8o0mcZCx2a0TXgzQhSWLxKgnDyCrKaJNBDuxvSsEp3EirbyqTWgrYJPND3hxHnCnUpOgkWVMKPvK92TBjBP0wpzUErJMsoLhCNVqwmCItXYfHVgdX5xOe5/IBbxKAsBYeY/qcdWqQZbTfHYbtnfp/9AZGlebBBt17PICepTg9XKGRyL8XkkyoxgthCxv1lGVtZ5uNqQY2h+gspzy7mMMD4fceI9BJ1VnZGsHu3qDoMpmrOtK3URLvcTmBUormVvioUZj1KElCayvY7yWjOHtwF8EnlVKPVU99neBP6eUegA5JlwC/hqAtfZ5pdS/B15AOho/9906EoCYl6Bo6zFdE/HY+Dhzbo9Pbt/Lu2ZeIVQ5uXU45W1NgTRH3B7bJqBvQr40OMPz/WUabsrVjRn8VyJWZ2rsHItxtMFYha8LPn31DLvbdWZmB/zUia/jOyXxVZf5p3L6R1ySWShqitoNQ++U5dDhHY7Gu9QdWUQz7oiv9U+wk8U8c2OFucaQk60t9IGT0rLf5UbW5r74KonxqmAnGcReWSnzFHa/Y1ApFjOBQDt6ausuaEW9r2jciIUMU6W204VgDDb0cdZ2ZcGbfXelVylqa0c6Iq5bBQNRrFKOxsy3p1buKi/QI8FVpG1F584tYi/HWMVnrp6hHqZwfEi2Uae2Zqhf0jy3dgfPeHcAUh/z+iVF5OC4itGiix5brl+cw9t1aFy2JB1F+rY+WeLhXg9QBspQ9DV1o47d6Qr3Y7YjxdXBUBSYfE8YqFkmRwkkrVdQ+UXo/SPHaIgdVgFloqmg9T5QKMuxszNyLd0DS8FYdKctxjZ7PVQYVlnKgTqDVijHrwqUGWZnF92oi5yc5+HvQTLrkb3rlIiw7IoFIDbEHRd4Q5fxAmSLNdyhj9MbSE0gL1BxhOkP8Fd3cdImtRuuwN61ZvjuO8BC/enrFKuyL08CwSRw2WIfc2HGY9wkkyD7OsZNIR+vlNoEhryuTusbNub4/pgnfP/M9ftlnvD9M9dvN89j1tr51/LimyIwACilHn+tmvdv5Ph+mSd8/8z1+2We8P0z1//UeX472dVb49a4Nf7/fNwKDLfGrXFrfMu4mQLDL77RE3iN4/tlnvD9M9fvl3nC989c/5PmedPUGG6NW+PWuHnGzZQx3Bq3xq1xk4xbgeHWuDVujW8Zb3hgUEr9Z0qpl5VS55RSf/uNns83D6XUJaXUs0qpp5RSj1ePdZRSn1ZKna3+nnkD5vUvlVIbSqnnDjz2HeellPo71TV+WSn1QzfBXP+hUmq1uq5PKaU++EbPVSl1RCn1WaXUi0qp55VSf7N6/Ka6rt9lnt+7a2qtfcP+II6054ETgA88Ddz1Rs7p28zxEjD3TY/9I+BvVz//beB/fAPm9S7gIeC5P25ewF3VtQ2A26pr7rzBc/2HwP/p2zz3DZsrsAw8VP3cAF6p5nNTXdfvMs/v2TV9ozOGNwHnrLUXrLUZ8OuInsPNPj4M/Er1868AP/anPQFr7ReAnW96+DvNa6qRYa29CEw0Mv5UxneY63cab9hcrbU3rLVPVD/3gYn2yE11Xb/LPL/TeN3zfKMDwyHgIO3r22o3vMHDAp9SSn2j0pAAWLQVgaz6e+ENm92rx3ea1816nf+GUuqZ6qgxSc9virl+k/bITXtdv2me8D26pm90YHhN2g1v8Hi7tfYh4IeBn1NKveuNntD/D+NmvM7/FDgJPIAohP3j6vE3fK7frD3y3Z76bR77U5vrt5nn9+yavtGB4XVrN/xpD2vt9ervDeC3kBRsXSm1DEI/BzbeuBm+anyned1019lau26tLa21Bvgl9lPbN3Su3057hJvwun4njZTv1TV9owPD14FTSqnblFI+IiL7sTd4TtOhlKpVArgopWrABxDdiY8BP1M97WeA335jZvgt4zvN62PAR5RSgVLqNl6DRsaf9JgstGp8s57HGzLX76Q9wk12Xb+bRsqBp/2nXdM/jWrvH1Nh/SBSVT0P/L03ej7fNLcTSDX3aeD5yfyAWeAPgLPV3503YG6/hqSLObIj/Ox3mxfw96pr/DLwwzfBXH8VeBZ4prpxl9/ouQLvQFLsZ4Cnqj8fvNmu63eZ5/fsmt6CRN8at8at8S3jjT5K3Bq3xq1xE45bgeHWuDVujW8ZtwLDrXFr3BrfMm4Fhlvj1rg1vmXcCgy3xq1xa3zLuBUYbo1b49b4lnErMNwat8at8S3j/wvi9m3plCExRQAAAABJRU5ErkJggg==\n",
      "text/plain": [
       "<Figure size 432x288 with 1 Axes>"
      ]
     },
     "metadata": {
      "needs_background": "light"
     },
     "output_type": "display_data"
    }
   ],
   "source": [
    "train_dataset = TrainDataset(train, transform=get_transforms(data='train'))\n",
    "\n",
    "for i in range(1):\n",
    "    image, label = train_dataset[i]\n",
    "    plt.imshow(image[0])\n",
    "    plt.title(f'label: {label}')\n",
    "    plt.show() "
   ]
  },
  {
   "cell_type": "markdown",
   "metadata": {
    "papermill": {
     "duration": 0.036694,
     "end_time": "2021-02-14T03:01:27.200686",
     "exception": false,
     "start_time": "2021-02-14T03:01:27.163992",
     "status": "completed"
    },
    "tags": []
   },
   "source": [
    "# MODEL"
   ]
  },
  {
   "cell_type": "code",
   "execution_count": 14,
   "metadata": {
    "execution": {
     "iopub.execute_input": "2021-02-14T03:01:27.283709Z",
     "iopub.status.busy": "2021-02-14T03:01:27.282173Z",
     "iopub.status.idle": "2021-02-14T03:01:27.284454Z",
     "shell.execute_reply": "2021-02-14T03:01:27.285014Z"
    },
    "papermill": {
     "duration": 0.048036,
     "end_time": "2021-02-14T03:01:27.285174",
     "exception": false,
     "start_time": "2021-02-14T03:01:27.237138",
     "status": "completed"
    },
    "tags": []
   },
   "outputs": [],
   "source": [
    "# ====================================================\n",
    "# MODEL\n",
    "# ====================================================\n",
    "class CustomResNext(nn.Module):\n",
    "    def __init__(self, model_name='resnext50_32x4d', pretrained=False):\n",
    "        super().__init__()\n",
    "        self.model = timm.create_model(model_name, pretrained=pretrained)\n",
    "        n_features = self.model.fc.in_features\n",
    "        self.model.fc = nn.Linear(n_features, CFG.target_size)\n",
    "\n",
    "    def forward(self, x):\n",
    "        x = self.model(x)\n",
    "        return x"
   ]
  },
  {
   "cell_type": "code",
   "execution_count": 15,
   "metadata": {
    "execution": {
     "iopub.execute_input": "2021-02-14T03:01:27.368000Z",
     "iopub.status.busy": "2021-02-14T03:01:27.367232Z",
     "iopub.status.idle": "2021-02-14T03:01:34.766075Z",
     "shell.execute_reply": "2021-02-14T03:01:34.765366Z"
    },
    "papermill": {
     "duration": 7.444854,
     "end_time": "2021-02-14T03:01:34.766224",
     "exception": false,
     "start_time": "2021-02-14T03:01:27.321370",
     "status": "completed"
    },
    "tags": []
   },
   "outputs": [
    {
     "name": "stdout",
     "output_type": "stream",
     "text": [
      "tensor([[ 0.1707,  0.0412,  0.3485,  0.3425,  0.0350],\n",
      "        [ 0.2056, -0.0383,  0.4502,  0.3503, -0.2023],\n",
      "        [ 0.1161, -0.0084,  0.4696,  0.5354, -0.0062],\n",
      "        [ 0.1320, -0.1306,  0.6894,  0.2838,  0.0226]],\n",
      "       grad_fn=<AddmmBackward>)\n"
     ]
    }
   ],
   "source": [
    "model = CustomResNext(model_name=CFG.model_name, pretrained=False)\n",
    "train_dataset = TrainDataset(train, transform=get_transforms(data='train'))\n",
    "train_loader = DataLoader(train_dataset, batch_size=4, shuffle=True,\n",
    "                          num_workers=4, pin_memory=True, drop_last=True)\n",
    "\n",
    "for image, label in train_loader:\n",
    "    output = model(image)\n",
    "    print(output)\n",
    "    break"
   ]
  },
  {
   "cell_type": "markdown",
   "metadata": {
    "papermill": {
     "duration": 0.036979,
     "end_time": "2021-02-14T03:01:34.839919",
     "exception": false,
     "start_time": "2021-02-14T03:01:34.802940",
     "status": "completed"
    },
    "tags": []
   },
   "source": [
    "# Helper functions"
   ]
  },
  {
   "cell_type": "code",
   "execution_count": 16,
   "metadata": {
    "execution": {
     "iopub.execute_input": "2021-02-14T03:01:34.945258Z",
     "iopub.status.busy": "2021-02-14T03:01:34.937485Z",
     "iopub.status.idle": "2021-02-14T03:01:34.948181Z",
     "shell.execute_reply": "2021-02-14T03:01:34.947574Z"
    },
    "papermill": {
     "duration": 0.071931,
     "end_time": "2021-02-14T03:01:34.948344",
     "exception": false,
     "start_time": "2021-02-14T03:01:34.876413",
     "status": "completed"
    },
    "tags": []
   },
   "outputs": [],
   "source": [
    "# ====================================================\n",
    "# Helper functions\n",
    "# ====================================================\n",
    "class AverageMeter(object):\n",
    "    \"\"\"Computes and stores the average and current value\"\"\"\n",
    "    def __init__(self):\n",
    "        self.reset()\n",
    "\n",
    "    def reset(self):\n",
    "        self.val = 0\n",
    "        self.avg = 0\n",
    "        self.sum = 0\n",
    "        self.count = 0\n",
    "\n",
    "    def update(self, val, n=1):\n",
    "        self.val = val\n",
    "        self.sum += val * n\n",
    "        self.count += n\n",
    "        self.avg = self.sum / self.count\n",
    "\n",
    "\n",
    "def asMinutes(s):\n",
    "    m = math.floor(s / 60)\n",
    "    s -= m * 60\n",
    "    return '%dm %ds' % (m, s)\n",
    "\n",
    "\n",
    "def timeSince(since, percent):\n",
    "    now = time.time()\n",
    "    s = now - since\n",
    "    es = s / (percent)\n",
    "    rs = es - s\n",
    "    return '%s (remain %s)' % (asMinutes(s), asMinutes(rs))\n",
    "\n",
    "\n",
    "def train_fn(train_loader, model, criterion, optimizer, epoch, scheduler, device):\n",
    "    batch_time = AverageMeter()\n",
    "    data_time = AverageMeter()\n",
    "    losses = AverageMeter()\n",
    "    scores = AverageMeter()\n",
    "    # switch to train mode\n",
    "    model.train()\n",
    "    start = end = time.time()\n",
    "    global_step = 0\n",
    "    for step, (images, labels) in enumerate(train_loader):\n",
    "        # measure data loading time\n",
    "        data_time.update(time.time() - end)\n",
    "        images = images.to(device)\n",
    "        labels = labels.to(device)\n",
    "        batch_size = labels.size(0)\n",
    "        y_preds = model(images)\n",
    "        loss = criterion(y_preds, labels)\n",
    "        # record loss\n",
    "        losses.update(loss.item(), batch_size)\n",
    "        if CFG.gradient_accumulation_steps > 1:\n",
    "            loss = loss / CFG.gradient_accumulation_steps\n",
    "        if CFG.apex:\n",
    "            with amp.scale_loss(loss, optimizer) as scaled_loss:\n",
    "                scaled_loss.backward()\n",
    "        else:\n",
    "            loss.backward()\n",
    "        grad_norm = torch.nn.utils.clip_grad_norm_(model.parameters(), CFG.max_grad_norm)\n",
    "        if (step + 1) % CFG.gradient_accumulation_steps == 0:\n",
    "            optimizer.step()\n",
    "            optimizer.zero_grad()\n",
    "            global_step += 1\n",
    "        # measure elapsed time\n",
    "        batch_time.update(time.time() - end)\n",
    "        end = time.time()\n",
    "        if step % CFG.print_freq == 0 or step == (len(train_loader)-1):\n",
    "            print('Epoch: [{0}][{1}/{2}] '\n",
    "                  'Data {data_time.val:.3f} ({data_time.avg:.3f}) '\n",
    "                  'Elapsed {remain:s} '\n",
    "                  'Loss: {loss.val:.4f}({loss.avg:.4f}) '\n",
    "                  'Grad: {grad_norm:.4f}  '\n",
    "                  #'LR: {lr:.6f}  '\n",
    "                  .format(\n",
    "                   epoch+1, step, len(train_loader), batch_time=batch_time,\n",
    "                   data_time=data_time, loss=losses,\n",
    "                   remain=timeSince(start, float(step+1)/len(train_loader)),\n",
    "                   grad_norm=grad_norm,\n",
    "                   #lr=scheduler.get_lr()[0],\n",
    "                   ))\n",
    "    return losses.avg\n",
    "\n",
    "\n",
    "def valid_fn(valid_loader, model, criterion, device):\n",
    "    batch_time = AverageMeter()\n",
    "    data_time = AverageMeter()\n",
    "    losses = AverageMeter()\n",
    "    scores = AverageMeter()\n",
    "    # switch to evaluation mode\n",
    "    model.eval()\n",
    "    preds = []\n",
    "    start = end = time.time()\n",
    "    for step, (images, labels) in enumerate(valid_loader):\n",
    "        # measure data loading time\n",
    "        data_time.update(time.time() - end)\n",
    "        images = images.to(device)\n",
    "        labels = labels.to(device)\n",
    "        batch_size = labels.size(0)\n",
    "        # compute loss\n",
    "        with torch.no_grad():\n",
    "            y_preds = model(images)\n",
    "        loss = criterion(y_preds, labels)\n",
    "        losses.update(loss.item(), batch_size)\n",
    "        # record accuracy\n",
    "        preds.append(y_preds.softmax(1).to('cpu').numpy())\n",
    "        if CFG.gradient_accumulation_steps > 1:\n",
    "            loss = loss / CFG.gradient_accumulation_steps\n",
    "        # measure elapsed time\n",
    "        batch_time.update(time.time() - end)\n",
    "        end = time.time()\n",
    "        if step % CFG.print_freq == 0 or step == (len(valid_loader)-1):\n",
    "            print('EVAL: [{0}/{1}] '\n",
    "                  'Data {data_time.val:.3f} ({data_time.avg:.3f}) '\n",
    "                  'Elapsed {remain:s} '\n",
    "                  'Loss: {loss.val:.4f}({loss.avg:.4f}) '\n",
    "                  .format(\n",
    "                   step, len(valid_loader), batch_time=batch_time,\n",
    "                   data_time=data_time, loss=losses,\n",
    "                   remain=timeSince(start, float(step+1)/len(valid_loader)),\n",
    "                   ))\n",
    "    predictions = np.concatenate(preds)\n",
    "    return losses.avg, predictions\n",
    "\n",
    "\n",
    "def inference(model, states, test_loader, device):\n",
    "    model.to(device)\n",
    "    tk0 = tqdm(enumerate(test_loader), total=len(test_loader))\n",
    "    probs = []\n",
    "    for i, (images) in tk0:\n",
    "        images = images.to(device)\n",
    "        avg_preds = []\n",
    "        for state in states:\n",
    "            model.load_state_dict(state['model'])\n",
    "            model.eval()\n",
    "            with torch.no_grad():\n",
    "                y_preds = model(images)\n",
    "            avg_preds.append(y_preds.softmax(1).to('cpu').numpy())\n",
    "        avg_preds = np.mean(avg_preds, axis=0)\n",
    "        probs.append(avg_preds)\n",
    "    probs = np.concatenate(probs)\n",
    "    return probs"
   ]
  },
  {
   "cell_type": "markdown",
   "metadata": {
    "papermill": {
     "duration": 0.036993,
     "end_time": "2021-02-14T03:01:35.022960",
     "exception": false,
     "start_time": "2021-02-14T03:01:34.985967",
     "status": "completed"
    },
    "tags": []
   },
   "source": [
    "# Train loop"
   ]
  },
  {
   "cell_type": "code",
   "execution_count": 17,
   "metadata": {
    "_cell_guid": "b1076dfc-b9ad-4769-8c92-a6c4dae69d19",
    "_uuid": "8f2839f25d086af736a60e9eeb907d3b93b6e0e5",
    "execution": {
     "iopub.execute_input": "2021-02-14T03:01:35.124031Z",
     "iopub.status.busy": "2021-02-14T03:01:35.121839Z",
     "iopub.status.idle": "2021-02-14T03:01:35.124848Z",
     "shell.execute_reply": "2021-02-14T03:01:35.125395Z"
    },
    "papermill": {
     "duration": 0.065347,
     "end_time": "2021-02-14T03:01:35.125581",
     "exception": false,
     "start_time": "2021-02-14T03:01:35.060234",
     "status": "completed"
    },
    "tags": []
   },
   "outputs": [],
   "source": [
    "# ====================================================\n",
    "# Train loop\n",
    "# ====================================================\n",
    "def train_loop(folds, fold):\n",
    "\n",
    "    LOGGER.info(f\"========== fold: {fold} training ==========\")\n",
    "\n",
    "    # ====================================================\n",
    "    # loader\n",
    "    # ====================================================\n",
    "    trn_idx = folds[folds['fold'] != fold].index\n",
    "    val_idx = folds[folds['fold'] == fold].index\n",
    "\n",
    "    train_folds = folds.loc[trn_idx].reset_index(drop=True)\n",
    "    valid_folds = folds.loc[val_idx].reset_index(drop=True)\n",
    "\n",
    "    train_dataset = TrainDataset(train_folds, \n",
    "                                 transform=get_transforms(data='train'))\n",
    "    valid_dataset = TrainDataset(valid_folds, \n",
    "                                 transform=get_transforms(data='valid'))\n",
    "\n",
    "    train_loader = DataLoader(train_dataset, \n",
    "                              batch_size=CFG.batch_size, \n",
    "                              shuffle=True, \n",
    "                              num_workers=CFG.num_workers, pin_memory=True, drop_last=True)\n",
    "    valid_loader = DataLoader(valid_dataset, \n",
    "                              batch_size=CFG.batch_size, \n",
    "                              shuffle=False, \n",
    "                              num_workers=CFG.num_workers, pin_memory=True, drop_last=False)\n",
    "    \n",
    "    # ====================================================\n",
    "    # scheduler \n",
    "    # ====================================================\n",
    "    def get_scheduler(optimizer):\n",
    "        if CFG.scheduler=='ReduceLROnPlateau':\n",
    "            scheduler = ReduceLROnPlateau(optimizer, mode='min', factor=CFG.factor, patience=CFG.patience, verbose=True, eps=CFG.eps)\n",
    "        elif CFG.scheduler=='CosineAnnealingLR':\n",
    "            scheduler = CosineAnnealingLR(optimizer, T_max=CFG.T_max, eta_min=CFG.min_lr, last_epoch=-1)\n",
    "        elif CFG.scheduler=='CosineAnnealingWarmRestarts':\n",
    "            scheduler = CosineAnnealingWarmRestarts(optimizer, T_0=CFG.T_0, T_mult=1, eta_min=CFG.min_lr, last_epoch=-1)\n",
    "        return scheduler\n",
    "\n",
    "    # ====================================================\n",
    "    # model & optimizer\n",
    "    # ====================================================\n",
    "    model = CustomResNext(CFG.model_name, pretrained=True)\n",
    "    model.to(device)\n",
    "\n",
    "    optimizer = Adam(model.parameters(), lr=CFG.lr, weight_decay=CFG.weight_decay, amsgrad=False)\n",
    "    scheduler = get_scheduler(optimizer)\n",
    "\n",
    "    # ====================================================\n",
    "    # apex\n",
    "    # ====================================================\n",
    "    if CFG.apex:\n",
    "        model, optimizer = amp.initialize(model, optimizer, opt_level='O1', verbosity=0)\n",
    "\n",
    "    # ====================================================\n",
    "    # loop\n",
    "    # ====================================================\n",
    "    criterion = nn.CrossEntropyLoss()\n",
    "\n",
    "    best_score = 0.\n",
    "    best_loss = np.inf\n",
    "    \n",
    "    for epoch in range(CFG.epochs):\n",
    "        \n",
    "        start_time = time.time()\n",
    "        \n",
    "        # train\n",
    "        avg_loss = train_fn(train_loader, model, criterion, optimizer, epoch, scheduler, device)\n",
    "\n",
    "        # eval\n",
    "        avg_val_loss, preds = valid_fn(valid_loader, model, criterion, device)\n",
    "        valid_labels = valid_folds[CFG.target_col].values\n",
    "        \n",
    "        if isinstance(scheduler, ReduceLROnPlateau):\n",
    "            scheduler.step(avg_val_loss)\n",
    "        elif isinstance(scheduler, CosineAnnealingLR):\n",
    "            scheduler.step()\n",
    "        elif isinstance(scheduler, CosineAnnealingWarmRestarts):\n",
    "            scheduler.step()\n",
    "\n",
    "        # scoring\n",
    "        score = get_score(valid_labels, preds.argmax(1))\n",
    "\n",
    "        elapsed = time.time() - start_time\n",
    "\n",
    "        LOGGER.info(f'Epoch {epoch+1} - avg_train_loss: {avg_loss:.4f}  avg_val_loss: {avg_val_loss:.4f}  time: {elapsed:.0f}s')\n",
    "        LOGGER.info(f'Epoch {epoch+1} - Accuracy: {score}')\n",
    "\n",
    "        if score > best_score:\n",
    "            best_score = score\n",
    "            LOGGER.info(f'Epoch {epoch+1} - Save Best Score: {best_score:.4f} Model')\n",
    "            torch.save({'model': model.state_dict(), \n",
    "                        'preds': preds},\n",
    "                        OUTPUT_DIR+f'{CFG.model_name}_fold{fold}_best.pth')\n",
    "    \n",
    "    check_point = torch.load(OUTPUT_DIR+f'{CFG.model_name}_fold{fold}_best.pth')\n",
    "    valid_folds[[str(c) for c in range(5)]] = check_point['preds']\n",
    "    valid_folds['preds'] = check_point['preds'].argmax(1)\n",
    "\n",
    "    return valid_folds"
   ]
  },
  {
   "cell_type": "code",
   "execution_count": 18,
   "metadata": {
    "execution": {
     "iopub.execute_input": "2021-02-14T03:01:35.215177Z",
     "iopub.status.busy": "2021-02-14T03:01:35.214191Z",
     "iopub.status.idle": "2021-02-14T03:01:35.217405Z",
     "shell.execute_reply": "2021-02-14T03:01:35.217945Z"
    },
    "papermill": {
     "duration": 0.05415,
     "end_time": "2021-02-14T03:01:35.218135",
     "exception": false,
     "start_time": "2021-02-14T03:01:35.163985",
     "status": "completed"
    },
    "tags": []
   },
   "outputs": [],
   "source": [
    "# ====================================================\n",
    "# main\n",
    "# ====================================================\n",
    "def main():\n",
    "\n",
    "    \"\"\"\n",
    "    Prepare: 1.train  2.test  3.submission  4.folds\n",
    "    \"\"\"\n",
    "\n",
    "    def get_result(result_df):\n",
    "        preds = result_df['preds'].values\n",
    "        labels = result_df[CFG.target_col].values\n",
    "        score = get_score(labels, preds)\n",
    "        LOGGER.info(f'Score: {score:<.5f}')\n",
    "    \n",
    "    if CFG.train:\n",
    "        # train \n",
    "        oof_df = pd.DataFrame()\n",
    "        for fold in range(CFG.n_fold):\n",
    "            if fold in CFG.trn_fold:\n",
    "                _oof_df = train_loop(folds, fold)\n",
    "                oof_df = pd.concat([oof_df, _oof_df])\n",
    "                LOGGER.info(f\"========== fold: {fold} result ==========\")\n",
    "                get_result(_oof_df)\n",
    "        # CV result\n",
    "        LOGGER.info(f\"========== CV ==========\")\n",
    "        get_result(oof_df)\n",
    "        # save result\n",
    "        oof_df.to_csv(OUTPUT_DIR+'oof_df.csv', index=False)\n",
    "    \n",
    "    if CFG.inference:\n",
    "        # inference\n",
    "        model = CustomResNext(CFG.model_name, pretrained=False)\n",
    "        states = [torch.load(OUTPUT_DIR+f'{CFG.model_name}_fold{fold}_best.pth') for fold in CFG.trn_fold]\n",
    "        test_dataset = TestDataset(test, transform=get_transforms(data='valid'))\n",
    "        test_loader = DataLoader(test_dataset, batch_size=CFG.batch_size, shuffle=False, \n",
    "                                 num_workers=CFG.num_workers, pin_memory=True)\n",
    "        predictions = inference(model, states, test_loader, device)\n",
    "        # submission\n",
    "        test['label'] = predictions.argmax(1)\n",
    "        test[['image_id', 'label']].to_csv(OUTPUT_DIR+'submission.csv', index=False)"
   ]
  },
  {
   "cell_type": "code",
   "execution_count": 19,
   "metadata": {
    "_cell_guid": "79c7e3d0-c299-4dcb-8224-4455121ee9b0",
    "_uuid": "d629ff2d2480ee46fbb7e2d37f6b5fab8052498a",
    "execution": {
     "iopub.execute_input": "2021-02-14T03:01:35.298857Z",
     "iopub.status.busy": "2021-02-14T03:01:35.298070Z",
     "iopub.status.idle": "2021-02-14T07:33:01.981093Z",
     "shell.execute_reply": "2021-02-14T07:33:01.980422Z"
    },
    "papermill": {
     "duration": 16286.725818,
     "end_time": "2021-02-14T07:33:01.981249",
     "exception": false,
     "start_time": "2021-02-14T03:01:35.255431",
     "status": "completed"
    },
    "tags": []
   },
   "outputs": [
    {
     "name": "stderr",
     "output_type": "stream",
     "text": [
      "========== fold: 0 training ==========\n",
      "Downloading: \"https://github.com/rwightman/pytorch-image-models/releases/download/v0.1-weights/resnext50_32x4d_ra-d733960d.pth\" to /root/.cache/torch/hub/checkpoints/resnext50_32x4d_ra-d733960d.pth\n"
     ]
    },
    {
     "name": "stdout",
     "output_type": "stream",
     "text": [
      "Epoch: [1][0/1069] Data 0.925 (0.925) Elapsed 0m 2s (remain 39m 40s) Loss: 1.7249(1.7249) Grad: 10.5548  \n",
      "Epoch: [1][100/1069] Data 0.000 (0.010) Elapsed 0m 28s (remain 4m 34s) Loss: 0.5007(1.0266) Grad: 3.9858  \n",
      "Epoch: [1][200/1069] Data 0.000 (0.005) Elapsed 0m 54s (remain 3m 57s) Loss: 0.4026(0.9295) Grad: 2.7493  \n",
      "Epoch: [1][300/1069] Data 0.000 (0.004) Elapsed 1m 20s (remain 3m 26s) Loss: 1.7773(0.8792) Grad: 6.5399  \n",
      "Epoch: [1][400/1069] Data 0.002 (0.003) Elapsed 1m 46s (remain 2m 57s) Loss: 0.9069(0.8508) Grad: 5.1605  \n",
      "Epoch: [1][500/1069] Data 0.000 (0.002) Elapsed 2m 12s (remain 2m 30s) Loss: 1.1037(0.8152) Grad: 7.3524  \n",
      "Epoch: [1][600/1069] Data 0.000 (0.002) Elapsed 2m 38s (remain 2m 3s) Loss: 0.6296(0.7962) Grad: 2.6399  \n",
      "Epoch: [1][700/1069] Data 0.000 (0.002) Elapsed 3m 4s (remain 1m 37s) Loss: 0.9514(0.7815) Grad: 3.9106  \n",
      "Epoch: [1][800/1069] Data 0.000 (0.002) Elapsed 3m 31s (remain 1m 10s) Loss: 1.3683(0.7676) Grad: 4.7410  \n",
      "Epoch: [1][900/1069] Data 0.000 (0.001) Elapsed 3m 56s (remain 0m 44s) Loss: 0.7690(0.7554) Grad: 4.1960  \n",
      "Epoch: [1][1000/1069] Data 0.000 (0.001) Elapsed 4m 23s (remain 0m 17s) Loss: 0.8048(0.7468) Grad: 4.1503  \n",
      "Epoch: [1][1068/1069] Data 0.000 (0.001) Elapsed 4m 40s (remain 0m 0s) Loss: 0.9351(0.7396) Grad: 4.8396  \n",
      "EVAL: [0/268] Data 0.807 (0.807) Elapsed 0m 0s (remain 4m 14s) Loss: 0.4490(0.4490) \n",
      "EVAL: [100/268] Data 0.358 (0.120) Elapsed 0m 18s (remain 0m 30s) Loss: 0.5349(0.6391) \n",
      "EVAL: [200/268] Data 0.392 (0.117) Elapsed 0m 36s (remain 0m 12s) Loss: 0.8670(0.6303) \n"
     ]
    },
    {
     "name": "stderr",
     "output_type": "stream",
     "text": [
      "Epoch 1 - avg_train_loss: 0.7396  avg_val_loss: 0.6317  time: 328s\n",
      "Epoch 1 - Accuracy: 0.7862149532710281\n",
      "Epoch 1 - Save Best Score: 0.7862 Model\n"
     ]
    },
    {
     "name": "stdout",
     "output_type": "stream",
     "text": [
      "EVAL: [267/268] Data 0.000 (0.115) Elapsed 0m 47s (remain 0m 0s) Loss: 0.7589(0.6317) \n",
      "Epoch: [2][0/1069] Data 0.763 (0.763) Elapsed 0m 1s (remain 19m 39s) Loss: 1.1528(1.1528) Grad: 5.3897  \n",
      "Epoch: [2][100/1069] Data 0.000 (0.008) Elapsed 0m 27s (remain 4m 20s) Loss: 0.6705(0.5952) Grad: 3.4629  \n",
      "Epoch: [2][200/1069] Data 0.000 (0.004) Elapsed 0m 53s (remain 3m 50s) Loss: 0.3632(0.5995) Grad: 1.7209  \n",
      "Epoch: [2][300/1069] Data 0.000 (0.003) Elapsed 1m 19s (remain 3m 21s) Loss: 0.7956(0.6033) Grad: 3.4817  \n",
      "Epoch: [2][400/1069] Data 0.000 (0.002) Elapsed 1m 44s (remain 2m 53s) Loss: 0.8010(0.6081) Grad: 2.5341  \n",
      "Epoch: [2][500/1069] Data 0.000 (0.002) Elapsed 2m 10s (remain 2m 27s) Loss: 0.7369(0.6020) Grad: 3.7857  \n",
      "Epoch: [2][600/1069] Data 0.004 (0.002) Elapsed 2m 35s (remain 2m 1s) Loss: 0.3427(0.5990) Grad: 3.3364  \n",
      "Epoch: [2][700/1069] Data 0.000 (0.002) Elapsed 3m 1s (remain 1m 35s) Loss: 0.4597(0.6013) Grad: 1.9595  \n",
      "Epoch: [2][800/1069] Data 0.000 (0.001) Elapsed 3m 27s (remain 1m 9s) Loss: 1.1262(0.6038) Grad: 3.2042  \n",
      "Epoch: [2][900/1069] Data 0.000 (0.001) Elapsed 3m 53s (remain 0m 43s) Loss: 0.3248(0.6025) Grad: 2.3159  \n",
      "Epoch: [2][1000/1069] Data 0.000 (0.001) Elapsed 4m 18s (remain 0m 17s) Loss: 0.5430(0.6011) Grad: 3.0822  \n",
      "Epoch: [2][1068/1069] Data 0.000 (0.001) Elapsed 4m 36s (remain 0m 0s) Loss: 0.4712(0.6045) Grad: 2.3731  \n",
      "EVAL: [0/268] Data 0.835 (0.835) Elapsed 0m 0s (remain 4m 0s) Loss: 0.4940(0.4940) \n",
      "EVAL: [100/268] Data 0.252 (0.106) Elapsed 0m 16s (remain 0m 28s) Loss: 0.4747(0.6032) \n",
      "EVAL: [200/268] Data 0.335 (0.108) Elapsed 0m 34s (remain 0m 11s) Loss: 0.8442(0.6014) \n"
     ]
    },
    {
     "name": "stderr",
     "output_type": "stream",
     "text": [
      "Epoch 2 - avg_train_loss: 0.6045  avg_val_loss: 0.6103  time: 322s\n",
      "Epoch 2 - Accuracy: 0.8016355140186916\n",
      "Epoch 2 - Save Best Score: 0.8016 Model\n"
     ]
    },
    {
     "name": "stdout",
     "output_type": "stream",
     "text": [
      "EVAL: [267/268] Data 0.000 (0.105) Elapsed 0m 45s (remain 0m 0s) Loss: 1.0363(0.6103) \n",
      "Epoch: [3][0/1069] Data 0.902 (0.902) Elapsed 0m 1s (remain 22m 24s) Loss: 0.7309(0.7309) Grad: 2.9066  \n",
      "Epoch: [3][100/1069] Data 0.000 (0.009) Elapsed 0m 27s (remain 4m 20s) Loss: 0.7621(0.5546) Grad: 4.4918  \n",
      "Epoch: [3][200/1069] Data 0.000 (0.005) Elapsed 0m 53s (remain 3m 50s) Loss: 0.5199(0.5445) Grad: 2.9441  \n",
      "Epoch: [3][300/1069] Data 0.000 (0.003) Elapsed 1m 18s (remain 3m 20s) Loss: 0.3515(0.5481) Grad: 2.5248  \n",
      "Epoch: [3][400/1069] Data 0.000 (0.003) Elapsed 1m 44s (remain 2m 53s) Loss: 0.7309(0.5475) Grad: 2.5760  \n",
      "Epoch: [3][500/1069] Data 0.000 (0.002) Elapsed 2m 10s (remain 2m 27s) Loss: 0.6289(0.5527) Grad: 3.5464  \n",
      "Epoch: [3][600/1069] Data 0.000 (0.002) Elapsed 2m 36s (remain 2m 1s) Loss: 0.2888(0.5503) Grad: 1.7853  \n",
      "Epoch: [3][700/1069] Data 0.000 (0.002) Elapsed 3m 1s (remain 1m 35s) Loss: 0.2557(0.5488) Grad: 1.8767  \n",
      "Epoch: [3][800/1069] Data 0.000 (0.002) Elapsed 3m 27s (remain 1m 9s) Loss: 0.7709(0.5435) Grad: 3.8128  \n",
      "Epoch: [3][900/1069] Data 0.000 (0.002) Elapsed 3m 53s (remain 0m 43s) Loss: 0.7921(0.5424) Grad: 3.1856  \n",
      "Epoch: [3][1000/1069] Data 0.000 (0.001) Elapsed 4m 19s (remain 0m 17s) Loss: 1.1622(0.5430) Grad: 4.2873  \n",
      "Epoch: [3][1068/1069] Data 0.000 (0.001) Elapsed 4m 36s (remain 0m 0s) Loss: 0.7622(0.5432) Grad: 3.1720  \n",
      "EVAL: [0/268] Data 0.788 (0.788) Elapsed 0m 0s (remain 3m 51s) Loss: 0.2986(0.2986) \n",
      "EVAL: [100/268] Data 0.000 (0.115) Elapsed 0m 18s (remain 0m 30s) Loss: 0.5769(0.4921) \n",
      "EVAL: [200/268] Data 0.000 (0.106) Elapsed 0m 34s (remain 0m 11s) Loss: 0.5033(0.4856) \n"
     ]
    },
    {
     "name": "stderr",
     "output_type": "stream",
     "text": [
      "Epoch 3 - avg_train_loss: 0.5432  avg_val_loss: 0.5008  time: 322s\n",
      "Epoch 3 - Accuracy: 0.8303738317757009\n",
      "Epoch 3 - Save Best Score: 0.8304 Model\n"
     ]
    },
    {
     "name": "stdout",
     "output_type": "stream",
     "text": [
      "EVAL: [267/268] Data 0.000 (0.106) Elapsed 0m 45s (remain 0m 0s) Loss: 0.7085(0.5008) \n",
      "Epoch: [4][0/1069] Data 0.806 (0.806) Elapsed 0m 1s (remain 21m 54s) Loss: 0.9335(0.9335) Grad: 3.4313  \n",
      "Epoch: [4][100/1069] Data 0.000 (0.009) Elapsed 0m 27s (remain 4m 26s) Loss: 0.5071(0.5168) Grad: 2.6707  \n",
      "Epoch: [4][200/1069] Data 0.000 (0.005) Elapsed 0m 52s (remain 3m 48s) Loss: 0.0672(0.5027) Grad: 0.7033  \n",
      "Epoch: [4][300/1069] Data 0.000 (0.003) Elapsed 1m 19s (remain 3m 21s) Loss: 0.8843(0.4983) Grad: 3.2333  \n",
      "Epoch: [4][400/1069] Data 0.000 (0.003) Elapsed 1m 45s (remain 2m 55s) Loss: 0.4939(0.4953) Grad: 3.0290  \n",
      "Epoch: [4][500/1069] Data 0.000 (0.002) Elapsed 2m 10s (remain 2m 28s) Loss: 0.4709(0.4899) Grad: 3.4852  \n",
      "Epoch: [4][600/1069] Data 0.005 (0.002) Elapsed 2m 36s (remain 2m 1s) Loss: 0.4050(0.4939) Grad: 2.3118  \n",
      "Epoch: [4][700/1069] Data 0.000 (0.002) Elapsed 3m 2s (remain 1m 35s) Loss: 0.7278(0.4955) Grad: 2.6500  \n",
      "Epoch: [4][800/1069] Data 0.000 (0.002) Elapsed 3m 27s (remain 1m 9s) Loss: 0.3171(0.4955) Grad: 2.8471  \n",
      "Epoch: [4][900/1069] Data 0.000 (0.001) Elapsed 3m 54s (remain 0m 43s) Loss: 0.6825(0.4983) Grad: 4.3741  \n",
      "Epoch: [4][1000/1069] Data 0.000 (0.001) Elapsed 4m 20s (remain 0m 17s) Loss: 0.6772(0.4960) Grad: 3.2087  \n",
      "Epoch: [4][1068/1069] Data 0.000 (0.001) Elapsed 4m 37s (remain 0m 0s) Loss: 0.5569(0.4973) Grad: 2.6550  \n",
      "EVAL: [0/268] Data 0.840 (0.840) Elapsed 0m 0s (remain 3m 59s) Loss: 0.3120(0.3120) \n",
      "EVAL: [100/268] Data 0.369 (0.116) Elapsed 0m 18s (remain 0m 29s) Loss: 0.3498(0.4365) \n",
      "EVAL: [200/268] Data 0.437 (0.111) Elapsed 0m 34s (remain 0m 11s) Loss: 0.4835(0.4251) \n"
     ]
    },
    {
     "name": "stderr",
     "output_type": "stream",
     "text": [
      "Epoch 4 - avg_train_loss: 0.4973  avg_val_loss: 0.4279  time: 323s\n",
      "Epoch 4 - Accuracy: 0.8492990654205608\n",
      "Epoch 4 - Save Best Score: 0.8493 Model\n"
     ]
    },
    {
     "name": "stdout",
     "output_type": "stream",
     "text": [
      "EVAL: [267/268] Data 0.000 (0.109) Elapsed 0m 46s (remain 0m 0s) Loss: 0.6614(0.4279) \n",
      "Epoch: [5][0/1069] Data 0.887 (0.887) Elapsed 0m 1s (remain 21m 18s) Loss: 0.4320(0.4320) Grad: 3.7645  \n",
      "Epoch: [5][100/1069] Data 0.000 (0.009) Elapsed 0m 26s (remain 4m 15s) Loss: 0.4461(0.4551) Grad: 2.8607  \n",
      "Epoch: [5][200/1069] Data 0.000 (0.005) Elapsed 0m 52s (remain 3m 48s) Loss: 0.3395(0.4328) Grad: 2.5890  \n",
      "Epoch: [5][300/1069] Data 0.000 (0.003) Elapsed 1m 18s (remain 3m 20s) Loss: 0.6034(0.4304) Grad: 2.5953  \n",
      "Epoch: [5][400/1069] Data 0.000 (0.003) Elapsed 1m 44s (remain 2m 54s) Loss: 0.4826(0.4373) Grad: 2.6688  \n",
      "Epoch: [5][500/1069] Data 0.000 (0.002) Elapsed 2m 10s (remain 2m 28s) Loss: 0.3774(0.4382) Grad: 2.2894  \n",
      "Epoch: [5][600/1069] Data 0.000 (0.002) Elapsed 2m 36s (remain 2m 1s) Loss: 0.9015(0.4380) Grad: 5.7535  \n",
      "Epoch: [5][700/1069] Data 0.000 (0.002) Elapsed 3m 1s (remain 1m 35s) Loss: 0.1966(0.4391) Grad: 1.9715  \n",
      "Epoch: [5][800/1069] Data 0.000 (0.002) Elapsed 3m 28s (remain 1m 9s) Loss: 0.8572(0.4342) Grad: 3.3617  \n",
      "Epoch: [5][900/1069] Data 0.000 (0.001) Elapsed 3m 54s (remain 0m 43s) Loss: 0.5965(0.4368) Grad: 4.3084  \n",
      "Epoch: [5][1000/1069] Data 0.000 (0.001) Elapsed 4m 19s (remain 0m 17s) Loss: 0.5686(0.4350) Grad: 3.5564  \n",
      "Epoch: [5][1068/1069] Data 0.000 (0.001) Elapsed 4m 37s (remain 0m 0s) Loss: 0.5335(0.4380) Grad: 2.8077  \n",
      "EVAL: [0/268] Data 0.915 (0.915) Elapsed 0m 0s (remain 4m 17s) Loss: 0.3296(0.3296) \n",
      "EVAL: [100/268] Data 1.007 (0.121) Elapsed 0m 18s (remain 0m 30s) Loss: 0.2944(0.4190) \n",
      "EVAL: [200/268] Data 0.390 (0.110) Elapsed 0m 35s (remain 0m 11s) Loss: 0.5369(0.4059) \n"
     ]
    },
    {
     "name": "stderr",
     "output_type": "stream",
     "text": [
      "Epoch 5 - avg_train_loss: 0.4380  avg_val_loss: 0.4082  time: 323s\n",
      "Epoch 5 - Accuracy: 0.8586448598130841\n",
      "Epoch 5 - Save Best Score: 0.8586 Model\n"
     ]
    },
    {
     "name": "stdout",
     "output_type": "stream",
     "text": [
      "EVAL: [267/268] Data 0.000 (0.106) Elapsed 0m 45s (remain 0m 0s) Loss: 0.4590(0.4082) \n",
      "Epoch: [6][0/1069] Data 0.800 (0.800) Elapsed 0m 1s (remain 21m 57s) Loss: 1.0385(1.0385) Grad: 4.1845  \n",
      "Epoch: [6][100/1069] Data 0.000 (0.009) Elapsed 0m 27s (remain 4m 24s) Loss: 0.4115(0.5238) Grad: 2.7665  \n",
      "Epoch: [6][200/1069] Data 0.000 (0.005) Elapsed 0m 53s (remain 3m 50s) Loss: 0.6054(0.5618) Grad: 2.6204  \n",
      "Epoch: [6][300/1069] Data 0.000 (0.003) Elapsed 1m 19s (remain 3m 22s) Loss: 0.6186(0.5569) Grad: 3.1136  \n",
      "Epoch: [6][400/1069] Data 0.000 (0.003) Elapsed 1m 45s (remain 2m 56s) Loss: 0.3551(0.5649) Grad: 2.3468  \n",
      "Epoch: [6][500/1069] Data 0.000 (0.002) Elapsed 2m 11s (remain 2m 28s) Loss: 0.6786(0.5699) Grad: 3.1023  \n",
      "Epoch: [6][600/1069] Data 0.000 (0.002) Elapsed 2m 37s (remain 2m 2s) Loss: 0.4331(0.5671) Grad: 2.7505  \n",
      "Epoch: [6][700/1069] Data 0.000 (0.002) Elapsed 3m 3s (remain 1m 36s) Loss: 0.7117(0.5678) Grad: 2.7300  \n",
      "Epoch: [6][800/1069] Data 0.000 (0.002) Elapsed 3m 29s (remain 1m 10s) Loss: 0.3761(0.5601) Grad: 2.7809  \n",
      "Epoch: [6][900/1069] Data 0.001 (0.001) Elapsed 3m 54s (remain 0m 43s) Loss: 0.3930(0.5624) Grad: 2.6020  \n",
      "Epoch: [6][1000/1069] Data 0.000 (0.001) Elapsed 4m 20s (remain 0m 17s) Loss: 0.5192(0.5623) Grad: 2.0368  \n",
      "Epoch: [6][1068/1069] Data 0.000 (0.001) Elapsed 4m 38s (remain 0m 0s) Loss: 1.1870(0.5594) Grad: 3.6369  \n",
      "EVAL: [0/268] Data 0.845 (0.845) Elapsed 0m 0s (remain 4m 6s) Loss: 0.4059(0.4059) \n",
      "EVAL: [100/268] Data 0.397 (0.109) Elapsed 0m 17s (remain 0m 28s) Loss: 0.4564(0.5272) \n",
      "EVAL: [200/268] Data 0.415 (0.110) Elapsed 0m 35s (remain 0m 11s) Loss: 0.6002(0.5202) \n"
     ]
    },
    {
     "name": "stderr",
     "output_type": "stream",
     "text": [
      "Epoch 6 - avg_train_loss: 0.5594  avg_val_loss: 0.5207  time: 324s\n",
      "Epoch 6 - Accuracy: 0.8205607476635514\n"
     ]
    },
    {
     "name": "stdout",
     "output_type": "stream",
     "text": [
      "EVAL: [267/268] Data 0.000 (0.107) Elapsed 0m 45s (remain 0m 0s) Loss: 0.7855(0.5207) \n",
      "Epoch: [7][0/1069] Data 0.937 (0.937) Elapsed 0m 1s (remain 23m 11s) Loss: 0.6815(0.6815) Grad: 2.3393  \n",
      "Epoch: [7][100/1069] Data 0.000 (0.010) Elapsed 0m 27s (remain 4m 23s) Loss: 0.8385(0.5434) Grad: 2.4936  \n",
      "Epoch: [7][200/1069] Data 0.000 (0.005) Elapsed 0m 53s (remain 3m 52s) Loss: 0.5001(0.5461) Grad: 1.8839  \n",
      "Epoch: [7][300/1069] Data 0.000 (0.004) Elapsed 1m 19s (remain 3m 23s) Loss: 0.7656(0.5368) Grad: 2.7715  \n",
      "Epoch: [7][400/1069] Data 0.000 (0.003) Elapsed 1m 45s (remain 2m 55s) Loss: 0.5922(0.5445) Grad: 2.3633  \n",
      "Epoch: [7][500/1069] Data 0.000 (0.002) Elapsed 2m 11s (remain 2m 29s) Loss: 0.5882(0.5391) Grad: 2.9689  \n",
      "Epoch: [7][600/1069] Data 0.000 (0.002) Elapsed 2m 37s (remain 2m 2s) Loss: 1.0153(0.5393) Grad: 3.8630  \n",
      "Epoch: [7][700/1069] Data 0.000 (0.002) Elapsed 3m 3s (remain 1m 36s) Loss: 0.6608(0.5372) Grad: 3.6631  \n",
      "Epoch: [7][800/1069] Data 0.000 (0.002) Elapsed 3m 29s (remain 1m 10s) Loss: 0.5402(0.5385) Grad: 2.9409  \n",
      "Epoch: [7][900/1069] Data 0.000 (0.002) Elapsed 3m 55s (remain 0m 43s) Loss: 0.5204(0.5380) Grad: 2.6630  \n",
      "Epoch: [7][1000/1069] Data 0.000 (0.002) Elapsed 4m 21s (remain 0m 17s) Loss: 0.8419(0.5376) Grad: 3.2821  \n",
      "Epoch: [7][1068/1069] Data 0.000 (0.001) Elapsed 4m 38s (remain 0m 0s) Loss: 0.5613(0.5353) Grad: 2.7284  \n",
      "EVAL: [0/268] Data 0.789 (0.789) Elapsed 0m 0s (remain 3m 51s) Loss: 0.2834(0.2834) \n",
      "EVAL: [100/268] Data 0.280 (0.112) Elapsed 0m 17s (remain 0m 29s) Loss: 0.5612(0.4510) \n",
      "EVAL: [200/268] Data 0.148 (0.110) Elapsed 0m 34s (remain 0m 11s) Loss: 0.5257(0.4455) \n"
     ]
    },
    {
     "name": "stderr",
     "output_type": "stream",
     "text": [
      "Epoch 7 - avg_train_loss: 0.5353  avg_val_loss: 0.4537  time: 325s\n",
      "Epoch 7 - Accuracy: 0.8429906542056075\n"
     ]
    },
    {
     "name": "stdout",
     "output_type": "stream",
     "text": [
      "EVAL: [267/268] Data 0.000 (0.108) Elapsed 0m 46s (remain 0m 0s) Loss: 0.9154(0.4537) \n",
      "Epoch: [8][0/1069] Data 0.725 (0.725) Elapsed 0m 1s (remain 20m 27s) Loss: 0.4343(0.4343) Grad: 2.3184  \n",
      "Epoch: [8][100/1069] Data 0.000 (0.008) Elapsed 0m 27s (remain 4m 27s) Loss: 0.4177(0.4660) Grad: 2.3975  \n",
      "Epoch: [8][200/1069] Data 0.000 (0.004) Elapsed 0m 54s (remain 3m 53s) Loss: 0.5236(0.4705) Grad: 2.0790  \n",
      "Epoch: [8][300/1069] Data 0.000 (0.003) Elapsed 1m 19s (remain 3m 22s) Loss: 0.2400(0.4734) Grad: 1.6621  \n",
      "Epoch: [8][400/1069] Data 0.000 (0.002) Elapsed 1m 46s (remain 2m 56s) Loss: 0.7570(0.4746) Grad: 2.9291  \n",
      "Epoch: [8][500/1069] Data 0.000 (0.002) Elapsed 2m 11s (remain 2m 29s) Loss: 1.1054(0.4745) Grad: 3.2567  \n",
      "Epoch: [8][600/1069] Data 0.005 (0.002) Elapsed 2m 38s (remain 2m 3s) Loss: 0.7765(0.4867) Grad: 3.2103  \n",
      "Epoch: [8][700/1069] Data 0.000 (0.002) Elapsed 3m 4s (remain 1m 36s) Loss: 0.6536(0.4868) Grad: 2.7950  \n",
      "Epoch: [8][800/1069] Data 0.000 (0.001) Elapsed 3m 29s (remain 1m 10s) Loss: 0.1515(0.4892) Grad: 1.4332  \n",
      "Epoch: [8][900/1069] Data 0.000 (0.001) Elapsed 3m 56s (remain 0m 44s) Loss: 0.5786(0.4916) Grad: 3.2262  \n",
      "Epoch: [8][1000/1069] Data 0.005 (0.001) Elapsed 4m 22s (remain 0m 17s) Loss: 0.4520(0.4959) Grad: 2.5056  \n",
      "Epoch: [8][1068/1069] Data 0.000 (0.001) Elapsed 4m 39s (remain 0m 0s) Loss: 0.3479(0.4955) Grad: 2.1333  \n",
      "EVAL: [0/268] Data 1.008 (1.008) Elapsed 0m 1s (remain 4m 48s) Loss: 0.3369(0.3369) \n",
      "EVAL: [100/268] Data 0.203 (0.113) Elapsed 0m 17s (remain 0m 29s) Loss: 0.5234(0.4639) \n",
      "EVAL: [200/268] Data 0.042 (0.113) Elapsed 0m 35s (remain 0m 11s) Loss: 0.5349(0.4555) \n"
     ]
    },
    {
     "name": "stderr",
     "output_type": "stream",
     "text": [
      "Epoch 8 - avg_train_loss: 0.4955  avg_val_loss: 0.4535  time: 326s\n",
      "Epoch 8 - Accuracy: 0.8378504672897197\n"
     ]
    },
    {
     "name": "stdout",
     "output_type": "stream",
     "text": [
      "EVAL: [267/268] Data 0.000 (0.111) Elapsed 0m 46s (remain 0m 0s) Loss: 0.9333(0.4535) \n",
      "Epoch: [9][0/1069] Data 0.918 (0.918) Elapsed 0m 1s (remain 22m 35s) Loss: 0.2183(0.2183) Grad: 1.5254  \n",
      "Epoch: [9][100/1069] Data 0.000 (0.010) Elapsed 0m 27s (remain 4m 24s) Loss: 0.5380(0.4747) Grad: 1.9094  \n",
      "Epoch: [9][200/1069] Data 0.000 (0.005) Elapsed 0m 54s (remain 3m 53s) Loss: 0.7311(0.4640) Grad: 2.4690  \n",
      "Epoch: [9][300/1069] Data 0.000 (0.004) Elapsed 1m 19s (remain 3m 22s) Loss: 0.4657(0.4596) Grad: 2.5784  \n",
      "Epoch: [9][400/1069] Data 0.000 (0.003) Elapsed 1m 45s (remain 2m 56s) Loss: 0.6945(0.4589) Grad: 3.3465  \n",
      "Epoch: [9][500/1069] Data 0.000 (0.002) Elapsed 2m 11s (remain 2m 29s) Loss: 0.4649(0.4642) Grad: 2.5204  \n",
      "Epoch: [9][600/1069] Data 0.000 (0.002) Elapsed 2m 38s (remain 2m 3s) Loss: 0.4614(0.4543) Grad: 2.6429  \n",
      "Epoch: [9][700/1069] Data 0.000 (0.002) Elapsed 3m 4s (remain 1m 36s) Loss: 0.2384(0.4518) Grad: 1.8370  \n",
      "Epoch: [9][800/1069] Data 0.000 (0.002) Elapsed 3m 30s (remain 1m 10s) Loss: 0.3598(0.4522) Grad: 1.9321  \n",
      "Epoch: [9][900/1069] Data 0.000 (0.002) Elapsed 3m 56s (remain 0m 44s) Loss: 0.2558(0.4495) Grad: 1.9407  \n",
      "Epoch: [9][1000/1069] Data 0.000 (0.001) Elapsed 4m 22s (remain 0m 17s) Loss: 0.3633(0.4496) Grad: 1.6857  \n",
      "Epoch: [9][1068/1069] Data 0.000 (0.001) Elapsed 4m 39s (remain 0m 0s) Loss: 0.1357(0.4486) Grad: 1.1575  \n",
      "EVAL: [0/268] Data 0.913 (0.913) Elapsed 0m 1s (remain 4m 32s) Loss: 0.3329(0.3329) \n",
      "EVAL: [100/268] Data 0.451 (0.119) Elapsed 0m 19s (remain 0m 31s) Loss: 0.3820(0.4162) \n",
      "EVAL: [200/268] Data 0.507 (0.114) Elapsed 0m 36s (remain 0m 12s) Loss: 0.4631(0.4006) \n"
     ]
    },
    {
     "name": "stderr",
     "output_type": "stream",
     "text": [
      "Epoch 9 - avg_train_loss: 0.4486  avg_val_loss: 0.4059  time: 327s\n",
      "Epoch 9 - Accuracy: 0.8574766355140186\n"
     ]
    },
    {
     "name": "stdout",
     "output_type": "stream",
     "text": [
      "EVAL: [267/268] Data 0.000 (0.109) Elapsed 0m 47s (remain 0m 0s) Loss: 0.4792(0.4059) \n",
      "Epoch: [10][0/1069] Data 0.870 (0.870) Elapsed 0m 1s (remain 22m 56s) Loss: 0.7622(0.7622) Grad: 3.1771  \n",
      "Epoch: [10][100/1069] Data 0.000 (0.009) Elapsed 0m 27s (remain 4m 24s) Loss: 0.4786(0.4251) Grad: 2.5581  \n",
      "Epoch: [10][200/1069] Data 0.000 (0.005) Elapsed 0m 53s (remain 3m 50s) Loss: 0.6992(0.4259) Grad: 3.3714  \n",
      "Epoch: [10][300/1069] Data 0.000 (0.003) Elapsed 1m 19s (remain 3m 23s) Loss: 0.4687(0.4324) Grad: 2.1477  \n",
      "Epoch: [10][400/1069] Data 0.000 (0.003) Elapsed 1m 45s (remain 2m 56s) Loss: 0.2612(0.4305) Grad: 1.2161  \n",
      "Epoch: [10][500/1069] Data 0.005 (0.002) Elapsed 2m 12s (remain 2m 30s) Loss: 0.3819(0.4252) Grad: 2.8687  \n",
      "Epoch: [10][600/1069] Data 0.000 (0.002) Elapsed 2m 38s (remain 2m 3s) Loss: 0.6412(0.4180) Grad: 2.7580  \n",
      "Epoch: [10][700/1069] Data 0.000 (0.002) Elapsed 3m 4s (remain 1m 36s) Loss: 0.4026(0.4190) Grad: 2.0696  \n",
      "Epoch: [10][800/1069] Data 0.000 (0.002) Elapsed 3m 30s (remain 1m 10s) Loss: 0.3419(0.4192) Grad: 2.9042  \n",
      "Epoch: [10][900/1069] Data 0.000 (0.001) Elapsed 3m 56s (remain 0m 44s) Loss: 0.4889(0.4160) Grad: 3.2783  \n",
      "Epoch: [10][1000/1069] Data 0.000 (0.001) Elapsed 4m 22s (remain 0m 17s) Loss: 0.1928(0.4202) Grad: 1.7679  \n",
      "Epoch: [10][1068/1069] Data 0.000 (0.001) Elapsed 4m 39s (remain 0m 0s) Loss: 0.3213(0.4180) Grad: 3.1204  \n",
      "EVAL: [0/268] Data 0.867 (0.867) Elapsed 0m 0s (remain 4m 13s) Loss: 0.2914(0.2914) \n",
      "EVAL: [100/268] Data 0.003 (0.118) Elapsed 0m 18s (remain 0m 30s) Loss: 0.4369(0.3929) \n",
      "EVAL: [200/268] Data 0.000 (0.111) Elapsed 0m 35s (remain 0m 11s) Loss: 0.4056(0.3769) \n"
     ]
    },
    {
     "name": "stderr",
     "output_type": "stream",
     "text": [
      "Epoch 10 - avg_train_loss: 0.4180  avg_val_loss: 0.3798  time: 327s\n",
      "Epoch 10 - Accuracy: 0.8635514018691589\n",
      "Epoch 10 - Save Best Score: 0.8636 Model\n"
     ]
    },
    {
     "name": "stdout",
     "output_type": "stream",
     "text": [
      "EVAL: [267/268] Data 0.000 (0.110) Elapsed 0m 46s (remain 0m 0s) Loss: 0.4448(0.3798) \n"
     ]
    },
    {
     "name": "stderr",
     "output_type": "stream",
     "text": [
      "========== fold: 0 result ==========\n",
      "Score: 0.86355\n",
      "========== fold: 1 training ==========\n"
     ]
    },
    {
     "name": "stdout",
     "output_type": "stream",
     "text": [
      "Epoch: [1][0/1069] Data 1.006 (1.006) Elapsed 0m 1s (remain 25m 36s) Loss: 1.6275(1.6275) Grad: 10.2887  \n",
      "Epoch: [1][100/1069] Data 0.000 (0.011) Elapsed 0m 28s (remain 4m 29s) Loss: 1.0176(1.0224) Grad: 6.0927  \n",
      "Epoch: [1][200/1069] Data 0.000 (0.006) Elapsed 0m 53s (remain 3m 51s) Loss: 0.8247(0.9256) Grad: 3.8340  \n",
      "Epoch: [1][300/1069] Data 0.000 (0.004) Elapsed 1m 20s (remain 3m 25s) Loss: 1.0434(0.8678) Grad: 6.5265  \n",
      "Epoch: [1][400/1069] Data 0.000 (0.003) Elapsed 1m 46s (remain 2m 57s) Loss: 0.6263(0.8335) Grad: 2.9218  \n",
      "Epoch: [1][500/1069] Data 0.000 (0.003) Elapsed 2m 12s (remain 2m 30s) Loss: 0.6462(0.8046) Grad: 3.0835  \n",
      "Epoch: [1][600/1069] Data 0.000 (0.002) Elapsed 2m 39s (remain 2m 4s) Loss: 0.5535(0.7805) Grad: 2.6276  \n",
      "Epoch: [1][700/1069] Data 0.000 (0.002) Elapsed 3m 4s (remain 1m 36s) Loss: 0.4562(0.7708) Grad: 2.8234  \n",
      "Epoch: [1][800/1069] Data 0.000 (0.002) Elapsed 3m 31s (remain 1m 10s) Loss: 0.5438(0.7561) Grad: 2.7545  \n",
      "Epoch: [1][900/1069] Data 0.000 (0.002) Elapsed 3m 57s (remain 0m 44s) Loss: 0.7358(0.7496) Grad: 2.8759  \n",
      "Epoch: [1][1000/1069] Data 0.000 (0.002) Elapsed 4m 23s (remain 0m 17s) Loss: 0.4027(0.7398) Grad: 2.9246  \n",
      "Epoch: [1][1068/1069] Data 0.000 (0.001) Elapsed 4m 40s (remain 0m 0s) Loss: 0.5520(0.7357) Grad: 2.4596  \n",
      "EVAL: [0/268] Data 0.872 (0.872) Elapsed 0m 0s (remain 4m 15s) Loss: 0.6924(0.6924) \n",
      "EVAL: [100/268] Data 0.178 (0.115) Elapsed 0m 18s (remain 0m 30s) Loss: 0.4458(0.6048) \n",
      "EVAL: [200/268] Data 0.392 (0.111) Elapsed 0m 35s (remain 0m 11s) Loss: 0.7117(0.6283) \n"
     ]
    },
    {
     "name": "stderr",
     "output_type": "stream",
     "text": [
      "Epoch 1 - avg_train_loss: 0.7357  avg_val_loss: 0.6193  time: 327s\n",
      "Epoch 1 - Accuracy: 0.7857476635514019\n",
      "Epoch 1 - Save Best Score: 0.7857 Model\n"
     ]
    },
    {
     "name": "stdout",
     "output_type": "stream",
     "text": [
      "EVAL: [267/268] Data 0.000 (0.109) Elapsed 0m 46s (remain 0m 0s) Loss: 0.5220(0.6193) \n",
      "Epoch: [2][0/1069] Data 0.892 (0.892) Elapsed 0m 1s (remain 22m 21s) Loss: 0.4133(0.4133) Grad: 2.8761  \n",
      "Epoch: [2][100/1069] Data 0.000 (0.009) Elapsed 0m 28s (remain 4m 28s) Loss: 0.6974(0.6071) Grad: 4.0579  \n",
      "Epoch: [2][200/1069] Data 0.000 (0.005) Elapsed 0m 53s (remain 3m 52s) Loss: 1.1139(0.6157) Grad: 4.7884  \n",
      "Epoch: [2][300/1069] Data 0.000 (0.003) Elapsed 1m 19s (remain 3m 23s) Loss: 0.9235(0.6209) Grad: 2.8215  \n",
      "Epoch: [2][400/1069] Data 0.000 (0.003) Elapsed 1m 46s (remain 2m 56s) Loss: 0.6159(0.6120) Grad: 3.0258  \n",
      "Epoch: [2][500/1069] Data 0.000 (0.002) Elapsed 2m 11s (remain 2m 29s) Loss: 0.7151(0.6162) Grad: 3.3394  \n",
      "Epoch: [2][600/1069] Data 0.000 (0.002) Elapsed 2m 38s (remain 2m 3s) Loss: 0.5789(0.6126) Grad: 2.1752  \n",
      "Epoch: [2][700/1069] Data 0.000 (0.002) Elapsed 3m 3s (remain 1m 36s) Loss: 0.4788(0.6117) Grad: 2.5708  \n",
      "Epoch: [2][800/1069] Data 0.000 (0.002) Elapsed 3m 30s (remain 1m 10s) Loss: 0.3420(0.6092) Grad: 2.3413  \n",
      "Epoch: [2][900/1069] Data 0.000 (0.002) Elapsed 3m 56s (remain 0m 44s) Loss: 0.4391(0.6083) Grad: 2.0991  \n",
      "Epoch: [2][1000/1069] Data 0.000 (0.001) Elapsed 4m 22s (remain 0m 17s) Loss: 0.8038(0.6079) Grad: 2.8096  \n",
      "Epoch: [2][1068/1069] Data 0.000 (0.001) Elapsed 4m 39s (remain 0m 0s) Loss: 0.6180(0.6069) Grad: 3.2275  \n",
      "EVAL: [0/268] Data 0.843 (0.843) Elapsed 0m 0s (remain 4m 5s) Loss: 0.6382(0.6382) \n",
      "EVAL: [100/268] Data 0.130 (0.115) Elapsed 0m 18s (remain 0m 30s) Loss: 0.4392(0.5507) \n",
      "EVAL: [200/268] Data 0.262 (0.112) Elapsed 0m 35s (remain 0m 11s) Loss: 0.4141(0.5538) \n"
     ]
    },
    {
     "name": "stderr",
     "output_type": "stream",
     "text": [
      "Epoch 2 - avg_train_loss: 0.6069  avg_val_loss: 0.5486  time: 327s\n",
      "Epoch 2 - Accuracy: 0.805607476635514\n",
      "Epoch 2 - Save Best Score: 0.8056 Model\n"
     ]
    },
    {
     "name": "stdout",
     "output_type": "stream",
     "text": [
      "EVAL: [267/268] Data 0.000 (0.111) Elapsed 0m 46s (remain 0m 0s) Loss: 0.3200(0.5486) \n",
      "Epoch: [3][0/1069] Data 0.867 (0.867) Elapsed 0m 1s (remain 21m 53s) Loss: 0.6236(0.6236) Grad: 2.5815  \n",
      "Epoch: [3][100/1069] Data 0.000 (0.009) Elapsed 0m 26s (remain 4m 17s) Loss: 0.9038(0.5704) Grad: 3.5340  \n",
      "Epoch: [3][200/1069] Data 0.000 (0.005) Elapsed 0m 53s (remain 3m 49s) Loss: 0.7139(0.5466) Grad: 3.9026  \n",
      "Epoch: [3][300/1069] Data 0.000 (0.003) Elapsed 1m 19s (remain 3m 21s) Loss: 0.5492(0.5302) Grad: 3.4342  \n",
      "Epoch: [3][400/1069] Data 0.000 (0.003) Elapsed 1m 45s (remain 2m 54s) Loss: 0.4610(0.5307) Grad: 3.1282  \n",
      "Epoch: [3][500/1069] Data 0.000 (0.002) Elapsed 2m 11s (remain 2m 29s) Loss: 0.4263(0.5370) Grad: 3.1023  \n",
      "Epoch: [3][600/1069] Data 0.000 (0.002) Elapsed 2m 36s (remain 2m 2s) Loss: 0.4348(0.5341) Grad: 2.1417  \n",
      "Epoch: [3][700/1069] Data 0.000 (0.002) Elapsed 3m 3s (remain 1m 36s) Loss: 0.4649(0.5343) Grad: 3.1143  \n",
      "Epoch: [3][800/1069] Data 0.005 (0.002) Elapsed 3m 29s (remain 1m 10s) Loss: 0.2674(0.5319) Grad: 1.4739  \n",
      "Epoch: [3][900/1069] Data 0.000 (0.001) Elapsed 3m 55s (remain 0m 43s) Loss: 0.4004(0.5325) Grad: 2.4123  \n",
      "Epoch: [3][1000/1069] Data 0.000 (0.001) Elapsed 4m 22s (remain 0m 17s) Loss: 0.4563(0.5342) Grad: 3.0432  \n",
      "Epoch: [3][1068/1069] Data 0.000 (0.001) Elapsed 4m 38s (remain 0m 0s) Loss: 0.2400(0.5386) Grad: 1.5894  \n",
      "EVAL: [0/268] Data 0.860 (0.860) Elapsed 0m 0s (remain 4m 10s) Loss: 0.6718(0.6718) \n",
      "EVAL: [100/268] Data 0.208 (0.120) Elapsed 0m 18s (remain 0m 31s) Loss: 0.3383(0.4705) \n",
      "EVAL: [200/268] Data 0.010 (0.112) Elapsed 0m 35s (remain 0m 11s) Loss: 0.5514(0.4826) \n",
      "EVAL: [267/268] Data 0.000 (0.111) Elapsed 0m 46s (remain 0m 0s) Loss: 0.2384(0.4760) \n"
     ]
    },
    {
     "name": "stderr",
     "output_type": "stream",
     "text": [
      "Epoch 3 - avg_train_loss: 0.5386  avg_val_loss: 0.4760  time: 326s\n",
      "Epoch 3 - Accuracy: 0.8383177570093457\n",
      "Epoch 3 - Save Best Score: 0.8383 Model\n"
     ]
    },
    {
     "name": "stdout",
     "output_type": "stream",
     "text": [
      "Epoch: [4][0/1069] Data 0.945 (0.945) Elapsed 0m 1s (remain 22m 47s) Loss: 0.3716(0.3716) Grad: 2.5219  \n",
      "Epoch: [4][100/1069] Data 0.000 (0.010) Elapsed 0m 26s (remain 4m 15s) Loss: 0.7781(0.5028) Grad: 3.7218  \n",
      "Epoch: [4][200/1069] Data 0.000 (0.005) Elapsed 0m 52s (remain 3m 48s) Loss: 0.3792(0.5183) Grad: 2.4495  \n",
      "Epoch: [4][300/1069] Data 0.000 (0.004) Elapsed 1m 19s (remain 3m 22s) Loss: 0.7796(0.5054) Grad: 3.2568  \n",
      "Epoch: [4][400/1069] Data 0.000 (0.003) Elapsed 1m 45s (remain 2m 56s) Loss: 0.6138(0.4927) Grad: 4.3916  \n",
      "Epoch: [4][500/1069] Data 0.002 (0.002) Elapsed 2m 11s (remain 2m 28s) Loss: 0.4630(0.4916) Grad: 2.4566  \n",
      "Epoch: [4][600/1069] Data 0.000 (0.002) Elapsed 2m 37s (remain 2m 2s) Loss: 0.7521(0.4924) Grad: 2.5400  \n",
      "Epoch: [4][700/1069] Data 0.000 (0.002) Elapsed 3m 3s (remain 1m 36s) Loss: 0.5008(0.4912) Grad: 2.7017  \n",
      "Epoch: [4][800/1069] Data 0.000 (0.002) Elapsed 3m 30s (remain 1m 10s) Loss: 0.5079(0.4897) Grad: 3.0791  \n",
      "Epoch: [4][900/1069] Data 0.000 (0.002) Elapsed 3m 56s (remain 0m 44s) Loss: 0.8272(0.4903) Grad: 3.1896  \n",
      "Epoch: [4][1000/1069] Data 0.000 (0.001) Elapsed 4m 21s (remain 0m 17s) Loss: 0.4190(0.4899) Grad: 2.5931  \n",
      "Epoch: [4][1068/1069] Data 0.000 (0.001) Elapsed 4m 39s (remain 0m 0s) Loss: 0.2733(0.4880) Grad: 1.9094  \n",
      "EVAL: [0/268] Data 0.907 (0.907) Elapsed 0m 0s (remain 4m 15s) Loss: 0.3950(0.3950) \n",
      "EVAL: [100/268] Data 0.429 (0.124) Elapsed 0m 19s (remain 0m 31s) Loss: 0.2710(0.4714) \n",
      "EVAL: [200/268] Data 0.334 (0.112) Elapsed 0m 35s (remain 0m 11s) Loss: 0.4967(0.4720) \n"
     ]
    },
    {
     "name": "stderr",
     "output_type": "stream",
     "text": [
      "Epoch 4 - avg_train_loss: 0.4880  avg_val_loss: 0.4700  time: 326s\n",
      "Epoch 4 - Accuracy: 0.8411214953271028\n",
      "Epoch 4 - Save Best Score: 0.8411 Model\n"
     ]
    },
    {
     "name": "stdout",
     "output_type": "stream",
     "text": [
      "EVAL: [267/268] Data 0.000 (0.108) Elapsed 0m 46s (remain 0m 0s) Loss: 0.1594(0.4700) \n",
      "Epoch: [5][0/1069] Data 0.911 (0.911) Elapsed 0m 1s (remain 22m 27s) Loss: 0.5285(0.5285) Grad: 2.5323  \n",
      "Epoch: [5][100/1069] Data 0.000 (0.010) Elapsed 0m 27s (remain 4m 28s) Loss: 0.2591(0.4526) Grad: 1.8131  \n",
      "Epoch: [5][200/1069] Data 0.000 (0.005) Elapsed 0m 54s (remain 3m 53s) Loss: 0.4394(0.4342) Grad: 2.4272  \n",
      "Epoch: [5][300/1069] Data 0.002 (0.004) Elapsed 1m 20s (remain 3m 25s) Loss: 1.1337(0.4425) Grad: 4.5636  \n",
      "Epoch: [5][400/1069] Data 0.000 (0.003) Elapsed 1m 46s (remain 2m 58s) Loss: 0.4255(0.4403) Grad: 3.1641  \n",
      "Epoch: [5][500/1069] Data 0.000 (0.002) Elapsed 2m 12s (remain 2m 29s) Loss: 0.8846(0.4422) Grad: 5.7595  \n",
      "Epoch: [5][600/1069] Data 0.000 (0.002) Elapsed 2m 38s (remain 2m 3s) Loss: 0.2743(0.4385) Grad: 2.7246  \n",
      "Epoch: [5][700/1069] Data 0.000 (0.002) Elapsed 3m 4s (remain 1m 37s) Loss: 0.6032(0.4429) Grad: 2.4735  \n",
      "Epoch: [5][800/1069] Data 0.000 (0.002) Elapsed 3m 31s (remain 1m 10s) Loss: 0.1017(0.4434) Grad: 1.1959  \n",
      "Epoch: [5][900/1069] Data 0.000 (0.002) Elapsed 3m 57s (remain 0m 44s) Loss: 0.7046(0.4428) Grad: 3.0756  \n",
      "Epoch: [5][1000/1069] Data 0.000 (0.001) Elapsed 4m 23s (remain 0m 17s) Loss: 0.4692(0.4406) Grad: 3.2288  \n",
      "Epoch: [5][1068/1069] Data 0.000 (0.001) Elapsed 4m 41s (remain 0m 0s) Loss: 0.6099(0.4385) Grad: 3.3771  \n",
      "EVAL: [0/268] Data 0.954 (0.954) Elapsed 0m 1s (remain 4m 32s) Loss: 0.4190(0.4190) \n",
      "EVAL: [100/268] Data 0.705 (0.118) Elapsed 0m 18s (remain 0m 29s) Loss: 0.2368(0.4245) \n",
      "EVAL: [200/268] Data 0.163 (0.111) Elapsed 0m 35s (remain 0m 11s) Loss: 0.4247(0.4283) \n"
     ]
    },
    {
     "name": "stderr",
     "output_type": "stream",
     "text": [
      "Epoch 5 - avg_train_loss: 0.4385  avg_val_loss: 0.4246  time: 328s\n",
      "Epoch 5 - Accuracy: 0.8532710280373832\n",
      "Epoch 5 - Save Best Score: 0.8533 Model\n"
     ]
    },
    {
     "name": "stdout",
     "output_type": "stream",
     "text": [
      "EVAL: [267/268] Data 0.000 (0.109) Elapsed 0m 46s (remain 0m 0s) Loss: 0.0952(0.4246) \n",
      "Epoch: [6][0/1069] Data 0.876 (0.876) Elapsed 0m 1s (remain 22m 18s) Loss: 0.5621(0.5621) Grad: 3.5240  \n",
      "Epoch: [6][100/1069] Data 0.005 (0.009) Elapsed 0m 27s (remain 4m 24s) Loss: 0.4229(0.5426) Grad: 2.1260  \n",
      "Epoch: [6][200/1069] Data 0.000 (0.005) Elapsed 0m 53s (remain 3m 51s) Loss: 0.2460(0.5594) Grad: 1.7533  \n",
      "Epoch: [6][300/1069] Data 0.000 (0.003) Elapsed 1m 19s (remain 3m 24s) Loss: 0.3322(0.5570) Grad: 3.1803  \n",
      "Epoch: [6][400/1069] Data 0.000 (0.003) Elapsed 1m 46s (remain 2m 57s) Loss: 0.7336(0.5714) Grad: 2.3963  \n",
      "Epoch: [6][500/1069] Data 0.000 (0.002) Elapsed 2m 11s (remain 2m 29s) Loss: 0.3098(0.5674) Grad: 2.0410  \n",
      "Epoch: [6][600/1069] Data 0.000 (0.002) Elapsed 2m 37s (remain 2m 2s) Loss: 0.5725(0.5683) Grad: 3.3061  \n",
      "Epoch: [6][700/1069] Data 0.000 (0.002) Elapsed 3m 4s (remain 1m 36s) Loss: 0.1962(0.5706) Grad: 1.7910  \n",
      "Epoch: [6][800/1069] Data 0.000 (0.002) Elapsed 3m 30s (remain 1m 10s) Loss: 0.7671(0.5738) Grad: 3.9235  \n",
      "Epoch: [6][900/1069] Data 0.000 (0.001) Elapsed 3m 56s (remain 0m 44s) Loss: 0.2223(0.5706) Grad: 1.8969  \n",
      "Epoch: [6][1000/1069] Data 0.000 (0.001) Elapsed 4m 22s (remain 0m 17s) Loss: 0.2971(0.5621) Grad: 1.9217  \n",
      "Epoch: [6][1068/1069] Data 0.000 (0.001) Elapsed 4m 39s (remain 0m 0s) Loss: 0.2965(0.5634) Grad: 1.8361  \n",
      "EVAL: [0/268] Data 1.178 (1.178) Elapsed 0m 1s (remain 5m 42s) Loss: 0.4884(0.4884) \n",
      "EVAL: [100/268] Data 0.000 (0.113) Elapsed 0m 17s (remain 0m 29s) Loss: 0.4199(0.4887) \n",
      "EVAL: [200/268] Data 0.000 (0.111) Elapsed 0m 35s (remain 0m 11s) Loss: 0.6086(0.4964) \n"
     ]
    },
    {
     "name": "stderr",
     "output_type": "stream",
     "text": [
      "Epoch 6 - avg_train_loss: 0.5634  avg_val_loss: 0.4889  time: 326s\n",
      "Epoch 6 - Accuracy: 0.8338785046728971\n"
     ]
    },
    {
     "name": "stdout",
     "output_type": "stream",
     "text": [
      "EVAL: [267/268] Data 0.000 (0.108) Elapsed 0m 45s (remain 0m 0s) Loss: 0.2159(0.4889) \n",
      "Epoch: [7][0/1069] Data 0.930 (0.930) Elapsed 0m 1s (remain 23m 5s) Loss: 0.3609(0.3609) Grad: 2.0741  \n",
      "Epoch: [7][100/1069] Data 0.000 (0.010) Elapsed 0m 27s (remain 4m 23s) Loss: 0.2733(0.5767) Grad: 1.6171  \n",
      "Epoch: [7][200/1069] Data 0.000 (0.005) Elapsed 0m 54s (remain 3m 53s) Loss: 0.4116(0.5472) Grad: 2.6402  \n",
      "Epoch: [7][300/1069] Data 0.000 (0.004) Elapsed 1m 19s (remain 3m 24s) Loss: 0.2794(0.5489) Grad: 1.9373  \n",
      "Epoch: [7][400/1069] Data 0.000 (0.003) Elapsed 1m 45s (remain 2m 55s) Loss: 0.5407(0.5427) Grad: 3.4350  \n",
      "Epoch: [7][500/1069] Data 0.000 (0.002) Elapsed 2m 11s (remain 2m 29s) Loss: 0.4609(0.5349) Grad: 3.1124  \n",
      "Epoch: [7][600/1069] Data 0.000 (0.002) Elapsed 2m 37s (remain 2m 2s) Loss: 0.6001(0.5328) Grad: 2.5844  \n",
      "Epoch: [7][700/1069] Data 0.000 (0.002) Elapsed 3m 3s (remain 1m 36s) Loss: 0.8481(0.5287) Grad: 3.5932  \n",
      "Epoch: [7][800/1069] Data 0.000 (0.002) Elapsed 3m 30s (remain 1m 10s) Loss: 0.2775(0.5320) Grad: 1.6842  \n",
      "Epoch: [7][900/1069] Data 0.000 (0.002) Elapsed 3m 55s (remain 0m 43s) Loss: 0.6229(0.5325) Grad: 2.5162  \n",
      "Epoch: [7][1000/1069] Data 0.000 (0.001) Elapsed 4m 21s (remain 0m 17s) Loss: 0.3028(0.5291) Grad: 1.8606  \n",
      "Epoch: [7][1068/1069] Data 0.000 (0.001) Elapsed 4m 39s (remain 0m 0s) Loss: 0.1004(0.5287) Grad: 1.3333  \n",
      "EVAL: [0/268] Data 0.903 (0.903) Elapsed 0m 0s (remain 4m 23s) Loss: 0.6047(0.6047) \n",
      "EVAL: [100/268] Data 0.367 (0.116) Elapsed 0m 18s (remain 0m 29s) Loss: 0.3405(0.6664) \n",
      "EVAL: [200/268] Data 0.381 (0.111) Elapsed 0m 35s (remain 0m 11s) Loss: 0.5350(0.6620) \n"
     ]
    },
    {
     "name": "stderr",
     "output_type": "stream",
     "text": [
      "Epoch 7 - avg_train_loss: 0.5287  avg_val_loss: 0.6574  time: 325s\n",
      "Epoch 7 - Accuracy: 0.7775700934579439\n"
     ]
    },
    {
     "name": "stdout",
     "output_type": "stream",
     "text": [
      "EVAL: [267/268] Data 0.000 (0.107) Elapsed 0m 45s (remain 0m 0s) Loss: 0.3443(0.6574) \n",
      "Epoch: [8][0/1069] Data 0.897 (0.897) Elapsed 0m 1s (remain 21m 17s) Loss: 0.4953(0.4953) Grad: 1.7849  \n",
      "Epoch: [8][100/1069] Data 0.000 (0.009) Elapsed 0m 27s (remain 4m 24s) Loss: 0.4013(0.5056) Grad: 2.7925  \n",
      "Epoch: [8][200/1069] Data 0.000 (0.005) Elapsed 0m 53s (remain 3m 51s) Loss: 0.4225(0.5187) Grad: 2.6979  \n",
      "Epoch: [8][300/1069] Data 0.000 (0.003) Elapsed 1m 19s (remain 3m 22s) Loss: 0.4134(0.5076) Grad: 2.8069  \n",
      "Epoch: [8][400/1069] Data 0.000 (0.003) Elapsed 1m 45s (remain 2m 55s) Loss: 0.5300(0.5128) Grad: 2.2274  \n",
      "Epoch: [8][500/1069] Data 0.000 (0.002) Elapsed 2m 11s (remain 2m 29s) Loss: 0.4042(0.5023) Grad: 3.0384  \n",
      "Epoch: [8][600/1069] Data 0.006 (0.002) Elapsed 2m 37s (remain 2m 3s) Loss: 0.2676(0.5029) Grad: 1.7053  \n",
      "Epoch: [8][700/1069] Data 0.000 (0.002) Elapsed 3m 4s (remain 1m 36s) Loss: 0.7833(0.5046) Grad: 2.9076  \n",
      "Epoch: [8][800/1069] Data 0.000 (0.002) Elapsed 3m 29s (remain 1m 10s) Loss: 0.6285(0.4960) Grad: 3.5268  \n",
      "Epoch: [8][900/1069] Data 0.000 (0.002) Elapsed 3m 56s (remain 0m 44s) Loss: 0.3968(0.4952) Grad: 3.1475  \n",
      "Epoch: [8][1000/1069] Data 0.000 (0.001) Elapsed 4m 22s (remain 0m 17s) Loss: 0.3104(0.4932) Grad: 1.4100  \n",
      "Epoch: [8][1068/1069] Data 0.000 (0.001) Elapsed 4m 39s (remain 0m 0s) Loss: 0.6575(0.4937) Grad: 2.5758  \n",
      "EVAL: [0/268] Data 0.899 (0.899) Elapsed 0m 0s (remain 4m 14s) Loss: 0.3814(0.3814) \n",
      "EVAL: [100/268] Data 0.040 (0.109) Elapsed 0m 17s (remain 0m 28s) Loss: 0.6212(0.4600) \n",
      "EVAL: [200/268] Data 0.003 (0.110) Elapsed 0m 34s (remain 0m 11s) Loss: 0.5472(0.4787) \n"
     ]
    },
    {
     "name": "stderr",
     "output_type": "stream",
     "text": [
      "Epoch 8 - avg_train_loss: 0.4937  avg_val_loss: 0.4661  time: 326s\n",
      "Epoch 8 - Accuracy: 0.8436915887850467\n"
     ]
    },
    {
     "name": "stdout",
     "output_type": "stream",
     "text": [
      "EVAL: [267/268] Data 0.000 (0.108) Elapsed 0m 45s (remain 0m 0s) Loss: 0.1257(0.4661) \n",
      "Epoch: [9][0/1069] Data 0.850 (0.850) Elapsed 0m 1s (remain 21m 52s) Loss: 0.3426(0.3426) Grad: 1.8744  \n",
      "Epoch: [9][100/1069] Data 0.000 (0.009) Elapsed 0m 27s (remain 4m 22s) Loss: 0.2665(0.4919) Grad: 1.5866  \n",
      "Epoch: [9][200/1069] Data 0.000 (0.005) Elapsed 0m 53s (remain 3m 52s) Loss: 0.4969(0.4666) Grad: 3.5897  \n",
      "Epoch: [9][300/1069] Data 0.000 (0.003) Elapsed 1m 18s (remain 3m 21s) Loss: 0.1485(0.4488) Grad: 1.2115  \n",
      "Epoch: [9][400/1069] Data 0.000 (0.003) Elapsed 1m 45s (remain 2m 55s) Loss: 0.2923(0.4514) Grad: 2.1752  \n",
      "Epoch: [9][500/1069] Data 0.000 (0.002) Elapsed 2m 11s (remain 2m 29s) Loss: 0.4715(0.4485) Grad: 2.5369  \n",
      "Epoch: [9][600/1069] Data 0.000 (0.002) Elapsed 2m 37s (remain 2m 2s) Loss: 0.2374(0.4509) Grad: 2.0247  \n",
      "Epoch: [9][700/1069] Data 0.000 (0.002) Elapsed 3m 3s (remain 1m 36s) Loss: 0.6811(0.4557) Grad: 2.5222  \n",
      "Epoch: [9][800/1069] Data 0.000 (0.002) Elapsed 3m 29s (remain 1m 10s) Loss: 0.3977(0.4570) Grad: 2.5654  \n",
      "Epoch: [9][900/1069] Data 0.000 (0.001) Elapsed 3m 55s (remain 0m 43s) Loss: 0.3926(0.4553) Grad: 3.1008  \n",
      "Epoch: [9][1000/1069] Data 0.000 (0.001) Elapsed 4m 21s (remain 0m 17s) Loss: 0.5846(0.4528) Grad: 1.7697  \n",
      "Epoch: [9][1068/1069] Data 0.000 (0.001) Elapsed 4m 38s (remain 0m 0s) Loss: 0.2667(0.4497) Grad: 1.7655  \n",
      "EVAL: [0/268] Data 0.936 (0.936) Elapsed 0m 1s (remain 4m 36s) Loss: 0.5515(0.5515) \n",
      "EVAL: [100/268] Data 0.395 (0.121) Elapsed 0m 18s (remain 0m 30s) Loss: 0.2997(0.4139) \n",
      "EVAL: [200/268] Data 0.703 (0.114) Elapsed 0m 35s (remain 0m 11s) Loss: 0.6384(0.4240) \n"
     ]
    },
    {
     "name": "stderr",
     "output_type": "stream",
     "text": [
      "Epoch 9 - avg_train_loss: 0.4497  avg_val_loss: 0.4189  time: 326s\n",
      "Epoch 9 - Accuracy: 0.8570093457943925\n",
      "Epoch 9 - Save Best Score: 0.8570 Model\n"
     ]
    },
    {
     "name": "stdout",
     "output_type": "stream",
     "text": [
      "EVAL: [267/268] Data 0.000 (0.111) Elapsed 0m 46s (remain 0m 0s) Loss: 0.0951(0.4189) \n",
      "Epoch: [10][0/1069] Data 0.930 (0.930) Elapsed 0m 1s (remain 23m 5s) Loss: 0.5630(0.5630) Grad: 2.5940  \n",
      "Epoch: [10][100/1069] Data 0.000 (0.010) Elapsed 0m 27s (remain 4m 22s) Loss: 0.3593(0.4363) Grad: 2.3345  \n",
      "Epoch: [10][200/1069] Data 0.000 (0.005) Elapsed 0m 52s (remain 3m 47s) Loss: 0.2686(0.4292) Grad: 1.4200  \n",
      "Epoch: [10][300/1069] Data 0.000 (0.004) Elapsed 1m 19s (remain 3m 21s) Loss: 0.3551(0.4148) Grad: 1.8918  \n",
      "Epoch: [10][400/1069] Data 0.000 (0.003) Elapsed 1m 45s (remain 2m 55s) Loss: 0.4044(0.4220) Grad: 1.8162  \n",
      "Epoch: [10][500/1069] Data 0.000 (0.002) Elapsed 2m 11s (remain 2m 29s) Loss: 0.7880(0.4141) Grad: 3.2040  \n",
      "Epoch: [10][600/1069] Data 0.000 (0.002) Elapsed 2m 37s (remain 2m 2s) Loss: 0.6355(0.4122) Grad: 3.1835  \n",
      "Epoch: [10][700/1069] Data 0.000 (0.002) Elapsed 3m 3s (remain 1m 36s) Loss: 0.0780(0.4102) Grad: 1.1648  \n",
      "Epoch: [10][800/1069] Data 0.000 (0.002) Elapsed 3m 29s (remain 1m 10s) Loss: 0.2467(0.4137) Grad: 2.3031  \n",
      "Epoch: [10][900/1069] Data 0.000 (0.001) Elapsed 3m 56s (remain 0m 44s) Loss: 0.5023(0.4159) Grad: 2.5197  \n",
      "Epoch: [10][1000/1069] Data 0.000 (0.001) Elapsed 4m 22s (remain 0m 17s) Loss: 0.0721(0.4152) Grad: 0.7758  \n",
      "Epoch: [10][1068/1069] Data 0.000 (0.001) Elapsed 4m 39s (remain 0m 0s) Loss: 0.5161(0.4160) Grad: 4.2033  \n",
      "EVAL: [0/268] Data 0.848 (0.848) Elapsed 0m 0s (remain 4m 4s) Loss: 0.5004(0.5004) \n",
      "EVAL: [100/268] Data 0.365 (0.117) Elapsed 0m 18s (remain 0m 30s) Loss: 0.2711(0.3757) \n",
      "EVAL: [200/268] Data 0.069 (0.109) Elapsed 0m 35s (remain 0m 11s) Loss: 0.5136(0.3895) \n"
     ]
    },
    {
     "name": "stderr",
     "output_type": "stream",
     "text": [
      "Epoch 10 - avg_train_loss: 0.4160  avg_val_loss: 0.3866  time: 326s\n",
      "Epoch 10 - Accuracy: 0.8689252336448599\n",
      "Epoch 10 - Save Best Score: 0.8689 Model\n"
     ]
    },
    {
     "name": "stdout",
     "output_type": "stream",
     "text": [
      "EVAL: [267/268] Data 0.000 (0.110) Elapsed 0m 46s (remain 0m 0s) Loss: 0.0885(0.3866) \n"
     ]
    },
    {
     "name": "stderr",
     "output_type": "stream",
     "text": [
      "========== fold: 1 result ==========\n",
      "Score: 0.86893\n",
      "========== fold: 2 training ==========\n"
     ]
    },
    {
     "name": "stdout",
     "output_type": "stream",
     "text": [
      "Epoch: [1][0/1069] Data 0.702 (0.702) Elapsed 0m 1s (remain 20m 23s) Loss: 1.7246(1.7246) Grad: 10.6847  \n",
      "Epoch: [1][100/1069] Data 0.000 (0.007) Elapsed 0m 27s (remain 4m 26s) Loss: 0.6957(1.0114) Grad: 6.1928  \n",
      "Epoch: [1][200/1069] Data 0.000 (0.004) Elapsed 0m 53s (remain 3m 49s) Loss: 0.7800(0.9223) Grad: 7.2667  \n",
      "Epoch: [1][300/1069] Data 0.000 (0.003) Elapsed 1m 19s (remain 3m 21s) Loss: 0.8419(0.8825) Grad: 4.9584  \n",
      "Epoch: [1][400/1069] Data 0.000 (0.002) Elapsed 1m 45s (remain 2m 56s) Loss: 0.6782(0.8503) Grad: 2.2302  \n",
      "Epoch: [1][500/1069] Data 0.000 (0.002) Elapsed 2m 11s (remain 2m 29s) Loss: 0.5168(0.8221) Grad: 2.4306  \n",
      "Epoch: [1][600/1069] Data 0.000 (0.002) Elapsed 2m 38s (remain 2m 3s) Loss: 0.7729(0.7964) Grad: 6.1443  \n",
      "Epoch: [1][700/1069] Data 0.000 (0.002) Elapsed 3m 3s (remain 1m 36s) Loss: 0.3509(0.7779) Grad: 2.3763  \n",
      "Epoch: [1][800/1069] Data 0.000 (0.001) Elapsed 3m 29s (remain 1m 10s) Loss: 1.0570(0.7676) Grad: 5.6048  \n",
      "Epoch: [1][900/1069] Data 0.000 (0.001) Elapsed 3m 55s (remain 0m 43s) Loss: 0.5066(0.7599) Grad: 3.2366  \n",
      "Epoch: [1][1000/1069] Data 0.000 (0.001) Elapsed 4m 22s (remain 0m 17s) Loss: 0.4672(0.7479) Grad: 1.7950  \n",
      "Epoch: [1][1068/1069] Data 0.000 (0.001) Elapsed 4m 39s (remain 0m 0s) Loss: 0.4864(0.7416) Grad: 4.0176  \n",
      "EVAL: [0/268] Data 0.862 (0.862) Elapsed 0m 0s (remain 4m 12s) Loss: 1.2324(1.2324) \n",
      "EVAL: [100/268] Data 0.371 (0.118) Elapsed 0m 18s (remain 0m 30s) Loss: 0.7714(0.8277) \n",
      "EVAL: [200/268] Data 0.109 (0.111) Elapsed 0m 35s (remain 0m 11s) Loss: 0.8935(0.8211) \n"
     ]
    },
    {
     "name": "stderr",
     "output_type": "stream",
     "text": [
      "Epoch 1 - avg_train_loss: 0.7416  avg_val_loss: 0.8209  time: 326s\n",
      "Epoch 1 - Accuracy: 0.7338163122224819\n",
      "Epoch 1 - Save Best Score: 0.7338 Model\n"
     ]
    },
    {
     "name": "stdout",
     "output_type": "stream",
     "text": [
      "EVAL: [267/268] Data 0.000 (0.109) Elapsed 0m 46s (remain 0m 0s) Loss: 0.7777(0.8209) \n",
      "Epoch: [2][0/1069] Data 0.827 (0.827) Elapsed 0m 1s (remain 21m 55s) Loss: 0.5647(0.5647) Grad: 3.2617  \n",
      "Epoch: [2][100/1069] Data 0.000 (0.009) Elapsed 0m 27s (remain 4m 19s) Loss: 0.9696(0.6544) Grad: 3.8471  \n",
      "Epoch: [2][200/1069] Data 0.000 (0.005) Elapsed 0m 53s (remain 3m 50s) Loss: 0.4298(0.6560) Grad: 2.0243  \n",
      "Epoch: [2][300/1069] Data 0.000 (0.003) Elapsed 1m 19s (remain 3m 22s) Loss: 0.7388(0.6309) Grad: 4.0087  \n",
      "Epoch: [2][400/1069] Data 0.000 (0.003) Elapsed 1m 45s (remain 2m 56s) Loss: 0.4393(0.6289) Grad: 2.6095  \n",
      "Epoch: [2][500/1069] Data 0.000 (0.002) Elapsed 2m 11s (remain 2m 29s) Loss: 0.5242(0.6253) Grad: 3.6634  \n",
      "Epoch: [2][600/1069] Data 0.000 (0.002) Elapsed 2m 37s (remain 2m 2s) Loss: 0.4423(0.6206) Grad: 2.2825  \n",
      "Epoch: [2][700/1069] Data 0.000 (0.002) Elapsed 3m 3s (remain 1m 36s) Loss: 0.4326(0.6217) Grad: 2.6038  \n",
      "Epoch: [2][800/1069] Data 0.000 (0.002) Elapsed 3m 29s (remain 1m 10s) Loss: 0.3677(0.6170) Grad: 2.2845  \n",
      "Epoch: [2][900/1069] Data 0.000 (0.001) Elapsed 3m 56s (remain 0m 44s) Loss: 1.2561(0.6152) Grad: 4.6071  \n",
      "Epoch: [2][1000/1069] Data 0.000 (0.001) Elapsed 4m 22s (remain 0m 17s) Loss: 0.9171(0.6162) Grad: 3.2848  \n",
      "Epoch: [2][1068/1069] Data 0.000 (0.001) Elapsed 4m 39s (remain 0m 0s) Loss: 0.4159(0.6141) Grad: 2.5213  \n",
      "EVAL: [0/268] Data 0.996 (0.996) Elapsed 0m 1s (remain 5m 1s) Loss: 0.9201(0.9201) \n",
      "EVAL: [100/268] Data 0.098 (0.118) Elapsed 0m 18s (remain 0m 30s) Loss: 0.5561(0.6204) \n",
      "EVAL: [200/268] Data 0.330 (0.114) Elapsed 0m 36s (remain 0m 12s) Loss: 0.4978(0.6271) \n"
     ]
    },
    {
     "name": "stderr",
     "output_type": "stream",
     "text": [
      "Epoch 2 - avg_train_loss: 0.6141  avg_val_loss: 0.6281  time: 328s\n",
      "Epoch 2 - Accuracy: 0.7852301939705538\n",
      "Epoch 2 - Save Best Score: 0.7852 Model\n"
     ]
    },
    {
     "name": "stdout",
     "output_type": "stream",
     "text": [
      "EVAL: [267/268] Data 0.000 (0.113) Elapsed 0m 47s (remain 0m 0s) Loss: 0.3468(0.6281) \n",
      "Epoch: [3][0/1069] Data 0.821 (0.821) Elapsed 0m 1s (remain 20m 17s) Loss: 0.8038(0.8038) Grad: 3.5527  \n",
      "Epoch: [3][100/1069] Data 0.000 (0.009) Elapsed 0m 26s (remain 4m 16s) Loss: 0.4906(0.6344) Grad: 2.5376  \n",
      "Epoch: [3][200/1069] Data 0.000 (0.005) Elapsed 0m 53s (remain 3m 49s) Loss: 0.4541(0.5964) Grad: 1.9129  \n",
      "Epoch: [3][300/1069] Data 0.000 (0.003) Elapsed 1m 19s (remain 3m 21s) Loss: 0.6394(0.5798) Grad: 2.9894  \n",
      "Epoch: [3][400/1069] Data 0.000 (0.002) Elapsed 1m 45s (remain 2m 55s) Loss: 0.3975(0.5717) Grad: 2.1626  \n",
      "Epoch: [3][500/1069] Data 0.002 (0.002) Elapsed 2m 11s (remain 2m 28s) Loss: 0.7952(0.5481) Grad: 3.0074  \n",
      "Epoch: [3][600/1069] Data 0.000 (0.002) Elapsed 2m 36s (remain 2m 2s) Loss: 0.3975(0.5466) Grad: 2.2892  \n",
      "Epoch: [3][700/1069] Data 0.000 (0.002) Elapsed 3m 3s (remain 1m 36s) Loss: 0.6633(0.5452) Grad: 4.3179  \n",
      "Epoch: [3][800/1069] Data 0.000 (0.001) Elapsed 3m 29s (remain 1m 10s) Loss: 0.8319(0.5489) Grad: 3.5462  \n",
      "Epoch: [3][900/1069] Data 0.000 (0.001) Elapsed 3m 55s (remain 0m 43s) Loss: 0.5025(0.5468) Grad: 2.9349  \n",
      "Epoch: [3][1000/1069] Data 0.000 (0.001) Elapsed 4m 22s (remain 0m 17s) Loss: 0.5033(0.5425) Grad: 3.4185  \n",
      "Epoch: [3][1068/1069] Data 0.000 (0.001) Elapsed 4m 39s (remain 0m 0s) Loss: 0.3618(0.5416) Grad: 1.9041  \n",
      "EVAL: [0/268] Data 0.908 (0.908) Elapsed 0m 0s (remain 4m 18s) Loss: 0.6439(0.6439) \n",
      "EVAL: [100/268] Data 0.298 (0.119) Elapsed 0m 18s (remain 0m 30s) Loss: 0.3354(0.5161) \n",
      "EVAL: [200/268] Data 0.174 (0.112) Elapsed 0m 35s (remain 0m 11s) Loss: 0.2669(0.5057) \n"
     ]
    },
    {
     "name": "stderr",
     "output_type": "stream",
     "text": [
      "Epoch 3 - avg_train_loss: 0.5416  avg_val_loss: 0.5106  time: 326s\n",
      "Epoch 3 - Accuracy: 0.8237906052816079\n",
      "Epoch 3 - Save Best Score: 0.8238 Model\n"
     ]
    },
    {
     "name": "stdout",
     "output_type": "stream",
     "text": [
      "EVAL: [267/268] Data 0.000 (0.109) Elapsed 0m 46s (remain 0m 0s) Loss: 0.2324(0.5106) \n",
      "Epoch: [4][0/1069] Data 1.561 (1.561) Elapsed 0m 2s (remain 35m 59s) Loss: 0.3699(0.3699) Grad: 2.4856  \n",
      "Epoch: [4][100/1069] Data 0.000 (0.016) Elapsed 0m 27s (remain 4m 26s) Loss: 0.5678(0.5120) Grad: 3.0269  \n",
      "Epoch: [4][200/1069] Data 0.000 (0.008) Elapsed 0m 53s (remain 3m 52s) Loss: 0.4517(0.5153) Grad: 2.5134  \n",
      "Epoch: [4][300/1069] Data 0.000 (0.006) Elapsed 1m 20s (remain 3m 24s) Loss: 0.3893(0.5065) Grad: 2.9781  \n",
      "Epoch: [4][400/1069] Data 0.000 (0.004) Elapsed 1m 46s (remain 2m 57s) Loss: 0.6012(0.5038) Grad: 2.1270  \n",
      "Epoch: [4][500/1069] Data 0.000 (0.004) Elapsed 2m 13s (remain 2m 30s) Loss: 0.1581(0.4938) Grad: 2.3970  \n",
      "Epoch: [4][600/1069] Data 0.000 (0.003) Elapsed 2m 38s (remain 2m 3s) Loss: 0.3102(0.4905) Grad: 1.8937  \n",
      "Epoch: [4][700/1069] Data 0.000 (0.003) Elapsed 3m 4s (remain 1m 37s) Loss: 0.3553(0.4850) Grad: 2.3138  \n",
      "Epoch: [4][800/1069] Data 0.000 (0.002) Elapsed 3m 31s (remain 1m 10s) Loss: 0.5547(0.4852) Grad: 2.5293  \n",
      "Epoch: [4][900/1069] Data 0.000 (0.002) Elapsed 3m 57s (remain 0m 44s) Loss: 0.7946(0.4878) Grad: 3.0670  \n",
      "Epoch: [4][1000/1069] Data 0.000 (0.002) Elapsed 4m 23s (remain 0m 17s) Loss: 1.2295(0.4895) Grad: 4.8722  \n",
      "Epoch: [4][1068/1069] Data 0.000 (0.002) Elapsed 4m 40s (remain 0m 0s) Loss: 0.5739(0.4916) Grad: 3.5161  \n",
      "EVAL: [0/268] Data 0.866 (0.866) Elapsed 0m 0s (remain 4m 10s) Loss: 0.5617(0.5617) \n",
      "EVAL: [100/268] Data 0.003 (0.117) Elapsed 0m 18s (remain 0m 30s) Loss: 0.4008(0.5078) \n",
      "EVAL: [200/268] Data 0.178 (0.113) Elapsed 0m 35s (remain 0m 11s) Loss: 0.3520(0.5038) \n"
     ]
    },
    {
     "name": "stderr",
     "output_type": "stream",
     "text": [
      "Epoch 4 - avg_train_loss: 0.4916  avg_val_loss: 0.5078  time: 327s\n",
      "Epoch 4 - Accuracy: 0.8247254031315728\n",
      "Epoch 4 - Save Best Score: 0.8247 Model\n"
     ]
    },
    {
     "name": "stdout",
     "output_type": "stream",
     "text": [
      "EVAL: [267/268] Data 0.000 (0.111) Elapsed 0m 46s (remain 0m 0s) Loss: 0.5689(0.5078) \n",
      "Epoch: [5][0/1069] Data 0.927 (0.927) Elapsed 0m 1s (remain 27m 34s) Loss: 0.6868(0.6868) Grad: 3.1022  \n",
      "Epoch: [5][100/1069] Data 0.000 (0.010) Elapsed 0m 27s (remain 4m 27s) Loss: 0.3864(0.4775) Grad: 2.3369  \n",
      "Epoch: [5][200/1069] Data 0.005 (0.005) Elapsed 0m 54s (remain 3m 54s) Loss: 0.3672(0.4587) Grad: 2.3744  \n",
      "Epoch: [5][300/1069] Data 0.000 (0.004) Elapsed 1m 20s (remain 3m 24s) Loss: 0.2902(0.4642) Grad: 2.8801  \n",
      "Epoch: [5][400/1069] Data 0.000 (0.003) Elapsed 1m 46s (remain 2m 57s) Loss: 0.4107(0.4617) Grad: 3.0949  \n",
      "Epoch: [5][500/1069] Data 0.000 (0.002) Elapsed 2m 11s (remain 2m 29s) Loss: 0.2258(0.4524) Grad: 2.0941  \n",
      "Epoch: [5][600/1069] Data 0.000 (0.002) Elapsed 2m 38s (remain 2m 3s) Loss: 0.7104(0.4517) Grad: 3.5712  \n",
      "Epoch: [5][700/1069] Data 0.000 (0.002) Elapsed 3m 4s (remain 1m 36s) Loss: 0.8224(0.4492) Grad: 4.0093  \n",
      "Epoch: [5][800/1069] Data 0.000 (0.002) Elapsed 3m 30s (remain 1m 10s) Loss: 0.5168(0.4430) Grad: 3.1765  \n",
      "Epoch: [5][900/1069] Data 0.000 (0.002) Elapsed 3m 56s (remain 0m 44s) Loss: 0.4418(0.4417) Grad: 2.0689  \n",
      "Epoch: [5][1000/1069] Data 0.000 (0.001) Elapsed 4m 22s (remain 0m 17s) Loss: 0.4224(0.4398) Grad: 2.5944  \n",
      "Epoch: [5][1068/1069] Data 0.000 (0.001) Elapsed 4m 40s (remain 0m 0s) Loss: 0.3336(0.4373) Grad: 2.0738  \n",
      "EVAL: [0/268] Data 0.917 (0.917) Elapsed 0m 1s (remain 4m 32s) Loss: 0.4848(0.4848) \n",
      "EVAL: [100/268] Data 0.497 (0.116) Elapsed 0m 18s (remain 0m 30s) Loss: 0.3075(0.4351) \n",
      "EVAL: [200/268] Data 0.039 (0.111) Elapsed 0m 35s (remain 0m 11s) Loss: 0.1960(0.4228) \n"
     ]
    },
    {
     "name": "stderr",
     "output_type": "stream",
     "text": [
      "Epoch 5 - avg_train_loss: 0.4373  avg_val_loss: 0.4213  time: 327s\n",
      "Epoch 5 - Accuracy: 0.8604814208927319\n",
      "Epoch 5 - Save Best Score: 0.8605 Model\n"
     ]
    },
    {
     "name": "stdout",
     "output_type": "stream",
     "text": [
      "EVAL: [267/268] Data 0.000 (0.109) Elapsed 0m 46s (remain 0m 0s) Loss: 0.4003(0.4213) \n",
      "Epoch: [6][0/1069] Data 0.836 (0.836) Elapsed 0m 1s (remain 21m 21s) Loss: 0.5075(0.5075) Grad: 3.4457  \n",
      "Epoch: [6][100/1069] Data 0.001 (0.009) Elapsed 0m 27s (remain 4m 27s) Loss: 0.4852(0.5729) Grad: 3.9521  \n",
      "Epoch: [6][200/1069] Data 0.000 (0.005) Elapsed 0m 54s (remain 3m 54s) Loss: 0.4934(0.5824) Grad: 2.5731  \n",
      "Epoch: [6][300/1069] Data 0.004 (0.003) Elapsed 1m 20s (remain 3m 25s) Loss: 0.3432(0.5730) Grad: 2.2404  \n",
      "Epoch: [6][400/1069] Data 0.000 (0.003) Elapsed 1m 46s (remain 2m 58s) Loss: 0.6482(0.5774) Grad: 3.5810  \n",
      "Epoch: [6][500/1069] Data 0.000 (0.002) Elapsed 2m 12s (remain 2m 29s) Loss: 0.4084(0.5716) Grad: 2.2982  \n",
      "Epoch: [6][600/1069] Data 0.000 (0.002) Elapsed 2m 38s (remain 2m 3s) Loss: 0.6303(0.5699) Grad: 2.8155  \n",
      "Epoch: [6][700/1069] Data 0.000 (0.002) Elapsed 3m 4s (remain 1m 36s) Loss: 0.5074(0.5699) Grad: 2.9370  \n",
      "Epoch: [6][800/1069] Data 0.000 (0.002) Elapsed 3m 31s (remain 1m 10s) Loss: 0.7596(0.5691) Grad: 3.3079  \n",
      "Epoch: [6][900/1069] Data 0.000 (0.001) Elapsed 3m 57s (remain 0m 44s) Loss: 0.8863(0.5723) Grad: 3.1515  \n",
      "Epoch: [6][1000/1069] Data 0.000 (0.001) Elapsed 4m 23s (remain 0m 17s) Loss: 0.4344(0.5705) Grad: 2.6060  \n",
      "Epoch: [6][1068/1069] Data 0.000 (0.001) Elapsed 4m 40s (remain 0m 0s) Loss: 0.6146(0.5690) Grad: 2.4946  \n",
      "EVAL: [0/268] Data 0.952 (0.952) Elapsed 0m 1s (remain 4m 33s) Loss: 0.6702(0.6702) \n",
      "EVAL: [100/268] Data 0.156 (0.111) Elapsed 0m 17s (remain 0m 28s) Loss: 0.3938(0.5429) \n",
      "EVAL: [200/268] Data 0.005 (0.112) Elapsed 0m 35s (remain 0m 11s) Loss: 0.4063(0.5250) \n"
     ]
    },
    {
     "name": "stderr",
     "output_type": "stream",
     "text": [
      "Epoch 6 - avg_train_loss: 0.5690  avg_val_loss: 0.5311  time: 328s\n",
      "Epoch 6 - Accuracy: 0.8167796214068708\n"
     ]
    },
    {
     "name": "stdout",
     "output_type": "stream",
     "text": [
      "EVAL: [267/268] Data 0.000 (0.109) Elapsed 0m 46s (remain 0m 0s) Loss: 0.1980(0.5311) \n",
      "Epoch: [7][0/1069] Data 0.939 (0.939) Elapsed 0m 1s (remain 22m 6s) Loss: 0.5977(0.5977) Grad: 2.6907  \n",
      "Epoch: [7][100/1069] Data 0.000 (0.010) Elapsed 0m 27s (remain 4m 25s) Loss: 0.1787(0.5067) Grad: 1.4795  \n",
      "Epoch: [7][200/1069] Data 0.000 (0.005) Elapsed 0m 54s (remain 3m 54s) Loss: 0.7588(0.5152) Grad: 3.0023  \n",
      "Epoch: [7][300/1069] Data 0.000 (0.004) Elapsed 1m 20s (remain 3m 25s) Loss: 0.6284(0.5221) Grad: 2.7724  \n",
      "Epoch: [7][400/1069] Data 0.005 (0.003) Elapsed 1m 46s (remain 2m 57s) Loss: 0.4904(0.5225) Grad: 3.0296  \n",
      "Epoch: [7][500/1069] Data 0.000 (0.002) Elapsed 2m 12s (remain 2m 30s) Loss: 0.4468(0.5209) Grad: 2.2891  \n",
      "Epoch: [7][600/1069] Data 0.000 (0.002) Elapsed 2m 38s (remain 2m 3s) Loss: 0.3523(0.5204) Grad: 2.2831  \n",
      "Epoch: [7][700/1069] Data 0.003 (0.002) Elapsed 3m 5s (remain 1m 37s) Loss: 0.5909(0.5267) Grad: 2.8799  \n",
      "Epoch: [7][800/1069] Data 0.000 (0.002) Elapsed 3m 31s (remain 1m 10s) Loss: 1.0054(0.5288) Grad: 4.1802  \n",
      "Epoch: [7][900/1069] Data 0.000 (0.002) Elapsed 3m 57s (remain 0m 44s) Loss: 0.4684(0.5274) Grad: 2.1326  \n",
      "Epoch: [7][1000/1069] Data 0.000 (0.001) Elapsed 4m 23s (remain 0m 17s) Loss: 0.3521(0.5279) Grad: 2.2763  \n",
      "Epoch: [7][1068/1069] Data 0.000 (0.001) Elapsed 4m 41s (remain 0m 0s) Loss: 0.4838(0.5284) Grad: 3.2237  \n",
      "EVAL: [0/268] Data 0.983 (0.983) Elapsed 0m 1s (remain 4m 36s) Loss: 0.5042(0.5042) \n",
      "EVAL: [100/268] Data 0.443 (0.120) Elapsed 0m 18s (remain 0m 30s) Loss: 0.4411(0.5155) \n",
      "EVAL: [200/268] Data 0.429 (0.116) Elapsed 0m 36s (remain 0m 12s) Loss: 0.5165(0.5061) \n"
     ]
    },
    {
     "name": "stderr",
     "output_type": "stream",
     "text": [
      "Epoch 7 - avg_train_loss: 0.5284  avg_val_loss: 0.5109  time: 328s\n",
      "Epoch 7 - Accuracy: 0.8205188128067306\n"
     ]
    },
    {
     "name": "stdout",
     "output_type": "stream",
     "text": [
      "EVAL: [267/268] Data 0.000 (0.112) Elapsed 0m 46s (remain 0m 0s) Loss: 0.4821(0.5109) \n",
      "Epoch: [8][0/1069] Data 0.840 (0.840) Elapsed 0m 1s (remain 20m 51s) Loss: 0.1499(0.1499) Grad: 1.9055  \n",
      "Epoch: [8][100/1069] Data 0.000 (0.009) Elapsed 0m 27s (remain 4m 22s) Loss: 0.0486(0.4371) Grad: 0.4192  \n",
      "Epoch: [8][200/1069] Data 0.000 (0.005) Elapsed 0m 53s (remain 3m 52s) Loss: 0.7776(0.4900) Grad: 3.3561  \n",
      "Epoch: [8][300/1069] Data 0.000 (0.003) Elapsed 1m 20s (remain 3m 24s) Loss: 0.4523(0.4795) Grad: 2.3948  \n",
      "Epoch: [8][400/1069] Data 0.000 (0.003) Elapsed 1m 46s (remain 2m 56s) Loss: 0.2798(0.4770) Grad: 2.7729  \n",
      "Epoch: [8][500/1069] Data 0.000 (0.002) Elapsed 2m 11s (remain 2m 29s) Loss: 0.5271(0.4798) Grad: 2.0495  \n",
      "Epoch: [8][600/1069] Data 0.000 (0.002) Elapsed 2m 37s (remain 2m 2s) Loss: 0.4668(0.4762) Grad: 4.0248  \n",
      "Epoch: [8][700/1069] Data 0.000 (0.002) Elapsed 3m 3s (remain 1m 36s) Loss: 0.3959(0.4820) Grad: 1.7375  \n",
      "Epoch: [8][800/1069] Data 0.000 (0.002) Elapsed 3m 30s (remain 1m 10s) Loss: 0.5693(0.4840) Grad: 2.9597  \n",
      "Epoch: [8][900/1069] Data 0.001 (0.001) Elapsed 3m 56s (remain 0m 44s) Loss: 0.3076(0.4833) Grad: 1.3672  \n",
      "Epoch: [8][1000/1069] Data 0.000 (0.001) Elapsed 4m 21s (remain 0m 17s) Loss: 0.5153(0.4894) Grad: 1.8588  \n",
      "Epoch: [8][1068/1069] Data 0.000 (0.001) Elapsed 4m 39s (remain 0m 0s) Loss: 0.7534(0.4902) Grad: 2.9086  \n",
      "EVAL: [0/268] Data 0.886 (0.886) Elapsed 0m 0s (remain 4m 18s) Loss: 0.6256(0.6256) \n",
      "EVAL: [100/268] Data 0.000 (0.113) Elapsed 0m 17s (remain 0m 29s) Loss: 0.7071(0.5202) \n",
      "EVAL: [200/268] Data 0.000 (0.111) Elapsed 0m 35s (remain 0m 11s) Loss: 0.4304(0.5059) \n"
     ]
    },
    {
     "name": "stderr",
     "output_type": "stream",
     "text": [
      "Epoch 8 - avg_train_loss: 0.4902  avg_val_loss: 0.5122  time: 326s\n",
      "Epoch 8 - Accuracy: 0.817013320869362\n"
     ]
    },
    {
     "name": "stdout",
     "output_type": "stream",
     "text": [
      "EVAL: [267/268] Data 0.000 (0.110) Elapsed 0m 46s (remain 0m 0s) Loss: 0.3321(0.5122) \n",
      "Epoch: [9][0/1069] Data 0.855 (0.855) Elapsed 0m 1s (remain 22m 1s) Loss: 0.3424(0.3424) Grad: 2.1017  \n",
      "Epoch: [9][100/1069] Data 0.000 (0.009) Elapsed 0m 27s (remain 4m 27s) Loss: 0.1966(0.4416) Grad: 2.6167  \n",
      "Epoch: [9][200/1069] Data 0.000 (0.005) Elapsed 0m 54s (remain 3m 53s) Loss: 0.0773(0.4662) Grad: 0.9442  \n",
      "Epoch: [9][300/1069] Data 0.000 (0.003) Elapsed 1m 20s (remain 3m 25s) Loss: 0.3447(0.4566) Grad: 2.3856  \n",
      "Epoch: [9][400/1069] Data 0.000 (0.003) Elapsed 1m 46s (remain 2m 57s) Loss: 0.9772(0.4499) Grad: 4.1392  \n",
      "Epoch: [9][500/1069] Data 0.000 (0.002) Elapsed 2m 11s (remain 2m 29s) Loss: 0.4210(0.4504) Grad: 2.0638  \n",
      "Epoch: [9][600/1069] Data 0.000 (0.002) Elapsed 2m 38s (remain 2m 3s) Loss: 0.4244(0.4433) Grad: 2.8364  \n",
      "Epoch: [9][700/1069] Data 0.000 (0.002) Elapsed 3m 4s (remain 1m 36s) Loss: 0.3197(0.4416) Grad: 3.0581  \n",
      "Epoch: [9][800/1069] Data 0.000 (0.002) Elapsed 3m 30s (remain 1m 10s) Loss: 0.2697(0.4439) Grad: 2.0835  \n",
      "Epoch: [9][900/1069] Data 0.000 (0.001) Elapsed 3m 57s (remain 0m 44s) Loss: 0.2005(0.4455) Grad: 1.3981  \n",
      "Epoch: [9][1000/1069] Data 0.000 (0.001) Elapsed 4m 22s (remain 0m 17s) Loss: 0.6930(0.4464) Grad: 3.7412  \n",
      "Epoch: [9][1068/1069] Data 0.000 (0.001) Elapsed 4m 40s (remain 0m 0s) Loss: 0.6259(0.4443) Grad: 2.4659  \n",
      "EVAL: [0/268] Data 0.962 (0.962) Elapsed 0m 1s (remain 4m 36s) Loss: 0.5411(0.5411) \n",
      "EVAL: [100/268] Data 0.405 (0.113) Elapsed 0m 17s (remain 0m 29s) Loss: 0.2401(0.4401) \n",
      "EVAL: [200/268] Data 0.309 (0.113) Elapsed 0m 35s (remain 0m 11s) Loss: 0.2898(0.4223) \n"
     ]
    },
    {
     "name": "stderr",
     "output_type": "stream",
     "text": [
      "Epoch 9 - avg_train_loss: 0.4443  avg_val_loss: 0.4253  time: 328s\n",
      "Epoch 9 - Accuracy: 0.8558074316429072\n"
     ]
    },
    {
     "name": "stdout",
     "output_type": "stream",
     "text": [
      "EVAL: [267/268] Data 0.000 (0.110) Elapsed 0m 46s (remain 0m 0s) Loss: 0.7900(0.4253) \n",
      "Epoch: [10][0/1069] Data 0.835 (0.835) Elapsed 0m 1s (remain 20m 29s) Loss: 0.2559(0.2559) Grad: 2.1268  \n",
      "Epoch: [10][100/1069] Data 0.000 (0.009) Elapsed 0m 27s (remain 4m 25s) Loss: 0.2278(0.4280) Grad: 1.7909  \n",
      "Epoch: [10][200/1069] Data 0.000 (0.005) Elapsed 0m 54s (remain 3m 53s) Loss: 0.8874(0.4343) Grad: 3.1042  \n",
      "Epoch: [10][300/1069] Data 0.000 (0.003) Elapsed 1m 20s (remain 3m 24s) Loss: 0.2889(0.4277) Grad: 1.7796  \n",
      "Epoch: [10][400/1069] Data 0.005 (0.003) Elapsed 1m 46s (remain 2m 56s) Loss: 0.2263(0.4187) Grad: 1.8921  \n",
      "Epoch: [10][500/1069] Data 0.005 (0.002) Elapsed 2m 12s (remain 2m 30s) Loss: 0.3224(0.4187) Grad: 1.6317  \n",
      "Epoch: [10][600/1069] Data 0.000 (0.002) Elapsed 2m 38s (remain 2m 3s) Loss: 0.2395(0.4183) Grad: 1.9276  \n",
      "Epoch: [10][700/1069] Data 0.000 (0.002) Elapsed 3m 5s (remain 1m 37s) Loss: 0.2991(0.4196) Grad: 2.0472  \n",
      "Epoch: [10][800/1069] Data 0.000 (0.002) Elapsed 3m 31s (remain 1m 10s) Loss: 0.5948(0.4136) Grad: 3.6111  \n",
      "Epoch: [10][900/1069] Data 0.000 (0.001) Elapsed 3m 57s (remain 0m 44s) Loss: 0.3114(0.4111) Grad: 2.4790  \n",
      "Epoch: [10][1000/1069] Data 0.000 (0.001) Elapsed 4m 23s (remain 0m 17s) Loss: 0.5007(0.4137) Grad: 3.2014  \n",
      "Epoch: [10][1068/1069] Data 0.000 (0.001) Elapsed 4m 41s (remain 0m 0s) Loss: 0.4457(0.4137) Grad: 2.9363  \n",
      "EVAL: [0/268] Data 0.917 (0.917) Elapsed 0m 1s (remain 4m 29s) Loss: 0.5021(0.5021) \n",
      "EVAL: [100/268] Data 0.405 (0.112) Elapsed 0m 17s (remain 0m 29s) Loss: 0.2525(0.4219) \n",
      "EVAL: [200/268] Data 0.446 (0.113) Elapsed 0m 35s (remain 0m 11s) Loss: 0.2931(0.4065) \n"
     ]
    },
    {
     "name": "stderr",
     "output_type": "stream",
     "text": [
      "Epoch 10 - avg_train_loss: 0.4137  avg_val_loss: 0.4085  time: 328s\n",
      "Epoch 10 - Accuracy: 0.8646880112175742\n",
      "Epoch 10 - Save Best Score: 0.8647 Model\n"
     ]
    },
    {
     "name": "stdout",
     "output_type": "stream",
     "text": [
      "EVAL: [267/268] Data 0.000 (0.108) Elapsed 0m 46s (remain 0m 0s) Loss: 0.6465(0.4085) \n"
     ]
    },
    {
     "name": "stderr",
     "output_type": "stream",
     "text": [
      "========== fold: 2 result ==========\n",
      "Score: 0.86469\n",
      "========== fold: 3 training ==========\n"
     ]
    },
    {
     "name": "stdout",
     "output_type": "stream",
     "text": [
      "Epoch: [1][0/1069] Data 0.854 (0.854) Elapsed 0m 1s (remain 21m 54s) Loss: 1.5422(1.5422) Grad: 9.6712  \n",
      "Epoch: [1][100/1069] Data 0.001 (0.009) Elapsed 0m 27s (remain 4m 28s) Loss: 0.9576(0.9673) Grad: 8.7431  \n",
      "Epoch: [1][200/1069] Data 0.000 (0.005) Elapsed 0m 54s (remain 3m 54s) Loss: 0.9785(0.9095) Grad: 3.8088  \n",
      "Epoch: [1][300/1069] Data 0.000 (0.003) Elapsed 1m 20s (remain 3m 25s) Loss: 0.8796(0.8754) Grad: 7.2244  \n",
      "Epoch: [1][400/1069] Data 0.000 (0.003) Elapsed 1m 47s (remain 2m 58s) Loss: 1.0914(0.8300) Grad: 4.1438  \n",
      "Epoch: [1][500/1069] Data 0.000 (0.002) Elapsed 2m 12s (remain 2m 30s) Loss: 0.6974(0.8042) Grad: 5.0088  \n",
      "Epoch: [1][600/1069] Data 0.000 (0.002) Elapsed 2m 38s (remain 2m 3s) Loss: 0.5197(0.7798) Grad: 3.2206  \n",
      "Epoch: [1][700/1069] Data 0.000 (0.002) Elapsed 3m 5s (remain 1m 37s) Loss: 0.4855(0.7639) Grad: 2.5389  \n",
      "Epoch: [1][800/1069] Data 0.000 (0.002) Elapsed 3m 31s (remain 1m 10s) Loss: 0.3147(0.7601) Grad: 2.0349  \n",
      "Epoch: [1][900/1069] Data 0.000 (0.001) Elapsed 3m 57s (remain 0m 44s) Loss: 0.5169(0.7522) Grad: 2.4445  \n",
      "Epoch: [1][1000/1069] Data 0.000 (0.001) Elapsed 4m 23s (remain 0m 17s) Loss: 0.9102(0.7428) Grad: 2.9311  \n",
      "Epoch: [1][1068/1069] Data 0.000 (0.001) Elapsed 4m 41s (remain 0m 0s) Loss: 0.6039(0.7357) Grad: 3.4887  \n",
      "EVAL: [0/268] Data 1.037 (1.037) Elapsed 0m 1s (remain 4m 50s) Loss: 0.9574(0.9574) \n",
      "EVAL: [100/268] Data 0.444 (0.113) Elapsed 0m 17s (remain 0m 29s) Loss: 0.5877(0.5605) \n",
      "EVAL: [200/268] Data 0.326 (0.113) Elapsed 0m 35s (remain 0m 11s) Loss: 0.8050(0.5610) \n"
     ]
    },
    {
     "name": "stderr",
     "output_type": "stream",
     "text": [
      "Epoch 1 - avg_train_loss: 0.7357  avg_val_loss: 0.5681  time: 328s\n",
      "Epoch 1 - Accuracy: 0.8027576536573966\n",
      "Epoch 1 - Save Best Score: 0.8028 Model\n"
     ]
    },
    {
     "name": "stdout",
     "output_type": "stream",
     "text": [
      "EVAL: [267/268] Data 0.000 (0.111) Elapsed 0m 46s (remain 0m 0s) Loss: 0.5479(0.5681) \n",
      "Epoch: [2][0/1069] Data 0.835 (0.835) Elapsed 0m 1s (remain 21m 18s) Loss: 0.3929(0.3929) Grad: 2.1489  \n",
      "Epoch: [2][100/1069] Data 0.000 (0.009) Elapsed 0m 27s (remain 4m 24s) Loss: 0.5745(0.6040) Grad: 3.4631  \n",
      "Epoch: [2][200/1069] Data 0.000 (0.005) Elapsed 0m 54s (remain 3m 54s) Loss: 0.6808(0.6297) Grad: 3.4929  \n",
      "Epoch: [2][300/1069] Data 0.000 (0.003) Elapsed 1m 20s (remain 3m 25s) Loss: 0.5599(0.6370) Grad: 1.9741  \n",
      "Epoch: [2][400/1069] Data 0.000 (0.003) Elapsed 1m 45s (remain 2m 56s) Loss: 0.5485(0.6278) Grad: 2.2846  \n",
      "Epoch: [2][500/1069] Data 0.000 (0.002) Elapsed 2m 12s (remain 2m 29s) Loss: 0.5703(0.6257) Grad: 2.5257  \n",
      "Epoch: [2][600/1069] Data 0.000 (0.002) Elapsed 2m 38s (remain 2m 3s) Loss: 0.7011(0.6258) Grad: 4.0542  \n",
      "Epoch: [2][700/1069] Data 0.000 (0.002) Elapsed 3m 5s (remain 1m 37s) Loss: 0.3568(0.6223) Grad: 2.2670  \n",
      "Epoch: [2][800/1069] Data 0.000 (0.002) Elapsed 3m 31s (remain 1m 10s) Loss: 0.8686(0.6197) Grad: 4.8726  \n",
      "Epoch: [2][900/1069] Data 0.000 (0.001) Elapsed 3m 57s (remain 0m 44s) Loss: 0.4256(0.6164) Grad: 2.1435  \n",
      "Epoch: [2][1000/1069] Data 0.000 (0.001) Elapsed 4m 23s (remain 0m 17s) Loss: 0.3528(0.6115) Grad: 2.3541  \n",
      "Epoch: [2][1068/1069] Data 0.000 (0.001) Elapsed 4m 41s (remain 0m 0s) Loss: 0.6086(0.6116) Grad: 2.3718  \n",
      "EVAL: [0/268] Data 1.198 (1.198) Elapsed 0m 1s (remain 5m 42s) Loss: 0.7260(0.7260) \n",
      "EVAL: [100/268] Data 0.404 (0.118) Elapsed 0m 18s (remain 0m 30s) Loss: 0.7191(0.5712) \n",
      "EVAL: [200/268] Data 0.388 (0.114) Elapsed 0m 36s (remain 0m 12s) Loss: 0.7877(0.5637) \n"
     ]
    },
    {
     "name": "stderr",
     "output_type": "stream",
     "text": [
      "Epoch 2 - avg_train_loss: 0.6116  avg_val_loss: 0.5638  time: 329s\n",
      "Epoch 2 - Accuracy: 0.8083664407571862\n",
      "Epoch 2 - Save Best Score: 0.8084 Model\n"
     ]
    },
    {
     "name": "stdout",
     "output_type": "stream",
     "text": [
      "EVAL: [267/268] Data 0.000 (0.110) Elapsed 0m 47s (remain 0m 0s) Loss: 0.3640(0.5638) \n",
      "Epoch: [3][0/1069] Data 0.841 (0.841) Elapsed 0m 1s (remain 21m 40s) Loss: 0.7788(0.7788) Grad: 3.6630  \n",
      "Epoch: [3][100/1069] Data 0.000 (0.009) Elapsed 0m 27s (remain 4m 23s) Loss: 0.5347(0.5650) Grad: 2.7010  \n",
      "Epoch: [3][200/1069] Data 0.000 (0.005) Elapsed 0m 54s (remain 3m 54s) Loss: 0.3807(0.5675) Grad: 3.0076  \n",
      "Epoch: [3][300/1069] Data 0.000 (0.003) Elapsed 1m 20s (remain 3m 24s) Loss: 0.7398(0.5670) Grad: 3.3319  \n",
      "Epoch: [3][400/1069] Data 0.000 (0.003) Elapsed 1m 45s (remain 2m 56s) Loss: 0.1905(0.5645) Grad: 1.8377  \n",
      "Epoch: [3][500/1069] Data 0.000 (0.002) Elapsed 2m 12s (remain 2m 30s) Loss: 0.3382(0.5591) Grad: 1.5338  \n",
      "Epoch: [3][600/1069] Data 0.000 (0.002) Elapsed 2m 38s (remain 2m 3s) Loss: 0.4843(0.5607) Grad: 2.9536  \n",
      "Epoch: [3][700/1069] Data 0.000 (0.002) Elapsed 3m 5s (remain 1m 37s) Loss: 0.7361(0.5600) Grad: 2.7609  \n",
      "Epoch: [3][800/1069] Data 0.000 (0.002) Elapsed 3m 31s (remain 1m 10s) Loss: 0.4982(0.5558) Grad: 2.4682  \n",
      "Epoch: [3][900/1069] Data 0.000 (0.001) Elapsed 3m 57s (remain 0m 44s) Loss: 0.5982(0.5538) Grad: 3.1622  \n",
      "Epoch: [3][1000/1069] Data 0.000 (0.001) Elapsed 4m 23s (remain 0m 17s) Loss: 0.4744(0.5513) Grad: 3.7022  \n",
      "Epoch: [3][1068/1069] Data 0.000 (0.001) Elapsed 4m 41s (remain 0m 0s) Loss: 0.3649(0.5500) Grad: 3.0361  \n",
      "EVAL: [0/268] Data 1.034 (1.034) Elapsed 0m 1s (remain 4m 58s) Loss: 0.6016(0.6016) \n",
      "EVAL: [100/268] Data 0.401 (0.116) Elapsed 0m 18s (remain 0m 30s) Loss: 0.5891(0.5237) \n",
      "EVAL: [200/268] Data 0.041 (0.113) Elapsed 0m 36s (remain 0m 12s) Loss: 0.5685(0.5149) \n"
     ]
    },
    {
     "name": "stderr",
     "output_type": "stream",
     "text": [
      "Epoch 3 - avg_train_loss: 0.5500  avg_val_loss: 0.5195  time: 329s\n",
      "Epoch 3 - Accuracy: 0.8219210095816779\n",
      "Epoch 3 - Save Best Score: 0.8219 Model\n"
     ]
    },
    {
     "name": "stdout",
     "output_type": "stream",
     "text": [
      "EVAL: [267/268] Data 0.000 (0.110) Elapsed 0m 47s (remain 0m 0s) Loss: 0.4644(0.5195) \n",
      "Epoch: [4][0/1069] Data 0.892 (0.892) Elapsed 0m 1s (remain 21m 36s) Loss: 0.2807(0.2807) Grad: 2.2261  \n",
      "Epoch: [4][100/1069] Data 0.000 (0.010) Elapsed 0m 27s (remain 4m 23s) Loss: 0.7897(0.5527) Grad: 3.9647  \n",
      "Epoch: [4][200/1069] Data 0.000 (0.005) Elapsed 0m 53s (remain 3m 53s) Loss: 0.4599(0.4972) Grad: 2.7145  \n",
      "Epoch: [4][300/1069] Data 0.000 (0.004) Elapsed 1m 20s (remain 3m 25s) Loss: 0.3455(0.5098) Grad: 2.7190  \n",
      "Epoch: [4][400/1069] Data 0.000 (0.003) Elapsed 1m 46s (remain 2m 57s) Loss: 0.7061(0.5035) Grad: 3.1119  \n",
      "Epoch: [4][500/1069] Data 0.000 (0.002) Elapsed 2m 12s (remain 2m 30s) Loss: 0.2104(0.5019) Grad: 2.0625  \n",
      "Epoch: [4][600/1069] Data 0.000 (0.002) Elapsed 2m 39s (remain 2m 3s) Loss: 0.4880(0.5027) Grad: 2.3767  \n",
      "Epoch: [4][700/1069] Data 0.000 (0.002) Elapsed 3m 6s (remain 1m 37s) Loss: 0.5268(0.5014) Grad: 3.0960  \n",
      "Epoch: [4][800/1069] Data 0.000 (0.002) Elapsed 3m 32s (remain 1m 11s) Loss: 0.3183(0.5054) Grad: 2.4848  \n",
      "Epoch: [4][900/1069] Data 0.000 (0.002) Elapsed 3m 57s (remain 0m 44s) Loss: 0.1487(0.4989) Grad: 2.0260  \n",
      "Epoch: [4][1000/1069] Data 0.000 (0.001) Elapsed 4m 24s (remain 0m 17s) Loss: 0.3565(0.5005) Grad: 1.9609  \n",
      "Epoch: [4][1068/1069] Data 0.000 (0.001) Elapsed 4m 41s (remain 0m 0s) Loss: 0.8242(0.4992) Grad: 2.8954  \n",
      "EVAL: [0/268] Data 1.021 (1.021) Elapsed 0m 1s (remain 4m 50s) Loss: 0.4729(0.4729) \n",
      "EVAL: [100/268] Data 0.459 (0.119) Elapsed 0m 18s (remain 0m 30s) Loss: 0.3065(0.4084) \n",
      "EVAL: [200/268] Data 0.457 (0.116) Elapsed 0m 36s (remain 0m 12s) Loss: 0.7325(0.3988) \n"
     ]
    },
    {
     "name": "stderr",
     "output_type": "stream",
     "text": [
      "Epoch 4 - avg_train_loss: 0.4992  avg_val_loss: 0.4033  time: 329s\n",
      "Epoch 4 - Accuracy: 0.8618836176676794\n",
      "Epoch 4 - Save Best Score: 0.8619 Model\n"
     ]
    },
    {
     "name": "stdout",
     "output_type": "stream",
     "text": [
      "EVAL: [267/268] Data 0.000 (0.112) Elapsed 0m 46s (remain 0m 0s) Loss: 0.4981(0.4033) \n",
      "Epoch: [5][0/1069] Data 0.926 (0.926) Elapsed 0m 1s (remain 22m 45s) Loss: 0.3867(0.3867) Grad: 1.8547  \n",
      "Epoch: [5][100/1069] Data 0.000 (0.010) Elapsed 0m 27s (remain 4m 26s) Loss: 0.3056(0.4232) Grad: 2.3332  \n",
      "Epoch: [5][200/1069] Data 0.000 (0.005) Elapsed 0m 54s (remain 3m 54s) Loss: 0.1693(0.4410) Grad: 1.9479  \n",
      "Epoch: [5][300/1069] Data 0.000 (0.004) Elapsed 1m 20s (remain 3m 25s) Loss: 0.3398(0.4440) Grad: 1.9983  \n",
      "Epoch: [5][400/1069] Data 0.000 (0.003) Elapsed 1m 46s (remain 2m 57s) Loss: 0.2137(0.4489) Grad: 1.8266  \n",
      "Epoch: [5][500/1069] Data 0.000 (0.002) Elapsed 2m 12s (remain 2m 30s) Loss: 0.6153(0.4493) Grad: 3.0666  \n",
      "Epoch: [5][600/1069] Data 0.005 (0.002) Elapsed 2m 39s (remain 2m 3s) Loss: 0.3518(0.4488) Grad: 1.9993  \n",
      "Epoch: [5][700/1069] Data 0.000 (0.002) Elapsed 3m 5s (remain 1m 37s) Loss: 0.7845(0.4501) Grad: 3.2328  \n",
      "Epoch: [5][800/1069] Data 0.000 (0.002) Elapsed 3m 32s (remain 1m 11s) Loss: 0.3915(0.4518) Grad: 2.2037  \n",
      "Epoch: [5][900/1069] Data 0.000 (0.002) Elapsed 3m 58s (remain 0m 44s) Loss: 0.5852(0.4497) Grad: 2.3985  \n",
      "Epoch: [5][1000/1069] Data 0.000 (0.001) Elapsed 4m 24s (remain 0m 17s) Loss: 0.4164(0.4479) Grad: 3.8101  \n",
      "Epoch: [5][1068/1069] Data 0.000 (0.001) Elapsed 4m 42s (remain 0m 0s) Loss: 0.2732(0.4475) Grad: 3.2298  \n",
      "EVAL: [0/268] Data 0.971 (0.971) Elapsed 0m 1s (remain 4m 38s) Loss: 0.5334(0.5334) \n",
      "EVAL: [100/268] Data 0.035 (0.113) Elapsed 0m 17s (remain 0m 29s) Loss: 0.3308(0.3968) \n",
      "EVAL: [200/268] Data 0.005 (0.111) Elapsed 0m 35s (remain 0m 11s) Loss: 0.7806(0.3780) \n"
     ]
    },
    {
     "name": "stderr",
     "output_type": "stream",
     "text": [
      "Epoch 5 - avg_train_loss: 0.4475  avg_val_loss: 0.3793  time: 329s\n",
      "Epoch 5 - Accuracy: 0.8663239074550129\n",
      "Epoch 5 - Save Best Score: 0.8663 Model\n"
     ]
    },
    {
     "name": "stdout",
     "output_type": "stream",
     "text": [
      "EVAL: [267/268] Data 0.000 (0.109) Elapsed 0m 46s (remain 0m 0s) Loss: 0.3912(0.3793) \n",
      "Epoch: [6][0/1069] Data 0.859 (0.859) Elapsed 0m 1s (remain 22m 24s) Loss: 0.1394(0.1394) Grad: 1.6439  \n",
      "Epoch: [6][100/1069] Data 0.000 (0.009) Elapsed 0m 27s (remain 4m 26s) Loss: 1.0133(0.5492) Grad: 5.8243  \n",
      "Epoch: [6][200/1069] Data 0.010 (0.005) Elapsed 0m 54s (remain 3m 55s) Loss: 0.4156(0.5732) Grad: 2.2913  \n",
      "Epoch: [6][300/1069] Data 0.000 (0.003) Elapsed 1m 20s (remain 3m 26s) Loss: 0.3921(0.5684) Grad: 3.5463  \n",
      "Epoch: [6][400/1069] Data 0.000 (0.003) Elapsed 1m 46s (remain 2m 57s) Loss: 0.4968(0.5635) Grad: 2.6226  \n",
      "Epoch: [6][500/1069] Data 0.000 (0.002) Elapsed 2m 12s (remain 2m 30s) Loss: 0.9097(0.5754) Grad: 2.9044  \n",
      "Epoch: [6][600/1069] Data 0.000 (0.002) Elapsed 2m 39s (remain 2m 3s) Loss: 0.3589(0.5756) Grad: 1.6746  \n",
      "Epoch: [6][700/1069] Data 0.000 (0.002) Elapsed 3m 5s (remain 1m 37s) Loss: 0.4176(0.5745) Grad: 2.9467  \n",
      "Epoch: [6][800/1069] Data 0.000 (0.002) Elapsed 3m 32s (remain 1m 11s) Loss: 0.7306(0.5752) Grad: 4.2797  \n",
      "Epoch: [6][900/1069] Data 0.000 (0.002) Elapsed 3m 57s (remain 0m 44s) Loss: 0.4919(0.5719) Grad: 2.5976  \n",
      "Epoch: [6][1000/1069] Data 0.000 (0.001) Elapsed 4m 24s (remain 0m 17s) Loss: 0.2572(0.5745) Grad: 1.1576  \n",
      "Epoch: [6][1068/1069] Data 0.000 (0.001) Elapsed 4m 42s (remain 0m 0s) Loss: 0.9130(0.5725) Grad: 3.7231  \n",
      "EVAL: [0/268] Data 0.940 (0.940) Elapsed 0m 1s (remain 4m 31s) Loss: 0.3905(0.3905) \n",
      "EVAL: [100/268] Data 0.002 (0.112) Elapsed 0m 17s (remain 0m 29s) Loss: 0.4759(0.4798) \n",
      "EVAL: [200/268] Data 0.000 (0.111) Elapsed 0m 35s (remain 0m 11s) Loss: 0.7937(0.4647) \n"
     ]
    },
    {
     "name": "stderr",
     "output_type": "stream",
     "text": [
      "Epoch 6 - avg_train_loss: 0.5725  avg_val_loss: 0.4713  time: 329s\n",
      "Epoch 6 - Accuracy: 0.8352418789436784\n"
     ]
    },
    {
     "name": "stdout",
     "output_type": "stream",
     "text": [
      "EVAL: [267/268] Data 0.000 (0.110) Elapsed 0m 46s (remain 0m 0s) Loss: 0.4912(0.4713) \n",
      "Epoch: [7][0/1069] Data 0.929 (0.929) Elapsed 0m 1s (remain 22m 11s) Loss: 0.7850(0.7850) Grad: 2.6556  \n",
      "Epoch: [7][100/1069] Data 0.000 (0.010) Elapsed 0m 27s (remain 4m 27s) Loss: 0.5012(0.5198) Grad: 2.5062  \n",
      "Epoch: [7][200/1069] Data 0.000 (0.005) Elapsed 0m 54s (remain 3m 55s) Loss: 0.4687(0.5432) Grad: 2.2786  \n",
      "Epoch: [7][300/1069] Data 0.000 (0.004) Elapsed 1m 20s (remain 3m 26s) Loss: 0.6395(0.5342) Grad: 2.5581  \n",
      "Epoch: [7][400/1069] Data 0.000 (0.003) Elapsed 1m 46s (remain 2m 57s) Loss: 0.7155(0.5317) Grad: 3.2974  \n",
      "Epoch: [7][500/1069] Data 0.000 (0.002) Elapsed 2m 13s (remain 2m 31s) Loss: 0.4638(0.5396) Grad: 2.6989  \n",
      "Epoch: [7][600/1069] Data 0.000 (0.002) Elapsed 2m 40s (remain 2m 4s) Loss: 0.5072(0.5375) Grad: 2.1029  \n",
      "Epoch: [7][700/1069] Data 0.000 (0.002) Elapsed 3m 6s (remain 1m 37s) Loss: 0.6326(0.5364) Grad: 2.3143  \n",
      "Epoch: [7][800/1069] Data 0.000 (0.002) Elapsed 3m 33s (remain 1m 11s) Loss: 1.0349(0.5372) Grad: 4.2347  \n",
      "Epoch: [7][900/1069] Data 0.000 (0.002) Elapsed 3m 58s (remain 0m 44s) Loss: 0.4215(0.5386) Grad: 2.2113  \n",
      "Epoch: [7][1000/1069] Data 0.000 (0.001) Elapsed 4m 25s (remain 0m 18s) Loss: 0.5969(0.5385) Grad: 1.9210  \n",
      "Epoch: [7][1068/1069] Data 0.000 (0.001) Elapsed 4m 42s (remain 0m 0s) Loss: 0.8808(0.5347) Grad: 3.0929  \n",
      "EVAL: [0/268] Data 0.958 (0.958) Elapsed 0m 1s (remain 4m 37s) Loss: 0.4679(0.4679) \n",
      "EVAL: [100/268] Data 0.060 (0.111) Elapsed 0m 17s (remain 0m 29s) Loss: 0.2575(0.4389) \n",
      "EVAL: [200/268] Data 0.396 (0.110) Elapsed 0m 35s (remain 0m 11s) Loss: 0.7625(0.4443) \n"
     ]
    },
    {
     "name": "stderr",
     "output_type": "stream",
     "text": [
      "Epoch 7 - avg_train_loss: 0.5347  avg_val_loss: 0.4531  time: 329s\n",
      "Epoch 7 - Accuracy: 0.843655059593363\n"
     ]
    },
    {
     "name": "stdout",
     "output_type": "stream",
     "text": [
      "EVAL: [267/268] Data 0.000 (0.108) Elapsed 0m 45s (remain 0m 0s) Loss: 0.4916(0.4531) \n",
      "Epoch: [8][0/1069] Data 1.077 (1.077) Elapsed 0m 1s (remain 25m 21s) Loss: 0.6524(0.6524) Grad: 2.8702  \n",
      "Epoch: [8][100/1069] Data 0.000 (0.011) Elapsed 0m 27s (remain 4m 25s) Loss: 0.3189(0.5405) Grad: 1.8690  \n",
      "Epoch: [8][200/1069] Data 0.000 (0.006) Elapsed 0m 53s (remain 3m 52s) Loss: 0.4334(0.5163) Grad: 1.9748  \n",
      "Epoch: [8][300/1069] Data 0.000 (0.004) Elapsed 1m 20s (remain 3m 24s) Loss: 0.4508(0.4987) Grad: 2.2039  \n",
      "Epoch: [8][400/1069] Data 0.000 (0.003) Elapsed 1m 45s (remain 2m 55s) Loss: 0.4021(0.4911) Grad: 1.8141  \n",
      "Epoch: [8][500/1069] Data 0.000 (0.003) Elapsed 2m 11s (remain 2m 28s) Loss: 0.2444(0.4842) Grad: 1.4792  \n",
      "Epoch: [8][600/1069] Data 0.000 (0.002) Elapsed 2m 37s (remain 2m 2s) Loss: 0.4549(0.4873) Grad: 2.6899  \n",
      "Epoch: [8][700/1069] Data 0.000 (0.002) Elapsed 3m 3s (remain 1m 36s) Loss: 0.4126(0.4954) Grad: 2.2060  \n",
      "Epoch: [8][800/1069] Data 0.000 (0.002) Elapsed 3m 29s (remain 1m 9s) Loss: 0.6153(0.4975) Grad: 2.5514  \n",
      "Epoch: [8][900/1069] Data 0.000 (0.002) Elapsed 3m 54s (remain 0m 43s) Loss: 0.5471(0.4959) Grad: 2.4660  \n",
      "Epoch: [8][1000/1069] Data 0.000 (0.002) Elapsed 4m 20s (remain 0m 17s) Loss: 0.5722(0.4997) Grad: 2.9548  \n",
      "Epoch: [8][1068/1069] Data 0.000 (0.002) Elapsed 4m 38s (remain 0m 0s) Loss: 0.3290(0.4997) Grad: 1.8638  \n",
      "EVAL: [0/268] Data 0.955 (0.955) Elapsed 0m 1s (remain 4m 44s) Loss: 0.5583(0.5583) \n",
      "EVAL: [100/268] Data 0.003 (0.105) Elapsed 0m 17s (remain 0m 28s) Loss: 0.4854(0.4576) \n",
      "EVAL: [200/268] Data 0.010 (0.105) Elapsed 0m 34s (remain 0m 11s) Loss: 0.7079(0.4394) \n"
     ]
    },
    {
     "name": "stderr",
     "output_type": "stream",
     "text": [
      "Epoch 8 - avg_train_loss: 0.4997  avg_val_loss: 0.4476  time: 324s\n",
      "Epoch 8 - Accuracy: 0.8469268520682403\n"
     ]
    },
    {
     "name": "stdout",
     "output_type": "stream",
     "text": [
      "EVAL: [267/268] Data 0.000 (0.105) Elapsed 0m 45s (remain 0m 0s) Loss: 0.4440(0.4476) \n",
      "Epoch: [9][0/1069] Data 0.876 (0.876) Elapsed 0m 1s (remain 22m 35s) Loss: 1.2037(1.2037) Grad: 3.3832  \n",
      "Epoch: [9][100/1069] Data 0.000 (0.009) Elapsed 0m 27s (remain 4m 23s) Loss: 0.4427(0.4766) Grad: 1.7311  \n",
      "Epoch: [9][200/1069] Data 0.000 (0.005) Elapsed 0m 54s (remain 3m 53s) Loss: 0.3767(0.4474) Grad: 2.7771  \n",
      "Epoch: [9][300/1069] Data 0.000 (0.003) Elapsed 1m 19s (remain 3m 21s) Loss: 0.2640(0.4479) Grad: 1.4350  \n",
      "Epoch: [9][400/1069] Data 0.000 (0.003) Elapsed 1m 45s (remain 2m 55s) Loss: 0.2227(0.4509) Grad: 2.5814  \n",
      "Epoch: [9][500/1069] Data 0.000 (0.002) Elapsed 2m 11s (remain 2m 28s) Loss: 0.7240(0.4555) Grad: 2.7817  \n",
      "Epoch: [9][600/1069] Data 0.000 (0.002) Elapsed 2m 36s (remain 2m 2s) Loss: 0.1750(0.4535) Grad: 1.4672  \n",
      "Epoch: [9][700/1069] Data 0.000 (0.002) Elapsed 3m 1s (remain 1m 35s) Loss: 0.1667(0.4520) Grad: 1.2284  \n",
      "Epoch: [9][800/1069] Data 0.000 (0.002) Elapsed 3m 28s (remain 1m 9s) Loss: 0.4456(0.4530) Grad: 2.9641  \n",
      "Epoch: [9][900/1069] Data 0.000 (0.001) Elapsed 3m 53s (remain 0m 43s) Loss: 0.3709(0.4570) Grad: 1.7579  \n",
      "Epoch: [9][1000/1069] Data 0.000 (0.001) Elapsed 4m 19s (remain 0m 17s) Loss: 0.2480(0.4542) Grad: 1.5473  \n",
      "Epoch: [9][1068/1069] Data 0.000 (0.001) Elapsed 4m 36s (remain 0m 0s) Loss: 0.1526(0.4560) Grad: 1.0807  \n",
      "EVAL: [0/268] Data 0.969 (0.969) Elapsed 0m 1s (remain 4m 48s) Loss: 0.3906(0.3906) \n",
      "EVAL: [100/268] Data 0.406 (0.117) Elapsed 0m 18s (remain 0m 30s) Loss: 0.2604(0.4075) \n",
      "EVAL: [200/268] Data 0.395 (0.109) Elapsed 0m 34s (remain 0m 11s) Loss: 0.7924(0.3959) \n"
     ]
    },
    {
     "name": "stderr",
     "output_type": "stream",
     "text": [
      "Epoch 9 - avg_train_loss: 0.4560  avg_val_loss: 0.3991  time: 323s\n",
      "Epoch 9 - Accuracy: 0.8618836176676794\n"
     ]
    },
    {
     "name": "stdout",
     "output_type": "stream",
     "text": [
      "EVAL: [267/268] Data 0.000 (0.109) Elapsed 0m 45s (remain 0m 0s) Loss: 0.2272(0.3991) \n",
      "Epoch: [10][0/1069] Data 0.803 (0.803) Elapsed 0m 1s (remain 20m 29s) Loss: 0.3788(0.3788) Grad: 2.7659  \n",
      "Epoch: [10][100/1069] Data 0.000 (0.009) Elapsed 0m 27s (remain 4m 24s) Loss: 0.4071(0.4212) Grad: 2.5028  \n",
      "Epoch: [10][200/1069] Data 0.000 (0.004) Elapsed 0m 52s (remain 3m 48s) Loss: 0.6675(0.4314) Grad: 2.5383  \n",
      "Epoch: [10][300/1069] Data 0.005 (0.003) Elapsed 1m 18s (remain 3m 21s) Loss: 0.4018(0.4245) Grad: 2.8778  \n",
      "Epoch: [10][400/1069] Data 0.000 (0.003) Elapsed 1m 45s (remain 2m 55s) Loss: 0.5807(0.4261) Grad: 1.9023  \n",
      "Epoch: [10][500/1069] Data 0.000 (0.002) Elapsed 2m 10s (remain 2m 28s) Loss: 0.2018(0.4260) Grad: 1.9072  \n",
      "Epoch: [10][600/1069] Data 0.000 (0.002) Elapsed 2m 37s (remain 2m 2s) Loss: 0.8618(0.4246) Grad: 3.8975  \n",
      "Epoch: [10][700/1069] Data 0.000 (0.002) Elapsed 3m 2s (remain 1m 35s) Loss: 0.3362(0.4240) Grad: 2.3793  \n",
      "Epoch: [10][800/1069] Data 0.000 (0.001) Elapsed 3m 28s (remain 1m 9s) Loss: 0.2875(0.4241) Grad: 2.6717  \n",
      "Epoch: [10][900/1069] Data 0.000 (0.001) Elapsed 3m 54s (remain 0m 43s) Loss: 0.2217(0.4226) Grad: 1.5301  \n",
      "Epoch: [10][1000/1069] Data 0.000 (0.001) Elapsed 4m 20s (remain 0m 17s) Loss: 0.4213(0.4197) Grad: 2.2646  \n",
      "Epoch: [10][1068/1069] Data 0.000 (0.001) Elapsed 4m 36s (remain 0m 0s) Loss: 0.4348(0.4184) Grad: 2.4017  \n",
      "EVAL: [0/268] Data 1.147 (1.147) Elapsed 0m 1s (remain 5m 25s) Loss: 0.4331(0.4331) \n",
      "EVAL: [100/268] Data 0.307 (0.116) Elapsed 0m 18s (remain 0m 29s) Loss: 0.2277(0.3775) \n",
      "EVAL: [200/268] Data 0.141 (0.109) Elapsed 0m 34s (remain 0m 11s) Loss: 0.7093(0.3698) \n"
     ]
    },
    {
     "name": "stderr",
     "output_type": "stream",
     "text": [
      "Epoch 10 - avg_train_loss: 0.4184  avg_val_loss: 0.3748  time: 323s\n",
      "Epoch 10 - Accuracy: 0.8663239074550129\n"
     ]
    },
    {
     "name": "stdout",
     "output_type": "stream",
     "text": [
      "EVAL: [267/268] Data 0.000 (0.109) Elapsed 0m 46s (remain 0m 0s) Loss: 0.1855(0.3748) \n"
     ]
    },
    {
     "name": "stderr",
     "output_type": "stream",
     "text": [
      "========== fold: 3 result ==========\n",
      "Score: 0.86632\n",
      "========== fold: 4 training ==========\n"
     ]
    },
    {
     "name": "stdout",
     "output_type": "stream",
     "text": [
      "Epoch: [1][0/1069] Data 0.888 (0.888) Elapsed 0m 1s (remain 23m 36s) Loss: 1.5992(1.5992) Grad: 10.0126  \n",
      "Epoch: [1][100/1069] Data 0.000 (0.009) Elapsed 0m 26s (remain 4m 14s) Loss: 0.9588(1.0314) Grad: 4.0522  \n",
      "Epoch: [1][200/1069] Data 0.000 (0.005) Elapsed 0m 52s (remain 3m 46s) Loss: 1.2973(0.9527) Grad: 6.9283  \n",
      "Epoch: [1][300/1069] Data 0.000 (0.003) Elapsed 1m 18s (remain 3m 19s) Loss: 0.5951(0.8976) Grad: 3.7810  \n",
      "Epoch: [1][400/1069] Data 0.000 (0.003) Elapsed 1m 43s (remain 2m 52s) Loss: 0.5345(0.8653) Grad: 3.0312  \n",
      "Epoch: [1][500/1069] Data 0.000 (0.002) Elapsed 2m 9s (remain 2m 26s) Loss: 0.4867(0.8347) Grad: 2.4958  \n",
      "Epoch: [1][600/1069] Data 0.000 (0.002) Elapsed 2m 34s (remain 2m 0s) Loss: 0.7271(0.8216) Grad: 3.2945  \n",
      "Epoch: [1][700/1069] Data 0.000 (0.002) Elapsed 3m 0s (remain 1m 34s) Loss: 0.7280(0.7974) Grad: 2.9242  \n",
      "Epoch: [1][800/1069] Data 0.001 (0.002) Elapsed 3m 26s (remain 1m 9s) Loss: 0.4036(0.7786) Grad: 2.2028  \n",
      "Epoch: [1][900/1069] Data 0.000 (0.001) Elapsed 3m 52s (remain 0m 43s) Loss: 0.4800(0.7645) Grad: 3.4050  \n",
      "Epoch: [1][1000/1069] Data 0.000 (0.001) Elapsed 4m 17s (remain 0m 17s) Loss: 0.5697(0.7570) Grad: 3.4105  \n",
      "Epoch: [1][1068/1069] Data 0.000 (0.001) Elapsed 4m 35s (remain 0m 0s) Loss: 0.8845(0.7500) Grad: 4.1909  \n",
      "EVAL: [0/268] Data 1.022 (1.022) Elapsed 0m 1s (remain 4m 50s) Loss: 1.1383(1.1383) \n",
      "EVAL: [100/268] Data 0.359 (0.111) Elapsed 0m 17s (remain 0m 28s) Loss: 0.9761(0.5892) \n",
      "EVAL: [200/268] Data 0.000 (0.107) Elapsed 0m 34s (remain 0m 11s) Loss: 0.4982(0.5865) \n"
     ]
    },
    {
     "name": "stderr",
     "output_type": "stream",
     "text": [
      "Epoch 1 - avg_train_loss: 0.7500  avg_val_loss: 0.5750  time: 321s\n",
      "Epoch 1 - Accuracy: 0.7964477681701332\n",
      "Epoch 1 - Save Best Score: 0.7964 Model\n"
     ]
    },
    {
     "name": "stdout",
     "output_type": "stream",
     "text": [
      "EVAL: [267/268] Data 0.000 (0.106) Elapsed 0m 45s (remain 0m 0s) Loss: 0.5343(0.5750) \n",
      "Epoch: [2][0/1069] Data 0.866 (0.866) Elapsed 0m 1s (remain 20m 57s) Loss: 0.3902(0.3902) Grad: 2.4722  \n",
      "Epoch: [2][100/1069] Data 0.000 (0.009) Elapsed 0m 27s (remain 4m 20s) Loss: 0.8559(0.6374) Grad: 4.8877  \n",
      "Epoch: [2][200/1069] Data 0.000 (0.005) Elapsed 0m 53s (remain 3m 50s) Loss: 0.6546(0.6405) Grad: 2.9993  \n",
      "Epoch: [2][300/1069] Data 0.000 (0.003) Elapsed 1m 19s (remain 3m 22s) Loss: 0.3152(0.6356) Grad: 2.5624  \n",
      "Epoch: [2][400/1069] Data 0.000 (0.003) Elapsed 1m 44s (remain 2m 54s) Loss: 1.0793(0.6436) Grad: 5.0176  \n",
      "Epoch: [2][500/1069] Data 0.000 (0.002) Elapsed 2m 10s (remain 2m 27s) Loss: 0.5094(0.6360) Grad: 2.7474  \n",
      "Epoch: [2][600/1069] Data 0.000 (0.002) Elapsed 2m 36s (remain 2m 1s) Loss: 0.7398(0.6298) Grad: 2.8474  \n",
      "Epoch: [2][700/1069] Data 0.000 (0.002) Elapsed 3m 1s (remain 1m 35s) Loss: 0.5330(0.6286) Grad: 2.7771  \n",
      "Epoch: [2][800/1069] Data 0.000 (0.002) Elapsed 3m 27s (remain 1m 9s) Loss: 0.3349(0.6193) Grad: 2.2205  \n",
      "Epoch: [2][900/1069] Data 0.000 (0.002) Elapsed 3m 52s (remain 0m 43s) Loss: 0.4049(0.6173) Grad: 2.5809  \n",
      "Epoch: [2][1000/1069] Data 0.000 (0.001) Elapsed 4m 18s (remain 0m 17s) Loss: 0.4171(0.6115) Grad: 2.2675  \n",
      "Epoch: [2][1068/1069] Data 0.000 (0.001) Elapsed 4m 36s (remain 0m 0s) Loss: 0.3070(0.6076) Grad: 2.7812  \n",
      "EVAL: [0/268] Data 0.864 (0.864) Elapsed 0m 0s (remain 4m 12s) Loss: 1.0424(1.0424) \n",
      "EVAL: [100/268] Data 0.300 (0.112) Elapsed 0m 17s (remain 0m 29s) Loss: 1.0394(0.6173) \n",
      "EVAL: [200/268] Data 0.322 (0.110) Elapsed 0m 35s (remain 0m 11s) Loss: 0.4352(0.5949) \n"
     ]
    },
    {
     "name": "stderr",
     "output_type": "stream",
     "text": [
      "Epoch 2 - avg_train_loss: 0.6076  avg_val_loss: 0.5840  time: 323s\n",
      "Epoch 2 - Accuracy: 0.8008880579574666\n",
      "Epoch 2 - Save Best Score: 0.8009 Model\n"
     ]
    },
    {
     "name": "stdout",
     "output_type": "stream",
     "text": [
      "EVAL: [267/268] Data 0.000 (0.107) Elapsed 0m 45s (remain 0m 0s) Loss: 0.5564(0.5840) \n",
      "Epoch: [3][0/1069] Data 0.909 (0.909) Elapsed 0m 1s (remain 21m 49s) Loss: 0.7198(0.7198) Grad: 4.1063  \n",
      "Epoch: [3][100/1069] Data 0.000 (0.009) Elapsed 0m 27s (remain 4m 21s) Loss: 0.6747(0.5584) Grad: 4.4121  \n",
      "Epoch: [3][200/1069] Data 0.000 (0.005) Elapsed 0m 53s (remain 3m 49s) Loss: 0.7083(0.5689) Grad: 5.2509  \n",
      "Epoch: [3][300/1069] Data 0.000 (0.004) Elapsed 1m 18s (remain 3m 19s) Loss: 0.4888(0.5672) Grad: 2.8027  \n",
      "Epoch: [3][400/1069] Data 0.000 (0.003) Elapsed 1m 44s (remain 2m 54s) Loss: 0.4486(0.5616) Grad: 3.3037  \n",
      "Epoch: [3][500/1069] Data 0.000 (0.002) Elapsed 2m 10s (remain 2m 27s) Loss: 0.2856(0.5661) Grad: 2.1945  \n",
      "Epoch: [3][600/1069] Data 0.000 (0.002) Elapsed 2m 35s (remain 2m 1s) Loss: 0.7094(0.5576) Grad: 4.6860  \n",
      "Epoch: [3][700/1069] Data 0.000 (0.002) Elapsed 3m 1s (remain 1m 35s) Loss: 0.3224(0.5520) Grad: 2.6567  \n",
      "Epoch: [3][800/1069] Data 0.000 (0.002) Elapsed 3m 26s (remain 1m 9s) Loss: 0.3591(0.5513) Grad: 1.8874  \n",
      "Epoch: [3][900/1069] Data 0.000 (0.002) Elapsed 3m 52s (remain 0m 43s) Loss: 0.4616(0.5539) Grad: 2.3250  \n",
      "Epoch: [3][1000/1069] Data 0.000 (0.001) Elapsed 4m 18s (remain 0m 17s) Loss: 0.5902(0.5492) Grad: 3.2956  \n",
      "Epoch: [3][1068/1069] Data 0.000 (0.001) Elapsed 4m 35s (remain 0m 0s) Loss: 0.4042(0.5498) Grad: 2.5061  \n",
      "EVAL: [0/268] Data 0.912 (0.912) Elapsed 0m 1s (remain 4m 29s) Loss: 0.6709(0.6709) \n",
      "EVAL: [100/268] Data 0.009 (0.117) Elapsed 0m 18s (remain 0m 30s) Loss: 0.7036(0.5063) \n",
      "EVAL: [200/268] Data 0.000 (0.108) Elapsed 0m 34s (remain 0m 11s) Loss: 0.2678(0.5045) \n"
     ]
    },
    {
     "name": "stderr",
     "output_type": "stream",
     "text": [
      "Epoch 3 - avg_train_loss: 0.5498  avg_val_loss: 0.4960  time: 322s\n",
      "Epoch 3 - Accuracy: 0.8256602009815377\n",
      "Epoch 3 - Save Best Score: 0.8257 Model\n"
     ]
    },
    {
     "name": "stdout",
     "output_type": "stream",
     "text": [
      "EVAL: [267/268] Data 0.000 (0.108) Elapsed 0m 46s (remain 0m 0s) Loss: 0.5535(0.4960) \n",
      "Epoch: [4][0/1069] Data 0.870 (0.870) Elapsed 0m 1s (remain 22m 24s) Loss: 0.6447(0.6447) Grad: 4.1822  \n",
      "Epoch: [4][100/1069] Data 0.000 (0.009) Elapsed 0m 27s (remain 4m 21s) Loss: 0.3970(0.4632) Grad: 1.8313  \n",
      "Epoch: [4][200/1069] Data 0.000 (0.005) Elapsed 0m 52s (remain 3m 46s) Loss: 0.2135(0.4614) Grad: 1.5479  \n",
      "Epoch: [4][300/1069] Data 0.000 (0.003) Elapsed 1m 18s (remain 3m 19s) Loss: 0.3911(0.4764) Grad: 2.0477  \n",
      "Epoch: [4][400/1069] Data 0.000 (0.003) Elapsed 1m 44s (remain 2m 53s) Loss: 0.4749(0.4793) Grad: 3.1942  \n",
      "Epoch: [4][500/1069] Data 0.000 (0.002) Elapsed 2m 9s (remain 2m 27s) Loss: 0.9367(0.4852) Grad: 3.4042  \n",
      "Epoch: [4][600/1069] Data 0.000 (0.002) Elapsed 2m 36s (remain 2m 1s) Loss: 0.2965(0.4863) Grad: 2.4775  \n",
      "Epoch: [4][700/1069] Data 0.000 (0.002) Elapsed 3m 1s (remain 1m 35s) Loss: 0.8273(0.4820) Grad: 3.7396  \n",
      "Epoch: [4][800/1069] Data 0.000 (0.002) Elapsed 3m 27s (remain 1m 9s) Loss: 0.5144(0.4810) Grad: 2.4336  \n",
      "Epoch: [4][900/1069] Data 0.000 (0.002) Elapsed 3m 53s (remain 0m 43s) Loss: 0.2688(0.4798) Grad: 2.5264  \n",
      "Epoch: [4][1000/1069] Data 0.000 (0.001) Elapsed 4m 19s (remain 0m 17s) Loss: 0.8216(0.4819) Grad: 3.4346  \n",
      "Epoch: [4][1068/1069] Data 0.000 (0.001) Elapsed 4m 36s (remain 0m 0s) Loss: 0.4275(0.4833) Grad: 2.9060  \n",
      "EVAL: [0/268] Data 1.028 (1.028) Elapsed 0m 1s (remain 4m 54s) Loss: 0.8598(0.8598) \n",
      "EVAL: [100/268] Data 0.377 (0.116) Elapsed 0m 18s (remain 0m 30s) Loss: 0.8224(0.4939) \n",
      "EVAL: [200/268] Data 0.272 (0.108) Elapsed 0m 34s (remain 0m 11s) Loss: 0.3377(0.4823) \n"
     ]
    },
    {
     "name": "stderr",
     "output_type": "stream",
     "text": [
      "Epoch 4 - avg_train_loss: 0.4833  avg_val_loss: 0.4689  time: 322s\n",
      "Epoch 4 - Accuracy: 0.8441224585183454\n",
      "Epoch 4 - Save Best Score: 0.8441 Model\n"
     ]
    },
    {
     "name": "stdout",
     "output_type": "stream",
     "text": [
      "EVAL: [267/268] Data 0.000 (0.107) Elapsed 0m 46s (remain 0m 0s) Loss: 0.2633(0.4689) \n",
      "Epoch: [5][0/1069] Data 0.822 (0.822) Elapsed 0m 1s (remain 21m 33s) Loss: 0.4970(0.4970) Grad: 3.2298  \n",
      "Epoch: [5][100/1069] Data 0.000 (0.009) Elapsed 0m 26s (remain 4m 13s) Loss: 0.2472(0.4418) Grad: 2.3562  \n",
      "Epoch: [5][200/1069] Data 0.000 (0.005) Elapsed 0m 52s (remain 3m 47s) Loss: 0.3007(0.4419) Grad: 2.3654  \n",
      "Epoch: [5][300/1069] Data 0.000 (0.003) Elapsed 1m 18s (remain 3m 19s) Loss: 0.4922(0.4414) Grad: 3.7270  \n",
      "Epoch: [5][400/1069] Data 0.000 (0.002) Elapsed 1m 43s (remain 2m 53s) Loss: 0.3438(0.4471) Grad: 2.6684  \n",
      "Epoch: [5][500/1069] Data 0.000 (0.002) Elapsed 2m 9s (remain 2m 26s) Loss: 0.1937(0.4435) Grad: 2.0038  \n",
      "Epoch: [5][600/1069] Data 0.000 (0.002) Elapsed 2m 34s (remain 2m 0s) Loss: 0.4072(0.4427) Grad: 3.3768  \n",
      "Epoch: [5][700/1069] Data 0.000 (0.002) Elapsed 3m 0s (remain 1m 34s) Loss: 0.3673(0.4383) Grad: 2.1764  \n",
      "Epoch: [5][800/1069] Data 0.000 (0.001) Elapsed 3m 26s (remain 1m 9s) Loss: 0.5558(0.4385) Grad: 3.3225  \n",
      "Epoch: [5][900/1069] Data 0.000 (0.001) Elapsed 3m 52s (remain 0m 43s) Loss: 0.5994(0.4363) Grad: 3.0160  \n",
      "Epoch: [5][1000/1069] Data 0.000 (0.001) Elapsed 4m 17s (remain 0m 17s) Loss: 0.2532(0.4353) Grad: 2.4816  \n",
      "Epoch: [5][1068/1069] Data 0.000 (0.001) Elapsed 4m 35s (remain 0m 0s) Loss: 0.1126(0.4342) Grad: 1.2600  \n",
      "EVAL: [0/268] Data 1.016 (1.016) Elapsed 0m 1s (remain 4m 49s) Loss: 0.7819(0.7819) \n",
      "EVAL: [100/268] Data 0.585 (0.111) Elapsed 0m 17s (remain 0m 28s) Loss: 0.9085(0.4586) \n",
      "EVAL: [200/268] Data 0.313 (0.109) Elapsed 0m 34s (remain 0m 11s) Loss: 0.3051(0.4459) \n"
     ]
    },
    {
     "name": "stderr",
     "output_type": "stream",
     "text": [
      "Epoch 5 - avg_train_loss: 0.4342  avg_val_loss: 0.4314  time: 321s\n",
      "Epoch 5 - Accuracy: 0.853704136480486\n",
      "Epoch 5 - Save Best Score: 0.8537 Model\n"
     ]
    },
    {
     "name": "stdout",
     "output_type": "stream",
     "text": [
      "EVAL: [267/268] Data 0.000 (0.107) Elapsed 0m 45s (remain 0m 0s) Loss: 0.4618(0.4314) \n",
      "Epoch: [6][0/1069] Data 0.853 (0.853) Elapsed 0m 1s (remain 21m 53s) Loss: 0.2844(0.2844) Grad: 2.0866  \n",
      "Epoch: [6][100/1069] Data 0.000 (0.009) Elapsed 0m 27s (remain 4m 21s) Loss: 0.5029(0.5544) Grad: 2.9328  \n",
      "Epoch: [6][200/1069] Data 0.000 (0.005) Elapsed 0m 53s (remain 3m 48s) Loss: 0.6074(0.5597) Grad: 3.6031  \n",
      "Epoch: [6][300/1069] Data 0.000 (0.003) Elapsed 1m 18s (remain 3m 20s) Loss: 0.4281(0.5687) Grad: 2.6253  \n",
      "Epoch: [6][400/1069] Data 0.003 (0.003) Elapsed 1m 44s (remain 2m 53s) Loss: 0.7443(0.5713) Grad: 4.2750  \n",
      "Epoch: [6][500/1069] Data 0.000 (0.002) Elapsed 2m 9s (remain 2m 27s) Loss: 0.8512(0.5702) Grad: 4.0941  \n",
      "Epoch: [6][600/1069] Data 0.000 (0.002) Elapsed 2m 35s (remain 2m 1s) Loss: 0.4889(0.5609) Grad: 3.4037  \n",
      "Epoch: [6][700/1069] Data 0.000 (0.002) Elapsed 3m 1s (remain 1m 35s) Loss: 0.3031(0.5610) Grad: 2.5196  \n",
      "Epoch: [6][800/1069] Data 0.000 (0.002) Elapsed 3m 27s (remain 1m 9s) Loss: 0.5887(0.5623) Grad: 2.1409  \n",
      "Epoch: [6][900/1069] Data 0.000 (0.001) Elapsed 3m 52s (remain 0m 43s) Loss: 0.7291(0.5612) Grad: 3.1037  \n",
      "Epoch: [6][1000/1069] Data 0.000 (0.001) Elapsed 4m 18s (remain 0m 17s) Loss: 0.1867(0.5588) Grad: 1.3228  \n",
      "Epoch: [6][1068/1069] Data 0.000 (0.001) Elapsed 4m 35s (remain 0m 0s) Loss: 0.8064(0.5609) Grad: 3.4915  \n",
      "EVAL: [0/268] Data 0.898 (0.898) Elapsed 0m 0s (remain 4m 23s) Loss: 0.7463(0.7463) \n",
      "EVAL: [100/268] Data 0.143 (0.113) Elapsed 0m 17s (remain 0m 29s) Loss: 0.9803(0.5613) \n",
      "EVAL: [200/268] Data 0.032 (0.106) Elapsed 0m 34s (remain 0m 11s) Loss: 0.4512(0.5474) \n"
     ]
    },
    {
     "name": "stderr",
     "output_type": "stream",
     "text": [
      "Epoch 6 - avg_train_loss: 0.5609  avg_val_loss: 0.5300  time: 321s\n",
      "Epoch 6 - Accuracy: 0.8270623977564852\n"
     ]
    },
    {
     "name": "stdout",
     "output_type": "stream",
     "text": [
      "EVAL: [267/268] Data 0.000 (0.105) Elapsed 0m 45s (remain 0m 0s) Loss: 0.6598(0.5300) \n",
      "Epoch: [7][0/1069] Data 0.783 (0.783) Elapsed 0m 1s (remain 20m 18s) Loss: 0.7234(0.7234) Grad: 3.0898  \n",
      "Epoch: [7][100/1069] Data 0.000 (0.008) Elapsed 0m 27s (remain 4m 22s) Loss: 0.2983(0.5421) Grad: 1.7615  \n",
      "Epoch: [7][200/1069] Data 0.000 (0.004) Elapsed 0m 53s (remain 3m 49s) Loss: 0.2468(0.5522) Grad: 2.0751  \n",
      "Epoch: [7][300/1069] Data 0.000 (0.003) Elapsed 1m 18s (remain 3m 19s) Loss: 0.8937(0.5373) Grad: 3.7573  \n",
      "Epoch: [7][400/1069] Data 0.000 (0.002) Elapsed 1m 44s (remain 2m 53s) Loss: 0.1375(0.5326) Grad: 1.2356  \n",
      "Epoch: [7][500/1069] Data 0.000 (0.002) Elapsed 2m 9s (remain 2m 27s) Loss: 0.6827(0.5380) Grad: 2.9116  \n",
      "Epoch: [7][600/1069] Data 0.000 (0.002) Elapsed 2m 35s (remain 2m 1s) Loss: 0.4827(0.5280) Grad: 2.7695  \n",
      "Epoch: [7][700/1069] Data 0.000 (0.002) Elapsed 3m 0s (remain 1m 34s) Loss: 0.5761(0.5279) Grad: 2.2019  \n",
      "Epoch: [7][800/1069] Data 0.000 (0.001) Elapsed 3m 26s (remain 1m 9s) Loss: 0.3334(0.5257) Grad: 2.0316  \n",
      "Epoch: [7][900/1069] Data 0.000 (0.001) Elapsed 3m 52s (remain 0m 43s) Loss: 0.3076(0.5316) Grad: 1.5128  \n",
      "Epoch: [7][1000/1069] Data 0.000 (0.001) Elapsed 4m 18s (remain 0m 17s) Loss: 0.5115(0.5326) Grad: 2.5880  \n",
      "Epoch: [7][1068/1069] Data 0.000 (0.001) Elapsed 4m 34s (remain 0m 0s) Loss: 0.3998(0.5348) Grad: 2.6672  \n",
      "EVAL: [0/268] Data 0.989 (0.989) Elapsed 0m 1s (remain 4m 45s) Loss: 0.8506(0.8506) \n",
      "EVAL: [100/268] Data 0.000 (0.120) Elapsed 0m 18s (remain 0m 30s) Loss: 0.7070(0.5095) \n",
      "EVAL: [200/268] Data 0.000 (0.111) Elapsed 0m 34s (remain 0m 11s) Loss: 0.3709(0.4985) \n"
     ]
    },
    {
     "name": "stderr",
     "output_type": "stream",
     "text": [
      "Epoch 7 - avg_train_loss: 0.5348  avg_val_loss: 0.4879  time: 322s\n",
      "Epoch 7 - Accuracy: 0.8357092778686609\n"
     ]
    },
    {
     "name": "stdout",
     "output_type": "stream",
     "text": [
      "EVAL: [267/268] Data 0.000 (0.111) Elapsed 0m 46s (remain 0m 0s) Loss: 0.6277(0.4879) \n",
      "Epoch: [8][0/1069] Data 0.828 (0.828) Elapsed 0m 1s (remain 21m 34s) Loss: 0.4429(0.4429) Grad: 2.3486  \n",
      "Epoch: [8][100/1069] Data 0.000 (0.009) Elapsed 0m 27s (remain 4m 19s) Loss: 0.2556(0.4751) Grad: 2.0611  \n",
      "Epoch: [8][200/1069] Data 0.000 (0.005) Elapsed 0m 52s (remain 3m 46s) Loss: 0.4435(0.4690) Grad: 1.8875  \n",
      "Epoch: [8][300/1069] Data 0.000 (0.003) Elapsed 1m 18s (remain 3m 19s) Loss: 0.5474(0.4710) Grad: 2.8675  \n",
      "Epoch: [8][400/1069] Data 0.000 (0.002) Elapsed 1m 43s (remain 2m 53s) Loss: 0.5330(0.4717) Grad: 2.5289  \n",
      "Epoch: [8][500/1069] Data 0.000 (0.002) Elapsed 2m 9s (remain 2m 26s) Loss: 0.3109(0.4717) Grad: 1.8013  \n",
      "Epoch: [8][600/1069] Data 0.000 (0.002) Elapsed 2m 34s (remain 2m 0s) Loss: 1.1859(0.4791) Grad: 3.9889  \n",
      "Epoch: [8][700/1069] Data 0.000 (0.002) Elapsed 3m 0s (remain 1m 34s) Loss: 0.4481(0.4846) Grad: 2.6161  \n",
      "Epoch: [8][800/1069] Data 0.000 (0.002) Elapsed 3m 26s (remain 1m 9s) Loss: 0.2229(0.4883) Grad: 1.2757  \n",
      "Epoch: [8][900/1069] Data 0.000 (0.001) Elapsed 3m 52s (remain 0m 43s) Loss: 0.3566(0.4861) Grad: 1.9888  \n",
      "Epoch: [8][1000/1069] Data 0.000 (0.001) Elapsed 4m 18s (remain 0m 17s) Loss: 0.8210(0.4897) Grad: 2.9714  \n",
      "Epoch: [8][1068/1069] Data 0.000 (0.001) Elapsed 4m 34s (remain 0m 0s) Loss: 0.5057(0.4898) Grad: 2.4795  \n",
      "EVAL: [0/268] Data 0.954 (0.954) Elapsed 0m 1s (remain 4m 34s) Loss: 0.7181(0.7181) \n",
      "EVAL: [100/268] Data 0.312 (0.110) Elapsed 0m 17s (remain 0m 29s) Loss: 0.7384(0.4757) \n",
      "EVAL: [200/268] Data 0.393 (0.106) Elapsed 0m 34s (remain 0m 11s) Loss: 0.2621(0.4684) \n"
     ]
    },
    {
     "name": "stderr",
     "output_type": "stream",
     "text": [
      "Epoch 8 - avg_train_loss: 0.4898  avg_val_loss: 0.4604  time: 320s\n",
      "Epoch 8 - Accuracy: 0.8438887590558541\n"
     ]
    },
    {
     "name": "stdout",
     "output_type": "stream",
     "text": [
      "EVAL: [267/268] Data 0.000 (0.103) Elapsed 0m 44s (remain 0m 0s) Loss: 0.7185(0.4604) \n",
      "Epoch: [9][0/1069] Data 0.762 (0.762) Elapsed 0m 1s (remain 25m 45s) Loss: 0.5854(0.5854) Grad: 2.3547  \n",
      "Epoch: [9][100/1069] Data 0.000 (0.008) Elapsed 0m 27s (remain 4m 20s) Loss: 0.7002(0.4595) Grad: 2.5705  \n",
      "Epoch: [9][200/1069] Data 0.000 (0.004) Elapsed 0m 52s (remain 3m 48s) Loss: 0.4525(0.4400) Grad: 2.3134  \n",
      "Epoch: [9][300/1069] Data 0.000 (0.003) Elapsed 1m 18s (remain 3m 20s) Loss: 0.5056(0.4298) Grad: 3.1086  \n",
      "Epoch: [9][400/1069] Data 0.005 (0.003) Elapsed 1m 43s (remain 2m 53s) Loss: 0.4584(0.4355) Grad: 2.4275  \n",
      "Epoch: [9][500/1069] Data 0.000 (0.002) Elapsed 2m 8s (remain 2m 26s) Loss: 0.7317(0.4402) Grad: 2.8881  \n",
      "Epoch: [9][600/1069] Data 0.000 (0.002) Elapsed 2m 34s (remain 2m 0s) Loss: 0.6327(0.4433) Grad: 3.7784  \n",
      "Epoch: [9][700/1069] Data 0.000 (0.002) Elapsed 3m 0s (remain 1m 34s) Loss: 0.3929(0.4456) Grad: 2.2822  \n",
      "Epoch: [9][800/1069] Data 0.000 (0.001) Elapsed 3m 26s (remain 1m 8s) Loss: 0.9122(0.4423) Grad: 3.3047  \n",
      "Epoch: [9][900/1069] Data 0.000 (0.001) Elapsed 3m 51s (remain 0m 43s) Loss: 0.3474(0.4435) Grad: 2.1602  \n",
      "Epoch: [9][1000/1069] Data 0.000 (0.001) Elapsed 4m 17s (remain 0m 17s) Loss: 0.5510(0.4470) Grad: 2.0024  \n",
      "Epoch: [9][1068/1069] Data 0.000 (0.001) Elapsed 4m 34s (remain 0m 0s) Loss: 0.2235(0.4457) Grad: 2.4054  \n",
      "EVAL: [0/268] Data 0.931 (0.931) Elapsed 0m 1s (remain 4m 35s) Loss: 0.7758(0.7758) \n",
      "EVAL: [100/268] Data 0.315 (0.110) Elapsed 0m 17s (remain 0m 28s) Loss: 0.8005(0.4625) \n",
      "EVAL: [200/268] Data 0.372 (0.112) Elapsed 0m 35s (remain 0m 11s) Loss: 0.2812(0.4506) \n"
     ]
    },
    {
     "name": "stderr",
     "output_type": "stream",
     "text": [
      "Epoch 9 - avg_train_loss: 0.4457  avg_val_loss: 0.4379  time: 321s\n",
      "Epoch 9 - Accuracy: 0.8518345407805562\n"
     ]
    },
    {
     "name": "stdout",
     "output_type": "stream",
     "text": [
      "EVAL: [267/268] Data 0.000 (0.108) Elapsed 0m 45s (remain 0m 0s) Loss: 0.8823(0.4379) \n",
      "Epoch: [10][0/1069] Data 0.817 (0.817) Elapsed 0m 1s (remain 20m 55s) Loss: 0.2496(0.2496) Grad: 1.6907  \n",
      "Epoch: [10][100/1069] Data 0.000 (0.009) Elapsed 0m 27s (remain 4m 21s) Loss: 0.3473(0.4183) Grad: 2.9982  \n",
      "Epoch: [10][200/1069] Data 0.000 (0.004) Elapsed 0m 53s (remain 3m 51s) Loss: 0.5781(0.4024) Grad: 3.4505  \n",
      "Epoch: [10][300/1069] Data 0.000 (0.003) Elapsed 1m 19s (remain 3m 22s) Loss: 0.2775(0.4082) Grad: 2.1920  \n",
      "Epoch: [10][400/1069] Data 0.000 (0.002) Elapsed 1m 44s (remain 2m 54s) Loss: 0.4543(0.4159) Grad: 2.4499  \n",
      "Epoch: [10][500/1069] Data 0.000 (0.002) Elapsed 2m 10s (remain 2m 28s) Loss: 0.1794(0.4157) Grad: 2.4409  \n",
      "Epoch: [10][600/1069] Data 0.000 (0.002) Elapsed 2m 36s (remain 2m 2s) Loss: 0.3526(0.4174) Grad: 2.4214  \n",
      "Epoch: [10][700/1069] Data 0.000 (0.002) Elapsed 3m 2s (remain 1m 35s) Loss: 0.2373(0.4166) Grad: 1.8960  \n",
      "Epoch: [10][800/1069] Data 0.000 (0.001) Elapsed 3m 28s (remain 1m 9s) Loss: 0.4418(0.4170) Grad: 2.5951  \n",
      "Epoch: [10][900/1069] Data 0.000 (0.001) Elapsed 3m 54s (remain 0m 43s) Loss: 0.6377(0.4163) Grad: 3.3879  \n",
      "Epoch: [10][1000/1069] Data 0.000 (0.001) Elapsed 4m 19s (remain 0m 17s) Loss: 0.1670(0.4144) Grad: 1.3310  \n",
      "Epoch: [10][1068/1069] Data 0.000 (0.001) Elapsed 4m 37s (remain 0m 0s) Loss: 0.6356(0.4140) Grad: 2.9427  \n",
      "EVAL: [0/268] Data 1.004 (1.004) Elapsed 0m 1s (remain 4m 48s) Loss: 0.7334(0.7334) \n",
      "EVAL: [100/268] Data 0.370 (0.117) Elapsed 0m 18s (remain 0m 30s) Loss: 0.7645(0.4447) \n",
      "EVAL: [200/268] Data 0.365 (0.109) Elapsed 0m 35s (remain 0m 11s) Loss: 0.3096(0.4282) \n"
     ]
    },
    {
     "name": "stderr",
     "output_type": "stream",
     "text": [
      "Epoch 10 - avg_train_loss: 0.4140  avg_val_loss: 0.4150  time: 324s\n",
      "Epoch 10 - Accuracy: 0.8602477214302408\n",
      "Epoch 10 - Save Best Score: 0.8602 Model\n"
     ]
    },
    {
     "name": "stdout",
     "output_type": "stream",
     "text": [
      "EVAL: [267/268] Data 0.000 (0.106) Elapsed 0m 45s (remain 0m 0s) Loss: 0.6619(0.4150) \n"
     ]
    },
    {
     "name": "stderr",
     "output_type": "stream",
     "text": [
      "========== fold: 4 result ==========\n",
      "Score: 0.86025\n",
      "========== CV ==========\n",
      "Score: 0.86475\n"
     ]
    }
   ],
   "source": [
    "if __name__ == '__main__':\n",
    "    main()"
   ]
  }
 ],
 "metadata": {
  "kernelspec": {
   "display_name": "Python 3",
   "language": "python",
   "name": "python3"
  },
  "language_info": {
   "codemirror_mode": {
    "name": "ipython",
    "version": 3
   },
   "file_extension": ".py",
   "mimetype": "text/x-python",
   "name": "python",
   "nbconvert_exporter": "python",
   "pygments_lexer": "ipython3",
   "version": "3.7.9"
  },
  "papermill": {
   "default_parameters": {},
   "duration": 16310.858993,
   "end_time": "2021-02-14T07:33:03.987259",
   "environment_variables": {},
   "exception": null,
   "input_path": "__notebook__.ipynb",
   "output_path": "__notebook__.ipynb",
   "parameters": {},
   "start_time": "2021-02-14T03:01:13.128266",
   "version": "2.2.2"
  }
 },
 "nbformat": 4,
 "nbformat_minor": 4
}
